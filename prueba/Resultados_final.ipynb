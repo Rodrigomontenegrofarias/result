{
 "cells": [
  {
   "cell_type": "code",
   "execution_count": 192,
   "metadata": {},
   "outputs": [
    {
     "name": "stdout",
     "output_type": "stream",
     "text": [
      " Copia_de_Resultados_final.ipynb          test_labels2-6.0.csv\r\n",
      " Experimento1_Complemento_Lekouch.ipynb   test_labels2-7.0.csv\r\n",
      "'guardar modelos ejecutados.ipynb'        test_labels2-8.0.csv\r\n",
      "'guardar modelos ejecutados-LM.ipynb'     test_labels2-9.0.csv\r\n",
      " \u001b[0m\u001b[01;34mprueba\u001b[0m/                                  test_labels3-10.0.csv\r\n",
      " Prueba-10.0.csv                          test_labels3-1.0.csv\r\n",
      " Prueba10.0.csv                           test_labels3-2.0.csv\r\n",
      " Prueba-1.0.csv                           test_labels3-3.0.csv\r\n",
      " Prueba1.0.csv                            test_labels3-4.0.csv\r\n",
      " Prueba-2.0.csv                           test_labels3-5.0.csv\r\n",
      " Prueba2.0.csv                            test_labels3-6.0.csv\r\n",
      " Prueba-3.0.csv                           test_labels3-7.0.csv\r\n",
      " Prueba3.0.csv                            test_labels3-8.0.csv\r\n",
      " Prueba-4.0.csv                           test_labels3-9.0.csv\r\n",
      " Prueba4.0.csv                            train_dataset2-10.0.csv\r\n",
      " Prueba-5.0.csv                           train_dataset2-1.0.csv\r\n",
      " Prueba5.0.csv                            train_dataset2-2.0.csv\r\n",
      " Prueba-6.0.csv                           train_dataset2-3.0.csv\r\n",
      " Prueba6.0.csv                            train_dataset2-4.0.csv\r\n",
      " Prueba-7.0.csv                           train_dataset2-5.0.csv\r\n",
      " Prueba7.0.csv                            train_dataset2-6.0.csv\r\n",
      " Prueba-8.0.csv                           train_dataset2-7.0.csv\r\n",
      " Prueba8.0.csv                            train_dataset2-8.0.csv\r\n",
      " Prueba-9.0.csv                           train_dataset2-9.0.csv\r\n",
      " Prueba9.0.csv                            train_dataset3-10.0.csv\r\n",
      " README.md                                train_dataset3-1.0.csv\r\n",
      " \u001b[01;34mresult\u001b[0m/                                  train_dataset3-2.0.csv\r\n",
      " Resultados_final.ipynb                   train_dataset3-3.0.csv\r\n",
      " test_dataset2-10.0.csv                   train_dataset3-4.0.csv\r\n",
      " test_dataset2-1.0.csv                    train_dataset3-5.0.csv\r\n",
      " test_dataset2-2.0.csv                    train_dataset3-6.0.csv\r\n",
      " test_dataset2-3.0.csv                    train_dataset3-7.0.csv\r\n",
      " test_dataset2-4.0.csv                    train_dataset3-8.0.csv\r\n",
      " test_dataset2-5.0.csv                    train_dataset3-9.0.csv\r\n",
      " test_dataset2-6.0.csv                    train_labels2-10.0.csv\r\n",
      " test_dataset2-7.0.csv                    train_labels2-1.0.csv\r\n",
      " test_dataset2-8.0.csv                    train_labels2-2.0.csv\r\n",
      " test_dataset2-9.0.csv                    train_labels2-3.0.csv\r\n",
      " test_dataset3-10.0.csv                   train_labels2-4.0.csv\r\n",
      " test_dataset3-1.0.csv                    train_labels2-5.0.csv\r\n",
      " test_dataset3-2.0.csv                    train_labels2-6.0.csv\r\n",
      " test_dataset3-3.0.csv                    train_labels2-7.0.csv\r\n",
      " test_dataset3-4.0.csv                    train_labels2-8.0.csv\r\n",
      " test_dataset3-5.0.csv                    train_labels2-9.0.csv\r\n",
      " test_dataset3-6.0.csv                    train_labels3-10.0.csv\r\n",
      " test_dataset3-7.0.csv                    train_labels3-1.0.csv\r\n",
      " test_dataset3-8.0.csv                    train_labels3-2.0.csv\r\n",
      " test_dataset3-9.0.csv                    train_labels3-3.0.csv\r\n",
      " test_labels2-10.0.csv                    train_labels3-4.0.csv\r\n",
      " test_labels2-1.0.csv                     train_labels3-5.0.csv\r\n",
      " test_labels2-2.0.csv                     train_labels3-6.0.csv\r\n",
      " test_labels2-3.0.csv                     train_labels3-7.0.csv\r\n",
      " test_labels2-4.0.csv                     train_labels3-8.0.csv\r\n",
      " test_labels2-5.0.csv                     train_labels3-9.0.csv\r\n"
     ]
    }
   ],
   "source": [
    "ls"
   ]
  },
  {
   "cell_type": "code",
   "execution_count": 193,
   "metadata": {},
   "outputs": [],
   "source": [
    "rm -r  result"
   ]
  },
  {
   "cell_type": "code",
   "execution_count": null,
   "metadata": {},
   "outputs": [],
   "source": []
  },
  {
   "cell_type": "code",
   "execution_count": 194,
   "metadata": {
    "id": "AhHg_HE4jRWW"
   },
   "outputs": [
    {
     "name": "stdout",
     "output_type": "stream",
     "text": [
      "Enter the password of your Github account: ········\n",
      "Cloning into 'result'...\n",
      "remote: Enumerating objects: 698, done.\u001b[K\n",
      "remote: Counting objects: 100% (329/329), done.\u001b[K\n",
      "remote: Compressing objects: 100% (262/262), done.\u001b[K\n",
      "remote: Total 698 (delta 125), reused 268 (delta 67), pack-reused 369\u001b[K\n",
      "Receiving objects: 100% (698/698), 37.11 MiB | 13.36 MiB/s, done.\n",
      "Resolving deltas: 100% (296/296), done.\n"
     ]
    }
   ],
   "source": [
    "from getpass import getpass\n",
    "import os\n",
    "\n",
    "os.environ['USER'] = \"Rodrigomontenegrofarias\"\n",
    "os.environ['PASSWORD'] = getpass('Enter the password of your Github account: ')\n",
    "os.environ['REPOSITORY'] = \"result\"\n",
    "os.environ['GITHUB_AUTH'] = os.environ['USER'] + ':' + os.environ['PASSWORD']\n",
    "\n",
    "!rm -rf $REPOSITORY # To remove the previous clone of the Github repository\n",
    "!git clone https://$GITHUB_AUTH@github.com/$USER/$REPOSITORY.git \n",
    "\n",
    "os.environ['USER'] = os.environ['PASSWORD'] = os.environ['REPOSITORY'] = os.environ['GITHUB_AUTH'] = \"\"\n",
    "\n",
    "\n",
    "# ingresos de bases de datos guarddadas mediante git"
   ]
  },
  {
   "cell_type": "code",
   "execution_count": 195,
   "metadata": {},
   "outputs": [],
   "source": [
    "#cargamos librerias\n",
    "import pandas as pd\n",
    "import numpy as np\n",
    "#graficas\n",
    "import matplotlib.pylab as plt\n",
    "%matplotlib inline\n",
    "plt.rcParams['figure.figsize'] = (16,9)\n",
    "plt.style.use('fast')\n",
    "#ver redes neuronales\n",
    "\n",
    "#sklear para ver modelos machine learning\n",
    "from sklearn.preprocessing import MinMaxScaler\n",
    "%matplotlib inline\n",
    "\n",
    "import matplotlib.pyplot as plt\n",
    "# plt.xkcd()\n",
    "# plt.style.use('ggplot')\n",
    "%matplotlib inline\n",
    "\n",
    "import matplotlib as mpl\n",
    "mpl.rcParams['figure.figsize'] = (20, 8)"
   ]
  },
  {
   "cell_type": "markdown",
   "metadata": {
    "id": "qVD_3OkAFqJO"
   },
   "source": [
    "# Ingreso de bases de datos y coneccion a drive."
   ]
  },
  {
   "cell_type": "code",
   "execution_count": 196,
   "metadata": {
    "id": "4anOGL76mcpV"
   },
   "outputs": [],
   "source": [
    "!git config user.email \"rodrigo.montenegro@alumnos.uv.cl\"\n",
    "\n",
    "!git config user.name \"Rodrigomontenegrofarias\""
   ]
  },
  {
   "cell_type": "code",
   "execution_count": 197,
   "metadata": {
    "id": "gTfI6qFLutUE"
   },
   "outputs": [
    {
     "name": "stdout",
     "output_type": "stream",
     "text": [
      " Copia_de_Resultados_final.ipynb          test_labels2-6.0.csv\r\n",
      " Experimento1_Complemento_Lekouch.ipynb   test_labels2-7.0.csv\r\n",
      "'guardar modelos ejecutados.ipynb'        test_labels2-8.0.csv\r\n",
      "'guardar modelos ejecutados-LM.ipynb'     test_labels2-9.0.csv\r\n",
      " \u001b[0m\u001b[01;34mprueba\u001b[0m/                                  test_labels3-10.0.csv\r\n",
      " Prueba-10.0.csv                          test_labels3-1.0.csv\r\n",
      " Prueba10.0.csv                           test_labels3-2.0.csv\r\n",
      " Prueba-1.0.csv                           test_labels3-3.0.csv\r\n",
      " Prueba1.0.csv                            test_labels3-4.0.csv\r\n",
      " Prueba-2.0.csv                           test_labels3-5.0.csv\r\n",
      " Prueba2.0.csv                            test_labels3-6.0.csv\r\n",
      " Prueba-3.0.csv                           test_labels3-7.0.csv\r\n",
      " Prueba3.0.csv                            test_labels3-8.0.csv\r\n",
      " Prueba-4.0.csv                           test_labels3-9.0.csv\r\n",
      " Prueba4.0.csv                            train_dataset2-10.0.csv\r\n",
      " Prueba-5.0.csv                           train_dataset2-1.0.csv\r\n",
      " Prueba5.0.csv                            train_dataset2-2.0.csv\r\n",
      " Prueba-6.0.csv                           train_dataset2-3.0.csv\r\n",
      " Prueba6.0.csv                            train_dataset2-4.0.csv\r\n",
      " Prueba-7.0.csv                           train_dataset2-5.0.csv\r\n",
      " Prueba7.0.csv                            train_dataset2-6.0.csv\r\n",
      " Prueba-8.0.csv                           train_dataset2-7.0.csv\r\n",
      " Prueba8.0.csv                            train_dataset2-8.0.csv\r\n",
      " Prueba-9.0.csv                           train_dataset2-9.0.csv\r\n",
      " Prueba9.0.csv                            train_dataset3-10.0.csv\r\n",
      " README.md                                train_dataset3-1.0.csv\r\n",
      " \u001b[01;34mresult\u001b[0m/                                  train_dataset3-2.0.csv\r\n",
      " Resultados_final.ipynb                   train_dataset3-3.0.csv\r\n",
      " test_dataset2-10.0.csv                   train_dataset3-4.0.csv\r\n",
      " test_dataset2-1.0.csv                    train_dataset3-5.0.csv\r\n",
      " test_dataset2-2.0.csv                    train_dataset3-6.0.csv\r\n",
      " test_dataset2-3.0.csv                    train_dataset3-7.0.csv\r\n",
      " test_dataset2-4.0.csv                    train_dataset3-8.0.csv\r\n",
      " test_dataset2-5.0.csv                    train_dataset3-9.0.csv\r\n",
      " test_dataset2-6.0.csv                    train_labels2-10.0.csv\r\n",
      " test_dataset2-7.0.csv                    train_labels2-1.0.csv\r\n",
      " test_dataset2-8.0.csv                    train_labels2-2.0.csv\r\n",
      " test_dataset2-9.0.csv                    train_labels2-3.0.csv\r\n",
      " test_dataset3-10.0.csv                   train_labels2-4.0.csv\r\n",
      " test_dataset3-1.0.csv                    train_labels2-5.0.csv\r\n",
      " test_dataset3-2.0.csv                    train_labels2-6.0.csv\r\n",
      " test_dataset3-3.0.csv                    train_labels2-7.0.csv\r\n",
      " test_dataset3-4.0.csv                    train_labels2-8.0.csv\r\n",
      " test_dataset3-5.0.csv                    train_labels2-9.0.csv\r\n",
      " test_dataset3-6.0.csv                    train_labels3-10.0.csv\r\n",
      " test_dataset3-7.0.csv                    train_labels3-1.0.csv\r\n",
      " test_dataset3-8.0.csv                    train_labels3-2.0.csv\r\n",
      " test_dataset3-9.0.csv                    train_labels3-3.0.csv\r\n",
      " test_labels2-10.0.csv                    train_labels3-4.0.csv\r\n",
      " test_labels2-1.0.csv                     train_labels3-5.0.csv\r\n",
      " test_labels2-2.0.csv                     train_labels3-6.0.csv\r\n",
      " test_labels2-3.0.csv                     train_labels3-7.0.csv\r\n",
      " test_labels2-4.0.csv                     train_labels3-8.0.csv\r\n",
      " test_labels2-5.0.csv                     train_labels3-9.0.csv\r\n"
     ]
    }
   ],
   "source": [
    "ls"
   ]
  },
  {
   "cell_type": "code",
   "execution_count": 198,
   "metadata": {},
   "outputs": [
    {
     "name": "stdout",
     "output_type": "stream",
     "text": [
      "/root/notebooks/result/result/result\n"
     ]
    }
   ],
   "source": [
    "cd result/"
   ]
  },
  {
   "cell_type": "code",
   "execution_count": 199,
   "metadata": {
    "colab": {
     "base_uri": "https://localhost:8080/",
     "height": 160
    },
    "id": "W_7r1YKEkX3y",
    "outputId": "e422f88b-5bf9-4c30-8467-d120b37eb518"
   },
   "outputs": [
    {
     "data": {
      "text/html": [
       "<div>\n",
       "<style scoped>\n",
       "    .dataframe tbody tr th:only-of-type {\n",
       "        vertical-align: middle;\n",
       "    }\n",
       "\n",
       "    .dataframe tbody tr th {\n",
       "        vertical-align: top;\n",
       "    }\n",
       "\n",
       "    .dataframe thead th {\n",
       "        text-align: right;\n",
       "    }\n",
       "</style>\n",
       "<table border=\"1\" class=\"dataframe\">\n",
       "  <thead>\n",
       "    <tr style=\"text-align: right;\">\n",
       "      <th></th>\n",
       "      <th>Unnamed: 0</th>\n",
       "      <th>Pruebas</th>\n",
       "      <th>coef(a)_LM-PD</th>\n",
       "      <th>rsquared_LM-PD</th>\n",
       "      <th>Standard Error_LM-PD</th>\n",
       "      <th>coef(b)_LM-PD</th>\n",
       "      <th>coef(a)_Acu-LM-PD</th>\n",
       "      <th>rsquared_Acu-LM-PD</th>\n",
       "      <th>Standard Error_Acu-LM-PD</th>\n",
       "      <th>coef(b)_Acu-LM-PD</th>\n",
       "      <th>coef(a)LM-6AM</th>\n",
       "      <th>rsquaredLM-6AM</th>\n",
       "      <th>Standard ErrorLM-6AM</th>\n",
       "      <th>coef(b)LM-6AM</th>\n",
       "      <th>coef(a)_Acu-LM-6AM</th>\n",
       "      <th>rsquared_Acu-LM-6AM</th>\n",
       "      <th>Standard Error_Acu-LM-6AM</th>\n",
       "      <th>coef(b)_Acu-LM-6AM</th>\n",
       "    </tr>\n",
       "  </thead>\n",
       "  <tbody>\n",
       "    <tr>\n",
       "      <th>0</th>\n",
       "      <td>0</td>\n",
       "      <td>1.0</td>\n",
       "      <td>0.4044717796161964</td>\n",
       "      <td>0.3825675914218779</td>\n",
       "      <td>0.04652098531656293</td>\n",
       "      <td>0.036011133068683414</td>\n",
       "      <td>1.7906033214414303</td>\n",
       "      <td>0.9916743993868427</td>\n",
       "      <td>0.014853975602645118</td>\n",
       "      <td>-0.006942779430944096</td>\n",
       "      <td>0.4495206192191575</td>\n",
       "      <td>0.2828032656566858</td>\n",
       "      <td>0.06481069417898253</td>\n",
       "      <td>0.017509396866609232</td>\n",
       "      <td>1.0255613147660299</td>\n",
       "      <td>0.98406777607374</td>\n",
       "      <td>0.011814284073421296</td>\n",
       "      <td>0.01930622771308735</td>\n",
       "    </tr>\n",
       "  </tbody>\n",
       "</table>\n",
       "</div>"
      ],
      "text/plain": [
       "   Unnamed: 0 Pruebas       coef(a)_LM-PD      rsquared_LM-PD  \\\n",
       "0           0     1.0  0.4044717796161964  0.3825675914218779   \n",
       "\n",
       "  Standard Error_LM-PD         coef(b)_LM-PD   coef(a)_Acu-LM-PD  \\\n",
       "0  0.04652098531656293  0.036011133068683414  1.7906033214414303   \n",
       "\n",
       "   rsquared_Acu-LM-PD Standard Error_Acu-LM-PD      coef(b)_Acu-LM-PD  \\\n",
       "0  0.9916743993868427     0.014853975602645118  -0.006942779430944096   \n",
       "\n",
       "        coef(a)LM-6AM      rsquaredLM-6AM Standard ErrorLM-6AM  \\\n",
       "0  0.4495206192191575  0.2828032656566858  0.06481069417898253   \n",
       "\n",
       "          coef(b)LM-6AM  coef(a)_Acu-LM-6AM rsquared_Acu-LM-6AM  \\\n",
       "0  0.017509396866609232  1.0255613147660299    0.98406777607374   \n",
       "\n",
       "  Standard Error_Acu-LM-6AM   coef(b)_Acu-LM-6AM  \n",
       "0      0.011814284073421296  0.01930622771308735  "
      ]
     },
     "execution_count": 199,
     "metadata": {},
     "output_type": "execute_result"
    }
   ],
   "source": [
    "# solo el primer se encuentra en kl/h se debe cambiar a m/S\n",
    "\n",
    "##Imprlementar desde github:\n",
    "\n",
    "datos1=pd.read_csv('Prueba-1.0.csv',decimal=\",\", encoding='utf-8',sep=u',')\n",
    "datos2=pd.read_csv('Prueba-2.0.csv',decimal=\",\",sep=u',', encoding='utf-8', dayfirst=True)\n",
    "datos3=pd.read_csv('Prueba-3.0.csv',decimal=\",\",sep=u',', encoding='utf-8', dayfirst=True)\n",
    "datos4=pd.read_csv('Prueba-4.0.csv',decimal=\",\",sep=u',', encoding='utf-8', dayfirst=True)\n",
    "datos5=pd.read_csv('Prueba-5.0.csv',decimal=\",\",sep=u',', encoding='utf-8', dayfirst=True)\n",
    "datos6=pd.read_csv('Prueba-6.0.csv',decimal=\",\",sep=u',', encoding='utf-8', dayfirst=True)\n",
    "datos7=pd.read_csv('Prueba-7.0.csv',decimal=\",\",sep=u',', encoding='utf-8',  dayfirst=True)\n",
    "datos8=pd.read_csv('Prueba-8.0.csv',decimal=\",\",sep=u',', encoding='utf-8', dayfirst=True)\n",
    "datos9=pd.read_csv('Prueba-9.0.csv',decimal=\",\",sep=u',', encoding='utf-8', dayfirst=True)\n",
    "datos10=pd.read_csv('Prueba-10.0.csv',decimal=\",\",sep=u',', encoding='utf-8',dayfirst=True)\n",
    "\n",
    "#datos11=pd.read_csv('/content/Rodrigomontenegrofarias/resultados/Prueba11.0.csv',decimal=\",\",sep=u',', encoding='utf-8',  dayfirst=True)\n",
    "#datos12=pd.read_csv('/content/Rodrigomontenegrofarias/resultados/Prueba12.0.csv',decimal=\",\",sep=u',', encoding='utf-8', dayfirst=True)\n",
    "#datos13=pd.read_csv('/content/Rodrigomontenegrofarias/Prueba13.0.csv',decimal=\",\",sep=u',', encoding='utf-8',  dayfirst=True)\n",
    "#datos14=pd.read_csv('/content/Rodrigomontenegrofarias/Prueba14.0.csv',decimal=\",\",sep=u',', encoding='utf-8',  dayfirst=True)\n",
    "#datos15=pd.read_csv('/content/Rodrigomontenegrofarias/Prueba15.0.csv',decimal=\",\",sep=u',', encoding='utf-8',  dayfirst=True)\n",
    "#datos16=pd.read_csv('/content/Rodrigomontenegrofarias/Prueba16.0.csv',decimal=\",\",sep=u',', encoding='utf-8',  dayfirst=True)\n",
    "#datos17=pd.read_csv('/content/Rodrigomontenegrofarias/Prueba17.0.csv',decimal=\",\",sep=u',', encoding='utf-8',  dayfirst=True)\n",
    "#datos18=pd.read_csv('/content/Rodrigomontenegrofarias/Prueba18.0.csv',decimal=\",\",sep=u',', encoding='utf-8', dayfirst=True)\n",
    "#datos19=pd.read_csv('/content/Rodrigomontenegrofarias/Prueba19.0.csv',decimal=\",\",sep=u',', encoding='utf-8',  dayfirst=True)\n",
    "#datos20=pd.read_csv('/content/Rodrigomontenegrofarias/Prueba20.0.csv',decimal=\",\",sep=u',', encoding='utf-8', dayfirst=True)\n",
    "#Fecha\n",
    "#datos1 = datos1.rename(columns={'Gust(km/h)':'Gust(m/s)'})\n",
    "#datos1 = datos1.rename(columns={'Wind Speed(km/h)':'Wind Speed(m/s)'})\n",
    "\n",
    "\n",
    "#df.columns\n",
    "#Gust(km/h)\n",
    " \n",
    "datos1"
   ]
  },
  {
   "cell_type": "code",
   "execution_count": 200,
   "metadata": {
    "colab": {
     "base_uri": "https://localhost:8080/",
     "height": 160
    },
    "id": "byAihJjFoIOP",
    "outputId": "8cbfe4b5-b6f2-4fc1-b595-6f9ec79ec2ff"
   },
   "outputs": [
    {
     "data": {
      "text/html": [
       "<div>\n",
       "<style scoped>\n",
       "    .dataframe tbody tr th:only-of-type {\n",
       "        vertical-align: middle;\n",
       "    }\n",
       "\n",
       "    .dataframe tbody tr th {\n",
       "        vertical-align: top;\n",
       "    }\n",
       "\n",
       "    .dataframe thead th {\n",
       "        text-align: right;\n",
       "    }\n",
       "</style>\n",
       "<table border=\"1\" class=\"dataframe\">\n",
       "  <thead>\n",
       "    <tr style=\"text-align: right;\">\n",
       "      <th></th>\n",
       "      <th>Unnamed: 0</th>\n",
       "      <th>Pruebas</th>\n",
       "      <th>coef(a)_LM-PD</th>\n",
       "      <th>rsquared_LM-PD</th>\n",
       "      <th>Standard Error_LM-PD</th>\n",
       "      <th>coef(b)_LM-PD</th>\n",
       "      <th>coef(a)_Acu-LM-PD</th>\n",
       "      <th>rsquared_Acu-LM-PD</th>\n",
       "      <th>Standard Error_Acu-LM-PD</th>\n",
       "      <th>coef(b)_Acu-LM-PD</th>\n",
       "      <th>coef(a)LM-6AM</th>\n",
       "      <th>rsquaredLM-6AM</th>\n",
       "      <th>Standard ErrorLM-6AM</th>\n",
       "      <th>coef(b)LM-6AM</th>\n",
       "      <th>coef(a)_Acu-LM-6AM</th>\n",
       "      <th>rsquared_Acu-LM-6AM</th>\n",
       "      <th>Standard Error_Acu-LM-6AM</th>\n",
       "      <th>coef(b)_Acu-LM-6AM</th>\n",
       "    </tr>\n",
       "  </thead>\n",
       "  <tbody>\n",
       "    <tr>\n",
       "      <th>0</th>\n",
       "      <td>0</td>\n",
       "      <td>1.0</td>\n",
       "      <td>0.4044717796161964</td>\n",
       "      <td>0.3825675914218779</td>\n",
       "      <td>0.04652098531656293</td>\n",
       "      <td>0.036011133068683414</td>\n",
       "      <td>1.7906033214414303</td>\n",
       "      <td>0.9916743993868427</td>\n",
       "      <td>0.014853975602645118</td>\n",
       "      <td>-0.006942779430944096</td>\n",
       "      <td>0.4495206192191575</td>\n",
       "      <td>0.2828032656566858</td>\n",
       "      <td>0.06481069417898253</td>\n",
       "      <td>0.017509396866609232</td>\n",
       "      <td>1.0255613147660299</td>\n",
       "      <td>0.98406777607374</td>\n",
       "      <td>0.011814284073421296</td>\n",
       "      <td>0.01930622771308735</td>\n",
       "    </tr>\n",
       "  </tbody>\n",
       "</table>\n",
       "</div>"
      ],
      "text/plain": [
       "   Unnamed: 0 Pruebas       coef(a)_LM-PD      rsquared_LM-PD  \\\n",
       "0           0     1.0  0.4044717796161964  0.3825675914218779   \n",
       "\n",
       "  Standard Error_LM-PD         coef(b)_LM-PD   coef(a)_Acu-LM-PD  \\\n",
       "0  0.04652098531656293  0.036011133068683414  1.7906033214414303   \n",
       "\n",
       "   rsquared_Acu-LM-PD Standard Error_Acu-LM-PD      coef(b)_Acu-LM-PD  \\\n",
       "0  0.9916743993868427     0.014853975602645118  -0.006942779430944096   \n",
       "\n",
       "        coef(a)LM-6AM      rsquaredLM-6AM Standard ErrorLM-6AM  \\\n",
       "0  0.4495206192191575  0.2828032656566858  0.06481069417898253   \n",
       "\n",
       "          coef(b)LM-6AM  coef(a)_Acu-LM-6AM rsquared_Acu-LM-6AM  \\\n",
       "0  0.017509396866609232  1.0255613147660299    0.98406777607374   \n",
       "\n",
       "  Standard Error_Acu-LM-6AM   coef(b)_Acu-LM-6AM  \n",
       "0      0.011814284073421296  0.01930622771308735  "
      ]
     },
     "execution_count": 200,
     "metadata": {},
     "output_type": "execute_result"
    }
   ],
   "source": [
    "datos1"
   ]
  },
  {
   "cell_type": "code",
   "execution_count": 201,
   "metadata": {
    "id": "byO5akVLqfaZ"
   },
   "outputs": [],
   "source": [
    "#datostotal = [datos1,datos2,datos3,datos4,datos5,datos6,datos7,datos8,datos9,datos10,datos11,datos12,datos13,datos14,datos15,datos16,datos17,datos18,datos19,datos20, ]\n",
    "datostotal = [datos1,datos2,datos3,datos4,datos5,datos6,datos7,datos8,datos9,datos10,]\n",
    "#datostotal = [datos1,datos2,datos3,datos4,datos5,datos6,datos10,datos11,datos12,datos13,datos14,datos15,datos16,datos17,datos18,datos19,datos20, ]\n",
    "resultadoDatos= pd.concat(datostotal)"
   ]
  },
  {
   "cell_type": "code",
   "execution_count": 202,
   "metadata": {
    "colab": {
     "base_uri": "https://localhost:8080/",
     "height": 432
    },
    "id": "_v5HqXv0q_qh",
    "outputId": "ca533666-7903-4947-b86c-d6ce0bb97727"
   },
   "outputs": [
    {
     "data": {
      "text/html": [
       "<div>\n",
       "<style scoped>\n",
       "    .dataframe tbody tr th:only-of-type {\n",
       "        vertical-align: middle;\n",
       "    }\n",
       "\n",
       "    .dataframe tbody tr th {\n",
       "        vertical-align: top;\n",
       "    }\n",
       "\n",
       "    .dataframe thead th {\n",
       "        text-align: right;\n",
       "    }\n",
       "</style>\n",
       "<table border=\"1\" class=\"dataframe\">\n",
       "  <thead>\n",
       "    <tr style=\"text-align: right;\">\n",
       "      <th></th>\n",
       "      <th>Unnamed: 0</th>\n",
       "      <th>Pruebas</th>\n",
       "      <th>coef(a)_LM-PD</th>\n",
       "      <th>rsquared_LM-PD</th>\n",
       "      <th>Standard Error_LM-PD</th>\n",
       "      <th>coef(b)_LM-PD</th>\n",
       "      <th>coef(a)_Acu-LM-PD</th>\n",
       "      <th>rsquared_Acu-LM-PD</th>\n",
       "      <th>Standard Error_Acu-LM-PD</th>\n",
       "      <th>coef(b)_Acu-LM-PD</th>\n",
       "      <th>coef(a)LM-6AM</th>\n",
       "      <th>rsquaredLM-6AM</th>\n",
       "      <th>Standard ErrorLM-6AM</th>\n",
       "      <th>coef(b)LM-6AM</th>\n",
       "      <th>coef(a)_Acu-LM-6AM</th>\n",
       "      <th>rsquared_Acu-LM-6AM</th>\n",
       "      <th>Standard Error_Acu-LM-6AM</th>\n",
       "      <th>coef(b)_Acu-LM-6AM</th>\n",
       "    </tr>\n",
       "  </thead>\n",
       "  <tbody>\n",
       "    <tr>\n",
       "      <th>0</th>\n",
       "      <td>0</td>\n",
       "      <td>1.0</td>\n",
       "      <td>0.4044717796161964</td>\n",
       "      <td>0.3825675914218779</td>\n",
       "      <td>0.04652098531656293</td>\n",
       "      <td>0.036011133068683414</td>\n",
       "      <td>1.7906033214414303</td>\n",
       "      <td>0.9916743993868427</td>\n",
       "      <td>0.014853975602645118</td>\n",
       "      <td>-0.006942779430944096</td>\n",
       "      <td>0.4495206192191575</td>\n",
       "      <td>0.2828032656566858</td>\n",
       "      <td>0.06481069417898253</td>\n",
       "      <td>0.017509396866609232</td>\n",
       "      <td>1.0255613147660299</td>\n",
       "      <td>0.98406777607374</td>\n",
       "      <td>0.011814284073421296</td>\n",
       "      <td>0.01930622771308735</td>\n",
       "    </tr>\n",
       "    <tr>\n",
       "      <th>0</th>\n",
       "      <td>0</td>\n",
       "      <td>2.0</td>\n",
       "      <td>0.36249713897992375</td>\n",
       "      <td>0.2432161766139055</td>\n",
       "      <td>0.057891441213318504</td>\n",
       "      <td>0.035582410997206784</td>\n",
       "      <td>1.7039021100681484</td>\n",
       "      <td>0.9937784610163425</td>\n",
       "      <td>0.012205873005548823</td>\n",
       "      <td>0.00013055186889669723</td>\n",
       "      <td>0.32248899526953856</td>\n",
       "      <td>0.29941106942970397</td>\n",
       "      <td>0.04466143285350932</td>\n",
       "      <td>0.017233280960634603</td>\n",
       "      <td>0.9341173585172362</td>\n",
       "      <td>0.9824543851115195</td>\n",
       "      <td>0.011301852252980978</td>\n",
       "      <td>-0.10359982418154412</td>\n",
       "    </tr>\n",
       "    <tr>\n",
       "      <th>0</th>\n",
       "      <td>0</td>\n",
       "      <td>3.0</td>\n",
       "      <td>0.28546969047224546</td>\n",
       "      <td>0.12082621374840052</td>\n",
       "      <td>0.06971669666710154</td>\n",
       "      <td>0.03803962996923186</td>\n",
       "      <td>1.7019578814252092</td>\n",
       "      <td>0.9869637777241473</td>\n",
       "      <td>0.017709005117926786</td>\n",
       "      <td>0.05557818998753354</td>\n",
       "      <td>0.3310477225652829</td>\n",
       "      <td>0.29614893326582403</td>\n",
       "      <td>0.0462057499747048</td>\n",
       "      <td>0.017329612220090405</td>\n",
       "      <td>0.937989665110567</td>\n",
       "      <td>0.9842833689465745</td>\n",
       "      <td>0.010730940689124028</td>\n",
       "      <td>-0.005943083737850359</td>\n",
       "    </tr>\n",
       "    <tr>\n",
       "      <th>0</th>\n",
       "      <td>0</td>\n",
       "      <td>4.0</td>\n",
       "      <td>0.3849799710056654</td>\n",
       "      <td>0.3570274326527535</td>\n",
       "      <td>0.046773909661035874</td>\n",
       "      <td>0.0379961352970935</td>\n",
       "      <td>1.8241938915904443</td>\n",
       "      <td>0.9921723321422987</td>\n",
       "      <td>0.014669446205201282</td>\n",
       "      <td>0.005077554713334695</td>\n",
       "      <td>0.31990889926516053</td>\n",
       "      <td>0.2842321995531716</td>\n",
       "      <td>0.045961678313299184</td>\n",
       "      <td>0.008598717737359119</td>\n",
       "      <td>0.6328417438953691</td>\n",
       "      <td>0.977123478055255</td>\n",
       "      <td>0.008766686507210526</td>\n",
       "      <td>-0.07102325410031637</td>\n",
       "    </tr>\n",
       "    <tr>\n",
       "      <th>0</th>\n",
       "      <td>0</td>\n",
       "      <td>5.0</td>\n",
       "      <td>0.3428301184275666</td>\n",
       "      <td>0.22591537870439715</td>\n",
       "      <td>0.057454019670033656</td>\n",
       "      <td>0.049075787241033536</td>\n",
       "      <td>2.1676694442138107</td>\n",
       "      <td>0.9905873262910382</td>\n",
       "      <td>0.01913036511526676</td>\n",
       "      <td>-0.11687665240970099</td>\n",
       "      <td>0.4513863559971948</td>\n",
       "      <td>0.3158132964885342</td>\n",
       "      <td>0.06015069465188001</td>\n",
       "      <td>0.017715878364605225</td>\n",
       "      <td>1.0370174286016862</td>\n",
       "      <td>0.9856859641715942</td>\n",
       "      <td>0.011314045041011881</td>\n",
       "      <td>-0.002664747438135634</td>\n",
       "    </tr>\n",
       "    <tr>\n",
       "      <th>0</th>\n",
       "      <td>0</td>\n",
       "      <td>6.0</td>\n",
       "      <td>0.3574729132819213</td>\n",
       "      <td>0.29230591447862364</td>\n",
       "      <td>0.050357852827115086</td>\n",
       "      <td>0.03936690575930164</td>\n",
       "      <td>1.763802495842616</td>\n",
       "      <td>0.9930408562468233</td>\n",
       "      <td>0.013367936743650572</td>\n",
       "      <td>-0.00977205759879636</td>\n",
       "      <td>0.3658133791344361</td>\n",
       "      <td>0.28927652187221886</td>\n",
       "      <td>0.05191267059508489</td>\n",
       "      <td>0.009962253540430482</td>\n",
       "      <td>0.7128015346485941</td>\n",
       "      <td>0.9803556165685217</td>\n",
       "      <td>0.009135158608266459</td>\n",
       "      <td>-0.07222727316677505</td>\n",
       "    </tr>\n",
       "    <tr>\n",
       "      <th>0</th>\n",
       "      <td>0</td>\n",
       "      <td>7.0</td>\n",
       "      <td>0.2607664698401667</td>\n",
       "      <td>0.12922631096479265</td>\n",
       "      <td>0.061284267058204306</td>\n",
       "      <td>0.03487383327021077</td>\n",
       "      <td>1.5427125667800348</td>\n",
       "      <td>0.9901206718355623</td>\n",
       "      <td>0.013951623437396012</td>\n",
       "      <td>0.02090865874795804</td>\n",
       "      <td>0.5114925220409045</td>\n",
       "      <td>0.42348740345961244</td>\n",
       "      <td>0.05403106666186658</td>\n",
       "      <td>0.023853417213542862</td>\n",
       "      <td>1.3068710818949052</td>\n",
       "      <td>0.9885156656530208</td>\n",
       "      <td>0.012753047225284123</td>\n",
       "      <td>0.04090052137976258</td>\n",
       "    </tr>\n",
       "    <tr>\n",
       "      <th>0</th>\n",
       "      <td>0</td>\n",
       "      <td>8.0</td>\n",
       "      <td>0.48515317623357457</td>\n",
       "      <td>0.2164697145950959</td>\n",
       "      <td>0.08356574803533172</td>\n",
       "      <td>0.03146114640522589</td>\n",
       "      <td>1.7042620680979153</td>\n",
       "      <td>0.9864407845642157</td>\n",
       "      <td>0.018089986089325456</td>\n",
       "      <td>-0.13242081215754142</td>\n",
       "      <td>0.3994541550201435</td>\n",
       "      <td>0.36393120835805104</td>\n",
       "      <td>0.047811174063680635</td>\n",
       "      <td>0.014780061784193858</td>\n",
       "      <td>0.8822621736237379</td>\n",
       "      <td>0.9886796960827124</td>\n",
       "      <td>0.008547103833023973</td>\n",
       "      <td>-0.023363043760360955</td>\n",
       "    </tr>\n",
       "    <tr>\n",
       "      <th>0</th>\n",
       "      <td>0</td>\n",
       "      <td>9.0</td>\n",
       "      <td>0.45841520115006423</td>\n",
       "      <td>0.3614582370324546</td>\n",
       "      <td>0.05516259301818377</td>\n",
       "      <td>0.03016621419199986</td>\n",
       "      <td>1.6136879011095302</td>\n",
       "      <td>0.9909594296935887</td>\n",
       "      <td>0.013954349770621327</td>\n",
       "      <td>-0.031604698508615886</td>\n",
       "      <td>0.30358655830751835</td>\n",
       "      <td>0.26506678769223446</td>\n",
       "      <td>0.045766623533122414</td>\n",
       "      <td>0.005543182953754559</td>\n",
       "      <td>0.5130831282269422</td>\n",
       "      <td>0.9687048340135246</td>\n",
       "      <td>0.008349312493867144</td>\n",
       "      <td>-0.06495016329310391</td>\n",
       "    </tr>\n",
       "    <tr>\n",
       "      <th>0</th>\n",
       "      <td>0</td>\n",
       "      <td>10.0</td>\n",
       "      <td>0.4949622681508766</td>\n",
       "      <td>0.29627176431438096</td>\n",
       "      <td>0.06906364706794464</td>\n",
       "      <td>0.019178190555410903</td>\n",
       "      <td>1.2164465480568287</td>\n",
       "      <td>0.9834897320636482</td>\n",
       "      <td>0.014269385109508948</td>\n",
       "      <td>0.04311165928338475</td>\n",
       "      <td>0.4484344368539062</td>\n",
       "      <td>0.2816961665080031</td>\n",
       "      <td>0.06483099281154064</td>\n",
       "      <td>0.021579096844262687</td>\n",
       "      <td>1.213743878721759</td>\n",
       "      <td>0.9828335791251224</td>\n",
       "      <td>0.014522688523375534</td>\n",
       "      <td>-0.06798235889098529</td>\n",
       "    </tr>\n",
       "  </tbody>\n",
       "</table>\n",
       "</div>"
      ],
      "text/plain": [
       "   Unnamed: 0 Pruebas        coef(a)_LM-PD       rsquared_LM-PD  \\\n",
       "0           0     1.0   0.4044717796161964   0.3825675914218779   \n",
       "0           0     2.0  0.36249713897992375   0.2432161766139055   \n",
       "0           0     3.0  0.28546969047224546  0.12082621374840052   \n",
       "0           0     4.0   0.3849799710056654   0.3570274326527535   \n",
       "0           0     5.0   0.3428301184275666  0.22591537870439715   \n",
       "0           0     6.0   0.3574729132819213  0.29230591447862364   \n",
       "0           0     7.0   0.2607664698401667  0.12922631096479265   \n",
       "0           0     8.0  0.48515317623357457   0.2164697145950959   \n",
       "0           0     9.0  0.45841520115006423   0.3614582370324546   \n",
       "0           0    10.0   0.4949622681508766  0.29627176431438096   \n",
       "\n",
       "   Standard Error_LM-PD         coef(b)_LM-PD   coef(a)_Acu-LM-PD  \\\n",
       "0   0.04652098531656293  0.036011133068683414  1.7906033214414303   \n",
       "0  0.057891441213318504  0.035582410997206784  1.7039021100681484   \n",
       "0   0.06971669666710154   0.03803962996923186  1.7019578814252092   \n",
       "0  0.046773909661035874    0.0379961352970935  1.8241938915904443   \n",
       "0  0.057454019670033656  0.049075787241033536  2.1676694442138107   \n",
       "0  0.050357852827115086   0.03936690575930164   1.763802495842616   \n",
       "0  0.061284267058204306   0.03487383327021077  1.5427125667800348   \n",
       "0   0.08356574803533172   0.03146114640522589  1.7042620680979153   \n",
       "0   0.05516259301818377   0.03016621419199986  1.6136879011095302   \n",
       "0   0.06906364706794464  0.019178190555410903  1.2164465480568287   \n",
       "\n",
       "   rsquared_Acu-LM-PD Standard Error_Acu-LM-PD       coef(b)_Acu-LM-PD  \\\n",
       "0  0.9916743993868427     0.014853975602645118   -0.006942779430944096   \n",
       "0  0.9937784610163425     0.012205873005548823  0.00013055186889669723   \n",
       "0  0.9869637777241473     0.017709005117926786     0.05557818998753354   \n",
       "0  0.9921723321422987     0.014669446205201282    0.005077554713334695   \n",
       "0  0.9905873262910382      0.01913036511526676    -0.11687665240970099   \n",
       "0  0.9930408562468233     0.013367936743650572    -0.00977205759879636   \n",
       "0  0.9901206718355623     0.013951623437396012     0.02090865874795804   \n",
       "0  0.9864407845642157     0.018089986089325456    -0.13242081215754142   \n",
       "0  0.9909594296935887     0.013954349770621327   -0.031604698508615886   \n",
       "0  0.9834897320636482     0.014269385109508948     0.04311165928338475   \n",
       "\n",
       "         coef(a)LM-6AM       rsquaredLM-6AM  Standard ErrorLM-6AM  \\\n",
       "0   0.4495206192191575   0.2828032656566858   0.06481069417898253   \n",
       "0  0.32248899526953856  0.29941106942970397   0.04466143285350932   \n",
       "0   0.3310477225652829  0.29614893326582403    0.0462057499747048   \n",
       "0  0.31990889926516053   0.2842321995531716  0.045961678313299184   \n",
       "0   0.4513863559971948   0.3158132964885342   0.06015069465188001   \n",
       "0   0.3658133791344361  0.28927652187221886   0.05191267059508489   \n",
       "0   0.5114925220409045  0.42348740345961244   0.05403106666186658   \n",
       "0   0.3994541550201435  0.36393120835805104  0.047811174063680635   \n",
       "0  0.30358655830751835  0.26506678769223446  0.045766623533122414   \n",
       "0   0.4484344368539062   0.2816961665080031   0.06483099281154064   \n",
       "\n",
       "          coef(b)LM-6AM  coef(a)_Acu-LM-6AM rsquared_Acu-LM-6AM  \\\n",
       "0  0.017509396866609232  1.0255613147660299    0.98406777607374   \n",
       "0  0.017233280960634603  0.9341173585172362  0.9824543851115195   \n",
       "0  0.017329612220090405   0.937989665110567  0.9842833689465745   \n",
       "0  0.008598717737359119  0.6328417438953691   0.977123478055255   \n",
       "0  0.017715878364605225  1.0370174286016862  0.9856859641715942   \n",
       "0  0.009962253540430482  0.7128015346485941  0.9803556165685217   \n",
       "0  0.023853417213542862  1.3068710818949052  0.9885156656530208   \n",
       "0  0.014780061784193858  0.8822621736237379  0.9886796960827124   \n",
       "0  0.005543182953754559  0.5130831282269422  0.9687048340135246   \n",
       "0  0.021579096844262687   1.213743878721759  0.9828335791251224   \n",
       "\n",
       "  Standard Error_Acu-LM-6AM     coef(b)_Acu-LM-6AM  \n",
       "0      0.011814284073421296    0.01930622771308735  \n",
       "0      0.011301852252980978   -0.10359982418154412  \n",
       "0      0.010730940689124028  -0.005943083737850359  \n",
       "0      0.008766686507210526   -0.07102325410031637  \n",
       "0      0.011314045041011881  -0.002664747438135634  \n",
       "0      0.009135158608266459   -0.07222727316677505  \n",
       "0      0.012753047225284123    0.04090052137976258  \n",
       "0      0.008547103833023973  -0.023363043760360955  \n",
       "0      0.008349312493867144   -0.06495016329310391  \n",
       "0      0.014522688523375534   -0.06798235889098529  "
      ]
     },
     "execution_count": 202,
     "metadata": {},
     "output_type": "execute_result"
    }
   ],
   "source": [
    "resultadoDatos"
   ]
  },
  {
   "cell_type": "code",
   "execution_count": 203,
   "metadata": {
    "id": "SXqSWYa6653G"
   },
   "outputs": [],
   "source": [
    "datos11=pd.read_csv('Prueba1.0.csv',decimal=\",\", encoding='utf-8',sep=u',')\n",
    "datos12=pd.read_csv('Prueba2.0.csv',decimal=\",\",sep=u',', encoding='utf-8', dayfirst=True)\n",
    "datos13=pd.read_csv('Prueba3.0.csv',decimal=\",\",sep=u',', encoding='utf-8', dayfirst=True)\n",
    "datos14=pd.read_csv('Prueba4.0.csv',decimal=\",\",sep=u',', encoding='utf-8', dayfirst=True)\n",
    "datos15=pd.read_csv('Prueba5.0.csv',decimal=\",\",sep=u',', encoding='utf-8', dayfirst=True)\n",
    "datos16=pd.read_csv('Prueba6.0.csv',decimal=\",\",sep=u',', encoding='utf-8', dayfirst=True)\n",
    "datos17=pd.read_csv('Prueba7.0.csv',decimal=\",\",sep=u',', encoding='utf-8',  dayfirst=True)\n",
    "datos18=pd.read_csv('Prueba8.0.csv',decimal=\",\",sep=u',', encoding='utf-8', dayfirst=True)\n",
    "datos19=pd.read_csv('Prueba9.0.csv',decimal=\",\",sep=u',', encoding='utf-8', dayfirst=True)\n",
    "datos110=pd.read_csv('Prueba10.0.csv',decimal=\",\",sep=u',', encoding='utf-8',dayfirst=True)"
   ]
  },
  {
   "cell_type": "code",
   "execution_count": 204,
   "metadata": {
    "id": "Q6-iO84b7i3M"
   },
   "outputs": [],
   "source": [
    "datostotal1 = [datos11,datos12,datos13,datos14,datos15,datos16,datos17,datos18,datos19,datos110,]"
   ]
  },
  {
   "cell_type": "code",
   "execution_count": 205,
   "metadata": {
    "id": "Tg3Yz0IX7jEB"
   },
   "outputs": [],
   "source": [
    "resultadoDatos= pd.concat(datostotal1)"
   ]
  },
  {
   "cell_type": "code",
   "execution_count": 206,
   "metadata": {
    "id": "WplQIMEMtnV6"
   },
   "outputs": [],
   "source": [
    "#resultadoDatos['Pruebas'] = resultadoDatos['Pruebas'].astype('float')\n",
    "#resultadoDatos = resultadoDatos.set_index('Pruebas')\n"
   ]
  },
  {
   "cell_type": "code",
   "execution_count": 207,
   "metadata": {
    "colab": {
     "base_uri": "https://localhost:8080/",
     "height": 462
    },
    "id": "tqSl-9Skt9oi",
    "outputId": "aa06b67f-ef03-4cdf-8858-d984f26056d0"
   },
   "outputs": [
    {
     "data": {
      "text/html": [
       "<div>\n",
       "<style scoped>\n",
       "    .dataframe tbody tr th:only-of-type {\n",
       "        vertical-align: middle;\n",
       "    }\n",
       "\n",
       "    .dataframe tbody tr th {\n",
       "        vertical-align: top;\n",
       "    }\n",
       "\n",
       "    .dataframe thead th {\n",
       "        text-align: right;\n",
       "    }\n",
       "</style>\n",
       "<table border=\"1\" class=\"dataframe\">\n",
       "  <thead>\n",
       "    <tr style=\"text-align: right;\">\n",
       "      <th></th>\n",
       "      <th>Unnamed: 0</th>\n",
       "      <th>Pruebas</th>\n",
       "      <th>coef(a)_6am-MLP</th>\n",
       "      <th>rsquared_6am-MLP</th>\n",
       "      <th>Standard Error_6am-MLP</th>\n",
       "      <th>coef(b)_6am-MLP</th>\n",
       "      <th>coef(a)_Acu-6am-MLP</th>\n",
       "      <th>rsquared_Acu-6am-MLP</th>\n",
       "      <th>Standard Error_Acu-6am-MLP</th>\n",
       "      <th>coef(b)_Acu-6am-MLP</th>\n",
       "      <th>...</th>\n",
       "      <th>Standard Error_Acu-Beysens-PM</th>\n",
       "      <th>coef(b)_Acu-Beysens-PM</th>\n",
       "      <th>coef(a)_MLP-PM</th>\n",
       "      <th>rsquared_MLP-PM</th>\n",
       "      <th>Standard Error_MLP-PM</th>\n",
       "      <th>coef(b)_MLP-PM</th>\n",
       "      <th>coef(a)_Acu-MLP-PM</th>\n",
       "      <th>rsquared_Acu-MLP-PM</th>\n",
       "      <th>Standard Error_Acu-MLP-PM</th>\n",
       "      <th>coef(b)_Acu-MLP-PM</th>\n",
       "    </tr>\n",
       "  </thead>\n",
       "  <tbody>\n",
       "    <tr>\n",
       "      <th>0</th>\n",
       "      <td>0</td>\n",
       "      <td>1.0</td>\n",
       "      <td>0.4948137535810921</td>\n",
       "      <td>0.46508488118669056</td>\n",
       "      <td>0.048043890952294464</td>\n",
       "      <td>0.009608331276011194</td>\n",
       "      <td>0.8099862842836646</td>\n",
       "      <td>0.9931865123392043</td>\n",
       "      <td>0.006073892207299808</td>\n",
       "      <td>0.07253665298964476</td>\n",
       "      <td>...</td>\n",
       "      <td>0.004052833878520092</td>\n",
       "      <td>0.04349159780506584</td>\n",
       "      <td>0.33342640363730175</td>\n",
       "      <td>0.1698814817103863</td>\n",
       "      <td>0.06672938358050473</td>\n",
       "      <td>0.01707751066958669</td>\n",
       "      <td>1.0102100419598241</td>\n",
       "      <td>0.9604410993986939</td>\n",
       "      <td>0.018561732264960447</td>\n",
       "      <td>0.12984540773636777</td>\n",
       "    </tr>\n",
       "    <tr>\n",
       "      <th>0</th>\n",
       "      <td>0</td>\n",
       "      <td>2.0</td>\n",
       "      <td>0.6403882563737312</td>\n",
       "      <td>0.5072247063135692</td>\n",
       "      <td>0.05714624863722955</td>\n",
       "      <td>0.013440777454328205</td>\n",
       "      <td>1.1226544604481872</td>\n",
       "      <td>0.9827924974271431</td>\n",
       "      <td>0.013449130085107305</td>\n",
       "      <td>0.06554460449139216</td>\n",
       "      <td>...</td>\n",
       "      <td>0.006167372934017797</td>\n",
       "      <td>0.0929091694734459</td>\n",
       "      <td>0.2466449504296521</td>\n",
       "      <td>0.09798598844518414</td>\n",
       "      <td>0.06775119757060624</td>\n",
       "      <td>0.02503405650019017</td>\n",
       "      <td>1.124092977533937</td>\n",
       "      <td>0.9425555407006067</td>\n",
       "      <td>0.025124238983152664</td>\n",
       "      <td>0.5296865257891479</td>\n",
       "    </tr>\n",
       "    <tr>\n",
       "      <th>0</th>\n",
       "      <td>0</td>\n",
       "      <td>3.0</td>\n",
       "      <td>0.7404447741431293</td>\n",
       "      <td>0.25641850102209973</td>\n",
       "      <td>0.11415696014635957</td>\n",
       "      <td>0.020605455545111007</td>\n",
       "      <td>1.4021526810262213</td>\n",
       "      <td>0.9828601122550934</td>\n",
       "      <td>0.016763840586497797</td>\n",
       "      <td>0.13443459990379722</td>\n",
       "      <td>...</td>\n",
       "      <td>0.004137806005971729</td>\n",
       "      <td>-0.03496229176987567</td>\n",
       "      <td>0.23761225759801374</td>\n",
       "      <td>0.05650795117348928</td>\n",
       "      <td>0.08790292785992623</td>\n",
       "      <td>0.020517318442021953</td>\n",
       "      <td>0.914913405168682</td>\n",
       "      <td>0.942198763486161</td>\n",
       "      <td>0.0205162212519036</td>\n",
       "      <td>0.23250445269003053</td>\n",
       "    </tr>\n",
       "    <tr>\n",
       "      <th>0</th>\n",
       "      <td>0</td>\n",
       "      <td>4.0</td>\n",
       "      <td>0.5952556802549979</td>\n",
       "      <td>0.3219305030060339</td>\n",
       "      <td>0.07821313408482036</td>\n",
       "      <td>0.022654475086473204</td>\n",
       "      <td>1.3040800642214898</td>\n",
       "      <td>0.9878403433821427</td>\n",
       "      <td>0.013099104813336987</td>\n",
       "      <td>0.0978245605673175</td>\n",
       "      <td>...</td>\n",
       "      <td>0.005675975565145549</td>\n",
       "      <td>-0.0860702095363419</td>\n",
       "      <td>0.27666635793403854</td>\n",
       "      <td>0.11085050176478906</td>\n",
       "      <td>0.07094063996219281</td>\n",
       "      <td>0.025917627584223734</td>\n",
       "      <td>1.1485032323714481</td>\n",
       "      <td>0.9659272459688459</td>\n",
       "      <td>0.019529167150132212</td>\n",
       "      <td>-0.12632636884296533</td>\n",
       "    </tr>\n",
       "    <tr>\n",
       "      <th>0</th>\n",
       "      <td>0</td>\n",
       "      <td>5.0</td>\n",
       "      <td>0.4649998639241142</td>\n",
       "      <td>0.486499735994975</td>\n",
       "      <td>0.043251576768531065</td>\n",
       "      <td>0.013266094290077605</td>\n",
       "      <td>0.9831031964609723</td>\n",
       "      <td>0.9783382794171716</td>\n",
       "      <td>0.013244060186319752</td>\n",
       "      <td>0.0060590546978452064</td>\n",
       "      <td>...</td>\n",
       "      <td>0.0016659912663083167</td>\n",
       "      <td>-0.03587496147179711</td>\n",
       "      <td>0.11722757252391545</td>\n",
       "      <td>0.04803353909560781</td>\n",
       "      <td>0.047248559119493994</td>\n",
       "      <td>0.02986251982448096</td>\n",
       "      <td>1.1152698836195207</td>\n",
       "      <td>0.979444444784761</td>\n",
       "      <td>0.014627656856053134</td>\n",
       "      <td>0.17058810922663475</td>\n",
       "    </tr>\n",
       "    <tr>\n",
       "      <th>0</th>\n",
       "      <td>0</td>\n",
       "      <td>6.0</td>\n",
       "      <td>0.7073941006755444</td>\n",
       "      <td>0.5235237750981515</td>\n",
       "      <td>0.061098974128869644</td>\n",
       "      <td>0.009002945077437624</td>\n",
       "      <td>1.0243035771423883</td>\n",
       "      <td>0.9886101315142911</td>\n",
       "      <td>0.009953953350062626</td>\n",
       "      <td>-0.11802604010744233</td>\n",
       "      <td>...</td>\n",
       "      <td>0.003197069044025871</td>\n",
       "      <td>0.051789290798960996</td>\n",
       "      <td>0.3890399192674873</td>\n",
       "      <td>0.32353486888078964</td>\n",
       "      <td>0.05093032439171434</td>\n",
       "      <td>0.02418316234989145</td>\n",
       "      <td>1.2795337379703255</td>\n",
       "      <td>0.9706311722512835</td>\n",
       "      <td>0.020150601519567886</td>\n",
       "      <td>-0.5048159726542726</td>\n",
       "    </tr>\n",
       "    <tr>\n",
       "      <th>0</th>\n",
       "      <td>0</td>\n",
       "      <td>7.0</td>\n",
       "      <td>0.3784047858025026</td>\n",
       "      <td>0.4089854601958445</td>\n",
       "      <td>0.041183367434966006</td>\n",
       "      <td>0.015629697087523438</td>\n",
       "      <td>0.9553962242674522</td>\n",
       "      <td>0.9736632502406497</td>\n",
       "      <td>0.014225918125352012</td>\n",
       "      <td>-0.3875692238755383</td>\n",
       "      <td>...</td>\n",
       "      <td>0.006327562727480249</td>\n",
       "      <td>-0.126748042917535</td>\n",
       "      <td>0.43920708538188724</td>\n",
       "      <td>0.19951855879327896</td>\n",
       "      <td>0.07964773422329606</td>\n",
       "      <td>0.01763908914034305</td>\n",
       "      <td>1.0383107473911557</td>\n",
       "      <td>0.975893994006222</td>\n",
       "      <td>0.014774362093159724</td>\n",
       "      <td>-0.20599129816544826</td>\n",
       "    </tr>\n",
       "    <tr>\n",
       "      <th>0</th>\n",
       "      <td>0</td>\n",
       "      <td>8.0</td>\n",
       "      <td>0.6265412673310568</td>\n",
       "      <td>0.4088185744758812</td>\n",
       "      <td>0.06821263897794029</td>\n",
       "      <td>0.016495302539790112</td>\n",
       "      <td>1.1188747763293914</td>\n",
       "      <td>0.9816686134927649</td>\n",
       "      <td>0.013842571419807494</td>\n",
       "      <td>0.39602409870174715</td>\n",
       "      <td>...</td>\n",
       "      <td>0.0032003288322877137</td>\n",
       "      <td>0.02241796310899705</td>\n",
       "      <td>0.2215078004958014</td>\n",
       "      <td>0.10105679889425445</td>\n",
       "      <td>0.05981256760616889</td>\n",
       "      <td>0.018681981016582173</td>\n",
       "      <td>0.8789440699297899</td>\n",
       "      <td>0.9657914947915605</td>\n",
       "      <td>0.014976374296895384</td>\n",
       "      <td>-0.020660416512367996</td>\n",
       "    </tr>\n",
       "    <tr>\n",
       "      <th>0</th>\n",
       "      <td>0</td>\n",
       "      <td>9.0</td>\n",
       "      <td>0.5062792718279543</td>\n",
       "      <td>0.26830077264037144</td>\n",
       "      <td>0.07569471256021827</td>\n",
       "      <td>0.013786687546513885</td>\n",
       "      <td>1.0664346616095863</td>\n",
       "      <td>0.9904516915881517</td>\n",
       "      <td>0.009479837831500118</td>\n",
       "      <td>-0.1457908832402674</td>\n",
       "      <td>...</td>\n",
       "      <td>0.0033293101213626186</td>\n",
       "      <td>0.05871969984941409</td>\n",
       "      <td>0.4040697279653892</td>\n",
       "      <td>0.13833020699025322</td>\n",
       "      <td>0.09130367181193558</td>\n",
       "      <td>0.03235591897302981</td>\n",
       "      <td>1.5456227206900337</td>\n",
       "      <td>0.9845809778277836</td>\n",
       "      <td>0.01751161797408497</td>\n",
       "      <td>-0.11113931724151392</td>\n",
       "    </tr>\n",
       "    <tr>\n",
       "      <th>0</th>\n",
       "      <td>0</td>\n",
       "      <td>10.0</td>\n",
       "      <td>0.33198997703252847</td>\n",
       "      <td>0.45712637556092395</td>\n",
       "      <td>0.03275489954743721</td>\n",
       "      <td>0.010659799213849519</td>\n",
       "      <td>0.6085745379787273</td>\n",
       "      <td>0.9579779195831352</td>\n",
       "      <td>0.011539709866030487</td>\n",
       "      <td>-0.18948864708724458</td>\n",
       "      <td>...</td>\n",
       "      <td>0.0036263288152504373</td>\n",
       "      <td>0.008745148016137173</td>\n",
       "      <td>0.46080529217624644</td>\n",
       "      <td>0.48960955891667557</td>\n",
       "      <td>0.042595514860047194</td>\n",
       "      <td>0.013504444317866106</td>\n",
       "      <td>0.9624855175953125</td>\n",
       "      <td>0.9639412186937628</td>\n",
       "      <td>0.016853671916765466</td>\n",
       "      <td>-0.2671810068946435</td>\n",
       "    </tr>\n",
       "  </tbody>\n",
       "</table>\n",
       "<p>10 rows × 34 columns</p>\n",
       "</div>"
      ],
      "text/plain": [
       "   Unnamed: 0 Pruebas      coef(a)_6am-MLP     rsquared_6am-MLP  \\\n",
       "0           0     1.0   0.4948137535810921  0.46508488118669056   \n",
       "0           0     2.0   0.6403882563737312   0.5072247063135692   \n",
       "0           0     3.0   0.7404447741431293  0.25641850102209973   \n",
       "0           0     4.0   0.5952556802549979   0.3219305030060339   \n",
       "0           0     5.0   0.4649998639241142    0.486499735994975   \n",
       "0           0     6.0   0.7073941006755444   0.5235237750981515   \n",
       "0           0     7.0   0.3784047858025026   0.4089854601958445   \n",
       "0           0     8.0   0.6265412673310568   0.4088185744758812   \n",
       "0           0     9.0   0.5062792718279543  0.26830077264037144   \n",
       "0           0    10.0  0.33198997703252847  0.45712637556092395   \n",
       "\n",
       "  Standard Error_6am-MLP       coef(b)_6am-MLP coef(a)_Acu-6am-MLP  \\\n",
       "0   0.048043890952294464  0.009608331276011194  0.8099862842836646   \n",
       "0    0.05714624863722955  0.013440777454328205  1.1226544604481872   \n",
       "0    0.11415696014635957  0.020605455545111007  1.4021526810262213   \n",
       "0    0.07821313408482036  0.022654475086473204  1.3040800642214898   \n",
       "0   0.043251576768531065  0.013266094290077605  0.9831031964609723   \n",
       "0   0.061098974128869644  0.009002945077437624  1.0243035771423883   \n",
       "0   0.041183367434966006  0.015629697087523438  0.9553962242674522   \n",
       "0    0.06821263897794029  0.016495302539790112  1.1188747763293914   \n",
       "0    0.07569471256021827  0.013786687546513885  1.0664346616095863   \n",
       "0    0.03275489954743721  0.010659799213849519  0.6085745379787273   \n",
       "\n",
       "  rsquared_Acu-6am-MLP Standard Error_Acu-6am-MLP    coef(b)_Acu-6am-MLP  ...  \\\n",
       "0   0.9931865123392043       0.006073892207299808    0.07253665298964476  ...   \n",
       "0   0.9827924974271431       0.013449130085107305    0.06554460449139216  ...   \n",
       "0   0.9828601122550934       0.016763840586497797    0.13443459990379722  ...   \n",
       "0   0.9878403433821427       0.013099104813336987     0.0978245605673175  ...   \n",
       "0   0.9783382794171716       0.013244060186319752  0.0060590546978452064  ...   \n",
       "0   0.9886101315142911       0.009953953350062626   -0.11802604010744233  ...   \n",
       "0   0.9736632502406497       0.014225918125352012    -0.3875692238755383  ...   \n",
       "0   0.9816686134927649       0.013842571419807494    0.39602409870174715  ...   \n",
       "0   0.9904516915881517       0.009479837831500118    -0.1457908832402674  ...   \n",
       "0   0.9579779195831352       0.011539709866030487   -0.18948864708724458  ...   \n",
       "\n",
       "  Standard Error_Acu-Beysens-PM coef(b)_Acu-Beysens-PM       coef(a)_MLP-PM  \\\n",
       "0          0.004052833878520092    0.04349159780506584  0.33342640363730175   \n",
       "0          0.006167372934017797     0.0929091694734459   0.2466449504296521   \n",
       "0          0.004137806005971729   -0.03496229176987567  0.23761225759801374   \n",
       "0          0.005675975565145549    -0.0860702095363419  0.27666635793403854   \n",
       "0         0.0016659912663083167   -0.03587496147179711  0.11722757252391545   \n",
       "0          0.003197069044025871   0.051789290798960996   0.3890399192674873   \n",
       "0          0.006327562727480249     -0.126748042917535  0.43920708538188724   \n",
       "0         0.0032003288322877137    0.02241796310899705   0.2215078004958014   \n",
       "0         0.0033293101213626186    0.05871969984941409   0.4040697279653892   \n",
       "0         0.0036263288152504373   0.008745148016137173  0.46080529217624644   \n",
       "\n",
       "       rsquared_MLP-PM Standard Error_MLP-PM        coef(b)_MLP-PM  \\\n",
       "0   0.1698814817103863   0.06672938358050473   0.01707751066958669   \n",
       "0  0.09798598844518414   0.06775119757060624   0.02503405650019017   \n",
       "0  0.05650795117348928   0.08790292785992623  0.020517318442021953   \n",
       "0  0.11085050176478906   0.07094063996219281  0.025917627584223734   \n",
       "0  0.04803353909560781  0.047248559119493994   0.02986251982448096   \n",
       "0  0.32353486888078964   0.05093032439171434   0.02418316234989145   \n",
       "0  0.19951855879327896   0.07964773422329606   0.01763908914034305   \n",
       "0  0.10105679889425445   0.05981256760616889  0.018681981016582173   \n",
       "0  0.13833020699025322   0.09130367181193558   0.03235591897302981   \n",
       "0  0.48960955891667557  0.042595514860047194  0.013504444317866106   \n",
       "\n",
       "   coef(a)_Acu-MLP-PM rsquared_Acu-MLP-PM Standard Error_Acu-MLP-PM  \\\n",
       "0  1.0102100419598241  0.9604410993986939      0.018561732264960447   \n",
       "0   1.124092977533937  0.9425555407006067      0.025124238983152664   \n",
       "0   0.914913405168682   0.942198763486161        0.0205162212519036   \n",
       "0  1.1485032323714481  0.9659272459688459      0.019529167150132212   \n",
       "0  1.1152698836195207   0.979444444784761      0.014627656856053134   \n",
       "0  1.2795337379703255  0.9706311722512835      0.020150601519567886   \n",
       "0  1.0383107473911557   0.975893994006222      0.014774362093159724   \n",
       "0  0.8789440699297899  0.9657914947915605      0.014976374296895384   \n",
       "0  1.5456227206900337  0.9845809778277836       0.01751161797408497   \n",
       "0  0.9624855175953125  0.9639412186937628      0.016853671916765466   \n",
       "\n",
       "      coef(b)_Acu-MLP-PM  \n",
       "0    0.12984540773636777  \n",
       "0     0.5296865257891479  \n",
       "0    0.23250445269003053  \n",
       "0   -0.12632636884296533  \n",
       "0    0.17058810922663475  \n",
       "0    -0.5048159726542726  \n",
       "0   -0.20599129816544826  \n",
       "0  -0.020660416512367996  \n",
       "0   -0.11113931724151392  \n",
       "0    -0.2671810068946435  \n",
       "\n",
       "[10 rows x 34 columns]"
      ]
     },
     "execution_count": 207,
     "metadata": {},
     "output_type": "execute_result"
    }
   ],
   "source": [
    "resultadoDatos"
   ]
  },
  {
   "cell_type": "code",
   "execution_count": 208,
   "metadata": {
    "id": "KYz9cnBatZXo"
   },
   "outputs": [],
   "source": [
    "resultadoDatos = resultadoDatos.drop(['Unnamed: 0'], axis=1)"
   ]
  },
  {
   "cell_type": "code",
   "execution_count": 209,
   "metadata": {
    "colab": {
     "base_uri": "https://localhost:8080/",
     "height": 462
    },
    "id": "jf4XOESauLZK",
    "outputId": "695edd24-61cf-453a-ecac-61618d1a5ab1"
   },
   "outputs": [
    {
     "data": {
      "text/html": [
       "<div>\n",
       "<style scoped>\n",
       "    .dataframe tbody tr th:only-of-type {\n",
       "        vertical-align: middle;\n",
       "    }\n",
       "\n",
       "    .dataframe tbody tr th {\n",
       "        vertical-align: top;\n",
       "    }\n",
       "\n",
       "    .dataframe thead th {\n",
       "        text-align: right;\n",
       "    }\n",
       "</style>\n",
       "<table border=\"1\" class=\"dataframe\">\n",
       "  <thead>\n",
       "    <tr style=\"text-align: right;\">\n",
       "      <th></th>\n",
       "      <th>Pruebas</th>\n",
       "      <th>coef(a)_6am-MLP</th>\n",
       "      <th>rsquared_6am-MLP</th>\n",
       "      <th>Standard Error_6am-MLP</th>\n",
       "      <th>coef(b)_6am-MLP</th>\n",
       "      <th>coef(a)_Acu-6am-MLP</th>\n",
       "      <th>rsquared_Acu-6am-MLP</th>\n",
       "      <th>Standard Error_Acu-6am-MLP</th>\n",
       "      <th>coef(b)_Acu-6am-MLP</th>\n",
       "      <th>coef(a)_6am-Beysens</th>\n",
       "      <th>...</th>\n",
       "      <th>Standard Error_Acu-Beysens-PM</th>\n",
       "      <th>coef(b)_Acu-Beysens-PM</th>\n",
       "      <th>coef(a)_MLP-PM</th>\n",
       "      <th>rsquared_MLP-PM</th>\n",
       "      <th>Standard Error_MLP-PM</th>\n",
       "      <th>coef(b)_MLP-PM</th>\n",
       "      <th>coef(a)_Acu-MLP-PM</th>\n",
       "      <th>rsquared_Acu-MLP-PM</th>\n",
       "      <th>Standard Error_Acu-MLP-PM</th>\n",
       "      <th>coef(b)_Acu-MLP-PM</th>\n",
       "    </tr>\n",
       "  </thead>\n",
       "  <tbody>\n",
       "    <tr>\n",
       "      <th>0</th>\n",
       "      <td>1.0</td>\n",
       "      <td>0.4948137535810921</td>\n",
       "      <td>0.46508488118669056</td>\n",
       "      <td>0.048043890952294464</td>\n",
       "      <td>0.009608331276011194</td>\n",
       "      <td>0.8099862842836646</td>\n",
       "      <td>0.9931865123392043</td>\n",
       "      <td>0.006073892207299808</td>\n",
       "      <td>0.07253665298964476</td>\n",
       "      <td>0.5720441183497359</td>\n",
       "      <td>...</td>\n",
       "      <td>0.004052833878520092</td>\n",
       "      <td>0.04349159780506584</td>\n",
       "      <td>0.33342640363730175</td>\n",
       "      <td>0.1698814817103863</td>\n",
       "      <td>0.06672938358050473</td>\n",
       "      <td>0.01707751066958669</td>\n",
       "      <td>1.0102100419598241</td>\n",
       "      <td>0.9604410993986939</td>\n",
       "      <td>0.018561732264960447</td>\n",
       "      <td>0.12984540773636777</td>\n",
       "    </tr>\n",
       "    <tr>\n",
       "      <th>0</th>\n",
       "      <td>2.0</td>\n",
       "      <td>0.6403882563737312</td>\n",
       "      <td>0.5072247063135692</td>\n",
       "      <td>0.05714624863722955</td>\n",
       "      <td>0.013440777454328205</td>\n",
       "      <td>1.1226544604481872</td>\n",
       "      <td>0.9827924974271431</td>\n",
       "      <td>0.013449130085107305</td>\n",
       "      <td>0.06554460449139216</td>\n",
       "      <td>0.5981696641643565</td>\n",
       "      <td>...</td>\n",
       "      <td>0.006167372934017797</td>\n",
       "      <td>0.0929091694734459</td>\n",
       "      <td>0.2466449504296521</td>\n",
       "      <td>0.09798598844518414</td>\n",
       "      <td>0.06775119757060624</td>\n",
       "      <td>0.02503405650019017</td>\n",
       "      <td>1.124092977533937</td>\n",
       "      <td>0.9425555407006067</td>\n",
       "      <td>0.025124238983152664</td>\n",
       "      <td>0.5296865257891479</td>\n",
       "    </tr>\n",
       "    <tr>\n",
       "      <th>0</th>\n",
       "      <td>3.0</td>\n",
       "      <td>0.7404447741431293</td>\n",
       "      <td>0.25641850102209973</td>\n",
       "      <td>0.11415696014635957</td>\n",
       "      <td>0.020605455545111007</td>\n",
       "      <td>1.4021526810262213</td>\n",
       "      <td>0.9828601122550934</td>\n",
       "      <td>0.016763840586497797</td>\n",
       "      <td>0.13443459990379722</td>\n",
       "      <td>0.5123047668255709</td>\n",
       "      <td>...</td>\n",
       "      <td>0.004137806005971729</td>\n",
       "      <td>-0.03496229176987567</td>\n",
       "      <td>0.23761225759801374</td>\n",
       "      <td>0.05650795117348928</td>\n",
       "      <td>0.08790292785992623</td>\n",
       "      <td>0.020517318442021953</td>\n",
       "      <td>0.914913405168682</td>\n",
       "      <td>0.942198763486161</td>\n",
       "      <td>0.0205162212519036</td>\n",
       "      <td>0.23250445269003053</td>\n",
       "    </tr>\n",
       "    <tr>\n",
       "      <th>0</th>\n",
       "      <td>4.0</td>\n",
       "      <td>0.5952556802549979</td>\n",
       "      <td>0.3219305030060339</td>\n",
       "      <td>0.07821313408482036</td>\n",
       "      <td>0.022654475086473204</td>\n",
       "      <td>1.3040800642214898</td>\n",
       "      <td>0.9878403433821427</td>\n",
       "      <td>0.013099104813336987</td>\n",
       "      <td>0.0978245605673175</td>\n",
       "      <td>0.6341042298399691</td>\n",
       "      <td>...</td>\n",
       "      <td>0.005675975565145549</td>\n",
       "      <td>-0.0860702095363419</td>\n",
       "      <td>0.27666635793403854</td>\n",
       "      <td>0.11085050176478906</td>\n",
       "      <td>0.07094063996219281</td>\n",
       "      <td>0.025917627584223734</td>\n",
       "      <td>1.1485032323714481</td>\n",
       "      <td>0.9659272459688459</td>\n",
       "      <td>0.019529167150132212</td>\n",
       "      <td>-0.12632636884296533</td>\n",
       "    </tr>\n",
       "    <tr>\n",
       "      <th>0</th>\n",
       "      <td>5.0</td>\n",
       "      <td>0.4649998639241142</td>\n",
       "      <td>0.486499735994975</td>\n",
       "      <td>0.043251576768531065</td>\n",
       "      <td>0.013266094290077605</td>\n",
       "      <td>0.9831031964609723</td>\n",
       "      <td>0.9783382794171716</td>\n",
       "      <td>0.013244060186319752</td>\n",
       "      <td>0.0060590546978452064</td>\n",
       "      <td>0.8376574115640265</td>\n",
       "      <td>...</td>\n",
       "      <td>0.0016659912663083167</td>\n",
       "      <td>-0.03587496147179711</td>\n",
       "      <td>0.11722757252391545</td>\n",
       "      <td>0.04803353909560781</td>\n",
       "      <td>0.047248559119493994</td>\n",
       "      <td>0.02986251982448096</td>\n",
       "      <td>1.1152698836195207</td>\n",
       "      <td>0.979444444784761</td>\n",
       "      <td>0.014627656856053134</td>\n",
       "      <td>0.17058810922663475</td>\n",
       "    </tr>\n",
       "    <tr>\n",
       "      <th>0</th>\n",
       "      <td>6.0</td>\n",
       "      <td>0.7073941006755444</td>\n",
       "      <td>0.5235237750981515</td>\n",
       "      <td>0.061098974128869644</td>\n",
       "      <td>0.009002945077437624</td>\n",
       "      <td>1.0243035771423883</td>\n",
       "      <td>0.9886101315142911</td>\n",
       "      <td>0.009953953350062626</td>\n",
       "      <td>-0.11802604010744233</td>\n",
       "      <td>0.5632704926683031</td>\n",
       "      <td>...</td>\n",
       "      <td>0.003197069044025871</td>\n",
       "      <td>0.051789290798960996</td>\n",
       "      <td>0.3890399192674873</td>\n",
       "      <td>0.32353486888078964</td>\n",
       "      <td>0.05093032439171434</td>\n",
       "      <td>0.02418316234989145</td>\n",
       "      <td>1.2795337379703255</td>\n",
       "      <td>0.9706311722512835</td>\n",
       "      <td>0.020150601519567886</td>\n",
       "      <td>-0.5048159726542726</td>\n",
       "    </tr>\n",
       "    <tr>\n",
       "      <th>0</th>\n",
       "      <td>7.0</td>\n",
       "      <td>0.3784047858025026</td>\n",
       "      <td>0.4089854601958445</td>\n",
       "      <td>0.041183367434966006</td>\n",
       "      <td>0.015629697087523438</td>\n",
       "      <td>0.9553962242674522</td>\n",
       "      <td>0.9736632502406497</td>\n",
       "      <td>0.014225918125352012</td>\n",
       "      <td>-0.3875692238755383</td>\n",
       "      <td>0.5010604441980586</td>\n",
       "      <td>...</td>\n",
       "      <td>0.006327562727480249</td>\n",
       "      <td>-0.126748042917535</td>\n",
       "      <td>0.43920708538188724</td>\n",
       "      <td>0.19951855879327896</td>\n",
       "      <td>0.07964773422329606</td>\n",
       "      <td>0.01763908914034305</td>\n",
       "      <td>1.0383107473911557</td>\n",
       "      <td>0.975893994006222</td>\n",
       "      <td>0.014774362093159724</td>\n",
       "      <td>-0.20599129816544826</td>\n",
       "    </tr>\n",
       "    <tr>\n",
       "      <th>0</th>\n",
       "      <td>8.0</td>\n",
       "      <td>0.6265412673310568</td>\n",
       "      <td>0.4088185744758812</td>\n",
       "      <td>0.06821263897794029</td>\n",
       "      <td>0.016495302539790112</td>\n",
       "      <td>1.1188747763293914</td>\n",
       "      <td>0.9816686134927649</td>\n",
       "      <td>0.013842571419807494</td>\n",
       "      <td>0.39602409870174715</td>\n",
       "      <td>0.6949651965587689</td>\n",
       "      <td>...</td>\n",
       "      <td>0.0032003288322877137</td>\n",
       "      <td>0.02241796310899705</td>\n",
       "      <td>0.2215078004958014</td>\n",
       "      <td>0.10105679889425445</td>\n",
       "      <td>0.05981256760616889</td>\n",
       "      <td>0.018681981016582173</td>\n",
       "      <td>0.8789440699297899</td>\n",
       "      <td>0.9657914947915605</td>\n",
       "      <td>0.014976374296895384</td>\n",
       "      <td>-0.020660416512367996</td>\n",
       "    </tr>\n",
       "    <tr>\n",
       "      <th>0</th>\n",
       "      <td>9.0</td>\n",
       "      <td>0.5062792718279543</td>\n",
       "      <td>0.26830077264037144</td>\n",
       "      <td>0.07569471256021827</td>\n",
       "      <td>0.013786687546513885</td>\n",
       "      <td>1.0664346616095863</td>\n",
       "      <td>0.9904516915881517</td>\n",
       "      <td>0.009479837831500118</td>\n",
       "      <td>-0.1457908832402674</td>\n",
       "      <td>0.7779724547204114</td>\n",
       "      <td>...</td>\n",
       "      <td>0.0033293101213626186</td>\n",
       "      <td>0.05871969984941409</td>\n",
       "      <td>0.4040697279653892</td>\n",
       "      <td>0.13833020699025322</td>\n",
       "      <td>0.09130367181193558</td>\n",
       "      <td>0.03235591897302981</td>\n",
       "      <td>1.5456227206900337</td>\n",
       "      <td>0.9845809778277836</td>\n",
       "      <td>0.01751161797408497</td>\n",
       "      <td>-0.11113931724151392</td>\n",
       "    </tr>\n",
       "    <tr>\n",
       "      <th>0</th>\n",
       "      <td>10.0</td>\n",
       "      <td>0.33198997703252847</td>\n",
       "      <td>0.45712637556092395</td>\n",
       "      <td>0.03275489954743721</td>\n",
       "      <td>0.010659799213849519</td>\n",
       "      <td>0.6085745379787273</td>\n",
       "      <td>0.9579779195831352</td>\n",
       "      <td>0.011539709866030487</td>\n",
       "      <td>-0.18948864708724458</td>\n",
       "      <td>0.5451804425306419</td>\n",
       "      <td>...</td>\n",
       "      <td>0.0036263288152504373</td>\n",
       "      <td>0.008745148016137173</td>\n",
       "      <td>0.46080529217624644</td>\n",
       "      <td>0.48960955891667557</td>\n",
       "      <td>0.042595514860047194</td>\n",
       "      <td>0.013504444317866106</td>\n",
       "      <td>0.9624855175953125</td>\n",
       "      <td>0.9639412186937628</td>\n",
       "      <td>0.016853671916765466</td>\n",
       "      <td>-0.2671810068946435</td>\n",
       "    </tr>\n",
       "  </tbody>\n",
       "</table>\n",
       "<p>10 rows × 33 columns</p>\n",
       "</div>"
      ],
      "text/plain": [
       "  Pruebas      coef(a)_6am-MLP     rsquared_6am-MLP Standard Error_6am-MLP  \\\n",
       "0     1.0   0.4948137535810921  0.46508488118669056   0.048043890952294464   \n",
       "0     2.0   0.6403882563737312   0.5072247063135692    0.05714624863722955   \n",
       "0     3.0   0.7404447741431293  0.25641850102209973    0.11415696014635957   \n",
       "0     4.0   0.5952556802549979   0.3219305030060339    0.07821313408482036   \n",
       "0     5.0   0.4649998639241142    0.486499735994975   0.043251576768531065   \n",
       "0     6.0   0.7073941006755444   0.5235237750981515   0.061098974128869644   \n",
       "0     7.0   0.3784047858025026   0.4089854601958445   0.041183367434966006   \n",
       "0     8.0   0.6265412673310568   0.4088185744758812    0.06821263897794029   \n",
       "0     9.0   0.5062792718279543  0.26830077264037144    0.07569471256021827   \n",
       "0    10.0  0.33198997703252847  0.45712637556092395    0.03275489954743721   \n",
       "\n",
       "        coef(b)_6am-MLP coef(a)_Acu-6am-MLP rsquared_Acu-6am-MLP  \\\n",
       "0  0.009608331276011194  0.8099862842836646   0.9931865123392043   \n",
       "0  0.013440777454328205  1.1226544604481872   0.9827924974271431   \n",
       "0  0.020605455545111007  1.4021526810262213   0.9828601122550934   \n",
       "0  0.022654475086473204  1.3040800642214898   0.9878403433821427   \n",
       "0  0.013266094290077605  0.9831031964609723   0.9783382794171716   \n",
       "0  0.009002945077437624  1.0243035771423883   0.9886101315142911   \n",
       "0  0.015629697087523438  0.9553962242674522   0.9736632502406497   \n",
       "0  0.016495302539790112  1.1188747763293914   0.9816686134927649   \n",
       "0  0.013786687546513885  1.0664346616095863   0.9904516915881517   \n",
       "0  0.010659799213849519  0.6085745379787273   0.9579779195831352   \n",
       "\n",
       "  Standard Error_Acu-6am-MLP    coef(b)_Acu-6am-MLP coef(a)_6am-Beysens  ...  \\\n",
       "0       0.006073892207299808    0.07253665298964476  0.5720441183497359  ...   \n",
       "0       0.013449130085107305    0.06554460449139216  0.5981696641643565  ...   \n",
       "0       0.016763840586497797    0.13443459990379722  0.5123047668255709  ...   \n",
       "0       0.013099104813336987     0.0978245605673175  0.6341042298399691  ...   \n",
       "0       0.013244060186319752  0.0060590546978452064  0.8376574115640265  ...   \n",
       "0       0.009953953350062626   -0.11802604010744233  0.5632704926683031  ...   \n",
       "0       0.014225918125352012    -0.3875692238755383  0.5010604441980586  ...   \n",
       "0       0.013842571419807494    0.39602409870174715  0.6949651965587689  ...   \n",
       "0       0.009479837831500118    -0.1457908832402674  0.7779724547204114  ...   \n",
       "0       0.011539709866030487   -0.18948864708724458  0.5451804425306419  ...   \n",
       "\n",
       "  Standard Error_Acu-Beysens-PM coef(b)_Acu-Beysens-PM       coef(a)_MLP-PM  \\\n",
       "0          0.004052833878520092    0.04349159780506584  0.33342640363730175   \n",
       "0          0.006167372934017797     0.0929091694734459   0.2466449504296521   \n",
       "0          0.004137806005971729   -0.03496229176987567  0.23761225759801374   \n",
       "0          0.005675975565145549    -0.0860702095363419  0.27666635793403854   \n",
       "0         0.0016659912663083167   -0.03587496147179711  0.11722757252391545   \n",
       "0          0.003197069044025871   0.051789290798960996   0.3890399192674873   \n",
       "0          0.006327562727480249     -0.126748042917535  0.43920708538188724   \n",
       "0         0.0032003288322877137    0.02241796310899705   0.2215078004958014   \n",
       "0         0.0033293101213626186    0.05871969984941409   0.4040697279653892   \n",
       "0         0.0036263288152504373   0.008745148016137173  0.46080529217624644   \n",
       "\n",
       "       rsquared_MLP-PM Standard Error_MLP-PM        coef(b)_MLP-PM  \\\n",
       "0   0.1698814817103863   0.06672938358050473   0.01707751066958669   \n",
       "0  0.09798598844518414   0.06775119757060624   0.02503405650019017   \n",
       "0  0.05650795117348928   0.08790292785992623  0.020517318442021953   \n",
       "0  0.11085050176478906   0.07094063996219281  0.025917627584223734   \n",
       "0  0.04803353909560781  0.047248559119493994   0.02986251982448096   \n",
       "0  0.32353486888078964   0.05093032439171434   0.02418316234989145   \n",
       "0  0.19951855879327896   0.07964773422329606   0.01763908914034305   \n",
       "0  0.10105679889425445   0.05981256760616889  0.018681981016582173   \n",
       "0  0.13833020699025322   0.09130367181193558   0.03235591897302981   \n",
       "0  0.48960955891667557  0.042595514860047194  0.013504444317866106   \n",
       "\n",
       "   coef(a)_Acu-MLP-PM rsquared_Acu-MLP-PM Standard Error_Acu-MLP-PM  \\\n",
       "0  1.0102100419598241  0.9604410993986939      0.018561732264960447   \n",
       "0   1.124092977533937  0.9425555407006067      0.025124238983152664   \n",
       "0   0.914913405168682   0.942198763486161        0.0205162212519036   \n",
       "0  1.1485032323714481  0.9659272459688459      0.019529167150132212   \n",
       "0  1.1152698836195207   0.979444444784761      0.014627656856053134   \n",
       "0  1.2795337379703255  0.9706311722512835      0.020150601519567886   \n",
       "0  1.0383107473911557   0.975893994006222      0.014774362093159724   \n",
       "0  0.8789440699297899  0.9657914947915605      0.014976374296895384   \n",
       "0  1.5456227206900337  0.9845809778277836       0.01751161797408497   \n",
       "0  0.9624855175953125  0.9639412186937628      0.016853671916765466   \n",
       "\n",
       "      coef(b)_Acu-MLP-PM  \n",
       "0    0.12984540773636777  \n",
       "0     0.5296865257891479  \n",
       "0    0.23250445269003053  \n",
       "0   -0.12632636884296533  \n",
       "0    0.17058810922663475  \n",
       "0    -0.5048159726542726  \n",
       "0   -0.20599129816544826  \n",
       "0  -0.020660416512367996  \n",
       "0   -0.11113931724151392  \n",
       "0    -0.2671810068946435  \n",
       "\n",
       "[10 rows x 33 columns]"
      ]
     },
     "execution_count": 209,
     "metadata": {},
     "output_type": "execute_result"
    }
   ],
   "source": [
    "resultadoDatos"
   ]
  },
  {
   "cell_type": "code",
   "execution_count": 210,
   "metadata": {
    "id": "84VdLftrvjMe"
   },
   "outputs": [],
   "source": [
    "resultadoDatos=resultadoDatos.astype(float)"
   ]
  },
  {
   "cell_type": "code",
   "execution_count": 211,
   "metadata": {
    "colab": {
     "base_uri": "https://localhost:8080/",
     "height": 478
    },
    "id": "m4_mlPO_vsd1",
    "outputId": "2b0f7368-e8d5-4632-df9a-865135e15fb3"
   },
   "outputs": [
    {
     "data": {
      "text/html": [
       "<div>\n",
       "<style scoped>\n",
       "    .dataframe tbody tr th:only-of-type {\n",
       "        vertical-align: middle;\n",
       "    }\n",
       "\n",
       "    .dataframe tbody tr th {\n",
       "        vertical-align: top;\n",
       "    }\n",
       "\n",
       "    .dataframe thead th {\n",
       "        text-align: right;\n",
       "    }\n",
       "</style>\n",
       "<table border=\"1\" class=\"dataframe\">\n",
       "  <thead>\n",
       "    <tr style=\"text-align: right;\">\n",
       "      <th></th>\n",
       "      <th>Pruebas</th>\n",
       "      <th>coef(a)_6am-MLP</th>\n",
       "      <th>rsquared_6am-MLP</th>\n",
       "      <th>Standard Error_6am-MLP</th>\n",
       "      <th>coef(b)_6am-MLP</th>\n",
       "      <th>coef(a)_Acu-6am-MLP</th>\n",
       "      <th>rsquared_Acu-6am-MLP</th>\n",
       "      <th>Standard Error_Acu-6am-MLP</th>\n",
       "      <th>coef(b)_Acu-6am-MLP</th>\n",
       "      <th>coef(a)_6am-Beysens</th>\n",
       "      <th>...</th>\n",
       "      <th>Standard Error_Acu-Beysens-PM</th>\n",
       "      <th>coef(b)_Acu-Beysens-PM</th>\n",
       "      <th>coef(a)_MLP-PM</th>\n",
       "      <th>rsquared_MLP-PM</th>\n",
       "      <th>Standard Error_MLP-PM</th>\n",
       "      <th>coef(b)_MLP-PM</th>\n",
       "      <th>coef(a)_Acu-MLP-PM</th>\n",
       "      <th>rsquared_Acu-MLP-PM</th>\n",
       "      <th>Standard Error_Acu-MLP-PM</th>\n",
       "      <th>coef(b)_Acu-MLP-PM</th>\n",
       "    </tr>\n",
       "  </thead>\n",
       "  <tbody>\n",
       "    <tr>\n",
       "      <th>0</th>\n",
       "      <td>1.0</td>\n",
       "      <td>0.494814</td>\n",
       "      <td>0.465085</td>\n",
       "      <td>0.048044</td>\n",
       "      <td>0.009608</td>\n",
       "      <td>0.809986</td>\n",
       "      <td>0.993187</td>\n",
       "      <td>0.006074</td>\n",
       "      <td>0.072537</td>\n",
       "      <td>0.572044</td>\n",
       "      <td>...</td>\n",
       "      <td>0.004053</td>\n",
       "      <td>0.043492</td>\n",
       "      <td>0.333426</td>\n",
       "      <td>0.169881</td>\n",
       "      <td>0.066729</td>\n",
       "      <td>0.017078</td>\n",
       "      <td>1.010210</td>\n",
       "      <td>0.960441</td>\n",
       "      <td>0.018562</td>\n",
       "      <td>0.129845</td>\n",
       "    </tr>\n",
       "    <tr>\n",
       "      <th>0</th>\n",
       "      <td>2.0</td>\n",
       "      <td>0.640388</td>\n",
       "      <td>0.507225</td>\n",
       "      <td>0.057146</td>\n",
       "      <td>0.013441</td>\n",
       "      <td>1.122654</td>\n",
       "      <td>0.982792</td>\n",
       "      <td>0.013449</td>\n",
       "      <td>0.065545</td>\n",
       "      <td>0.598170</td>\n",
       "      <td>...</td>\n",
       "      <td>0.006167</td>\n",
       "      <td>0.092909</td>\n",
       "      <td>0.246645</td>\n",
       "      <td>0.097986</td>\n",
       "      <td>0.067751</td>\n",
       "      <td>0.025034</td>\n",
       "      <td>1.124093</td>\n",
       "      <td>0.942556</td>\n",
       "      <td>0.025124</td>\n",
       "      <td>0.529687</td>\n",
       "    </tr>\n",
       "    <tr>\n",
       "      <th>0</th>\n",
       "      <td>3.0</td>\n",
       "      <td>0.740445</td>\n",
       "      <td>0.256419</td>\n",
       "      <td>0.114157</td>\n",
       "      <td>0.020605</td>\n",
       "      <td>1.402153</td>\n",
       "      <td>0.982860</td>\n",
       "      <td>0.016764</td>\n",
       "      <td>0.134435</td>\n",
       "      <td>0.512305</td>\n",
       "      <td>...</td>\n",
       "      <td>0.004138</td>\n",
       "      <td>-0.034962</td>\n",
       "      <td>0.237612</td>\n",
       "      <td>0.056508</td>\n",
       "      <td>0.087903</td>\n",
       "      <td>0.020517</td>\n",
       "      <td>0.914913</td>\n",
       "      <td>0.942199</td>\n",
       "      <td>0.020516</td>\n",
       "      <td>0.232504</td>\n",
       "    </tr>\n",
       "    <tr>\n",
       "      <th>0</th>\n",
       "      <td>4.0</td>\n",
       "      <td>0.595256</td>\n",
       "      <td>0.321931</td>\n",
       "      <td>0.078213</td>\n",
       "      <td>0.022654</td>\n",
       "      <td>1.304080</td>\n",
       "      <td>0.987840</td>\n",
       "      <td>0.013099</td>\n",
       "      <td>0.097825</td>\n",
       "      <td>0.634104</td>\n",
       "      <td>...</td>\n",
       "      <td>0.005676</td>\n",
       "      <td>-0.086070</td>\n",
       "      <td>0.276666</td>\n",
       "      <td>0.110851</td>\n",
       "      <td>0.070941</td>\n",
       "      <td>0.025918</td>\n",
       "      <td>1.148503</td>\n",
       "      <td>0.965927</td>\n",
       "      <td>0.019529</td>\n",
       "      <td>-0.126326</td>\n",
       "    </tr>\n",
       "    <tr>\n",
       "      <th>0</th>\n",
       "      <td>5.0</td>\n",
       "      <td>0.465000</td>\n",
       "      <td>0.486500</td>\n",
       "      <td>0.043252</td>\n",
       "      <td>0.013266</td>\n",
       "      <td>0.983103</td>\n",
       "      <td>0.978338</td>\n",
       "      <td>0.013244</td>\n",
       "      <td>0.006059</td>\n",
       "      <td>0.837657</td>\n",
       "      <td>...</td>\n",
       "      <td>0.001666</td>\n",
       "      <td>-0.035875</td>\n",
       "      <td>0.117228</td>\n",
       "      <td>0.048034</td>\n",
       "      <td>0.047249</td>\n",
       "      <td>0.029863</td>\n",
       "      <td>1.115270</td>\n",
       "      <td>0.979444</td>\n",
       "      <td>0.014628</td>\n",
       "      <td>0.170588</td>\n",
       "    </tr>\n",
       "    <tr>\n",
       "      <th>0</th>\n",
       "      <td>6.0</td>\n",
       "      <td>0.707394</td>\n",
       "      <td>0.523524</td>\n",
       "      <td>0.061099</td>\n",
       "      <td>0.009003</td>\n",
       "      <td>1.024304</td>\n",
       "      <td>0.988610</td>\n",
       "      <td>0.009954</td>\n",
       "      <td>-0.118026</td>\n",
       "      <td>0.563270</td>\n",
       "      <td>...</td>\n",
       "      <td>0.003197</td>\n",
       "      <td>0.051789</td>\n",
       "      <td>0.389040</td>\n",
       "      <td>0.323535</td>\n",
       "      <td>0.050930</td>\n",
       "      <td>0.024183</td>\n",
       "      <td>1.279534</td>\n",
       "      <td>0.970631</td>\n",
       "      <td>0.020151</td>\n",
       "      <td>-0.504816</td>\n",
       "    </tr>\n",
       "    <tr>\n",
       "      <th>0</th>\n",
       "      <td>7.0</td>\n",
       "      <td>0.378405</td>\n",
       "      <td>0.408985</td>\n",
       "      <td>0.041183</td>\n",
       "      <td>0.015630</td>\n",
       "      <td>0.955396</td>\n",
       "      <td>0.973663</td>\n",
       "      <td>0.014226</td>\n",
       "      <td>-0.387569</td>\n",
       "      <td>0.501060</td>\n",
       "      <td>...</td>\n",
       "      <td>0.006328</td>\n",
       "      <td>-0.126748</td>\n",
       "      <td>0.439207</td>\n",
       "      <td>0.199519</td>\n",
       "      <td>0.079648</td>\n",
       "      <td>0.017639</td>\n",
       "      <td>1.038311</td>\n",
       "      <td>0.975894</td>\n",
       "      <td>0.014774</td>\n",
       "      <td>-0.205991</td>\n",
       "    </tr>\n",
       "    <tr>\n",
       "      <th>0</th>\n",
       "      <td>8.0</td>\n",
       "      <td>0.626541</td>\n",
       "      <td>0.408819</td>\n",
       "      <td>0.068213</td>\n",
       "      <td>0.016495</td>\n",
       "      <td>1.118875</td>\n",
       "      <td>0.981669</td>\n",
       "      <td>0.013843</td>\n",
       "      <td>0.396024</td>\n",
       "      <td>0.694965</td>\n",
       "      <td>...</td>\n",
       "      <td>0.003200</td>\n",
       "      <td>0.022418</td>\n",
       "      <td>0.221508</td>\n",
       "      <td>0.101057</td>\n",
       "      <td>0.059813</td>\n",
       "      <td>0.018682</td>\n",
       "      <td>0.878944</td>\n",
       "      <td>0.965791</td>\n",
       "      <td>0.014976</td>\n",
       "      <td>-0.020660</td>\n",
       "    </tr>\n",
       "    <tr>\n",
       "      <th>0</th>\n",
       "      <td>9.0</td>\n",
       "      <td>0.506279</td>\n",
       "      <td>0.268301</td>\n",
       "      <td>0.075695</td>\n",
       "      <td>0.013787</td>\n",
       "      <td>1.066435</td>\n",
       "      <td>0.990452</td>\n",
       "      <td>0.009480</td>\n",
       "      <td>-0.145791</td>\n",
       "      <td>0.777972</td>\n",
       "      <td>...</td>\n",
       "      <td>0.003329</td>\n",
       "      <td>0.058720</td>\n",
       "      <td>0.404070</td>\n",
       "      <td>0.138330</td>\n",
       "      <td>0.091304</td>\n",
       "      <td>0.032356</td>\n",
       "      <td>1.545623</td>\n",
       "      <td>0.984581</td>\n",
       "      <td>0.017512</td>\n",
       "      <td>-0.111139</td>\n",
       "    </tr>\n",
       "    <tr>\n",
       "      <th>0</th>\n",
       "      <td>10.0</td>\n",
       "      <td>0.331990</td>\n",
       "      <td>0.457126</td>\n",
       "      <td>0.032755</td>\n",
       "      <td>0.010660</td>\n",
       "      <td>0.608575</td>\n",
       "      <td>0.957978</td>\n",
       "      <td>0.011540</td>\n",
       "      <td>-0.189489</td>\n",
       "      <td>0.545180</td>\n",
       "      <td>...</td>\n",
       "      <td>0.003626</td>\n",
       "      <td>0.008745</td>\n",
       "      <td>0.460805</td>\n",
       "      <td>0.489610</td>\n",
       "      <td>0.042596</td>\n",
       "      <td>0.013504</td>\n",
       "      <td>0.962486</td>\n",
       "      <td>0.963941</td>\n",
       "      <td>0.016854</td>\n",
       "      <td>-0.267181</td>\n",
       "    </tr>\n",
       "  </tbody>\n",
       "</table>\n",
       "<p>10 rows × 33 columns</p>\n",
       "</div>"
      ],
      "text/plain": [
       "   Pruebas  coef(a)_6am-MLP  rsquared_6am-MLP  Standard Error_6am-MLP  \\\n",
       "0      1.0         0.494814          0.465085                0.048044   \n",
       "0      2.0         0.640388          0.507225                0.057146   \n",
       "0      3.0         0.740445          0.256419                0.114157   \n",
       "0      4.0         0.595256          0.321931                0.078213   \n",
       "0      5.0         0.465000          0.486500                0.043252   \n",
       "0      6.0         0.707394          0.523524                0.061099   \n",
       "0      7.0         0.378405          0.408985                0.041183   \n",
       "0      8.0         0.626541          0.408819                0.068213   \n",
       "0      9.0         0.506279          0.268301                0.075695   \n",
       "0     10.0         0.331990          0.457126                0.032755   \n",
       "\n",
       "   coef(b)_6am-MLP  coef(a)_Acu-6am-MLP  rsquared_Acu-6am-MLP  \\\n",
       "0         0.009608             0.809986              0.993187   \n",
       "0         0.013441             1.122654              0.982792   \n",
       "0         0.020605             1.402153              0.982860   \n",
       "0         0.022654             1.304080              0.987840   \n",
       "0         0.013266             0.983103              0.978338   \n",
       "0         0.009003             1.024304              0.988610   \n",
       "0         0.015630             0.955396              0.973663   \n",
       "0         0.016495             1.118875              0.981669   \n",
       "0         0.013787             1.066435              0.990452   \n",
       "0         0.010660             0.608575              0.957978   \n",
       "\n",
       "   Standard Error_Acu-6am-MLP  coef(b)_Acu-6am-MLP  coef(a)_6am-Beysens  ...  \\\n",
       "0                    0.006074             0.072537             0.572044  ...   \n",
       "0                    0.013449             0.065545             0.598170  ...   \n",
       "0                    0.016764             0.134435             0.512305  ...   \n",
       "0                    0.013099             0.097825             0.634104  ...   \n",
       "0                    0.013244             0.006059             0.837657  ...   \n",
       "0                    0.009954            -0.118026             0.563270  ...   \n",
       "0                    0.014226            -0.387569             0.501060  ...   \n",
       "0                    0.013843             0.396024             0.694965  ...   \n",
       "0                    0.009480            -0.145791             0.777972  ...   \n",
       "0                    0.011540            -0.189489             0.545180  ...   \n",
       "\n",
       "   Standard Error_Acu-Beysens-PM  coef(b)_Acu-Beysens-PM  coef(a)_MLP-PM  \\\n",
       "0                       0.004053                0.043492        0.333426   \n",
       "0                       0.006167                0.092909        0.246645   \n",
       "0                       0.004138               -0.034962        0.237612   \n",
       "0                       0.005676               -0.086070        0.276666   \n",
       "0                       0.001666               -0.035875        0.117228   \n",
       "0                       0.003197                0.051789        0.389040   \n",
       "0                       0.006328               -0.126748        0.439207   \n",
       "0                       0.003200                0.022418        0.221508   \n",
       "0                       0.003329                0.058720        0.404070   \n",
       "0                       0.003626                0.008745        0.460805   \n",
       "\n",
       "   rsquared_MLP-PM  Standard Error_MLP-PM  coef(b)_MLP-PM  coef(a)_Acu-MLP-PM  \\\n",
       "0         0.169881               0.066729        0.017078            1.010210   \n",
       "0         0.097986               0.067751        0.025034            1.124093   \n",
       "0         0.056508               0.087903        0.020517            0.914913   \n",
       "0         0.110851               0.070941        0.025918            1.148503   \n",
       "0         0.048034               0.047249        0.029863            1.115270   \n",
       "0         0.323535               0.050930        0.024183            1.279534   \n",
       "0         0.199519               0.079648        0.017639            1.038311   \n",
       "0         0.101057               0.059813        0.018682            0.878944   \n",
       "0         0.138330               0.091304        0.032356            1.545623   \n",
       "0         0.489610               0.042596        0.013504            0.962486   \n",
       "\n",
       "   rsquared_Acu-MLP-PM  Standard Error_Acu-MLP-PM  coef(b)_Acu-MLP-PM  \n",
       "0             0.960441                   0.018562            0.129845  \n",
       "0             0.942556                   0.025124            0.529687  \n",
       "0             0.942199                   0.020516            0.232504  \n",
       "0             0.965927                   0.019529           -0.126326  \n",
       "0             0.979444                   0.014628            0.170588  \n",
       "0             0.970631                   0.020151           -0.504816  \n",
       "0             0.975894                   0.014774           -0.205991  \n",
       "0             0.965791                   0.014976           -0.020660  \n",
       "0             0.984581                   0.017512           -0.111139  \n",
       "0             0.963941                   0.016854           -0.267181  \n",
       "\n",
       "[10 rows x 33 columns]"
      ]
     },
     "execution_count": 211,
     "metadata": {},
     "output_type": "execute_result"
    }
   ],
   "source": [
    "resultadoDatos"
   ]
  },
  {
   "cell_type": "code",
   "execution_count": 212,
   "metadata": {
    "id": "gUODj0yHv57j"
   },
   "outputs": [],
   "source": [
    "#mean_df = df['R-cuadrado-Modelo-Beysens(6am)'].mean()\n",
    "#print(mean_df)"
   ]
  },
  {
   "cell_type": "markdown",
   "metadata": {
    "id": "QSOrRflPjjhE"
   },
   "source": [
    "# Resultados de Pruebas a modelo test"
   ]
  },
  {
   "cell_type": "code",
   "execution_count": 213,
   "metadata": {
    "id": "Os2W_UzOv95q"
   },
   "outputs": [],
   "source": [
    "import matplotlib.pyplot as plt"
   ]
  },
  {
   "cell_type": "code",
   "execution_count": 214,
   "metadata": {
    "id": "cHh1oqcXrLcg"
   },
   "outputs": [],
   "source": [
    "#Graficos"
   ]
  },
  {
   "cell_type": "markdown",
   "metadata": {
    "id": "hejJV5c3rNz8"
   },
   "source": [
    "## grafico 1, modelo R cuadrado"
   ]
  },
  {
   "cell_type": "code",
   "execution_count": 215,
   "metadata": {
    "colab": {
     "base_uri": "https://localhost:8080/",
     "height": 387
    },
    "id": "W2hyjEiprbbB",
    "outputId": "b9e713f9-891b-4606-8e72-03b481471520"
   },
   "outputs": [
    {
     "name": "stderr",
     "output_type": "stream",
     "text": [
      "/usr/local/lib/python3.6/dist-packages/matplotlib/cbook/__init__.py:1377: FutureWarning: Support for multi-dimensional indexing (e.g. `obj[:, None]`) is deprecated and will be removed in a future version.  Convert to a numpy array before indexing instead.\n",
      "  x[:, None]\n",
      "/usr/local/lib/python3.6/dist-packages/matplotlib/axes/_base.py:237: FutureWarning: Support for multi-dimensional indexing (e.g. `obj[:, None]`) is deprecated and will be removed in a future version.  Convert to a numpy array before indexing instead.\n",
      "  x = x[:, np.newaxis]\n",
      "/usr/local/lib/python3.6/dist-packages/matplotlib/axes/_base.py:239: FutureWarning: Support for multi-dimensional indexing (e.g. `obj[:, None]`) is deprecated and will be removed in a future version.  Convert to a numpy array before indexing instead.\n",
      "  y = y[:, np.newaxis]\n"
     ]
    },
    {
     "data": {
      "image/png": "[encoded data removed]",
      "text/plain": [
       "<Figure size 576x432 with 1 Axes>"
      ]
     },
     "metadata": {
      "needs_background": "light"
     },
     "output_type": "display_data"
    }
   ],
   "source": [
    "fig, ax = plt.subplots(figsize=(8,6))   \n",
    "\n",
    "\n",
    "pruebas= resultadoDatos['Pruebas']\n",
    "resultados={'Modelo Beysens(6am)':resultadoDatos['rsquared_6am-Beysens'],'Modelo RNA(6am)':resultadoDatos['rsquared_6am-MLP']}\n",
    "ax.plot(pruebas,resultados['Modelo Beysens(6am)'], marker ='^',label=\"$R^2$ del modelo Beysens(6AM)\")\n",
    "ax.plot(pruebas,resultados['Modelo RNA(6am)'], marker = 'o',label=\"$R^2$ del modelo RNA(6AM)\")\n",
    "plt.ylabel('Resultado R cuadrado')\n",
    "plt.xlabel('Cantidad de Pruebas')\n",
    "legend = ax.legend(loc=\"best\")  \n",
    "plt.show()"
   ]
  },
  {
   "cell_type": "code",
   "execution_count": 216,
   "metadata": {
    "colab": {
     "base_uri": "https://localhost:8080/"
    },
    "id": "jyHmWGhS2ksJ",
    "outputId": "480a603f-61a9-46a1-aad3-43a5f40b0634"
   },
   "outputs": [
    {
     "name": "stdout",
     "output_type": "stream",
     "text": [
      "0.3437400842311046\n"
     ]
    }
   ],
   "source": [
    "mean_df1 = resultadoDatos['rsquared_6am-Beysens'].mean()\n",
    "print(mean_df1)"
   ]
  },
  {
   "cell_type": "code",
   "execution_count": 217,
   "metadata": {
    "colab": {
     "base_uri": "https://localhost:8080/"
    },
    "id": "7zw1WUOg22U6",
    "outputId": "eebb25a4-d361-4cc1-e2bb-cad3f78e700b"
   },
   "outputs": [
    {
     "name": "stdout",
     "output_type": "stream",
     "text": [
      "0.41039132854945415\n"
     ]
    }
   ],
   "source": [
    "mean_df = resultadoDatos['rsquared_6am-MLP'].mean()\n",
    "print(mean_df)"
   ]
  },
  {
   "cell_type": "code",
   "execution_count": 218,
   "metadata": {
    "colab": {
     "base_uri": "https://localhost:8080/"
    },
    "id": "PyJkdpa0oaia",
    "outputId": "89e1bd3c-1c41-40ac-e2cf-360183fc82a5"
   },
   "outputs": [
    {
     "name": "stdout",
     "output_type": "stream",
     "text": [
      "0.12126996475875008\n",
      "0.0971086550020641\n"
     ]
    }
   ],
   "source": [
    "# Import statistics Library\n",
    "import statistics\n",
    "\n",
    "# Calculate the standard deviation from a sample of data\n",
    "print(statistics.stdev(resultadoDatos['rsquared_6am-Beysens']))\n",
    "# Import statistics Library\n",
    "import statistics\n",
    "\n",
    "# Calculate the standard deviation from a sample of data\n",
    "print(statistics.stdev(resultadoDatos['rsquared_6am-MLP']))"
   ]
  },
  {
   "cell_type": "markdown",
   "metadata": {
    "id": "Hxc0IXpMTyYm"
   },
   "source": [
    "## m"
   ]
  },
  {
   "cell_type": "code",
   "execution_count": 219,
   "metadata": {
    "colab": {
     "base_uri": "https://localhost:8080/",
     "height": 52
    },
    "id": "plw1XO2sTzyq",
    "outputId": "daaa85d7-e78b-4bec-ea35-b3d5e4a32eb2"
   },
   "outputs": [
    {
     "data": {
      "image/png": "[encoded data removed]",
      "text/plain": [
       "<Figure size 576x432 with 1 Axes>"
      ]
     },
     "metadata": {
      "needs_background": "light"
     },
     "output_type": "display_data"
    }
   ],
   "source": [
    "fig, ax = plt.subplots(figsize=(8,6))   \n",
    "\n",
    "\n",
    "pruebas= resultadoDatos['Pruebas']\n",
    "resultados={'Modelo Beysens(6am)':resultadoDatos['coef(a)_6am-Beysens'],'Modelo RNA(6am)':resultadoDatos['coef(a)_6am-MLP']}\n",
    "ax.plot(pruebas,resultados['Modelo Beysens(6am)'], marker ='^',label=\"m del modelo Beysens(6AM)\")\n",
    "ax.plot(pruebas,resultados['Modelo RNA(6am)'], marker = 'o',label=\"m del modelo RNA(6AM)\")\n",
    "plt.ylabel('Resultado pendiente')\n",
    "plt.xlabel('Cantidad de Pruebas')\n",
    "legend = ax.legend(loc=\"best\")  \n",
    "plt.show()"
   ]
  },
  {
   "cell_type": "code",
   "execution_count": 220,
   "metadata": {
    "colab": {
     "base_uri": "https://localhost:8080/"
    },
    "id": "cMW_h9esY3yW",
    "outputId": "d3ee5541-8dff-476b-ec86-fb074ea854a9"
   },
   "outputs": [
    {
     "name": "stdout",
     "output_type": "stream",
     "text": [
      "0.6236729221419843\n"
     ]
    }
   ],
   "source": [
    "mean_df111 = resultadoDatos['coef(a)_6am-Beysens'].mean()\n",
    "print(mean_df111)"
   ]
  },
  {
   "cell_type": "code",
   "execution_count": 221,
   "metadata": {
    "colab": {
     "base_uri": "https://localhost:8080/"
    },
    "id": "XDNu7OcTY37q",
    "outputId": "58799a3d-40f4-4941-dc2c-95500e2d7486"
   },
   "outputs": [
    {
     "name": "stdout",
     "output_type": "stream",
     "text": [
      "0.548651173094665\n"
     ]
    }
   ],
   "source": [
    "mean_df = resultadoDatos['coef(a)_6am-MLP'].mean()\n",
    "print(mean_df)"
   ]
  },
  {
   "cell_type": "code",
   "execution_count": 222,
   "metadata": {
    "colab": {
     "base_uri": "https://localhost:8080/"
    },
    "id": "fbcniKqsZ4P2",
    "outputId": "e78d7e96-970a-4e27-fca5-351f2096366b"
   },
   "outputs": [
    {
     "name": "stdout",
     "output_type": "stream",
     "text": [
      "0.11321133933951617\n",
      "0.13591497968474409\n"
     ]
    }
   ],
   "source": [
    "# Import statistics Library\n",
    "import statistics\n",
    "\n",
    "# Calculate the standard deviation from a sample of data\n",
    "print(statistics.stdev(resultadoDatos['coef(a)_6am-Beysens']))\n",
    "# Import statistics Library\n",
    "import statistics\n",
    "\n",
    "# Calculate the standard deviation from a sample of data\n",
    "print(statistics.stdev(resultadoDatos['coef(a)_6am-MLP']))"
   ]
  },
  {
   "cell_type": "markdown",
   "metadata": {
    "id": "nW3EBhkGT2nq"
   },
   "source": [
    "## coef"
   ]
  },
  {
   "cell_type": "code",
   "execution_count": 223,
   "metadata": {
    "colab": {
     "base_uri": "https://localhost:8080/",
     "height": 52
    },
    "id": "7Vf36CdFT4_-",
    "outputId": "2e6e584d-f2c2-4fac-eb07-a3e1325bb197"
   },
   "outputs": [
    {
     "data": {
      "image/png": "[encoded data removed]",
      "text/plain": [
       "<Figure size 576x432 with 1 Axes>"
      ]
     },
     "metadata": {
      "needs_background": "light"
     },
     "output_type": "display_data"
    }
   ],
   "source": [
    "fig, ax = plt.subplots(figsize=(8,6))   \n",
    "\n",
    "\n",
    "pruebas= resultadoDatos['Pruebas']\n",
    "resultados={'Modelo Beysens(6am)':resultadoDatos['coef(b)_6am-Beysens'],'Modelo RNA(6am)':resultadoDatos['coef(b)_6am-MLP']}\n",
    "ax.plot(pruebas,resultados['Modelo Beysens(6am)'], marker ='^',label=\"b del modelo Beysens(6AM)\")\n",
    "ax.plot(pruebas,resultados['Modelo RNA(6am)'], marker = 'o',label=\"b del modelo RNA(6AM)\")\n",
    "plt.ylabel('Resultado coef')\n",
    "plt.xlabel('Cantidad de Pruebas')\n",
    "legend = ax.legend(loc=\"best\")  \n",
    "plt.show()"
   ]
  },
  {
   "cell_type": "code",
   "execution_count": 224,
   "metadata": {
    "colab": {
     "base_uri": "https://localhost:8080/"
    },
    "id": "LVGZ2sqyZ4-w",
    "outputId": "f01be507-6877-415c-e7be-bdfe51b7c2ca"
   },
   "outputs": [
    {
     "name": "stdout",
     "output_type": "stream",
     "text": [
      "0.014221081649569705\n"
     ]
    }
   ],
   "source": [
    "mean_df1145 = resultadoDatos['coef(b)_6am-Beysens'].mean()\n",
    "print(mean_df1145)"
   ]
  },
  {
   "cell_type": "code",
   "execution_count": 225,
   "metadata": {
    "colab": {
     "base_uri": "https://localhost:8080/"
    },
    "id": "92V9Xzb9Z6h6",
    "outputId": "6177dd48-713d-4d94-812d-5da987a39292"
   },
   "outputs": [
    {
     "name": "stdout",
     "output_type": "stream",
     "text": [
      "0.01451495651171158\n"
     ]
    }
   ],
   "source": [
    "mean_df1245 = resultadoDatos['coef(b)_6am-MLP'].mean()\n",
    "print(mean_df1245)"
   ]
  },
  {
   "cell_type": "code",
   "execution_count": 226,
   "metadata": {
    "colab": {
     "base_uri": "https://localhost:8080/"
    },
    "id": "ows-nmAFp6UU",
    "outputId": "e918504a-3d09-4d98-b082-a0c133df578e"
   },
   "outputs": [
    {
     "name": "stdout",
     "output_type": "stream",
     "text": [
      "0.003448993742188739\n",
      "0.004485454644057465\n"
     ]
    }
   ],
   "source": [
    "# Import statistics Library\n",
    "import statistics\n",
    "\n",
    "# Calculate the standard deviation from a sample of data\n",
    "print(statistics.stdev(resultadoDatos['coef(b)_6am-Beysens']))\n",
    "# Import statistics Library\n",
    "import statistics\n",
    "\n",
    "# Calculate the standard deviation from a sample of data\n",
    "print(statistics.stdev(resultadoDatos['coef(b)_6am-MLP']))"
   ]
  },
  {
   "cell_type": "markdown",
   "metadata": {
    "id": "-B7QfKsnT5eL"
   },
   "source": [
    "## error"
   ]
  },
  {
   "cell_type": "code",
   "execution_count": 227,
   "metadata": {
    "colab": {
     "base_uri": "https://localhost:8080/",
     "height": 52
    },
    "id": "SlkEhZrKT8N8",
    "outputId": "c3164468-b3c0-452f-8a68-c0b3000c422b"
   },
   "outputs": [
    {
     "data": {
      "image/png": "[encoded data removed]",
      "text/plain": [
       "<Figure size 576x432 with 1 Axes>"
      ]
     },
     "metadata": {
      "needs_background": "light"
     },
     "output_type": "display_data"
    }
   ],
   "source": [
    "fig, ax = plt.subplots(figsize=(8,6))   \n",
    "\n",
    "\n",
    "pruebas= resultadoDatos['Pruebas']\n",
    "resultados={'Modelo Beysens(6am)':resultadoDatos['Standard Error_6am-Beysens'],'Modelo RNA(6am)':resultadoDatos['Standard Error_6am-MLP']}\n",
    "ax.plot(pruebas,resultados['Modelo Beysens(6am)'], marker ='^',label=\"SE del modelo Beysens(6AM)\")\n",
    "ax.plot(pruebas,resultados['Modelo RNA(6am)'], marker = 'o',label=\"SE del modelo RNA(6AM)\")\n",
    "plt.ylabel('Resultados de Standard Error')\n",
    "plt.xlabel('Cantidad de Pruebas')\n",
    "legend = ax.legend(loc=\"best\")  \n",
    "plt.show()"
   ]
  },
  {
   "cell_type": "code",
   "execution_count": 228,
   "metadata": {
    "colab": {
     "base_uri": "https://localhost:8080/"
    },
    "id": "2HAuXg7radvT",
    "outputId": "1efb7c0d-d35e-4f41-d454-d47db743a420"
   },
   "outputs": [
    {
     "name": "stdout",
     "output_type": "stream",
     "text": [
      "0.07901041804336469\n"
     ]
    }
   ],
   "source": [
    "mean_df114 = resultadoDatos['Standard Error_6am-Beysens'].mean()\n",
    "print(mean_df114)"
   ]
  },
  {
   "cell_type": "code",
   "execution_count": 229,
   "metadata": {
    "colab": {
     "base_uri": "https://localhost:8080/"
    },
    "id": "9oW1_FXLae8s",
    "outputId": "56e9cfe2-a948-435c-e9c4-ae8ac73529e8"
   },
   "outputs": [
    {
     "name": "stdout",
     "output_type": "stream",
     "text": [
      "0.06197564032386664\n"
     ]
    }
   ],
   "source": [
    "mean_df124 = resultadoDatos['Standard Error_6am-MLP'].mean()\n",
    "print(mean_df124)"
   ]
  },
  {
   "cell_type": "code",
   "execution_count": 230,
   "metadata": {
    "colab": {
     "base_uri": "https://localhost:8080/"
    },
    "id": "f0ZLUwqoqL6V",
    "outputId": "ceb8633e-4edd-4e99-891c-c7b9f8d33864"
   },
   "outputs": [
    {
     "name": "stdout",
     "output_type": "stream",
     "text": [
      "0.013802519099094761\n",
      "0.023731379846941077\n"
     ]
    }
   ],
   "source": [
    "# Import statistics Library\n",
    "import statistics\n",
    "\n",
    "# Calculate the standard deviation from a sample of data\n",
    "print(statistics.stdev(resultadoDatos['Standard Error_6am-Beysens']))\n",
    "# Import statistics Library\n",
    "import statistics\n",
    "\n",
    "# Calculate the standard deviation from a sample of data\n",
    "print(statistics.stdev(resultadoDatos['Standard Error_6am-MLP']))"
   ]
  },
  {
   "cell_type": "markdown",
   "metadata": {
    "id": "mF8wcxkrrOEE"
   },
   "source": [
    "## grafico 2"
   ]
  },
  {
   "cell_type": "code",
   "execution_count": 231,
   "metadata": {
    "colab": {
     "base_uri": "https://localhost:8080/",
     "height": 52
    },
    "id": "mSbw6rWDrcU-",
    "outputId": "92ac16e7-6f94-4612-ebe9-61d6780a6e7f"
   },
   "outputs": [
    {
     "data": {
      "image/png": "[encoded data removed]",
      "text/plain": [
       "<Figure size 576x432 with 1 Axes>"
      ]
     },
     "metadata": {
      "needs_background": "light"
     },
     "output_type": "display_data"
    }
   ],
   "source": [
    "fig, ax = plt.subplots(figsize=(8,6)) \n",
    "\n",
    "pruebas= resultadoDatos['Pruebas']\n",
    "resultados={'Modelo Beysens(6am)':resultadoDatos['rsquared_Acu-6am-Beysens'],'Modelo RNA(6am)':resultadoDatos['rsquared_Acu-6am-MLP']}\n",
    "ax.plot(pruebas,resultados['Modelo Beysens(6am)'], marker ='^',label=\"$R^2$ del modelo acumulado Beysens(6AM)\")\n",
    "ax.plot(pruebas,resultados['Modelo RNA(6am)'], marker = 'o',label=\"$R^2$ del modelo acumulado RNA(6AM)\")\n",
    "plt.ylabel('Resultados R cuadrado acumulado')\n",
    "plt.xlabel('Cantidad de Pruebas')\n",
    "legend = ax.legend(loc=\"best\")  \n",
    "plt.show()"
   ]
  },
  {
   "cell_type": "code",
   "execution_count": 232,
   "metadata": {
    "colab": {
     "base_uri": "https://localhost:8080/"
    },
    "id": "LfG8O_KjAtnG",
    "outputId": "d879a4d3-a112-465f-b279-31a8f60fa6c4"
   },
   "outputs": [
    {
     "name": "stdout",
     "output_type": "stream",
     "text": [
      "0.9729123271255867\n"
     ]
    }
   ],
   "source": [
    "mean_df11 = resultadoDatos['rsquared_Acu-6am-Beysens'].mean()\n",
    "print(mean_df11)"
   ]
  },
  {
   "cell_type": "code",
   "execution_count": 233,
   "metadata": {
    "colab": {
     "base_uri": "https://localhost:8080/"
    },
    "id": "ggPZSGAjAw0_",
    "outputId": "8375a327-0f20-417a-90ed-201362c54a88"
   },
   "outputs": [
    {
     "name": "stdout",
     "output_type": "stream",
     "text": [
      "0.9817389351239747\n"
     ]
    }
   ],
   "source": [
    "mean_df11 = resultadoDatos['rsquared_Acu-6am-MLP'].mean()\n",
    "print(mean_df11)"
   ]
  },
  {
   "cell_type": "code",
   "execution_count": 234,
   "metadata": {
    "colab": {
     "base_uri": "https://localhost:8080/"
    },
    "id": "ycf1lyWfT_yH",
    "outputId": "80b25b88-3645-4082-8cb1-1d744e068549"
   },
   "outputs": [
    {
     "name": "stdout",
     "output_type": "stream",
     "text": [
      "0.014697302880187377\n",
      "0.010193345616902626\n"
     ]
    }
   ],
   "source": [
    "# Import statistics Library\n",
    "import statistics\n",
    "\n",
    "# Calculate the standard deviation from a sample of data\n",
    "print(statistics.stdev(resultadoDatos['rsquared_Acu-6am-Beysens']))\n",
    "# Import statistics Library\n",
    "import statistics\n",
    "\n",
    "# Calculate the standard deviation from a sample of data\n",
    "print(statistics.stdev(resultadoDatos['rsquared_Acu-6am-MLP']))"
   ]
  },
  {
   "cell_type": "markdown",
   "metadata": {
    "id": "2fPwNQr-UBj6"
   },
   "source": [
    "## m"
   ]
  },
  {
   "cell_type": "code",
   "execution_count": 235,
   "metadata": {
    "colab": {
     "base_uri": "https://localhost:8080/",
     "height": 52
    },
    "id": "YLs2Ib8eUB1W",
    "outputId": "abc52a76-7644-4a23-ceb7-0b2fa12bd578"
   },
   "outputs": [
    {
     "data": {
      "image/png": "[encoded data removed]",
      "text/plain": [
       "<Figure size 576x432 with 1 Axes>"
      ]
     },
     "metadata": {
      "needs_background": "light"
     },
     "output_type": "display_data"
    }
   ],
   "source": [
    "fig, ax = plt.subplots(figsize=(8,6))   \n",
    "\n",
    "\n",
    "pruebas= resultadoDatos['Pruebas']\n",
    "resultados={'Modelo Beysens(6am)':resultadoDatos['coef(a)_Acu-6am-Beysens'],'Modelo RNA(6am)':resultadoDatos['coef(a)_Acu-6am-MLP']}\n",
    "ax.plot(pruebas,resultados['Modelo Beysens(6am)'], marker ='^',label=\"m del modelo acumulado Beysens(6AM)\")\n",
    "ax.plot(pruebas,resultados['Modelo RNA(6am)'], marker = 'o',label=\"m del modelo acumulado RNA(6AM)\")\n",
    "plt.ylabel('Resultados m')\n",
    "plt.xlabel('Cantidad de Pruebas')\n",
    "legend = ax.legend(loc=\"best\")  \n",
    "plt.show()"
   ]
  },
  {
   "cell_type": "code",
   "execution_count": 236,
   "metadata": {
    "colab": {
     "base_uri": "https://localhost:8080/"
    },
    "id": "eris71_aiHj2",
    "outputId": "989a9a77-a614-41e6-f32b-ac3bc9e89e74"
   },
   "outputs": [
    {
     "name": "stdout",
     "output_type": "stream",
     "text": [
      "1.1014277994902983\n"
     ]
    }
   ],
   "source": [
    "mean_df11112 = resultadoDatos['coef(a)_Acu-6am-Beysens'].mean()\n",
    "print(mean_df11112)"
   ]
  },
  {
   "cell_type": "code",
   "execution_count": 237,
   "metadata": {
    "colab": {
     "base_uri": "https://localhost:8080/"
    },
    "id": "ncglmMP3iN9J",
    "outputId": "fd942072-d1e8-4445-a198-6211b77c0d76"
   },
   "outputs": [
    {
     "name": "stdout",
     "output_type": "stream",
     "text": [
      "1.0395560463768079\n"
     ]
    }
   ],
   "source": [
    "mean_df11111 = resultadoDatos['coef(a)_Acu-6am-MLP'].mean()\n",
    "print(mean_df11111)"
   ]
  },
  {
   "cell_type": "code",
   "execution_count": 238,
   "metadata": {
    "colab": {
     "base_uri": "https://localhost:8080/"
    },
    "id": "9t5Rkiw9qpsH",
    "outputId": "892a1c41-7ac0-4306-d980-756fe2b87a56"
   },
   "outputs": [
    {
     "name": "stdout",
     "output_type": "stream",
     "text": [
      "0.1684284299799655\n",
      "0.22713635570890675\n"
     ]
    }
   ],
   "source": [
    "# Import statistics Library\n",
    "import statistics\n",
    "\n",
    "# Calculate the standard deviation from a sample of data\n",
    "print(statistics.stdev(resultadoDatos['coef(a)_Acu-6am-Beysens']))\n",
    "# Import statistics Library\n",
    "import statistics\n",
    "\n",
    "# Calculate the standard deviation from a sample of data\n",
    "print(statistics.stdev(resultadoDatos['coef(a)_Acu-6am-MLP']))"
   ]
  },
  {
   "cell_type": "markdown",
   "metadata": {
    "id": "h9KOMnmtUCD9"
   },
   "source": [
    "## coef"
   ]
  },
  {
   "cell_type": "code",
   "execution_count": 239,
   "metadata": {
    "colab": {
     "base_uri": "https://localhost:8080/",
     "height": 52
    },
    "id": "8bn7MudUUCNB",
    "outputId": "e869f45b-f271-4e5f-b439-6d8c87ba2a79"
   },
   "outputs": [
    {
     "data": {
      "image/png": "[encoded data removed]",
      "text/plain": [
       "<Figure size 576x432 with 1 Axes>"
      ]
     },
     "metadata": {
      "needs_background": "light"
     },
     "output_type": "display_data"
    }
   ],
   "source": [
    "fig, ax = plt.subplots(figsize=(8,6))   \n",
    "\n",
    "\n",
    "pruebas= resultadoDatos['Pruebas']\n",
    "resultados={'Modelo Beysens(6am)':resultadoDatos['coef(b)_Acu-6am-Beysens'],'Modelo RNA(6am)':resultadoDatos['coef(b)_Acu-6am-MLP']}\n",
    "ax.plot(pruebas,resultados['Modelo Beysens(6am)'], marker ='^',label=\"b del modelo acumulado Beysens(6AM)\")\n",
    "ax.plot(pruebas,resultados['Modelo RNA(6am)'], marker = 'o',label=\"b del modelo acumulado RNA(6AM)\")\n",
    "plt.ylabel('Resultados coef')\n",
    "plt.xlabel('Cantidad de Pruebas')\n",
    "legend = ax.legend(loc=\"best\")  \n",
    "plt.show()"
   ]
  },
  {
   "cell_type": "code",
   "execution_count": 240,
   "metadata": {
    "colab": {
     "base_uri": "https://localhost:8080/"
    },
    "id": "hO9eDlvMCV_A",
    "outputId": "5f9ad372-84a0-4b8e-a578-ee88d350d544"
   },
   "outputs": [
    {
     "name": "stdout",
     "output_type": "stream",
     "text": [
      "0.012025494000800729\n"
     ]
    }
   ],
   "source": [
    "mean_df63 = resultadoDatos['coef(b)_Acu-6am-Beysens'].mean()\n",
    "print(mean_df63)"
   ]
  },
  {
   "cell_type": "code",
   "execution_count": 241,
   "metadata": {
    "colab": {
     "base_uri": "https://localhost:8080/"
    },
    "id": "mecXX7avCWBD",
    "outputId": "9fb106d7-c710-4f0e-f4b3-a84e3ebf6920"
   },
   "outputs": [
    {
     "name": "stdout",
     "output_type": "stream",
     "text": [
      "-0.006845122295874859\n"
     ]
    }
   ],
   "source": [
    "mean_df64= resultadoDatos['coef(b)_Acu-6am-MLP'].mean()\n",
    "print(mean_df64)"
   ]
  },
  {
   "cell_type": "code",
   "execution_count": 242,
   "metadata": {
    "colab": {
     "base_uri": "https://localhost:8080/"
    },
    "id": "FGq0SKiSquHJ",
    "outputId": "0088b26b-09b7-4b7f-9a41-7191ae905536"
   },
   "outputs": [
    {
     "name": "stdout",
     "output_type": "stream",
     "text": [
      "0.3702294909473537\n",
      "0.21471018913361284\n"
     ]
    }
   ],
   "source": [
    "# Import statistics Library\n",
    "import statistics\n",
    "\n",
    "# Calculate the standard deviation from a sample of data\n",
    "print(statistics.stdev(resultadoDatos['coef(b)_Acu-6am-Beysens']))\n",
    "# Import statistics Library\n",
    "import statistics\n",
    "\n",
    "# Calculate the standard deviation from a sample of data\n",
    "print(statistics.stdev(resultadoDatos['coef(b)_Acu-6am-MLP']))"
   ]
  },
  {
   "cell_type": "markdown",
   "metadata": {
    "id": "G0SkcXd6UCX_"
   },
   "source": [
    "## error"
   ]
  },
  {
   "cell_type": "code",
   "execution_count": 243,
   "metadata": {
    "colab": {
     "base_uri": "https://localhost:8080/",
     "height": 52
    },
    "id": "oL4R8rX_UCgi",
    "outputId": "2b610e7c-bdd6-4570-ef1c-cfb36a4a9e51"
   },
   "outputs": [
    {
     "data": {
      "image/png": "[encoded data removed]",
      "text/plain": [
       "<Figure size 576x432 with 1 Axes>"
      ]
     },
     "metadata": {
      "needs_background": "light"
     },
     "output_type": "display_data"
    }
   ],
   "source": [
    "fig, ax = plt.subplots(figsize=(8,6))   \n",
    "\n",
    "\n",
    "pruebas1= resultadoDatos['Pruebas']\n",
    "resultados1={'Modelo Beysens(6am)':resultadoDatos['Standard Error_Acu-6am-Beysens'],'Modelo RNA(6am)':resultadoDatos['Standard Error_Acu-6am-MLP']}\n",
    "ax.plot(pruebas1,resultados1['Modelo Beysens(6am)'], marker ='^',label=\"SE del modelo Beysens(6AM)\")\n",
    "ax.plot(pruebas1,resultados1['Modelo RNA(6am)'], marker = 'o',label=\"SE del modelo RNA(6AM)\")\n",
    "plt.ylabel('Resultados de los errores')\n",
    "plt.xlabel('Cantidad de Pruebas')\n",
    "legend = ax.legend(loc=\"best\")  \n",
    "plt.show()"
   ]
  },
  {
   "cell_type": "code",
   "execution_count": 244,
   "metadata": {
    "colab": {
     "base_uri": "https://localhost:8080/"
    },
    "id": "fYBplwauCY4s",
    "outputId": "f7ffd6b9-7630-4289-e03a-d034fd4e99a0"
   },
   "outputs": [
    {
     "name": "stdout",
     "output_type": "stream",
     "text": [
      "0.015972631306831547\n"
     ]
    }
   ],
   "source": [
    "mean_df6 = resultadoDatos['Standard Error_Acu-6am-Beysens'].mean()\n",
    "print(mean_df6)"
   ]
  },
  {
   "cell_type": "code",
   "execution_count": 245,
   "metadata": {
    "colab": {
     "base_uri": "https://localhost:8080/"
    },
    "id": "4bxMnwzXCZWW",
    "outputId": "c0cd03b7-e050-49ff-b96d-df0f1b84d16f"
   },
   "outputs": [
    {
     "name": "stdout",
     "output_type": "stream",
     "text": [
      "0.01216720184713144\n"
     ]
    }
   ],
   "source": [
    "mean_df6 = resultadoDatos['Standard Error_Acu-6am-MLP'].mean()\n",
    "print(mean_df6)"
   ]
  },
  {
   "cell_type": "code",
   "execution_count": 246,
   "metadata": {
    "colab": {
     "base_uri": "https://localhost:8080/"
    },
    "id": "5PUoSgBoqwQo",
    "outputId": "61ecc295-2ca0-4f4a-bf44-e8a7c7337533"
   },
   "outputs": [
    {
     "name": "stdout",
     "output_type": "stream",
     "text": [
      "0.005800036863250543\n",
      "0.0032765565146855016\n"
     ]
    }
   ],
   "source": [
    "# Import statistics Library\n",
    "import statistics\n",
    "\n",
    "# Calculate the standard deviation from a sample of data\n",
    "print(statistics.stdev(resultadoDatos['Standard Error_Acu-6am-Beysens']))\n",
    "# Import statistics Library\n",
    "import statistics\n",
    "\n",
    "# Calculate the standard deviation from a sample of data\n",
    "print(statistics.stdev(resultadoDatos['rsquared_Beysens-PM']))"
   ]
  },
  {
   "cell_type": "markdown",
   "metadata": {
    "id": "si1hChVFrOSL"
   },
   "source": [
    "## grafico 3"
   ]
  },
  {
   "cell_type": "code",
   "execution_count": 247,
   "metadata": {
    "colab": {
     "base_uri": "https://localhost:8080/",
     "height": 52
    },
    "id": "Y5GeuGtyrd77",
    "outputId": "cbf43763-7c28-4829-bc6b-085e7be1ee28"
   },
   "outputs": [
    {
     "data": {
      "image/png": "[encoded data removed]",
      "text/plain": [
       "<Figure size 576x432 with 1 Axes>"
      ]
     },
     "metadata": {
      "needs_background": "light"
     },
     "output_type": "display_data"
    }
   ],
   "source": [
    "fig, ax = plt.subplots(figsize=(8,6)) \n",
    "\n",
    "pruebas= resultadoDatos['Pruebas']\n",
    "resultados={'Modelo Beysens(PM)':resultadoDatos['rsquared_Beysens-PM'],'Modelo RNA(PM)':resultadoDatos['rsquared_MLP-PM']}\n",
    "ax.plot(pruebas,resultados['Modelo Beysens(PM)'], marker ='^',label=\" $R^2$ del modelo Beysens(PD)\")\n",
    "ax.plot(pruebas,resultados['Modelo RNA(PM)'], marker = 'o',label=\"$R^2$ del modelo RNA(PD)\")\n",
    "plt.ylabel('Resultado R cuadrado')\n",
    "plt.xlabel('Cantidad de Pruebas')\n",
    "legend = ax.legend(loc=\"best\")  \n",
    "plt.show()"
   ]
  },
  {
   "cell_type": "code",
   "execution_count": 248,
   "metadata": {
    "colab": {
     "base_uri": "https://localhost:8080/"
    },
    "id": "QGQdRFcb_2p-",
    "outputId": "a3a39058-394e-4795-d739-c69720bd452e"
   },
   "outputs": [
    {
     "name": "stdout",
     "output_type": "stream",
     "text": [
      "0.005144949001205712\n"
     ]
    }
   ],
   "source": [
    "mean_df6 = resultadoDatos['rsquared_Beysens-PM'].mean()\n",
    "print(mean_df6)"
   ]
  },
  {
   "cell_type": "code",
   "execution_count": 249,
   "metadata": {
    "colab": {
     "base_uri": "https://localhost:8080/"
    },
    "id": "I6tR7yhs__iO",
    "outputId": "d51ec615-8999-46f5-b902-f1bd230f0f81"
   },
   "outputs": [
    {
     "name": "stdout",
     "output_type": "stream",
     "text": [
      "0.17353094546647083\n"
     ]
    }
   ],
   "source": [
    "mean_df7 = resultadoDatos['rsquared_MLP-PM'].mean()\n",
    "print(mean_df7)\n"
   ]
  },
  {
   "cell_type": "code",
   "execution_count": 250,
   "metadata": {
    "colab": {
     "base_uri": "https://localhost:8080/"
    },
    "id": "huZWC-Q7s3fR",
    "outputId": "e6740090-9afa-4876-c434-da179fa11997"
   },
   "outputs": [
    {
     "name": "stdout",
     "output_type": "stream",
     "text": [
      "0.0032765565146855016\n",
      "0.13689695809304572\n"
     ]
    }
   ],
   "source": [
    "# Import statistics Library\n",
    "import statistics\n",
    "\n",
    "# Calculate the standard deviation from a sample of data\n",
    "print(statistics.stdev(resultadoDatos['rsquared_Beysens-PM']))\n",
    "# Import statistics Library\n",
    "import statistics\n",
    "\n",
    "# Calculate the standard deviation from a sample of data\n",
    "print(statistics.stdev(resultadoDatos['rsquared_MLP-PM']))"
   ]
  },
  {
   "cell_type": "markdown",
   "metadata": {
    "id": "gXBkjNykUZqn"
   },
   "source": [
    "## m"
   ]
  },
  {
   "cell_type": "code",
   "execution_count": 251,
   "metadata": {
    "colab": {
     "base_uri": "https://localhost:8080/",
     "height": 52
    },
    "id": "rtruMtjnUbPp",
    "outputId": "806bcfde-82b5-43b6-e6b8-eb8c27554d31"
   },
   "outputs": [
    {
     "data": {
      "image/png": "[encoded data removed]",
      "text/plain": [
       "<Figure size 576x432 with 1 Axes>"
      ]
     },
     "metadata": {
      "needs_background": "light"
     },
     "output_type": "display_data"
    }
   ],
   "source": [
    "fig, ax = plt.subplots(figsize=(8,6))   \n",
    "#rsquared\n",
    "\n",
    "pruebas= resultadoDatos['Pruebas']\n",
    "resultados={'Modelo Beysens(6am)':resultadoDatos['coef(a)_Beysens-PM'],'Modelo RNA(6am)':resultadoDatos['coef(a)_MLP-PM']}\n",
    "ax.plot(pruebas,resultados['Modelo Beysens(6am)'], marker ='^',label=\"m del modelo Beysens(PD)\")\n",
    "ax.plot(pruebas,resultados['Modelo RNA(6am)'], marker = 'o',label=\"m del modelo RNA(PD)\")\n",
    "plt.ylabel('Resultados pendientes')\n",
    "plt.xlabel('Cantidad de Pruebas')\n",
    "legend = ax.legend(loc=\"best\")  \n",
    "plt.show()"
   ]
  },
  {
   "cell_type": "code",
   "execution_count": 252,
   "metadata": {
    "colab": {
     "base_uri": "https://localhost:8080/"
    },
    "id": "6_rpcxOamTca",
    "outputId": "fc9fb63f-137e-47ea-e7d6-a0a630170620"
   },
   "outputs": [
    {
     "name": "stdout",
     "output_type": "stream",
     "text": [
      "-5.893823742091505e-05\n"
     ]
    }
   ],
   "source": [
    "mean_df77 = resultadoDatos['coef(a)_Beysens-PM'].mean()\n",
    "print(mean_df77)"
   ]
  },
  {
   "cell_type": "code",
   "execution_count": 253,
   "metadata": {
    "colab": {
     "base_uri": "https://localhost:8080/"
    },
    "id": "F8TkEXPNmTe_",
    "outputId": "a77861a3-2822-4edb-d1fa-674784e28e59"
   },
   "outputs": [
    {
     "name": "stdout",
     "output_type": "stream",
     "text": [
      "0.31262073674097335\n"
     ]
    }
   ],
   "source": [
    "mean_df78 = resultadoDatos['coef(a)_MLP-PM'].mean()\n",
    "print(mean_df78)"
   ]
  },
  {
   "cell_type": "code",
   "execution_count": 254,
   "metadata": {
    "colab": {
     "base_uri": "https://localhost:8080/"
    },
    "id": "JXUkjBUKs46Y",
    "outputId": "280a7ddf-9e81-4d88-ee21-e9f744896ad2"
   },
   "outputs": [
    {
     "name": "stdout",
     "output_type": "stream",
     "text": [
      "0.0013613009188811194\n",
      "0.11074008649529757\n"
     ]
    }
   ],
   "source": [
    "# Import statistics Library\n",
    "import statistics\n",
    "\n",
    "# Calculate the standard deviation from a sample of data\n",
    "print(statistics.stdev(resultadoDatos['coef(a)_Beysens-PM']))\n",
    "# Import statistics Library\n",
    "import statistics\n",
    "\n",
    "# Calculate the standard deviation from a sample of data\n",
    "print(statistics.stdev(resultadoDatos['coef(a)_MLP-PM']))"
   ]
  },
  {
   "cell_type": "markdown",
   "metadata": {
    "id": "P8yMOgwIUbaW"
   },
   "source": [
    "## coef"
   ]
  },
  {
   "cell_type": "code",
   "execution_count": 255,
   "metadata": {
    "colab": {
     "base_uri": "https://localhost:8080/",
     "height": 52
    },
    "id": "Qc5dbI_wUdGu",
    "outputId": "31c9fc88-8c38-48bd-8ef2-1fb5db32a870"
   },
   "outputs": [
    {
     "data": {
      "image/png": "[encoded data removed]",
      "text/plain": [
       "<Figure size 576x432 with 1 Axes>"
      ]
     },
     "metadata": {
      "needs_background": "light"
     },
     "output_type": "display_data"
    }
   ],
   "source": [
    "fig, ax = plt.subplots(figsize=(8,6))   \n",
    "#rsquared\n",
    "\n",
    "pruebas= resultadoDatos['Pruebas']\n",
    "resultados={'Modelo Beysens(6am)':resultadoDatos['coef(b)_Beysens-PM'],'Modelo RNA(6am)':resultadoDatos['coef(b)_MLP-PM']}\n",
    "ax.plot(pruebas,resultados['Modelo Beysens(6am)'], marker ='^',label=\"b del modelo Beysens(PD)\")\n",
    "ax.plot(pruebas,resultados['Modelo RNA(6am)'], marker = 'o',label=\"b del modelo RNA(PD)\")\n",
    "plt.ylabel('Resultados coef b')\n",
    "plt.xlabel('Cantidad de Pruebas')\n",
    "legend = ax.legend(loc=\"best\")  \n",
    "plt.show()"
   ]
  },
  {
   "cell_type": "code",
   "execution_count": 256,
   "metadata": {
    "colab": {
     "base_uri": "https://localhost:8080/"
    },
    "id": "p_jJRXMjm4wb",
    "outputId": "195a2cbf-544c-4833-a1d1-9c7bf7020749"
   },
   "outputs": [
    {
     "name": "stdout",
     "output_type": "stream",
     "text": [
      "0.003430888254090123\n"
     ]
    }
   ],
   "source": [
    "mean_df781 = resultadoDatos['coef(b)_Beysens-PM'].mean()\n",
    "print(mean_df781)"
   ]
  },
  {
   "cell_type": "code",
   "execution_count": 257,
   "metadata": {
    "colab": {
     "base_uri": "https://localhost:8080/"
    },
    "id": "ECeaPF1Cm4zF",
    "outputId": "8a335b84-210b-488c-e1b7-7583e36a48d6"
   },
   "outputs": [
    {
     "name": "stdout",
     "output_type": "stream",
     "text": [
      "0.02247736288182161\n"
     ]
    }
   ],
   "source": [
    "mean_df786 = resultadoDatos['coef(b)_MLP-PM'].mean()\n",
    "print(mean_df786)"
   ]
  },
  {
   "cell_type": "code",
   "execution_count": 258,
   "metadata": {
    "colab": {
     "base_uri": "https://localhost:8080/"
    },
    "id": "noyQUjOIs6WV",
    "outputId": "7f9f1cf3-fe64-492d-d4d0-4cd3a29a1f0b"
   },
   "outputs": [
    {
     "name": "stdout",
     "output_type": "stream",
     "text": [
      "0.0019933194132471244\n",
      "0.006006806609512417\n"
     ]
    }
   ],
   "source": [
    "# Import statistics Library\n",
    "import statistics\n",
    "\n",
    "# Calculate the standard deviation from a sample of data\n",
    "print(statistics.stdev(resultadoDatos['coef(b)_Beysens-PM']))\n",
    "# Import statistics Library\n",
    "import statistics\n",
    "\n",
    "# Calculate the standard deviation from a sample of data\n",
    "print(statistics.stdev(resultadoDatos['coef(b)_MLP-PM']))"
   ]
  },
  {
   "cell_type": "markdown",
   "metadata": {
    "id": "OPfQ1dyIUdqV"
   },
   "source": [
    "## error"
   ]
  },
  {
   "cell_type": "code",
   "execution_count": 259,
   "metadata": {
    "colab": {
     "base_uri": "https://localhost:8080/",
     "height": 52
    },
    "id": "CFSLhoeAUd1x",
    "outputId": "5d55a37e-2e7f-482f-eecd-0fd538e2084a"
   },
   "outputs": [
    {
     "data": {
      "image/png": "[encoded data removed]",
      "text/plain": [
       "<Figure size 576x432 with 1 Axes>"
      ]
     },
     "metadata": {
      "needs_background": "light"
     },
     "output_type": "display_data"
    }
   ],
   "source": [
    "fig, ax = plt.subplots(figsize=(8,6))   \n",
    "#rsquared\n",
    "\n",
    "pruebas= resultadoDatos['Pruebas']\n",
    "resultados={'Modelo Beysens(6am)':resultadoDatos['Standard Error_Beysens-PM'],'Modelo RNA(6am)':resultadoDatos['Standard Error_MLP-PM']}\n",
    "ax.plot(pruebas,resultados['Modelo Beysens(6am)'], marker ='^',label=\"SE del modelo Beysens(PD)\")\n",
    "ax.plot(pruebas,resultados['Modelo RNA(6am)'], marker = 'o',label=\"SE del modelo RNA(PD)\")\n",
    "plt.ylabel('Resultados Standard Error')\n",
    "plt.xlabel('Cantidad de Pruebas')\n",
    "legend = ax.legend(loc=\"best\")  \n",
    "plt.show()"
   ]
  },
  {
   "cell_type": "code",
   "execution_count": 260,
   "metadata": {
    "colab": {
     "base_uri": "https://localhost:8080/"
    },
    "id": "lmnJsKZtm5Un",
    "outputId": "25d974a5-183f-422c-e17b-a68aa3e340e8"
   },
   "outputs": [
    {
     "name": "stdout",
     "output_type": "stream",
     "text": [
      "0.0015891656227572056\n"
     ]
    }
   ],
   "source": [
    "mean_df7864 = resultadoDatos['Standard Error_Beysens-PM'].mean()\n",
    "print(mean_df7864)"
   ]
  },
  {
   "cell_type": "code",
   "execution_count": 261,
   "metadata": {
    "colab": {
     "base_uri": "https://localhost:8080/"
    },
    "id": "oLnSE8Qsm5Wt",
    "outputId": "ac866f38-e338-4603-8e7b-607401464027"
   },
   "outputs": [
    {
     "name": "stdout",
     "output_type": "stream",
     "text": [
      "0.0664862520985886\n"
     ]
    }
   ],
   "source": [
    "mean_df7865 = resultadoDatos['Standard Error_MLP-PM'].mean()\n",
    "print(mean_df7865)"
   ]
  },
  {
   "cell_type": "code",
   "execution_count": 262,
   "metadata": {
    "colab": {
     "base_uri": "https://localhost:8080/"
    },
    "id": "pJc5Z2zWs8PK",
    "outputId": "3afe1ca6-ba8d-4c8e-faee-c8376200d255"
   },
   "outputs": [
    {
     "name": "stdout",
     "output_type": "stream",
     "text": [
      "0.0005296134970464618\n",
      "0.016655612378423282\n"
     ]
    }
   ],
   "source": [
    "# Import statistics Library\n",
    "import statistics\n",
    "\n",
    "# Calculate the standard deviation from a sample of data\n",
    "print(statistics.stdev(resultadoDatos['Standard Error_Beysens-PM']))\n",
    "# Import statistics Library\n",
    "import statistics\n",
    "\n",
    "# Calculate the standard deviation from a sample of data\n",
    "print(statistics.stdev(resultadoDatos['Standard Error_MLP-PM']))"
   ]
  },
  {
   "cell_type": "markdown",
   "metadata": {
    "id": "k-jSFDfXrOf5"
   },
   "source": [
    "## grafico 4"
   ]
  },
  {
   "cell_type": "code",
   "execution_count": 263,
   "metadata": {},
   "outputs": [
    {
     "data": {
      "image/png": "[encoded data removed]",
      "text/plain": [
       "<Figure size 576x432 with 1 Axes>"
      ]
     },
     "metadata": {
      "needs_background": "light"
     },
     "output_type": "display_data"
    }
   ],
   "source": [
    "fig, ax = plt.subplots(figsize=(8,6)) \n",
    "\n",
    "pruebas= resultadoDatos['Pruebas']\n",
    "resultados={'Modelo Beysens(PM)':resultadoDatos['rsquared_Acu-Beysens-PM'],'Modelo RNA(PM)':resultadoDatos['rsquared_Acu-MLP-PM']}\n",
    "ax.plot(pruebas,resultados['Modelo Beysens(PM)'], marker ='^',label=\" $R^2$ del modelo acumulado Beysens(PD)\")\n",
    "ax.plot(pruebas,resultados['Modelo RNA(PM)'], marker = 'o',label=\"$R^2$ del modelo acumulado RNA(PD)\")\n",
    "plt.ylabel('Resultado R cuadrado')\n",
    "plt.xlabel('Cantidad de Pruebas')\n",
    "legend = ax.legend(loc=\"best\")  \n",
    "plt.show() "
   ]
  },
  {
   "cell_type": "code",
   "execution_count": 264,
   "metadata": {
    "colab": {
     "base_uri": "https://localhost:8080/"
    },
    "id": "DPTgD5M1AOJz",
    "outputId": "ea00fc8e-42d5-4cc7-c5a0-ee28f3446964"
   },
   "outputs": [
    {
     "name": "stdout",
     "output_type": "stream",
     "text": [
      "0.8367908357110279\n"
     ]
    }
   ],
   "source": [
    "mean_df8 = resultadoDatos['rsquared_Acu-Beysens-PM'].mean()\n",
    "print(mean_df8)"
   ]
  },
  {
   "cell_type": "code",
   "execution_count": 265,
   "metadata": {
    "colab": {
     "base_uri": "https://localhost:8080/"
    },
    "id": "GoR_TFUNAMVm",
    "outputId": "2844ad02-43ce-41f0-baab-6d3bc1b609b2"
   },
   "outputs": [
    {
     "name": "stdout",
     "output_type": "stream",
     "text": [
      "0.9651405951909681\n"
     ]
    }
   ],
   "source": [
    "mean_df9 = resultadoDatos['rsquared_Acu-MLP-PM'].mean()\n",
    "print(mean_df9)\n"
   ]
  },
  {
   "cell_type": "code",
   "execution_count": 266,
   "metadata": {
    "colab": {
     "base_uri": "https://localhost:8080/"
    },
    "id": "o6vvcB4Ht9L2",
    "outputId": "dc0988c5-c0f7-45e9-d861-113db5fcb026"
   },
   "outputs": [
    {
     "name": "stdout",
     "output_type": "stream",
     "text": [
      "0.09234810879880638\n",
      "0.014099996830287816\n"
     ]
    }
   ],
   "source": [
    "# Import statistics Library\n",
    "import statistics\n",
    "\n",
    "# Calculate the standard deviation from a sample of data\n",
    "print(statistics.stdev(resultadoDatos['rsquared_Acu-Beysens-PM']))\n",
    "# Import statistics Library\n",
    "import statistics\n",
    "\n",
    "# Calculate the standard deviation from a sample of data\n",
    "print(statistics.stdev(resultadoDatos['rsquared_Acu-MLP-PM']))"
   ]
  },
  {
   "cell_type": "markdown",
   "metadata": {
    "id": "WHaGh6RTUhOv"
   },
   "source": [
    "## m"
   ]
  },
  {
   "cell_type": "code",
   "execution_count": 267,
   "metadata": {
    "colab": {
     "base_uri": "https://localhost:8080/",
     "height": 52
    },
    "id": "UhSlsPOnUiV3",
    "outputId": "baea9c57-61e5-4716-f5a2-92e436c2d3b9"
   },
   "outputs": [
    {
     "data": {
      "image/png": "[encoded data removed]",
      "text/plain": [
       "<Figure size 576x432 with 1 Axes>"
      ]
     },
     "metadata": {
      "needs_background": "light"
     },
     "output_type": "display_data"
    }
   ],
   "source": [
    "fig, ax = plt.subplots(figsize=(8,6))   \n",
    "#rsquared\n",
    "\n",
    "pruebas= resultadoDatos['Pruebas']\n",
    "resultados={'Modelo Beysens(6am)':resultadoDatos['coef(a)_Acu-Beysens-PM'],'Modelo RNA(6am)':resultadoDatos['coef(a)_Acu-MLP-PM']}\n",
    "ax.plot(pruebas,resultados['Modelo Beysens(6am)'], marker ='^',label=\"m del modelo acumulado Beysens(PD)\")\n",
    "ax.plot(pruebas,resultados['Modelo RNA(6am)'], marker = 'o',label=\"m del modelo acumulado RNA(PD)\")\n",
    "plt.ylabel('Resultados pendientes')\n",
    "plt.xlabel('Cantidad de Pruebas')\n",
    "legend = ax.legend(loc=\"best\")  \n",
    "plt.show()"
   ]
  },
  {
   "cell_type": "code",
   "execution_count": 268,
   "metadata": {
    "colab": {
     "base_uri": "https://localhost:8080/"
    },
    "id": "dzGGqAwbni-l",
    "outputId": "80e76a69-8cde-46dc-ff7f-2bb2b154b094"
   },
   "outputs": [
    {
     "name": "stdout",
     "output_type": "stream",
     "text": [
      "0.11519313992258443\n"
     ]
    }
   ],
   "source": [
    "mean_df78649 = resultadoDatos['coef(a)_Acu-Beysens-PM'].mean()\n",
    "print(mean_df78649)"
   ]
  },
  {
   "cell_type": "code",
   "execution_count": 269,
   "metadata": {
    "colab": {
     "base_uri": "https://localhost:8080/"
    },
    "id": "8fx2BJU2njAl",
    "outputId": "f5f27cd8-8264-4b36-d2cd-57a30dd902e3"
   },
   "outputs": [
    {
     "name": "stdout",
     "output_type": "stream",
     "text": [
      "1.101788633423003\n"
     ]
    }
   ],
   "source": [
    "mean_df78648 = resultadoDatos['coef(a)_Acu-MLP-PM'].mean()\n",
    "print(mean_df78648)"
   ]
  },
  {
   "cell_type": "code",
   "execution_count": 270,
   "metadata": {
    "colab": {
     "base_uri": "https://localhost:8080/"
    },
    "id": "vXAzm2Rst-X6",
    "outputId": "dc0a68f7-50e5-42ff-b0e0-94fbe4f55e1c"
   },
   "outputs": [
    {
     "name": "stdout",
     "output_type": "stream",
     "text": [
      "0.053133959647927734\n",
      "0.19659518185602481\n"
     ]
    }
   ],
   "source": [
    "# Import statistics Library\n",
    "import statistics\n",
    "\n",
    "# Calculate the standard deviation from a sample of data\n",
    "print(statistics.stdev(resultadoDatos['coef(a)_Acu-Beysens-PM']))\n",
    "# Import statistics Library\n",
    "import statistics\n",
    "\n",
    "# Calculate the standard deviation from a sample of data\n",
    "print(statistics.stdev(resultadoDatos['coef(a)_Acu-MLP-PM']))"
   ]
  },
  {
   "cell_type": "markdown",
   "metadata": {
    "id": "3VMWEyjKUjLB"
   },
   "source": [
    "## coef"
   ]
  },
  {
   "cell_type": "code",
   "execution_count": 271,
   "metadata": {
    "colab": {
     "base_uri": "https://localhost:8080/",
     "height": 52
    },
    "id": "eY9WtOVdUlcg",
    "outputId": "c38a0ac3-91f3-4d2b-d66b-30bea83e51be"
   },
   "outputs": [
    {
     "data": {
      "image/png": "[encoded data removed]",
      "text/plain": [
       "<Figure size 576x432 with 1 Axes>"
      ]
     },
     "metadata": {
      "needs_background": "light"
     },
     "output_type": "display_data"
    }
   ],
   "source": [
    "fig, ax = plt.subplots(figsize=(8,6))   \n",
    "#rsquared\n",
    "\n",
    "pruebas= resultadoDatos['Pruebas']\n",
    "resultados={'Modelo Beysens(6am)':resultadoDatos['coef(b)_Acu-Beysens-PM'],'Modelo RNA(6am)':resultadoDatos['coef(b)_Acu-MLP-PM']}\n",
    "ax.plot(pruebas,resultados['Modelo Beysens(6am)'], marker ='^',label=\"b del modelo acumulado Beysens(PD)\")\n",
    "ax.plot(pruebas,resultados['Modelo RNA(6am)'], marker = 'o',label=\"b del modelo acumulado RNA(PD)\")\n",
    "plt.ylabel('Resultados coef b')\n",
    "plt.xlabel('Cantidad de Pruebas')\n",
    "legend = ax.legend(loc=\"best\")  \n",
    "plt.show()"
   ]
  },
  {
   "cell_type": "code",
   "execution_count": 272,
   "metadata": {
    "colab": {
     "base_uri": "https://localhost:8080/"
    },
    "id": "i5zaAUMsnler",
    "outputId": "d4c383be-6e24-4400-976e-7f5dc076c8ca"
   },
   "outputs": [
    {
     "name": "stdout",
     "output_type": "stream",
     "text": [
      "-0.0005582636643528625\n"
     ]
    }
   ],
   "source": [
    "mean_df786489 = resultadoDatos['coef(b)_Acu-Beysens-PM'].mean()\n",
    "print(mean_df786489)"
   ]
  },
  {
   "cell_type": "code",
   "execution_count": 273,
   "metadata": {
    "colab": {
     "base_uri": "https://localhost:8080/"
    },
    "id": "b2aWEuXxnlg_",
    "outputId": "c253a41e-c2af-4c39-ad89-ac002f780bec"
   },
   "outputs": [
    {
     "name": "stdout",
     "output_type": "stream",
     "text": [
      "-0.017348988486903073\n"
     ]
    }
   ],
   "source": [
    "mean_df786489 = resultadoDatos['coef(b)_Acu-MLP-PM'].mean()\n",
    "print(mean_df786489)"
   ]
  },
  {
   "cell_type": "code",
   "execution_count": 274,
   "metadata": {
    "colab": {
     "base_uri": "https://localhost:8080/"
    },
    "id": "sU8saR6Ht_gG",
    "outputId": "9cce07be-5199-487c-8c95-db1e9a2e4f3e"
   },
   "outputs": [
    {
     "name": "stdout",
     "output_type": "stream",
     "text": [
      "0.0692918263608493\n",
      "0.2934414230306447\n"
     ]
    }
   ],
   "source": [
    "# Import statistics Library\n",
    "import statistics\n",
    "\n",
    "# Calculate the standard deviation from a sample of data\n",
    "print(statistics.stdev(resultadoDatos['coef(b)_Acu-Beysens-PM']))\n",
    "# Import statistics Library\n",
    "import statistics\n",
    "\n",
    "# Calculate the standard deviation from a sample of data\n",
    "print(statistics.stdev(resultadoDatos['coef(b)_Acu-MLP-PM']))"
   ]
  },
  {
   "cell_type": "markdown",
   "metadata": {
    "id": "ZhNBfmlaUlrG"
   },
   "source": [
    "## error"
   ]
  },
  {
   "cell_type": "code",
   "execution_count": 275,
   "metadata": {
    "colab": {
     "base_uri": "https://localhost:8080/",
     "height": 52
    },
    "id": "mc_qVMEaUpek",
    "outputId": "9c9c0987-c7df-4c55-dc8f-36b12524c4af"
   },
   "outputs": [
    {
     "data": {
      "image/png": "[encoded data removed]",
      "text/plain": [
       "<Figure size 576x432 with 1 Axes>"
      ]
     },
     "metadata": {
      "needs_background": "light"
     },
     "output_type": "display_data"
    }
   ],
   "source": [
    "fig, ax = plt.subplots(figsize=(8,6))   \n",
    "#rsquared\n",
    "\n",
    "pruebas= resultadoDatos['Pruebas']\n",
    "resultados={'Modelo Beysens(6am)':resultadoDatos['Standard Error_Acu-Beysens-PM'],'Modelo RNA(6am)':resultadoDatos['Standard Error_Acu-MLP-PM']}\n",
    "ax.plot(pruebas,resultados['Modelo Beysens(6am)'], marker ='^',label=\"SE del modelo Beysens(PD)\")\n",
    "ax.plot(pruebas,resultados['Modelo RNA(6am)'], marker = 'o',label=\"SE del modelo RNA(PD)\")\n",
    "plt.ylabel('Resultados Standard Error')\n",
    "plt.xlabel('Cantidad de Pruebas')\n",
    "legend = ax.legend(loc=\"best\")  \n",
    "plt.show()"
   ]
  },
  {
   "cell_type": "code",
   "execution_count": 276,
   "metadata": {
    "colab": {
     "base_uri": "https://localhost:8080/"
    },
    "id": "PPPlWxFCnvNU",
    "outputId": "332d37dd-d372-45b7-f509-a2275071c4cc"
   },
   "outputs": [
    {
     "name": "stdout",
     "output_type": "stream",
     "text": [
      "0.004138057919037037\n"
     ]
    }
   ],
   "source": [
    "mean_df7864899 = resultadoDatos['Standard Error_Acu-Beysens-PM'].mean()\n",
    "print(mean_df7864899)"
   ]
  },
  {
   "cell_type": "code",
   "execution_count": 277,
   "metadata": {
    "colab": {
     "base_uri": "https://localhost:8080/"
    },
    "id": "puRUfuIPnvPq",
    "outputId": "bd81894f-0073-4b92-83df-212a2aeaf7d2"
   },
   "outputs": [
    {
     "name": "stdout",
     "output_type": "stream",
     "text": [
      "0.018262564430667545\n"
     ]
    }
   ],
   "source": [
    "mean_df78648999 = resultadoDatos['Standard Error_Acu-MLP-PM'].mean()\n",
    "print(mean_df78648999)"
   ]
  },
  {
   "cell_type": "code",
   "execution_count": 278,
   "metadata": {
    "colab": {
     "base_uri": "https://localhost:8080/"
    },
    "id": "CMLMXQZhbUtd",
    "outputId": "78ba9866-ea65-411f-cbce-bc7cd5ef950c"
   },
   "outputs": [
    {
     "name": "stdout",
     "output_type": "stream",
     "text": [
      "0.0014935548101182338\n",
      "0.003268504033249066\n"
     ]
    }
   ],
   "source": [
    "# Import statistics Library\n",
    "import statistics\n",
    "\n",
    "# Calculate the standard deviation from a sample of data\n",
    "print(statistics.stdev(resultadoDatos['Standard Error_Acu-Beysens-PM']))\n",
    "# Import statistics Library\n",
    "import statistics\n",
    "\n",
    "# Calculate the standard deviation from a sample of data\n",
    "print(statistics.stdev(resultadoDatos['Standard Error_Acu-MLP-PM']))"
   ]
  },
  {
   "cell_type": "code",
   "execution_count": null,
   "metadata": {
    "id": "p_YZgj_HQEYB"
   },
   "outputs": [],
   "source": []
  },
  {
   "cell_type": "code",
   "execution_count": null,
   "metadata": {
    "id": "mXuqjn9VQEdL"
   },
   "outputs": [],
   "source": []
  },
  {
   "cell_type": "code",
   "execution_count": null,
   "metadata": {
    "id": "NsHVeNGFQEfr"
   },
   "outputs": [],
   "source": []
  },
  {
   "cell_type": "markdown",
   "metadata": {
    "id": "Gm8BKFjcQdT_"
   },
   "source": [
    "## 1"
   ]
  },
  {
   "cell_type": "code",
   "execution_count": 279,
   "metadata": {
    "colab": {
     "base_uri": "https://localhost:8080/",
     "height": 387
    },
    "id": "_vqZSRnuQEh_",
    "outputId": "e2f531c8-fdab-4fa2-c867-0db58caf2950"
   },
   "outputs": [
    {
     "data": {
      "image/png": "[encoded data removed]",
      "text/plain": [
       "<Figure size 576x432 with 1 Axes>"
      ]
     },
     "metadata": {
      "needs_background": "light"
     },
     "output_type": "display_data"
    }
   ],
   "source": [
    "\n",
    "fig, ax = plt.subplots(figsize=(8,6)) \n",
    "\n",
    "pruebas= resultadoDatos['Pruebas']\n",
    "resultados={'Modelo Beysens(6am)':resultadoDatos['rsquared_Acu-6am-Beysens'],'Modelo RNA(6am)':resultadoDatos['rsquared_Acu-6am-MLP'],'Modelo Beysens(PM)':resultadoDatos['rsquared_Acu-Beysens-PM'],'Modelo RNA(PM)':resultadoDatos['rsquared_Acu-MLP-PM']}\n",
    "ax.plot(pruebas,resultados['Modelo Beysens(6am)'], marker ='^',label=\"Modelo Acumulado Beysens(6am)\")\n",
    "ax.plot(pruebas,resultados['Modelo RNA(6am)'], marker = 'o',label=\"Modelo Acumulado RNA(6am)\")\n",
    "ax.plot(pruebas,resultados['Modelo Beysens(PM)'], marker ='^',label=\"Modelo Acumulado Beysens(PD)\")\n",
    "ax.plot(pruebas,resultados['Modelo RNA(PM)'], marker = 'o',label=\"Modelo Acumulado RNA(PD)\")\n",
    "plt.ylabel('Resultados R cuadrado acumulado')\n",
    "plt.xlabel('Cantidad de Pruebas')\n",
    "legend = ax.legend(loc=\"best\")  \n",
    "plt.show()"
   ]
  },
  {
   "cell_type": "code",
   "execution_count": 280,
   "metadata": {
    "colab": {
     "base_uri": "https://localhost:8080/",
     "height": 387
    },
    "id": "XyOu3oBOey8e",
    "outputId": "7e291909-b498-4676-87d0-09b55d5c3f7f"
   },
   "outputs": [
    {
     "data": {
      "image/png": "[encoded data removed]",
      "text/plain": [
       "<Figure size 576x432 with 1 Axes>"
      ]
     },
     "metadata": {
      "needs_background": "light"
     },
     "output_type": "display_data"
    }
   ],
   "source": [
    "\n",
    "fig, ax = plt.subplots(figsize=(8,6)) \n",
    "\n",
    "pruebas= resultadoDatos['Pruebas']\n",
    "resultados={'Modelo Beysens(6am)':resultadoDatos['rsquared_Acu-6am-Beysens'],'Modelo RNA(6am)':resultadoDatos['rsquared_Acu-6am-MLP'],'Modelo Beysens(PM)':resultadoDatos['rsquared_Acu-Beysens-PM'],'Modelo RNA(PM)':resultadoDatos['rsquared_Acu-MLP-PM']}\n",
    "ax.plot(pruebas,resultados['Modelo Beysens(6am)'], marker ='^',label=\"Modelo Acumulado Beysens(6am)\")\n",
    "ax.plot(pruebas,resultados['Modelo RNA(6am)'], marker = 'o',label=\"Modelo Acumulado RNA(6am)\")\n",
    "#ax.plot(pruebas,resultados['Modelo Beysens(PM)'], marker ='^',label=\"Modelo-Acumulado-Beysens(PM)\")\n",
    "ax.plot(pruebas,resultados['Modelo RNA(PM)'],c='red', marker = 'o',label=\"Modelo Acumulado RNA(PD)\")\n",
    "plt.ylabel('Resultados R cuadrado acumulado')\n",
    "plt.xlabel('Cantidad de Pruebas')\n",
    "legend = ax.legend(loc=\"best\")  \n",
    "plt.show()"
   ]
  },
  {
   "cell_type": "code",
   "execution_count": 281,
   "metadata": {
    "colab": {
     "base_uri": "https://localhost:8080/",
     "height": 387
    },
    "id": "ADjpAot_3YQQ",
    "outputId": "80e9b8e9-3d64-44da-b993-a6d24b5d65d5"
   },
   "outputs": [
    {
     "data": {
      "image/png": "[encoded data removed]",
      "text/plain": [
       "<Figure size 576x432 with 1 Axes>"
      ]
     },
     "metadata": {
      "needs_background": "light"
     },
     "output_type": "display_data"
    }
   ],
   "source": [
    "\n",
    "fig, ax = plt.subplots(figsize=(8,6)) \n",
    "\n",
    "pruebas= resultadoDatos['Pruebas']\n",
    "resultados={'Modelo Beysens(6am)':resultadoDatos['coef(a)_Acu-6am-Beysens'],'Modelo RNA(6am)':resultadoDatos['coef(a)_Acu-6am-MLP'],'Modelo Beysens(PM)':resultadoDatos['coef(a)_Acu-Beysens-PM'],'Modelo RNA(PM)':resultadoDatos['coef(a)_Acu-MLP-PM']}\n",
    "ax.plot(pruebas,resultados['Modelo Beysens(6am)'], marker ='^',label=\"Modelo Acumulado Beysens(6am)\")\n",
    "ax.plot(pruebas,resultados['Modelo RNA(6am)'], marker = 'o',label=\"Modelo Acumulado RNA(6am)\")\n",
    "ax.plot(pruebas,resultados['Modelo Beysens(PM)'], marker ='^',label=\"Modelo Acumulado Beysens(PD)\")\n",
    "ax.plot(pruebas,resultados['Modelo RNA(PM)'],c='red', marker = 'o',label=\"Modelo Acumulado RNA(PD)\")\n",
    "plt.ylabel('Resultados R cuadrado acumulado')\n",
    "plt.xlabel('Cantidad de Pruebas')\n",
    "legend = ax.legend(loc=\"best\")  \n",
    "plt.show()"
   ]
  },
  {
   "cell_type": "code",
   "execution_count": null,
   "metadata": {
    "id": "tLBdpZ-J8hkB"
   },
   "outputs": [],
   "source": []
  },
  {
   "cell_type": "code",
   "execution_count": 282,
   "metadata": {
    "id": "qXMvK3KP8Wjw"
   },
   "outputs": [],
   "source": [
    "#cambiar \n",
    "#resultado6=pd.merge(df5, df6, on='Pruebas', suffixes=('_Beysens-PM', '_Acu-Beysens-PM'))"
   ]
  },
  {
   "cell_type": "code",
   "execution_count": null,
   "metadata": {
    "id": "gqVL7S0FJLho"
   },
   "outputs": [],
   "source": []
  },
  {
   "cell_type": "markdown",
   "metadata": {
    "id": "t-rLQ7PJJMBH"
   },
   "source": [
    "resultados con modelo LM "
   ]
  },
  {
   "cell_type": "code",
   "execution_count": null,
   "metadata": {},
   "outputs": [],
   "source": []
  },
  {
   "cell_type": "code",
   "execution_count": null,
   "metadata": {},
   "outputs": [],
   "source": []
  },
  {
   "cell_type": "code",
   "execution_count": null,
   "metadata": {},
   "outputs": [],
   "source": []
  },
  {
   "cell_type": "code",
   "execution_count": null,
   "metadata": {},
   "outputs": [],
   "source": []
  },
  {
   "cell_type": "code",
   "execution_count": null,
   "metadata": {},
   "outputs": [],
   "source": []
  },
  {
   "cell_type": "code",
   "execution_count": null,
   "metadata": {},
   "outputs": [],
   "source": []
  },
  {
   "cell_type": "code",
   "execution_count": null,
   "metadata": {},
   "outputs": [],
   "source": []
  },
  {
   "cell_type": "code",
   "execution_count": null,
   "metadata": {},
   "outputs": [],
   "source": []
  },
  {
   "cell_type": "code",
   "execution_count": null,
   "metadata": {},
   "outputs": [],
   "source": []
  },
  {
   "cell_type": "code",
   "execution_count": null,
   "metadata": {},
   "outputs": [],
   "source": []
  },
  {
   "cell_type": "code",
   "execution_count": null,
   "metadata": {},
   "outputs": [],
   "source": []
  },
  {
   "cell_type": "code",
   "execution_count": null,
   "metadata": {},
   "outputs": [],
   "source": []
  },
  {
   "cell_type": "code",
   "execution_count": null,
   "metadata": {},
   "outputs": [],
   "source": []
  },
  {
   "cell_type": "code",
   "execution_count": null,
   "metadata": {},
   "outputs": [],
   "source": []
  },
  {
   "cell_type": "code",
   "execution_count": 283,
   "metadata": {},
   "outputs": [
    {
     "name": "stdout",
     "output_type": "stream",
     "text": [
      "\u001b[0m\u001b[01;34mDATABASE-PRIVATE\u001b[0m/                        Experimento3_Complemento_Lekouch.ipynb\r\n",
      "exp-10.ipynb                             Experimento4_Complemento_Lekouch.ipynb\r\n",
      "exp-1.ipynb                              Experimento5_Complemento_Lekouch.ipynb\r\n",
      "exp-2.ipynb                              Experimento6_Complemento_Lekouch.ipynb\r\n",
      "exp-3.ipynb                              Experimento7_Complemento_Lekouch.ipynb\r\n",
      "exp-4.ipynb                              Experimento8_Complemento_Lekouch.ipynb\r\n",
      "exp-5.ipynb                              Experimento9_Complemento_Lekouch.ipynb\r\n",
      "exp-6.ipynb                              guardar-modelos-ejecutados.ipynb\r\n",
      "exp-7.ipynb                              guardar-modelos-ejecutados-LM.ipynb\r\n",
      "exp-8.ipynb                              guardar-resultados.ipynb\r\n",
      "exp-9.ipynb                              requirements.txt\r\n",
      "Experimento10_Complemento_Lekouch.ipynb  \u001b[01;34mresult\u001b[0m/\r\n",
      "Experimento1_Complemento_Lekouch.ipynb   Resultados_final.ipynb\r\n",
      "Experimento2_Complemento_Lekouch.ipynb\r\n"
     ]
    }
   ],
   "source": [
    "ls /root/notebooks/\n"
   ]
  },
  {
   "cell_type": "code",
   "execution_count": 284,
   "metadata": {},
   "outputs": [
    {
     "data": {
      "text/plain": [
       "'/root/notebooks/result/result/result'"
      ]
     },
     "execution_count": 284,
     "metadata": {},
     "output_type": "execute_result"
    }
   ],
   "source": [
    "pwd"
   ]
  },
  {
   "cell_type": "code",
   "execution_count": 285,
   "metadata": {},
   "outputs": [
    {
     "name": "stdout",
     "output_type": "stream",
     "text": [
      "cp: cannot stat '/root/notebooks/Resultado_final.pynb': No such file or directory\r\n"
     ]
    }
   ],
   "source": [
    "cp -r /root/notebooks/Resultado_final.pynb  /root/notebooks/result "
   ]
  },
  {
   "cell_type": "code",
   "execution_count": 286,
   "metadata": {},
   "outputs": [
    {
     "name": "stdout",
     "output_type": "stream",
     "text": [
      " Copia_de_Resultados_final.ipynb          test_labels2-6.0.csv\r\n",
      " Experimento1_Complemento_Lekouch.ipynb   test_labels2-7.0.csv\r\n",
      "'guardar modelos ejecutados.ipynb'        test_labels2-8.0.csv\r\n",
      "'guardar modelos ejecutados-LM.ipynb'     test_labels2-9.0.csv\r\n",
      " \u001b[0m\u001b[01;34mprueba\u001b[0m/                                  test_labels3-10.0.csv\r\n",
      " Prueba-10.0.csv                          test_labels3-1.0.csv\r\n",
      " Prueba10.0.csv                           test_labels3-2.0.csv\r\n",
      " Prueba-1.0.csv                           test_labels3-3.0.csv\r\n",
      " Prueba1.0.csv                            test_labels3-4.0.csv\r\n",
      " Prueba-2.0.csv                           test_labels3-5.0.csv\r\n",
      " Prueba2.0.csv                            test_labels3-6.0.csv\r\n",
      " Prueba-3.0.csv                           test_labels3-7.0.csv\r\n",
      " Prueba3.0.csv                            test_labels3-8.0.csv\r\n",
      " Prueba-4.0.csv                           test_labels3-9.0.csv\r\n",
      " Prueba4.0.csv                            train_dataset2-10.0.csv\r\n",
      " Prueba-5.0.csv                           train_dataset2-1.0.csv\r\n",
      " Prueba5.0.csv                            train_dataset2-2.0.csv\r\n",
      " Prueba-6.0.csv                           train_dataset2-3.0.csv\r\n",
      " Prueba6.0.csv                            train_dataset2-4.0.csv\r\n",
      " Prueba-7.0.csv                           train_dataset2-5.0.csv\r\n",
      " Prueba7.0.csv                            train_dataset2-6.0.csv\r\n",
      " Prueba-8.0.csv                           train_dataset2-7.0.csv\r\n",
      " Prueba8.0.csv                            train_dataset2-8.0.csv\r\n",
      " Prueba-9.0.csv                           train_dataset2-9.0.csv\r\n",
      " Prueba9.0.csv                            train_dataset3-10.0.csv\r\n",
      " README.md                                train_dataset3-1.0.csv\r\n",
      " \u001b[01;34mresult\u001b[0m/                                  train_dataset3-2.0.csv\r\n",
      " Resultados_final.ipynb                   train_dataset3-3.0.csv\r\n",
      " test_dataset2-10.0.csv                   train_dataset3-4.0.csv\r\n",
      " test_dataset2-1.0.csv                    train_dataset3-5.0.csv\r\n",
      " test_dataset2-2.0.csv                    train_dataset3-6.0.csv\r\n",
      " test_dataset2-3.0.csv                    train_dataset3-7.0.csv\r\n",
      " test_dataset2-4.0.csv                    train_dataset3-8.0.csv\r\n",
      " test_dataset2-5.0.csv                    train_dataset3-9.0.csv\r\n",
      " test_dataset2-6.0.csv                    train_labels2-10.0.csv\r\n",
      " test_dataset2-7.0.csv                    train_labels2-1.0.csv\r\n",
      " test_dataset2-8.0.csv                    train_labels2-2.0.csv\r\n",
      " test_dataset2-9.0.csv                    train_labels2-3.0.csv\r\n",
      " test_dataset3-10.0.csv                   train_labels2-4.0.csv\r\n",
      " test_dataset3-1.0.csv                    train_labels2-5.0.csv\r\n",
      " test_dataset3-2.0.csv                    train_labels2-6.0.csv\r\n",
      " test_dataset3-3.0.csv                    train_labels2-7.0.csv\r\n",
      " test_dataset3-4.0.csv                    train_labels2-8.0.csv\r\n",
      " test_dataset3-5.0.csv                    train_labels2-9.0.csv\r\n",
      " test_dataset3-6.0.csv                    train_labels3-10.0.csv\r\n",
      " test_dataset3-7.0.csv                    train_labels3-1.0.csv\r\n",
      " test_dataset3-8.0.csv                    train_labels3-2.0.csv\r\n",
      " test_dataset3-9.0.csv                    train_labels3-3.0.csv\r\n",
      " test_labels2-10.0.csv                    train_labels3-4.0.csv\r\n",
      " test_labels2-1.0.csv                     train_labels3-5.0.csv\r\n",
      " test_labels2-2.0.csv                     train_labels3-6.0.csv\r\n",
      " test_labels2-3.0.csv                     train_labels3-7.0.csv\r\n",
      " test_labels2-4.0.csv                     train_labels3-8.0.csv\r\n",
      " test_labels2-5.0.csv                     train_labels3-9.0.csv\r\n"
     ]
    }
   ],
   "source": [
    "ls"
   ]
  },
  {
   "cell_type": "code",
   "execution_count": 287,
   "metadata": {},
   "outputs": [],
   "source": [
    "!git add .\n"
   ]
  },
  {
   "cell_type": "code",
   "execution_count": 288,
   "metadata": {},
   "outputs": [],
   "source": [
    "!git config user.email \"rodrigo.montenegro@alumnos.uv.cl\"\n",
    "\n",
    "!git config user.name \"Rodrigomontenegrofarias\""
   ]
  },
  {
   "cell_type": "code",
   "execution_count": 289,
   "metadata": {},
   "outputs": [
    {
     "name": "stdout",
     "output_type": "stream",
     "text": [
      "On branch main\r\n",
      "Your branch is up to date with 'origin/main'.\r\n",
      "\r\n",
      "nothing to commit, working tree clean\r\n"
     ]
    }
   ],
   "source": [
    "!git commit -m 'commit message'  # commit in Colab"
   ]
  },
  {
   "cell_type": "code",
   "execution_count": 290,
   "metadata": {},
   "outputs": [
    {
     "name": "stdout",
     "output_type": "stream",
     "text": [
      "Everything up-to-date\r\n"
     ]
    }
   ],
   "source": [
    "!git push origin main       # push to github"
   ]
  },
  {
   "cell_type": "code",
   "execution_count": null,
   "metadata": {},
   "outputs": [],
   "source": []
  },
  {
   "cell_type": "code",
   "execution_count": null,
   "metadata": {},
   "outputs": [],
   "source": []
  },
  {
   "cell_type": "code",
   "execution_count": null,
   "metadata": {},
   "outputs": [],
   "source": []
  },
  {
   "cell_type": "code",
   "execution_count": null,
   "metadata": {},
   "outputs": [],
   "source": []
  },
  {
   "cell_type": "code",
   "execution_count": null,
   "metadata": {},
   "outputs": [],
   "source": []
  }
 ],
 "metadata": {
  "colab": {
   "collapsed_sections": [
    "nW3EBhkGT2nq",
    "-B7QfKsnT5eL",
    "2fPwNQr-UBj6",
    "h9KOMnmtUCD9",
    "G0SkcXd6UCX_",
    "si1hChVFrOSL",
    "gXBkjNykUZqn",
    "P8yMOgwIUbaW",
    "OPfQ1dyIUdqV",
    "k-jSFDfXrOf5",
    "WHaGh6RTUhOv",
    "3VMWEyjKUjLB",
    "ZhNBfmlaUlrG"
   ],
   "provenance": []
  },
  "kernelspec": {
   "display_name": "Python 3",
   "language": "python",
   "name": "python3"
  },
  "language_info": {
   "codemirror_mode": {
    "name": "ipython",
    "version": 3
   },
   "file_extension": ".py",
   "mimetype": "text/x-python",
   "name": "python",
   "nbconvert_exporter": "python",
   "pygments_lexer": "ipython3",
   "version": "3.6.9"
  }
 },
 "nbformat": 4,
 "nbformat_minor": 1
}
