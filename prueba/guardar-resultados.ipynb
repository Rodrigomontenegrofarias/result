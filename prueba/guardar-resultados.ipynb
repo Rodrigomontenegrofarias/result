{
 "cells": [
  {
   "cell_type": "code",
   "execution_count": 160,
   "id": "0c68329d",
   "metadata": {},
   "outputs": [
    {
     "name": "stdout",
     "output_type": "stream",
     "text": [
      "/root\n"
     ]
    }
   ],
   "source": [
    "cd .."
   ]
  },
  {
   "cell_type": "code",
   "execution_count": 161,
   "id": "cf1fa992",
   "metadata": {},
   "outputs": [
    {
     "name": "stdout",
     "output_type": "stream",
     "text": [
      "/root/notebooks\n"
     ]
    }
   ],
   "source": [
    "cd notebooks/"
   ]
  },
  {
   "cell_type": "code",
   "execution_count": 162,
   "id": "73b32d37",
   "metadata": {},
   "outputs": [
    {
     "name": "stdout",
     "output_type": "stream",
     "text": [
      "rm: cannot remove 'result': No such file or directory\r\n"
     ]
    }
   ],
   "source": [
    "rm -r result"
   ]
  },
  {
   "cell_type": "code",
   "execution_count": 163,
   "id": "9a1b28cf",
   "metadata": {},
   "outputs": [
    {
     "name": "stdout",
     "output_type": "stream",
     "text": [
      " \u001b[0m\u001b[01;34mDATABASE-PRIVATE\u001b[0m/\r\n",
      " exp-10.ipynb\r\n",
      " exp-1.ipynb\r\n",
      " exp-2.ipynb\r\n",
      " exp-3.ipynb\r\n",
      " exp-4.ipynb\r\n",
      " exp-5.ipynb\r\n",
      " exp-6.ipynb\r\n",
      " exp-7.ipynb\r\n",
      " exp-8.ipynb\r\n",
      " exp-9.ipynb\r\n",
      " Experimento10_Complemento_Lekouch.ipynb\r\n",
      " Experimento1_Complemento_Lekouch.ipynb\r\n",
      " Experimento2_Complemento_Lekouch.ipynb\r\n",
      " Experimento3_Complemento_Lekouch.ipynb\r\n",
      " Experimento4_Complemento_Lekouch.ipynb\r\n",
      " Experimento5_Complemento_Lekouch.ipynb\r\n",
      " Experimento6_Complemento_Lekouch.ipynb\r\n",
      " Experimento7_Complemento_Lekouch.ipynb\r\n",
      " Experimento8_Complemento_Lekouch.ipynb\r\n",
      " Experimento9_Complemento_Lekouch.ipynb\r\n",
      "'guardar modelos ejecutados.ipynb'\r\n",
      "'guardar modelos ejecutados-LM.ipynb'\r\n",
      " guardar-resultados.ipynb\r\n",
      " requirements.txt\r\n",
      " Resultados_final.ipynb\r\n"
     ]
    }
   ],
   "source": [
    "ls\n"
   ]
  },
  {
   "cell_type": "code",
   "execution_count": 164,
   "id": "ec455cca",
   "metadata": {},
   "outputs": [
    {
     "data": {
      "text/plain": [
       "'/root/notebooks'"
      ]
     },
     "execution_count": 164,
     "metadata": {},
     "output_type": "execute_result"
    }
   ],
   "source": [
    "pwd"
   ]
  },
  {
   "cell_type": "code",
   "execution_count": 165,
   "id": "1e74e882",
   "metadata": {},
   "outputs": [
    {
     "name": "stdout",
     "output_type": "stream",
     "text": [
      "Enter the password of your Github account: ········\n",
      "Cloning into 'result'...\n",
      "remote: Enumerating objects: 682, done.\u001b[K\n",
      "remote: Counting objects: 100% (313/313), done.\u001b[K\n",
      "remote: Compressing objects: 100% (252/252), done.\u001b[K\n",
      "remote: Total 682 (delta 113), reused 258 (delta 61), pack-reused 369\u001b[K\n",
      "Receiving objects: 100% (682/682), 36.30 MiB | 13.96 MiB/s, done.\n",
      "Resolving deltas: 100% (284/284), done.\n"
     ]
    }
   ],
   "source": [
    "from getpass import getpass\n",
    "import os\n",
    "\n",
    "os.environ['USER'] = \"Rodrigomontenegrofarias\"\n",
    "os.environ['PASSWORD'] = getpass('Enter the password of your Github account: ')\n",
    "os.environ['REPOSITORY'] = \"result\"\n",
    "os.environ['GITHUB_AUTH'] = os.environ['USER'] + ':' + os.environ['PASSWORD']\n",
    "\n",
    "!rm -rf $REPOSITORY # To remove the previous clone of the Github repository\n",
    "!git clone https://$GITHUB_AUTH@github.com/$USER/$REPOSITORY.git \n",
    "\n",
    "os.environ['USER'] = os.environ['PASSWORD'] = os.environ['REPOSITORY'] = os.environ['GITHUB_AUTH'] = \"\""
   ]
  },
  {
   "cell_type": "code",
   "execution_count": 166,
   "id": "c7524b50",
   "metadata": {},
   "outputs": [
    {
     "name": "stdout",
     "output_type": "stream",
     "text": [
      " \u001b[0m\u001b[01;34mDATABASE-PRIVATE\u001b[0m/\r\n",
      " exp-10.ipynb\r\n",
      " exp-1.ipynb\r\n",
      " exp-2.ipynb\r\n",
      " exp-3.ipynb\r\n",
      " exp-4.ipynb\r\n",
      " exp-5.ipynb\r\n",
      " exp-6.ipynb\r\n",
      " exp-7.ipynb\r\n",
      " exp-8.ipynb\r\n",
      " exp-9.ipynb\r\n",
      " Experimento10_Complemento_Lekouch.ipynb\r\n",
      " Experimento1_Complemento_Lekouch.ipynb\r\n",
      " Experimento2_Complemento_Lekouch.ipynb\r\n",
      " Experimento3_Complemento_Lekouch.ipynb\r\n",
      " Experimento4_Complemento_Lekouch.ipynb\r\n",
      " Experimento5_Complemento_Lekouch.ipynb\r\n",
      " Experimento6_Complemento_Lekouch.ipynb\r\n",
      " Experimento7_Complemento_Lekouch.ipynb\r\n",
      " Experimento8_Complemento_Lekouch.ipynb\r\n",
      " Experimento9_Complemento_Lekouch.ipynb\r\n",
      "'guardar modelos ejecutados.ipynb'\r\n",
      "'guardar modelos ejecutados-LM.ipynb'\r\n",
      " guardar-resultados.ipynb\r\n",
      " requirements.txt\r\n",
      " \u001b[01;34mresult\u001b[0m/\r\n",
      " Resultados_final.ipynb\r\n"
     ]
    }
   ],
   "source": [
    "ls\n"
   ]
  },
  {
   "cell_type": "code",
   "execution_count": 167,
   "id": "da876b3f",
   "metadata": {},
   "outputs": [
    {
     "data": {
      "text/plain": [
       "'/root/notebooks'"
      ]
     },
     "execution_count": 167,
     "metadata": {},
     "output_type": "execute_result"
    }
   ],
   "source": [
    "pwd"
   ]
  },
  {
   "cell_type": "code",
   "execution_count": 168,
   "id": "f248b3e4",
   "metadata": {},
   "outputs": [
    {
     "name": "stdout",
     "output_type": "stream",
     "text": [
      "/root/notebooks/result\n"
     ]
    }
   ],
   "source": [
    "cd result/\n"
   ]
  },
  {
   "cell_type": "code",
   "execution_count": 169,
   "id": "fde8b325",
   "metadata": {},
   "outputs": [
    {
     "name": "stdout",
     "output_type": "stream",
     "text": [
      " Copia_de_Resultados_final.ipynb          test_labels2-6.0.csv\r\n",
      " Experimento1_Complemento_Lekouch.ipynb   test_labels2-7.0.csv\r\n",
      "'guardar modelos ejecutados.ipynb'        test_labels2-8.0.csv\r\n",
      "'guardar modelos ejecutados-LM.ipynb'     test_labels2-9.0.csv\r\n",
      " \u001b[0m\u001b[01;34mprueba\u001b[0m/                                  test_labels3-10.0.csv\r\n",
      " Prueba-10.0.csv                          test_labels3-1.0.csv\r\n",
      " Prueba10.0.csv                           test_labels3-2.0.csv\r\n",
      " Prueba-1.0.csv                           test_labels3-3.0.csv\r\n",
      " Prueba1.0.csv                            test_labels3-4.0.csv\r\n",
      " Prueba-2.0.csv                           test_labels3-5.0.csv\r\n",
      " Prueba2.0.csv                            test_labels3-6.0.csv\r\n",
      " Prueba-3.0.csv                           test_labels3-7.0.csv\r\n",
      " Prueba3.0.csv                            test_labels3-8.0.csv\r\n",
      " Prueba-4.0.csv                           test_labels3-9.0.csv\r\n",
      " Prueba4.0.csv                            train_dataset2-10.0.csv\r\n",
      " Prueba-5.0.csv                           train_dataset2-1.0.csv\r\n",
      " Prueba5.0.csv                            train_dataset2-2.0.csv\r\n",
      " Prueba-6.0.csv                           train_dataset2-3.0.csv\r\n",
      " Prueba6.0.csv                            train_dataset2-4.0.csv\r\n",
      " Prueba-7.0.csv                           train_dataset2-5.0.csv\r\n",
      " Prueba7.0.csv                            train_dataset2-6.0.csv\r\n",
      " Prueba-8.0.csv                           train_dataset2-7.0.csv\r\n",
      " Prueba8.0.csv                            train_dataset2-8.0.csv\r\n",
      " Prueba-9.0.csv                           train_dataset2-9.0.csv\r\n",
      " Prueba9.0.csv                            train_dataset3-10.0.csv\r\n",
      " README.md                                train_dataset3-1.0.csv\r\n",
      " \u001b[01;34mresult\u001b[0m/                                  train_dataset3-2.0.csv\r\n",
      " Resultados_final.ipynb                   train_dataset3-3.0.csv\r\n",
      " test_dataset2-10.0.csv                   train_dataset3-4.0.csv\r\n",
      " test_dataset2-1.0.csv                    train_dataset3-5.0.csv\r\n",
      " test_dataset2-2.0.csv                    train_dataset3-6.0.csv\r\n",
      " test_dataset2-3.0.csv                    train_dataset3-7.0.csv\r\n",
      " test_dataset2-4.0.csv                    train_dataset3-8.0.csv\r\n",
      " test_dataset2-5.0.csv                    train_dataset3-9.0.csv\r\n",
      " test_dataset2-6.0.csv                    train_labels2-10.0.csv\r\n",
      " test_dataset2-7.0.csv                    train_labels2-1.0.csv\r\n",
      " test_dataset2-8.0.csv                    train_labels2-2.0.csv\r\n",
      " test_dataset2-9.0.csv                    train_labels2-3.0.csv\r\n",
      " test_dataset3-10.0.csv                   train_labels2-4.0.csv\r\n",
      " test_dataset3-1.0.csv                    train_labels2-5.0.csv\r\n",
      " test_dataset3-2.0.csv                    train_labels2-6.0.csv\r\n",
      " test_dataset3-3.0.csv                    train_labels2-7.0.csv\r\n",
      " test_dataset3-4.0.csv                    train_labels2-8.0.csv\r\n",
      " test_dataset3-5.0.csv                    train_labels2-9.0.csv\r\n",
      " test_dataset3-6.0.csv                    train_labels3-10.0.csv\r\n",
      " test_dataset3-7.0.csv                    train_labels3-1.0.csv\r\n",
      " test_dataset3-8.0.csv                    train_labels3-2.0.csv\r\n",
      " test_dataset3-9.0.csv                    train_labels3-3.0.csv\r\n",
      " test_labels2-10.0.csv                    train_labels3-4.0.csv\r\n",
      " test_labels2-1.0.csv                     train_labels3-5.0.csv\r\n",
      " test_labels2-2.0.csv                     train_labels3-6.0.csv\r\n",
      " test_labels2-3.0.csv                     train_labels3-7.0.csv\r\n",
      " test_labels2-4.0.csv                     train_labels3-8.0.csv\r\n",
      " test_labels2-5.0.csv                     train_labels3-9.0.csv\r\n"
     ]
    }
   ],
   "source": [
    "ls"
   ]
  },
  {
   "cell_type": "code",
   "execution_count": 170,
   "id": "e2d2fbbd",
   "metadata": {},
   "outputs": [],
   "source": [
    "#mkdir prueba"
   ]
  },
  {
   "cell_type": "code",
   "execution_count": 171,
   "id": "c84731bf",
   "metadata": {},
   "outputs": [
    {
     "name": "stdout",
     "output_type": "stream",
     "text": [
      "/root/notebooks/result/prueba\n"
     ]
    }
   ],
   "source": [
    "cd prueba\n"
   ]
  },
  {
   "cell_type": "code",
   "execution_count": null,
   "id": "28792b12",
   "metadata": {},
   "outputs": [],
   "source": []
  },
  {
   "cell_type": "code",
   "execution_count": null,
   "id": "d87440bd",
   "metadata": {},
   "outputs": [],
   "source": []
  },
  {
   "cell_type": "code",
   "execution_count": 172,
   "id": "fc251e07",
   "metadata": {},
   "outputs": [],
   "source": [
    "cp -r /root/notebooks/Resultados_final.ipynb  /root/notebooks/result/prueba "
   ]
  },
  {
   "cell_type": "code",
   "execution_count": 173,
   "id": "e9e68f78",
   "metadata": {},
   "outputs": [],
   "source": [
    "cp -r /root/notebooks/guardar-resultados.ipynb  /root/notebooks/result/prueba"
   ]
  },
  {
   "cell_type": "code",
   "execution_count": 177,
   "id": "e2c5ee53",
   "metadata": {},
   "outputs": [
    {
     "name": "stdout",
     "output_type": "stream",
     "text": [
      "\u001b[0m\u001b[01;34mDATABASE-PRIVATE\u001b[0m/                        Experimento3_Complemento_Lekouch.ipynb\r\n",
      "exp-10.ipynb                             Experimento4_Complemento_Lekouch.ipynb\r\n",
      "exp-1.ipynb                              Experimento5_Complemento_Lekouch.ipynb\r\n",
      "exp-2.ipynb                              Experimento6_Complemento_Lekouch.ipynb\r\n",
      "exp-3.ipynb                              Experimento7_Complemento_Lekouch.ipynb\r\n",
      "exp-4.ipynb                              Experimento8_Complemento_Lekouch.ipynb\r\n",
      "exp-5.ipynb                              Experimento9_Complemento_Lekouch.ipynb\r\n",
      "exp-6.ipynb                              guardar-modelos-ejecutados.ipynb\r\n",
      "exp-7.ipynb                              guardar-modelos-ejecutados-LM.ipynb\r\n",
      "exp-8.ipynb                              guardar-resultados.ipynb\r\n",
      "exp-9.ipynb                              requirements.txt\r\n",
      "Experimento10_Complemento_Lekouch.ipynb  \u001b[01;34mresult\u001b[0m/\r\n",
      "Experimento1_Complemento_Lekouch.ipynb   Resultados_final.ipynb\r\n",
      "Experimento2_Complemento_Lekouch.ipynb\r\n"
     ]
    }
   ],
   "source": [
    "ls /root/notebooks"
   ]
  },
  {
   "cell_type": "code",
   "execution_count": 179,
   "id": "5fbd7740",
   "metadata": {},
   "outputs": [],
   "source": [
    "cp -r /root/notebooks/guardar-modelos-ejecutados.ipynb  /root/notebooks/result/prueba"
   ]
  },
  {
   "cell_type": "code",
   "execution_count": 180,
   "id": "52a6cdfd",
   "metadata": {},
   "outputs": [],
   "source": [
    "cp -r /root/notebooks/guardar-modelos-ejecutados-LM.ipynb /root/notebooks/result/prueba"
   ]
  },
  {
   "cell_type": "code",
   "execution_count": 181,
   "id": "d44b1a46",
   "metadata": {},
   "outputs": [
    {
     "name": "stdout",
     "output_type": "stream",
     "text": [
      "exp-10.ipynb                             Experimento2_Complemento_Lekouch.ipynb\r\n",
      "exp-1.ipynb                              Experimento3_Complemento_Lekouch.ipynb\r\n",
      "exp-2.ipynb                              Experimento4_Complemento_Lekouch.ipynb\r\n",
      "exp-3.ipynb                              Experimento5_Complemento_Lekouch.ipynb\r\n",
      "exp-4.ipynb                              Experimento6_Complemento_Lekouch.ipynb\r\n",
      "exp-5.ipynb                              Experimento7_Complemento_Lekouch.ipynb\r\n",
      "exp-6.ipynb                              Experimento8_Complemento_Lekouch.ipynb\r\n",
      "exp-7.ipynb                              Experimento9_Complemento_Lekouch.ipynb\r\n",
      "exp-8.ipynb                              guardar-modelos-ejecutados.ipynb\r\n",
      "exp-9.ipynb                              guardar-modelos-ejecutados-LM.ipynb\r\n",
      "Experimento10_Complemento_Lekouch.ipynb  guardar-resultados.ipynb\r\n",
      "Experimento1_Complemento_Lekouch.ipynb   Resultados_final.ipynb\r\n"
     ]
    }
   ],
   "source": [
    "ls"
   ]
  },
  {
   "cell_type": "code",
   "execution_count": 182,
   "id": "7bc0adc1",
   "metadata": {},
   "outputs": [
    {
     "data": {
      "text/plain": [
       "'/root/notebooks/result/prueba'"
      ]
     },
     "execution_count": 182,
     "metadata": {},
     "output_type": "execute_result"
    }
   ],
   "source": [
    "pwd"
   ]
  },
  {
   "cell_type": "code",
   "execution_count": null,
   "id": "607a983f",
   "metadata": {},
   "outputs": [],
   "source": []
  },
  {
   "cell_type": "code",
   "execution_count": 183,
   "id": "aac7f3eb",
   "metadata": {},
   "outputs": [
    {
     "name": "stdout",
     "output_type": "stream",
     "text": [
      "exp-10.ipynb                             Experimento2_Complemento_Lekouch.ipynb\r\n",
      "exp-1.ipynb                              Experimento3_Complemento_Lekouch.ipynb\r\n",
      "exp-2.ipynb                              Experimento4_Complemento_Lekouch.ipynb\r\n",
      "exp-3.ipynb                              Experimento5_Complemento_Lekouch.ipynb\r\n",
      "exp-4.ipynb                              Experimento6_Complemento_Lekouch.ipynb\r\n",
      "exp-5.ipynb                              Experimento7_Complemento_Lekouch.ipynb\r\n",
      "exp-6.ipynb                              Experimento8_Complemento_Lekouch.ipynb\r\n",
      "exp-7.ipynb                              Experimento9_Complemento_Lekouch.ipynb\r\n",
      "exp-8.ipynb                              guardar-modelos-ejecutados.ipynb\r\n",
      "exp-9.ipynb                              guardar-modelos-ejecutados-LM.ipynb\r\n",
      "Experimento10_Complemento_Lekouch.ipynb  guardar-resultados.ipynb\r\n",
      "Experimento1_Complemento_Lekouch.ipynb   Resultados_final.ipynb\r\n"
     ]
    }
   ],
   "source": [
    "ls"
   ]
  },
  {
   "cell_type": "code",
   "execution_count": 184,
   "id": "6da61a99",
   "metadata": {},
   "outputs": [
    {
     "name": "stdout",
     "output_type": "stream",
     "text": [
      "/root/notebooks/result\n"
     ]
    }
   ],
   "source": [
    "cd .."
   ]
  },
  {
   "cell_type": "code",
   "execution_count": null,
   "id": "55abe649",
   "metadata": {},
   "outputs": [],
   "source": []
  },
  {
   "cell_type": "code",
   "execution_count": 185,
   "id": "95158cb3",
   "metadata": {},
   "outputs": [
    {
     "name": "stdout",
     "output_type": "stream",
     "text": [
      "On branch main\r\n",
      "Your branch is up to date with 'origin/main'.\r\n",
      "\r\n",
      "Changes not staged for commit:\r\n",
      "  (use \"git add <file>...\" to update what will be committed)\r\n",
      "  (use \"git checkout -- <file>...\" to discard changes in working directory)\r\n",
      "\r\n",
      "\t\u001b[31mmodified:   prueba/guardar-resultados.ipynb\u001b[m\r\n",
      "\r\n",
      "Untracked files:\r\n",
      "  (use \"git add <file>...\" to include in what will be committed)\r\n",
      "\r\n",
      "\t\u001b[31mprueba/guardar-modelos-ejecutados-LM.ipynb\u001b[m\r\n",
      "\t\u001b[31mprueba/guardar-modelos-ejecutados.ipynb\u001b[m\r\n",
      "\r\n",
      "no changes added to commit (use \"git add\" and/or \"git commit -a\")\r\n"
     ]
    }
   ],
   "source": [
    "!git status\n"
   ]
  },
  {
   "cell_type": "code",
   "execution_count": 186,
   "id": "90b40cf9",
   "metadata": {},
   "outputs": [],
   "source": [
    "!git add ."
   ]
  },
  {
   "cell_type": "code",
   "execution_count": 187,
   "id": "d113eac5",
   "metadata": {},
   "outputs": [],
   "source": [
    "!git config user.email \"rodrigo.montenegro@alumnos.uv.cl\"\n",
    "\n",
    "!git config user.name \"Rodrigomontenegrofarias\""
   ]
  },
  {
   "cell_type": "markdown",
   "id": "fb790f92",
   "metadata": {},
   "source": [
    "##### "
   ]
  },
  {
   "cell_type": "code",
   "execution_count": 188,
   "id": "cdf6966f",
   "metadata": {},
   "outputs": [
    {
     "name": "stdout",
     "output_type": "stream",
     "text": [
      "[main 51c9c38] commit message\r\n",
      " 3 files changed, 1480 insertions(+), 161 deletions(-)\r\n",
      " create mode 100644 prueba/guardar-modelos-ejecutados-LM.ipynb\r\n",
      " create mode 100644 prueba/guardar-modelos-ejecutados.ipynb\r\n"
     ]
    }
   ],
   "source": [
    "!git commit -m 'commit message'  # commit in Colab"
   ]
  },
  {
   "cell_type": "code",
   "execution_count": 189,
   "id": "ea14c70c",
   "metadata": {},
   "outputs": [
    {
     "name": "stdout",
     "output_type": "stream",
     "text": [
      "Counting objects: 6, done.\n",
      "Delta compression using up to 8 threads.\n",
      "Compressing objects: 100% (6/6), done.\n",
      "Writing objects: 100% (6/6), 4.42 KiB | 4.42 MiB/s, done.\n",
      "Total 6 (delta 4), reused 0 (delta 0)\n",
      "remote: Resolving deltas: 100% (4/4), completed with 3 local objects.\u001b[K\n",
      "To https://github.com/Rodrigomontenegrofarias/result.git\n",
      "   8493495..51c9c38  main -> main\n"
     ]
    }
   ],
   "source": [
    "!git push origin main       # push to github"
   ]
  },
  {
   "cell_type": "code",
   "execution_count": null,
   "id": "ce8724e8",
   "metadata": {},
   "outputs": [],
   "source": []
  },
  {
   "cell_type": "code",
   "execution_count": null,
   "id": "b665d49c",
   "metadata": {},
   "outputs": [],
   "source": []
  },
  {
   "cell_type": "code",
   "execution_count": null,
   "id": "a7cabe55",
   "metadata": {},
   "outputs": [],
   "source": []
  },
  {
   "cell_type": "code",
   "execution_count": null,
   "id": "5a63f613",
   "metadata": {},
   "outputs": [],
   "source": []
  }
 ],
 "metadata": {
  "kernelspec": {
   "display_name": "Python 3",
   "language": "python",
   "name": "python3"
  },
  "language_info": {
   "codemirror_mode": {
    "name": "ipython",
    "version": 3
   },
   "file_extension": ".py",
   "mimetype": "text/x-python",
   "name": "python",
   "nbconvert_exporter": "python",
   "pygments_lexer": "ipython3",
   "version": "3.6.9"
  }
 },
 "nbformat": 4,
 "nbformat_minor": 5
}
