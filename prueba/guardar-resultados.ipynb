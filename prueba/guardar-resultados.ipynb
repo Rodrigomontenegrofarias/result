{
 "cells": [
  {
   "cell_type": "code",
   "execution_count": 53,
   "id": "0c68329d",
   "metadata": {},
   "outputs": [
    {
     "name": "stdout",
     "output_type": "stream",
     "text": [
      "/root/notebooks\n"
     ]
    }
   ],
   "source": [
    "cd .."
   ]
  },
  {
   "cell_type": "code",
   "execution_count": 54,
   "id": "cf1fa992",
   "metadata": {},
   "outputs": [
    {
     "name": "stdout",
     "output_type": "stream",
     "text": [
      "[Errno 2] No such file or directory: 'notebooks/'\n",
      "/root/notebooks\n"
     ]
    }
   ],
   "source": [
    "cd notebooks/"
   ]
  },
  {
   "cell_type": "code",
   "execution_count": 55,
   "id": "73b32d37",
   "metadata": {},
   "outputs": [],
   "source": [
    "rm -r result"
   ]
  },
  {
   "cell_type": "code",
   "execution_count": 56,
   "id": "9a1b28cf",
   "metadata": {},
   "outputs": [
    {
     "name": "stdout",
     "output_type": "stream",
     "text": [
      "\u001b[0m\u001b[01;34mDATABASE-PRIVATE\u001b[0m/                        Experimento2_Complemento_Lekouch.ipynb\r\n",
      "exp-10.ipynb                             Experimento3_Complemento_Lekouch.ipynb\r\n",
      "exp-1.ipynb                              Experimento4_Complemento_Lekouch.ipynb\r\n",
      "exp-2.ipynb                              Experimento5_Complemento_Lekouch.ipynb\r\n",
      "exp-3.ipynb                              Experimento6_Complemento_Lekouch.ipynb\r\n",
      "exp-4.ipynb                              Experimento7_Complemento_Lekouch.ipynb\r\n",
      "exp-5.ipynb                              Experimento8_Complemento_Lekouch.ipynb\r\n",
      "exp-6.ipynb                              Experimento9_Complemento_Lekouch.ipynb\r\n",
      "exp-7.ipynb                              guardar-modelos-ejecutados.ipynb\r\n",
      "exp-8.ipynb                              guardar-modelos-ejecutados-LM.ipynb\r\n",
      "exp-9.ipynb                              guardar-resultados.ipynb\r\n",
      "Experimento10_Complemento_Lekouch.ipynb  requirements.txt\r\n",
      "Experimento1_Complemento_Lekouch.ipynb   Resultados_final.ipynb\r\n"
     ]
    }
   ],
   "source": [
    "ls\n"
   ]
  },
  {
   "cell_type": "code",
   "execution_count": 57,
   "id": "ec455cca",
   "metadata": {},
   "outputs": [
    {
     "data": {
      "text/plain": [
       "'/root/notebooks'"
      ]
     },
     "execution_count": 57,
     "metadata": {},
     "output_type": "execute_result"
    }
   ],
   "source": [
    "pwd"
   ]
  },
  {
   "cell_type": "code",
   "execution_count": null,
   "id": "1e74e882",
   "metadata": {},
   "outputs": [
    {
     "name": "stdout",
     "output_type": "stream",
     "text": [
      "Enter the password of your Github account: ········\n",
      "Cloning into 'result'...\n",
      "remote: Enumerating objects: 698, done.\u001b[K\n",
      "remote: Counting objects: 100% (329/329), done.\u001b[K\n",
      "remote: Compressing objects: 100% (262/262), done.\u001b[Ksing objects:   1% (3/262)\u001b[K\n",
      "Receiving objects:   7% (49/698)   \r"
     ]
    }
   ],
   "source": [
    "from getpass import getpass\n",
    "import os\n",
    "\n",
    "os.environ['USER'] = \"Rodrigomontenegrofarias\"\n",
    "os.environ['PASSWORD'] = getpass('Enter the password of your Github account: ')\n",
    "os.environ['REPOSITORY'] = \"result\"\n",
    "os.environ['GITHUB_AUTH'] = os.environ['USER'] + ':' + os.environ['PASSWORD']\n",
    "\n",
    "!rm -rf $REPOSITORY # To remove the previous clone of the Github repository\n",
    "!git clone https://$GITHUB_AUTH@github.com/$USER/$REPOSITORY.git \n",
    "\n",
    "os.environ['USER'] = os.environ['PASSWORD'] = os.environ['REPOSITORY'] = os.environ['GITHUB_AUTH'] = \"\""
   ]
  },
  {
   "cell_type": "code",
   "execution_count": null,
   "id": "c7524b50",
   "metadata": {},
   "outputs": [],
   "source": [
    "ls\n"
   ]
  },
  {
   "cell_type": "code",
   "execution_count": null,
   "id": "da876b3f",
   "metadata": {},
   "outputs": [],
   "source": [
    "pwd"
   ]
  },
  {
   "cell_type": "code",
   "execution_count": null,
   "id": "f248b3e4",
   "metadata": {},
   "outputs": [],
   "source": [
    "cd result/\n"
   ]
  },
  {
   "cell_type": "code",
   "execution_count": null,
   "id": "fde8b325",
   "metadata": {},
   "outputs": [],
   "source": [
    "ls"
   ]
  },
  {
   "cell_type": "code",
   "execution_count": null,
   "id": "e2d2fbbd",
   "metadata": {},
   "outputs": [],
   "source": [
    "#mkdir prueba"
   ]
  },
  {
   "cell_type": "code",
   "execution_count": null,
   "id": "c84731bf",
   "metadata": {},
   "outputs": [],
   "source": [
    "cd prueba\n"
   ]
  },
  {
   "cell_type": "code",
   "execution_count": null,
   "id": "28792b12",
   "metadata": {},
   "outputs": [],
   "source": []
  },
  {
   "cell_type": "code",
   "execution_count": null,
   "id": "d87440bd",
   "metadata": {},
   "outputs": [],
   "source": []
  },
  {
   "cell_type": "code",
   "execution_count": null,
   "id": "fc251e07",
   "metadata": {},
   "outputs": [],
   "source": [
    "cp -r /root/notebooks/Resultados_final.ipynb  /root/notebooks/result/prueba "
   ]
  },
  {
   "cell_type": "code",
   "execution_count": null,
   "id": "e9e68f78",
   "metadata": {},
   "outputs": [],
   "source": [
    "cp -r /root/notebooks/guardar-resultados.ipynb  /root/notebooks/result/prueba"
   ]
  },
  {
   "cell_type": "code",
   "execution_count": null,
   "id": "e2c5ee53",
   "metadata": {},
   "outputs": [],
   "source": [
    "ls /root/notebooks"
   ]
  },
  {
   "cell_type": "code",
   "execution_count": null,
   "id": "5fbd7740",
   "metadata": {},
   "outputs": [],
   "source": [
    "cp -r /root/notebooks/guardar-modelos-ejecutados.ipynb  /root/notebooks/result/prueba"
   ]
  },
  {
   "cell_type": "code",
   "execution_count": null,
   "id": "52a6cdfd",
   "metadata": {},
   "outputs": [],
   "source": [
    "cp -r /root/notebooks/guardar-modelos-ejecutados-LM.ipynb /root/notebooks/result/prueba"
   ]
  },
  {
   "cell_type": "code",
   "execution_count": null,
   "id": "d44b1a46",
   "metadata": {},
   "outputs": [],
   "source": [
    "ls"
   ]
  },
  {
   "cell_type": "code",
   "execution_count": null,
   "id": "7bc0adc1",
   "metadata": {},
   "outputs": [],
   "source": [
    "pwd"
   ]
  },
  {
   "cell_type": "code",
   "execution_count": null,
   "id": "607a983f",
   "metadata": {},
   "outputs": [],
   "source": []
  },
  {
   "cell_type": "code",
   "execution_count": null,
   "id": "aac7f3eb",
   "metadata": {},
   "outputs": [],
   "source": [
    "ls"
   ]
  },
  {
   "cell_type": "code",
   "execution_count": null,
   "id": "6da61a99",
   "metadata": {},
   "outputs": [],
   "source": [
    "cd .."
   ]
  },
  {
   "cell_type": "code",
   "execution_count": null,
   "id": "55abe649",
   "metadata": {},
   "outputs": [],
   "source": []
  },
  {
   "cell_type": "code",
   "execution_count": null,
   "id": "95158cb3",
   "metadata": {},
   "outputs": [],
   "source": [
    "!git status\n"
   ]
  },
  {
   "cell_type": "code",
   "execution_count": null,
   "id": "90b40cf9",
   "metadata": {},
   "outputs": [],
   "source": [
    "!git add ."
   ]
  },
  {
   "cell_type": "code",
   "execution_count": null,
   "id": "d113eac5",
   "metadata": {},
   "outputs": [],
   "source": [
    "!git config user.email \"rodrigo.montenegro@alumnos.uv.cl\"\n",
    "\n",
    "!git config user.name \"Rodrigomontenegrofarias\""
   ]
  },
  {
   "cell_type": "markdown",
   "id": "fb790f92",
   "metadata": {},
   "source": [
    "##### "
   ]
  },
  {
   "cell_type": "code",
   "execution_count": null,
   "id": "cdf6966f",
   "metadata": {},
   "outputs": [],
   "source": [
    "!git commit -m 'commit message'  # commit in Colab"
   ]
  },
  {
   "cell_type": "code",
   "execution_count": null,
   "id": "ea14c70c",
   "metadata": {},
   "outputs": [],
   "source": [
    "!git push origin main       # push to github"
   ]
  },
  {
   "cell_type": "code",
   "execution_count": null,
   "id": "ce8724e8",
   "metadata": {},
   "outputs": [],
   "source": []
  },
  {
   "cell_type": "code",
   "execution_count": null,
   "id": "b665d49c",
   "metadata": {},
   "outputs": [],
   "source": []
  },
  {
   "cell_type": "code",
   "execution_count": null,
   "id": "a7cabe55",
   "metadata": {},
   "outputs": [],
   "source": []
  },
  {
   "cell_type": "code",
   "execution_count": null,
   "id": "5a63f613",
   "metadata": {},
   "outputs": [],
   "source": []
  }
 ],
 "metadata": {
  "kernelspec": {
   "display_name": "Python 3",
   "language": "python",
   "name": "python3"
  },
  "language_info": {
   "codemirror_mode": {
    "name": "ipython",
    "version": 3
   },
   "file_extension": ".py",
   "mimetype": "text/x-python",
   "name": "python",
   "nbconvert_exporter": "python",
   "pygments_lexer": "ipython3",
   "version": "3.6.9"
  }
 },
 "nbformat": 4,
 "nbformat_minor": 5
}
