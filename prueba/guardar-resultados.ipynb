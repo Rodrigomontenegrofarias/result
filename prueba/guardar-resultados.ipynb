{
 "cells": [
  {
   "cell_type": "code",
   "execution_count": 114,
   "id": "f0a93d73",
   "metadata": {},
   "outputs": [
    {
     "name": "stdout",
     "output_type": "stream",
     "text": [
      "/root/notebooks\n"
     ]
    }
   ],
   "source": [
    "cd .."
   ]
  },
  {
   "cell_type": "code",
   "execution_count": 115,
   "id": "00ae4748",
   "metadata": {},
   "outputs": [
    {
     "name": "stdout",
     "output_type": "stream",
     "text": [
      "/root\n"
     ]
    }
   ],
   "source": [
    "cd .."
   ]
  },
  {
   "cell_type": "code",
   "execution_count": 116,
   "id": "2cc3d2f4",
   "metadata": {},
   "outputs": [
    {
     "name": "stdout",
     "output_type": "stream",
     "text": [
      "/root/notebooks\n"
     ]
    }
   ],
   "source": [
    "cd notebooks/"
   ]
  },
  {
   "cell_type": "code",
   "execution_count": 117,
   "id": "35543f7f",
   "metadata": {},
   "outputs": [],
   "source": [
    "rm -r result"
   ]
  },
  {
   "cell_type": "code",
   "execution_count": 118,
   "id": "9a1b28cf",
   "metadata": {},
   "outputs": [
    {
     "name": "stdout",
     "output_type": "stream",
     "text": [
      " \u001b[0m\u001b[01;34mDATABASE-PRIVATE\u001b[0m/\r\n",
      " exp-10.ipynb\r\n",
      " exp-1.ipynb\r\n",
      " exp-2.ipynb\r\n",
      " exp-3.ipynb\r\n",
      " exp-4.ipynb\r\n",
      " exp-5.ipynb\r\n",
      " exp-6.ipynb\r\n",
      " exp-7.ipynb\r\n",
      " exp-8.ipynb\r\n",
      " exp-9.ipynb\r\n",
      " Experimento10_Complemento_Lekouch.ipynb\r\n",
      " Experimento1_Complemento_Lekouch.ipynb\r\n",
      " Experimento2_Complemento_Lekouch.ipynb\r\n",
      " Experimento3_Complemento_Lekouch.ipynb\r\n",
      " Experimento4_Complemento_Lekouch.ipynb\r\n",
      " Experimento5_Complemento_Lekouch.ipynb\r\n",
      " Experimento6_Complemento_Lekouch.ipynb\r\n",
      " Experimento7_Complemento_Lekouch.ipynb\r\n",
      " Experimento8_Complemento_Lekouch.ipynb\r\n",
      " Experimento9_Complemento_Lekouch.ipynb\r\n",
      "'guardar modelos ejecutados.ipynb'\r\n",
      "'guardar modelos ejecutados-LM.ipynb'\r\n",
      " guardar-resultados.ipynb\r\n",
      " requirements.txt\r\n",
      " Resultados_final.ipynb\r\n"
     ]
    }
   ],
   "source": [
    "ls\n"
   ]
  },
  {
   "cell_type": "code",
   "execution_count": 119,
   "id": "cc0f0a27",
   "metadata": {},
   "outputs": [
    {
     "data": {
      "text/plain": [
       "'/root/notebooks'"
      ]
     },
     "execution_count": 119,
     "metadata": {},
     "output_type": "execute_result"
    }
   ],
   "source": [
    "pwd"
   ]
  },
  {
   "cell_type": "code",
   "execution_count": 140,
   "id": "1e74e882",
   "metadata": {},
   "outputs": [
    {
     "name": "stdout",
     "output_type": "stream",
     "text": [
      "Enter the password of your Github account: ········\n",
      "Cloning into 'result'...\n",
      "remote: Enumerating objects: 682, done.\u001b[K\n",
      "remote: Counting objects: 100% (313/313), done.\u001b[K\n",
      "remote: Compressing objects: 100% (252/252), done.\u001b[K\n",
      "remote: Total 682 (delta 113), reused 258 (delta 61), pack-reused 369\u001b[K\n",
      "Receiving objects: 100% (682/682), 36.30 MiB | 7.24 MiB/s, done.\n",
      "Resolving deltas: 100% (284/284), done.\n"
     ]
    }
   ],
   "source": [
    "from getpass import getpass\n",
    "import os\n",
    "\n",
    "os.environ['USER'] = \"Rodrigomontenegrofarias\"\n",
    "os.environ['PASSWORD'] = getpass('Enter the password of your Github account: ')\n",
    "os.environ['REPOSITORY'] = \"result\"\n",
    "os.environ['GITHUB_AUTH'] = os.environ['USER'] + ':' + os.environ['PASSWORD']\n",
    "\n",
    "!rm -rf $REPOSITORY # To remove the previous clone of the Github repository\n",
    "!git clone https://$GITHUB_AUTH@github.com/$USER/$REPOSITORY.git \n",
    "\n",
    "os.environ['USER'] = os.environ['PASSWORD'] = os.environ['REPOSITORY'] = os.environ['GITHUB_AUTH'] = \"\""
   ]
  },
  {
   "cell_type": "code",
   "execution_count": 141,
   "id": "c7524b50",
   "metadata": {},
   "outputs": [
    {
     "name": "stdout",
     "output_type": "stream",
     "text": [
      "\u001b[0m\u001b[01;34mnotebooks\u001b[0m/     \u001b[01;34mopencv_contrib-3.4.5\u001b[0m/  opencv.tgz\r\n",
      "\u001b[01;34mopencv-3.4.5\u001b[0m/  opencv_contrib.tgz     \u001b[01;34mresult\u001b[0m/\r\n"
     ]
    }
   ],
   "source": [
    "ls\n"
   ]
  },
  {
   "cell_type": "code",
   "execution_count": 142,
   "id": "4542f3b8",
   "metadata": {},
   "outputs": [
    {
     "data": {
      "text/plain": [
       "'/root'"
      ]
     },
     "execution_count": 142,
     "metadata": {},
     "output_type": "execute_result"
    }
   ],
   "source": [
    "pwd"
   ]
  },
  {
   "cell_type": "code",
   "execution_count": 143,
   "id": "f248b3e4",
   "metadata": {},
   "outputs": [
    {
     "name": "stdout",
     "output_type": "stream",
     "text": [
      "/root/result\n"
     ]
    }
   ],
   "source": [
    "cd result/\n"
   ]
  },
  {
   "cell_type": "code",
   "execution_count": 144,
   "id": "fde8b325",
   "metadata": {},
   "outputs": [
    {
     "name": "stdout",
     "output_type": "stream",
     "text": [
      " Copia_de_Resultados_final.ipynb          test_labels2-6.0.csv\r\n",
      " Experimento1_Complemento_Lekouch.ipynb   test_labels2-7.0.csv\r\n",
      "'guardar modelos ejecutados.ipynb'        test_labels2-8.0.csv\r\n",
      "'guardar modelos ejecutados-LM.ipynb'     test_labels2-9.0.csv\r\n",
      " \u001b[0m\u001b[01;34mprueba\u001b[0m/                                  test_labels3-10.0.csv\r\n",
      " Prueba-10.0.csv                          test_labels3-1.0.csv\r\n",
      " Prueba10.0.csv                           test_labels3-2.0.csv\r\n",
      " Prueba-1.0.csv                           test_labels3-3.0.csv\r\n",
      " Prueba1.0.csv                            test_labels3-4.0.csv\r\n",
      " Prueba-2.0.csv                           test_labels3-5.0.csv\r\n",
      " Prueba2.0.csv                            test_labels3-6.0.csv\r\n",
      " Prueba-3.0.csv                           test_labels3-7.0.csv\r\n",
      " Prueba3.0.csv                            test_labels3-8.0.csv\r\n",
      " Prueba-4.0.csv                           test_labels3-9.0.csv\r\n",
      " Prueba4.0.csv                            train_dataset2-10.0.csv\r\n",
      " Prueba-5.0.csv                           train_dataset2-1.0.csv\r\n",
      " Prueba5.0.csv                            train_dataset2-2.0.csv\r\n",
      " Prueba-6.0.csv                           train_dataset2-3.0.csv\r\n",
      " Prueba6.0.csv                            train_dataset2-4.0.csv\r\n",
      " Prueba-7.0.csv                           train_dataset2-5.0.csv\r\n",
      " Prueba7.0.csv                            train_dataset2-6.0.csv\r\n",
      " Prueba-8.0.csv                           train_dataset2-7.0.csv\r\n",
      " Prueba8.0.csv                            train_dataset2-8.0.csv\r\n",
      " Prueba-9.0.csv                           train_dataset2-9.0.csv\r\n",
      " Prueba9.0.csv                            train_dataset3-10.0.csv\r\n",
      " README.md                                train_dataset3-1.0.csv\r\n",
      " \u001b[01;34mresult\u001b[0m/                                  train_dataset3-2.0.csv\r\n",
      " Resultados_final.ipynb                   train_dataset3-3.0.csv\r\n",
      " test_dataset2-10.0.csv                   train_dataset3-4.0.csv\r\n",
      " test_dataset2-1.0.csv                    train_dataset3-5.0.csv\r\n",
      " test_dataset2-2.0.csv                    train_dataset3-6.0.csv\r\n",
      " test_dataset2-3.0.csv                    train_dataset3-7.0.csv\r\n",
      " test_dataset2-4.0.csv                    train_dataset3-8.0.csv\r\n",
      " test_dataset2-5.0.csv                    train_dataset3-9.0.csv\r\n",
      " test_dataset2-6.0.csv                    train_labels2-10.0.csv\r\n",
      " test_dataset2-7.0.csv                    train_labels2-1.0.csv\r\n",
      " test_dataset2-8.0.csv                    train_labels2-2.0.csv\r\n",
      " test_dataset2-9.0.csv                    train_labels2-3.0.csv\r\n",
      " test_dataset3-10.0.csv                   train_labels2-4.0.csv\r\n",
      " test_dataset3-1.0.csv                    train_labels2-5.0.csv\r\n",
      " test_dataset3-2.0.csv                    train_labels2-6.0.csv\r\n",
      " test_dataset3-3.0.csv                    train_labels2-7.0.csv\r\n",
      " test_dataset3-4.0.csv                    train_labels2-8.0.csv\r\n",
      " test_dataset3-5.0.csv                    train_labels2-9.0.csv\r\n",
      " test_dataset3-6.0.csv                    train_labels3-10.0.csv\r\n",
      " test_dataset3-7.0.csv                    train_labels3-1.0.csv\r\n",
      " test_dataset3-8.0.csv                    train_labels3-2.0.csv\r\n",
      " test_dataset3-9.0.csv                    train_labels3-3.0.csv\r\n",
      " test_labels2-10.0.csv                    train_labels3-4.0.csv\r\n",
      " test_labels2-1.0.csv                     train_labels3-5.0.csv\r\n",
      " test_labels2-2.0.csv                     train_labels3-6.0.csv\r\n",
      " test_labels2-3.0.csv                     train_labels3-7.0.csv\r\n",
      " test_labels2-4.0.csv                     train_labels3-8.0.csv\r\n",
      " test_labels2-5.0.csv                     train_labels3-9.0.csv\r\n"
     ]
    }
   ],
   "source": [
    "ls"
   ]
  },
  {
   "cell_type": "code",
   "execution_count": 145,
   "id": "e2d2fbbd",
   "metadata": {},
   "outputs": [],
   "source": [
    "#mkdir prueba"
   ]
  },
  {
   "cell_type": "code",
   "execution_count": 146,
   "id": "c84731bf",
   "metadata": {},
   "outputs": [
    {
     "name": "stdout",
     "output_type": "stream",
     "text": [
      "/root/result/prueba\n"
     ]
    }
   ],
   "source": [
    "cd prueba\n"
   ]
  },
  {
   "cell_type": "code",
   "execution_count": null,
   "id": "28792b12",
   "metadata": {},
   "outputs": [],
   "source": []
  },
  {
   "cell_type": "code",
   "execution_count": null,
   "id": "d87440bd",
   "metadata": {},
   "outputs": [],
   "source": []
  },
  {
   "cell_type": "code",
   "execution_count": 147,
   "id": "911302df",
   "metadata": {},
   "outputs": [
    {
     "name": "stdout",
     "output_type": "stream",
     "text": [
      "cp: cannot create regular file '/root/notebooks/result/prueba': No such file or directory\r\n"
     ]
    }
   ],
   "source": [
    "cp -r /root/notebooks/Resultados_final.ipynb  /root/notebooks/result/prueba "
   ]
  },
  {
   "cell_type": "code",
   "execution_count": 148,
   "id": "181e2f0c",
   "metadata": {},
   "outputs": [
    {
     "name": "stdout",
     "output_type": "stream",
     "text": [
      "cp: cannot create regular file '/root/notebooks/result/prueba': No such file or directory\r\n"
     ]
    }
   ],
   "source": [
    "cp -r /root/notebooks/guardar-resultados.ipynb  /root/notebooks/result/prueba"
   ]
  },
  {
   "cell_type": "code",
   "execution_count": 149,
   "id": "6ab7e35e",
   "metadata": {},
   "outputs": [
    {
     "name": "stdout",
     "output_type": "stream",
     "text": [
      "cp: target '/root/notebooks/result/prueba' is not a directory\r\n"
     ]
    }
   ],
   "source": [
    "cp -r /root/notebooks/guardar modelos ejecutados.ipynb  /root/notebooks/result/prueba"
   ]
  },
  {
   "cell_type": "code",
   "execution_count": 150,
   "id": "45770180",
   "metadata": {},
   "outputs": [
    {
     "name": "stdout",
     "output_type": "stream",
     "text": [
      "cp: target '/root/notebooks/result/prueba' is not a directory\r\n"
     ]
    }
   ],
   "source": [
    "cp -r /root/notebooks/guardar modelos ejecutados-LM.ipynb /root/notebooks/result/prueba"
   ]
  },
  {
   "cell_type": "code",
   "execution_count": 151,
   "id": "dc3e9857",
   "metadata": {},
   "outputs": [
    {
     "name": "stdout",
     "output_type": "stream",
     "text": [
      "exp-10.ipynb                             Experimento1_Complemento_Lekouch.ipynb\r\n",
      "exp-1.ipynb                              Experimento2_Complemento_Lekouch.ipynb\r\n",
      "exp-2.ipynb                              Experimento3_Complemento_Lekouch.ipynb\r\n",
      "exp-3.ipynb                              Experimento4_Complemento_Lekouch.ipynb\r\n",
      "exp-4.ipynb                              Experimento5_Complemento_Lekouch.ipynb\r\n",
      "exp-5.ipynb                              Experimento6_Complemento_Lekouch.ipynb\r\n",
      "exp-6.ipynb                              Experimento7_Complemento_Lekouch.ipynb\r\n",
      "exp-7.ipynb                              Experimento8_Complemento_Lekouch.ipynb\r\n",
      "exp-8.ipynb                              Experimento9_Complemento_Lekouch.ipynb\r\n",
      "exp-9.ipynb                              guardar-resultados.ipynb\r\n",
      "Experimento10_Complemento_Lekouch.ipynb  Resultados_final.ipynb\r\n"
     ]
    }
   ],
   "source": [
    "ls"
   ]
  },
  {
   "cell_type": "code",
   "execution_count": 152,
   "id": "7bc0adc1",
   "metadata": {},
   "outputs": [
    {
     "data": {
      "text/plain": [
       "'/root/result/prueba'"
      ]
     },
     "execution_count": 152,
     "metadata": {},
     "output_type": "execute_result"
    }
   ],
   "source": [
    "pwd"
   ]
  },
  {
   "cell_type": "code",
   "execution_count": null,
   "id": "607a983f",
   "metadata": {},
   "outputs": [],
   "source": []
  },
  {
   "cell_type": "code",
   "execution_count": 153,
   "id": "aac7f3eb",
   "metadata": {},
   "outputs": [
    {
     "name": "stdout",
     "output_type": "stream",
     "text": [
      "exp-10.ipynb                             Experimento1_Complemento_Lekouch.ipynb\r\n",
      "exp-1.ipynb                              Experimento2_Complemento_Lekouch.ipynb\r\n",
      "exp-2.ipynb                              Experimento3_Complemento_Lekouch.ipynb\r\n",
      "exp-3.ipynb                              Experimento4_Complemento_Lekouch.ipynb\r\n",
      "exp-4.ipynb                              Experimento5_Complemento_Lekouch.ipynb\r\n",
      "exp-5.ipynb                              Experimento6_Complemento_Lekouch.ipynb\r\n",
      "exp-6.ipynb                              Experimento7_Complemento_Lekouch.ipynb\r\n",
      "exp-7.ipynb                              Experimento8_Complemento_Lekouch.ipynb\r\n",
      "exp-8.ipynb                              Experimento9_Complemento_Lekouch.ipynb\r\n",
      "exp-9.ipynb                              guardar-resultados.ipynb\r\n",
      "Experimento10_Complemento_Lekouch.ipynb  Resultados_final.ipynb\r\n"
     ]
    }
   ],
   "source": [
    "ls"
   ]
  },
  {
   "cell_type": "code",
   "execution_count": 154,
   "id": "6da61a99",
   "metadata": {},
   "outputs": [
    {
     "name": "stdout",
     "output_type": "stream",
     "text": [
      "/root/result\n"
     ]
    }
   ],
   "source": [
    "cd .."
   ]
  },
  {
   "cell_type": "code",
   "execution_count": null,
   "id": "55abe649",
   "metadata": {},
   "outputs": [],
   "source": []
  },
  {
   "cell_type": "code",
   "execution_count": 155,
   "id": "95158cb3",
   "metadata": {},
   "outputs": [
    {
     "name": "stdout",
     "output_type": "stream",
     "text": [
      "On branch main\r\n",
      "Your branch is up to date with 'origin/main'.\r\n",
      "\r\n",
      "nothing to commit, working tree clean\r\n"
     ]
    }
   ],
   "source": [
    "!git status\n"
   ]
  },
  {
   "cell_type": "code",
   "execution_count": 156,
   "id": "90b40cf9",
   "metadata": {},
   "outputs": [],
   "source": [
    "!git add ."
   ]
  },
  {
   "cell_type": "code",
   "execution_count": 157,
   "id": "d113eac5",
   "metadata": {},
   "outputs": [],
   "source": [
    "!git config user.email \"rodrigo.montenegro@alumnos.uv.cl\"\n",
    "\n",
    "!git config user.name \"Rodrigomontenegrofarias\""
   ]
  },
  {
   "cell_type": "markdown",
   "id": "fb790f92",
   "metadata": {},
   "source": [
    "##### "
   ]
  },
  {
   "cell_type": "code",
   "execution_count": 158,
   "id": "cdf6966f",
   "metadata": {},
   "outputs": [
    {
     "name": "stdout",
     "output_type": "stream",
     "text": [
      "On branch main\r\n",
      "Your branch is up to date with 'origin/main'.\r\n",
      "\r\n",
      "nothing to commit, working tree clean\r\n"
     ]
    }
   ],
   "source": [
    "!git commit -m 'commit message'  # commit in Colab"
   ]
  },
  {
   "cell_type": "code",
   "execution_count": 159,
   "id": "ea14c70c",
   "metadata": {},
   "outputs": [
    {
     "name": "stdout",
     "output_type": "stream",
     "text": [
      "Everything up-to-date\r\n"
     ]
    }
   ],
   "source": [
    "!git push origin main       # push to github"
   ]
  },
  {
   "cell_type": "code",
   "execution_count": null,
   "id": "ce8724e8",
   "metadata": {},
   "outputs": [],
   "source": []
  },
  {
   "cell_type": "code",
   "execution_count": null,
   "id": "23382360",
   "metadata": {},
   "outputs": [],
   "source": []
  },
  {
   "cell_type": "code",
   "execution_count": null,
   "id": "79efe504",
   "metadata": {},
   "outputs": [],
   "source": []
  },
  {
   "cell_type": "code",
   "execution_count": null,
   "id": "243943ed",
   "metadata": {},
   "outputs": [],
   "source": []
  }
 ],
 "metadata": {
  "kernelspec": {
   "display_name": "Python 3",
   "language": "python",
   "name": "python3"
  },
  "language_info": {
   "codemirror_mode": {
    "name": "ipython",
    "version": 3
   },
   "file_extension": ".py",
   "mimetype": "text/x-python",
   "name": "python",
   "nbconvert_exporter": "python",
   "pygments_lexer": "ipython3",
   "version": "3.6.9"
  }
 },
 "nbformat": 4,
 "nbformat_minor": 5
}
