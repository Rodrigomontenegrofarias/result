{
  "nbformat": 4,
  "nbformat_minor": 0,
  "metadata": {
    "colab": {
      "provenance": [],
      "collapsed_sections": [
        "nW3EBhkGT2nq",
        "-B7QfKsnT5eL",
        "2fPwNQr-UBj6",
        "h9KOMnmtUCD9",
        "G0SkcXd6UCX_",
        "si1hChVFrOSL",
        "gXBkjNykUZqn",
        "P8yMOgwIUbaW",
        "OPfQ1dyIUdqV",
        "k-jSFDfXrOf5",
        "WHaGh6RTUhOv",
        "3VMWEyjKUjLB",
        "ZhNBfmlaUlrG"
      ]
    },
    "kernelspec": {
      "name": "python3",
      "display_name": "Python 3"
    },
    "language_info": {
      "name": "python"
    }
  },
  "cells": [
    {
      "cell_type": "code",
      "execution_count": null,
      "metadata": {
        "id": "AhHg_HE4jRWW"
      },
      "outputs": [],
      "source": [
        "\n",
        "\n",
        "\n",
        "# ingresos de bases de datos guarddadas mediante git"
      ]
    },
    {
      "cell_type": "markdown",
      "source": [
        "# Ingreso de bases de datos y coneccion a drive."
      ],
      "metadata": {
        "id": "qVD_3OkAFqJO"
      }
    },
    {
      "cell_type": "code",
      "source": [
        "!git clone https://github.com/Rodrigomontenegrofarias/Rodrigomontenegrofarias.git"
      ],
      "metadata": {
        "colab": {
          "base_uri": "https://localhost:8080/"
        },
        "id": "FlzdTbHej-9b",
        "outputId": "279ac251-258d-49bf-f9c8-21ca4ba4b65e"
      },
      "execution_count": null,
      "outputs": [
        {
          "output_type": "stream",
          "name": "stdout",
          "text": [
            "Cloning into 'Rodrigomontenegrofarias'...\n",
            "remote: Enumerating objects: 1180, done.\u001b[K\n",
            "remote: Counting objects: 100% (376/376), done.\u001b[K\n",
            "remote: Compressing objects: 100% (221/221), done.\u001b[K\n",
            "remote: Total 1180 (delta 224), reused 300 (delta 155), pack-reused 804\u001b[K\n",
            "Receiving objects: 100% (1180/1180), 78.02 MiB | 23.25 MiB/s, done.\n",
            "Resolving deltas: 100% (780/780), done.\n",
            "Checking out files: 100% (204/204), done.\n"
          ]
        }
      ]
    },
    {
      "cell_type": "code",
      "source": [
        " #Conexion mediante drive\n",
        "from google.colab import drive\n",
        "drive.mount('/content/drive')"
      ],
      "metadata": {
        "colab": {
          "base_uri": "https://localhost:8080/"
        },
        "id": "fdpeVlEcmi3h",
        "outputId": "a2e33e9b-be45-4c1c-ca0b-5f3e6d84bc68"
      },
      "execution_count": null,
      "outputs": [
        {
          "output_type": "stream",
          "name": "stdout",
          "text": [
            "Mounted at /content/drive\n"
          ]
        }
      ]
    },
    {
      "cell_type": "code",
      "source": [
        "#cargamos librerias\n",
        "import pandas as pd\n",
        "import numpy as np\n",
        "#graficas\n",
        "import matplotlib.pylab as plt\n",
        "%matplotlib inline\n",
        "plt.rcParams['figure.figsize'] = (16,9)\n",
        "plt.style.use('fast')\n",
        "#ver redes neuronales\n",
        "from keras.models import Sequential\n",
        "from keras.layers import Dense,Activation,Flatten\n",
        "#sklear para ver modelos machine learning\n",
        "from sklearn.preprocessing import MinMaxScaler\n",
        "%matplotlib inline\n",
        "\n",
        "import matplotlib.pyplot as plt\n",
        "# plt.xkcd()\n",
        "# plt.style.use('ggplot')\n",
        "%matplotlib inline\n",
        "\n",
        "import matplotlib as mpl\n",
        "mpl.rcParams['figure.figsize'] = (20, 8)"
      ],
      "metadata": {
        "id": "4anOGL76mcpV"
      },
      "execution_count": null,
      "outputs": []
    },
    {
      "cell_type": "code",
      "source": [],
      "metadata": {
        "id": "gTfI6qFLutUE"
      },
      "execution_count": null,
      "outputs": []
    },
    {
      "cell_type": "code",
      "source": [
        "# solo el primer se encuentra en kl/h se debe cambiar a m/S\n",
        "\n",
        "##Imprlementar desde github:\n",
        "\n",
        "datos1=pd.read_csv('/content/Rodrigomontenegrofarias/resultados/Prueba-1.0.csv',decimal=\",\", encoding='utf-8',sep=u',')\n",
        "datos2=pd.read_csv('/content/Rodrigomontenegrofarias/resultados/Prueba-2.0.csv',decimal=\",\",sep=u',', encoding='utf-8', dayfirst=True)\n",
        "datos3=pd.read_csv('/content/Rodrigomontenegrofarias/resultados/Prueba-3.0.csv',decimal=\",\",sep=u',', encoding='utf-8', dayfirst=True)\n",
        "datos4=pd.read_csv('/content/Rodrigomontenegrofarias/resultados/Prueba-4.0.csv',decimal=\",\",sep=u',', encoding='utf-8', dayfirst=True)\n",
        "datos5=pd.read_csv('/content/Rodrigomontenegrofarias/resultados/Prueba-5.0.csv',decimal=\",\",sep=u',', encoding='utf-8', dayfirst=True)\n",
        "datos6=pd.read_csv('/content/Rodrigomontenegrofarias/resultados/Prueba-6.0.csv',decimal=\",\",sep=u',', encoding='utf-8', dayfirst=True)\n",
        "datos7=pd.read_csv('/content/Rodrigomontenegrofarias/resultados/Prueba-7.0.csv',decimal=\",\",sep=u',', encoding='utf-8',  dayfirst=True)\n",
        "datos8=pd.read_csv('/content/Rodrigomontenegrofarias/resultados/Prueba-8.0.csv',decimal=\",\",sep=u',', encoding='utf-8', dayfirst=True)\n",
        "datos9=pd.read_csv('/content/Rodrigomontenegrofarias/resultados/Prueba-9.0.csv',decimal=\",\",sep=u',', encoding='utf-8', dayfirst=True)\n",
        "datos10=pd.read_csv('/content/Rodrigomontenegrofarias/resultados/Prueba-10.0.csv',decimal=\",\",sep=u',', encoding='utf-8',dayfirst=True)\n",
        "\n",
        "#datos11=pd.read_csv('/content/Rodrigomontenegrofarias/resultados/Prueba11.0.csv',decimal=\",\",sep=u',', encoding='utf-8',  dayfirst=True)\n",
        "#datos12=pd.read_csv('/content/Rodrigomontenegrofarias/resultados/Prueba12.0.csv',decimal=\",\",sep=u',', encoding='utf-8', dayfirst=True)\n",
        "#datos13=pd.read_csv('/content/Rodrigomontenegrofarias/Prueba13.0.csv',decimal=\",\",sep=u',', encoding='utf-8',  dayfirst=True)\n",
        "#datos14=pd.read_csv('/content/Rodrigomontenegrofarias/Prueba14.0.csv',decimal=\",\",sep=u',', encoding='utf-8',  dayfirst=True)\n",
        "#datos15=pd.read_csv('/content/Rodrigomontenegrofarias/Prueba15.0.csv',decimal=\",\",sep=u',', encoding='utf-8',  dayfirst=True)\n",
        "#datos16=pd.read_csv('/content/Rodrigomontenegrofarias/Prueba16.0.csv',decimal=\",\",sep=u',', encoding='utf-8',  dayfirst=True)\n",
        "#datos17=pd.read_csv('/content/Rodrigomontenegrofarias/Prueba17.0.csv',decimal=\",\",sep=u',', encoding='utf-8',  dayfirst=True)\n",
        "#datos18=pd.read_csv('/content/Rodrigomontenegrofarias/Prueba18.0.csv',decimal=\",\",sep=u',', encoding='utf-8', dayfirst=True)\n",
        "#datos19=pd.read_csv('/content/Rodrigomontenegrofarias/Prueba19.0.csv',decimal=\",\",sep=u',', encoding='utf-8',  dayfirst=True)\n",
        "#datos20=pd.read_csv('/content/Rodrigomontenegrofarias/Prueba20.0.csv',decimal=\",\",sep=u',', encoding='utf-8', dayfirst=True)\n",
        "#Fecha\n",
        "#datos1 = datos1.rename(columns={'Gust(km/h)':'Gust(m/s)'})\n",
        "#datos1 = datos1.rename(columns={'Wind Speed(km/h)':'Wind Speed(m/s)'})\n",
        "\n",
        "\n",
        "#df.columns\n",
        "#Gust(km/h)\n",
        " \n",
        "datos1"
      ],
      "metadata": {
        "colab": {
          "base_uri": "https://localhost:8080/",
          "height": 160
        },
        "id": "W_7r1YKEkX3y",
        "outputId": "e422f88b-5bf9-4c30-8467-d120b37eb518"
      },
      "execution_count": null,
      "outputs": [
        {
          "output_type": "execute_result",
          "data": {
            "text/plain": [
              "   Unnamed: 0 Pruebas       coef(a)_LM-PD      rsquared_LM-PD  \\\n",
              "0           0     1.0  0.3448916093251224  0.2737214723125857   \n",
              "\n",
              "  Standard Error_LM-PD         coef(b)_LM-PD   coef(a)_Acu-LM-PD  \\\n",
              "0  0.05086275544872797  0.023122947771292923  1.0170936627502627   \n",
              "\n",
              "   rsquared_Acu-LM-PD Standard Error_Acu-LM-PD     coef(b)_Acu-LM-PD  \\\n",
              "0  0.9723499524310651     0.015528077059116876  -0.05468341341566464   \n",
              "\n",
              "       coef(a)LM-6AM      rsquaredLM-6AM Standard ErrorLM-6AM  \\\n",
              "0  0.405425563840957  0.4320468866267727  0.04208448642967186   \n",
              "\n",
              "         coef(b)LM-6AM  coef(a)_Acu-LM-6AM rsquared_Acu-LM-6AM  \\\n",
              "0  0.02677082329771309  1.1225855186133282  0.9734170151795021   \n",
              "\n",
              "  Standard Error_Acu-LM-6AM    coef(b)_Acu-LM-6AM  \n",
              "0      0.016795460805583744  -0.21897326627110675  "
            ],
            "text/html": [
              "\n",
              "  <div id=\"df-04c3dd84-3714-43ef-a16c-186101dc01b3\">\n",
              "    <div class=\"colab-df-container\">\n",
              "      <div>\n",
              "<style scoped>\n",
              "    .dataframe tbody tr th:only-of-type {\n",
              "        vertical-align: middle;\n",
              "    }\n",
              "\n",
              "    .dataframe tbody tr th {\n",
              "        vertical-align: top;\n",
              "    }\n",
              "\n",
              "    .dataframe thead th {\n",
              "        text-align: right;\n",
              "    }\n",
              "</style>\n",
              "<table border=\"1\" class=\"dataframe\">\n",
              "  <thead>\n",
              "    <tr style=\"text-align: right;\">\n",
              "      <th></th>\n",
              "      <th>Unnamed: 0</th>\n",
              "      <th>Pruebas</th>\n",
              "      <th>coef(a)_LM-PD</th>\n",
              "      <th>rsquared_LM-PD</th>\n",
              "      <th>Standard Error_LM-PD</th>\n",
              "      <th>coef(b)_LM-PD</th>\n",
              "      <th>coef(a)_Acu-LM-PD</th>\n",
              "      <th>rsquared_Acu-LM-PD</th>\n",
              "      <th>Standard Error_Acu-LM-PD</th>\n",
              "      <th>coef(b)_Acu-LM-PD</th>\n",
              "      <th>coef(a)LM-6AM</th>\n",
              "      <th>rsquaredLM-6AM</th>\n",
              "      <th>Standard ErrorLM-6AM</th>\n",
              "      <th>coef(b)LM-6AM</th>\n",
              "      <th>coef(a)_Acu-LM-6AM</th>\n",
              "      <th>rsquared_Acu-LM-6AM</th>\n",
              "      <th>Standard Error_Acu-LM-6AM</th>\n",
              "      <th>coef(b)_Acu-LM-6AM</th>\n",
              "    </tr>\n",
              "  </thead>\n",
              "  <tbody>\n",
              "    <tr>\n",
              "      <th>0</th>\n",
              "      <td>0</td>\n",
              "      <td>1.0</td>\n",
              "      <td>0.3448916093251224</td>\n",
              "      <td>0.2737214723125857</td>\n",
              "      <td>0.05086275544872797</td>\n",
              "      <td>0.023122947771292923</td>\n",
              "      <td>1.0170936627502627</td>\n",
              "      <td>0.9723499524310651</td>\n",
              "      <td>0.015528077059116876</td>\n",
              "      <td>-0.05468341341566464</td>\n",
              "      <td>0.405425563840957</td>\n",
              "      <td>0.4320468866267727</td>\n",
              "      <td>0.04208448642967186</td>\n",
              "      <td>0.02677082329771309</td>\n",
              "      <td>1.1225855186133282</td>\n",
              "      <td>0.9734170151795021</td>\n",
              "      <td>0.016795460805583744</td>\n",
              "      <td>-0.21897326627110675</td>\n",
              "    </tr>\n",
              "  </tbody>\n",
              "</table>\n",
              "</div>\n",
              "      <button class=\"colab-df-convert\" onclick=\"convertToInteractive('df-04c3dd84-3714-43ef-a16c-186101dc01b3')\"\n",
              "              title=\"Convert this dataframe to an interactive table.\"\n",
              "              style=\"display:none;\">\n",
              "        \n",
              "  <svg xmlns=\"http://www.w3.org/2000/svg\" height=\"24px\"viewBox=\"0 0 24 24\"\n",
              "       width=\"24px\">\n",
              "    <path d=\"M0 0h24v24H0V0z\" fill=\"none\"/>\n",
              "    <path d=\"M18.56 5.44l.94 2.06.94-2.06 2.06-.94-2.06-.94-.94-2.06-.94 2.06-2.06.94zm-11 1L8.5 8.5l.94-2.06 2.06-.94-2.06-.94L8.5 2.5l-.94 2.06-2.06.94zm10 10l.94 2.06.94-2.06 2.06-.94-2.06-.94-.94-2.06-.94 2.06-2.06.94z\"/><path d=\"M17.41 7.96l-1.37-1.37c-.4-.4-.92-.59-1.43-.59-.52 0-1.04.2-1.43.59L10.3 9.45l-7.72 7.72c-.78.78-.78 2.05 0 2.83L4 21.41c.39.39.9.59 1.41.59.51 0 1.02-.2 1.41-.59l7.78-7.78 2.81-2.81c.8-.78.8-2.07 0-2.86zM5.41 20L4 18.59l7.72-7.72 1.47 1.35L5.41 20z\"/>\n",
              "  </svg>\n",
              "      </button>\n",
              "      \n",
              "  <style>\n",
              "    .colab-df-container {\n",
              "      display:flex;\n",
              "      flex-wrap:wrap;\n",
              "      gap: 12px;\n",
              "    }\n",
              "\n",
              "    .colab-df-convert {\n",
              "      background-color: #E8F0FE;\n",
              "      border: none;\n",
              "      border-radius: 50%;\n",
              "      cursor: pointer;\n",
              "      display: none;\n",
              "      fill: #1967D2;\n",
              "      height: 32px;\n",
              "      padding: 0 0 0 0;\n",
              "      width: 32px;\n",
              "    }\n",
              "\n",
              "    .colab-df-convert:hover {\n",
              "      background-color: #E2EBFA;\n",
              "      box-shadow: 0px 1px 2px rgba(60, 64, 67, 0.3), 0px 1px 3px 1px rgba(60, 64, 67, 0.15);\n",
              "      fill: #174EA6;\n",
              "    }\n",
              "\n",
              "    [theme=dark] .colab-df-convert {\n",
              "      background-color: #3B4455;\n",
              "      fill: #D2E3FC;\n",
              "    }\n",
              "\n",
              "    [theme=dark] .colab-df-convert:hover {\n",
              "      background-color: #434B5C;\n",
              "      box-shadow: 0px 1px 3px 1px rgba(0, 0, 0, 0.15);\n",
              "      filter: drop-shadow(0px 1px 2px rgba(0, 0, 0, 0.3));\n",
              "      fill: #FFFFFF;\n",
              "    }\n",
              "  </style>\n",
              "\n",
              "      <script>\n",
              "        const buttonEl =\n",
              "          document.querySelector('#df-04c3dd84-3714-43ef-a16c-186101dc01b3 button.colab-df-convert');\n",
              "        buttonEl.style.display =\n",
              "          google.colab.kernel.accessAllowed ? 'block' : 'none';\n",
              "\n",
              "        async function convertToInteractive(key) {\n",
              "          const element = document.querySelector('#df-04c3dd84-3714-43ef-a16c-186101dc01b3');\n",
              "          const dataTable =\n",
              "            await google.colab.kernel.invokeFunction('convertToInteractive',\n",
              "                                                     [key], {});\n",
              "          if (!dataTable) return;\n",
              "\n",
              "          const docLinkHtml = 'Like what you see? Visit the ' +\n",
              "            '<a target=\"_blank\" href=https://colab.research.google.com/notebooks/data_table.ipynb>data table notebook</a>'\n",
              "            + ' to learn more about interactive tables.';\n",
              "          element.innerHTML = '';\n",
              "          dataTable['output_type'] = 'display_data';\n",
              "          await google.colab.output.renderOutput(dataTable, element);\n",
              "          const docLink = document.createElement('div');\n",
              "          docLink.innerHTML = docLinkHtml;\n",
              "          element.appendChild(docLink);\n",
              "        }\n",
              "      </script>\n",
              "    </div>\n",
              "  </div>\n",
              "  "
            ]
          },
          "metadata": {},
          "execution_count": 5
        }
      ]
    },
    {
      "cell_type": "code",
      "source": [
        "datos1"
      ],
      "metadata": {
        "colab": {
          "base_uri": "https://localhost:8080/",
          "height": 160
        },
        "id": "byAihJjFoIOP",
        "outputId": "8cbfe4b5-b6f2-4fc1-b595-6f9ec79ec2ff"
      },
      "execution_count": null,
      "outputs": [
        {
          "output_type": "execute_result",
          "data": {
            "text/plain": [
              "   Unnamed: 0 Pruebas       coef(a)_LM-PD      rsquared_LM-PD  \\\n",
              "0           0     1.0  0.3448916093251224  0.2737214723125857   \n",
              "\n",
              "  Standard Error_LM-PD         coef(b)_LM-PD   coef(a)_Acu-LM-PD  \\\n",
              "0  0.05086275544872797  0.023122947771292923  1.0170936627502627   \n",
              "\n",
              "   rsquared_Acu-LM-PD Standard Error_Acu-LM-PD     coef(b)_Acu-LM-PD  \\\n",
              "0  0.9723499524310651     0.015528077059116876  -0.05468341341566464   \n",
              "\n",
              "       coef(a)LM-6AM      rsquaredLM-6AM Standard ErrorLM-6AM  \\\n",
              "0  0.405425563840957  0.4320468866267727  0.04208448642967186   \n",
              "\n",
              "         coef(b)LM-6AM  coef(a)_Acu-LM-6AM rsquared_Acu-LM-6AM  \\\n",
              "0  0.02677082329771309  1.1225855186133282  0.9734170151795021   \n",
              "\n",
              "  Standard Error_Acu-LM-6AM    coef(b)_Acu-LM-6AM  \n",
              "0      0.016795460805583744  -0.21897326627110675  "
            ],
            "text/html": [
              "\n",
              "  <div id=\"df-887abf31-ae86-4043-879f-003ec7f46cdb\">\n",
              "    <div class=\"colab-df-container\">\n",
              "      <div>\n",
              "<style scoped>\n",
              "    .dataframe tbody tr th:only-of-type {\n",
              "        vertical-align: middle;\n",
              "    }\n",
              "\n",
              "    .dataframe tbody tr th {\n",
              "        vertical-align: top;\n",
              "    }\n",
              "\n",
              "    .dataframe thead th {\n",
              "        text-align: right;\n",
              "    }\n",
              "</style>\n",
              "<table border=\"1\" class=\"dataframe\">\n",
              "  <thead>\n",
              "    <tr style=\"text-align: right;\">\n",
              "      <th></th>\n",
              "      <th>Unnamed: 0</th>\n",
              "      <th>Pruebas</th>\n",
              "      <th>coef(a)_LM-PD</th>\n",
              "      <th>rsquared_LM-PD</th>\n",
              "      <th>Standard Error_LM-PD</th>\n",
              "      <th>coef(b)_LM-PD</th>\n",
              "      <th>coef(a)_Acu-LM-PD</th>\n",
              "      <th>rsquared_Acu-LM-PD</th>\n",
              "      <th>Standard Error_Acu-LM-PD</th>\n",
              "      <th>coef(b)_Acu-LM-PD</th>\n",
              "      <th>coef(a)LM-6AM</th>\n",
              "      <th>rsquaredLM-6AM</th>\n",
              "      <th>Standard ErrorLM-6AM</th>\n",
              "      <th>coef(b)LM-6AM</th>\n",
              "      <th>coef(a)_Acu-LM-6AM</th>\n",
              "      <th>rsquared_Acu-LM-6AM</th>\n",
              "      <th>Standard Error_Acu-LM-6AM</th>\n",
              "      <th>coef(b)_Acu-LM-6AM</th>\n",
              "    </tr>\n",
              "  </thead>\n",
              "  <tbody>\n",
              "    <tr>\n",
              "      <th>0</th>\n",
              "      <td>0</td>\n",
              "      <td>1.0</td>\n",
              "      <td>0.3448916093251224</td>\n",
              "      <td>0.2737214723125857</td>\n",
              "      <td>0.05086275544872797</td>\n",
              "      <td>0.023122947771292923</td>\n",
              "      <td>1.0170936627502627</td>\n",
              "      <td>0.9723499524310651</td>\n",
              "      <td>0.015528077059116876</td>\n",
              "      <td>-0.05468341341566464</td>\n",
              "      <td>0.405425563840957</td>\n",
              "      <td>0.4320468866267727</td>\n",
              "      <td>0.04208448642967186</td>\n",
              "      <td>0.02677082329771309</td>\n",
              "      <td>1.1225855186133282</td>\n",
              "      <td>0.9734170151795021</td>\n",
              "      <td>0.016795460805583744</td>\n",
              "      <td>-0.21897326627110675</td>\n",
              "    </tr>\n",
              "  </tbody>\n",
              "</table>\n",
              "</div>\n",
              "      <button class=\"colab-df-convert\" onclick=\"convertToInteractive('df-887abf31-ae86-4043-879f-003ec7f46cdb')\"\n",
              "              title=\"Convert this dataframe to an interactive table.\"\n",
              "              style=\"display:none;\">\n",
              "        \n",
              "  <svg xmlns=\"http://www.w3.org/2000/svg\" height=\"24px\"viewBox=\"0 0 24 24\"\n",
              "       width=\"24px\">\n",
              "    <path d=\"M0 0h24v24H0V0z\" fill=\"none\"/>\n",
              "    <path d=\"M18.56 5.44l.94 2.06.94-2.06 2.06-.94-2.06-.94-.94-2.06-.94 2.06-2.06.94zm-11 1L8.5 8.5l.94-2.06 2.06-.94-2.06-.94L8.5 2.5l-.94 2.06-2.06.94zm10 10l.94 2.06.94-2.06 2.06-.94-2.06-.94-.94-2.06-.94 2.06-2.06.94z\"/><path d=\"M17.41 7.96l-1.37-1.37c-.4-.4-.92-.59-1.43-.59-.52 0-1.04.2-1.43.59L10.3 9.45l-7.72 7.72c-.78.78-.78 2.05 0 2.83L4 21.41c.39.39.9.59 1.41.59.51 0 1.02-.2 1.41-.59l7.78-7.78 2.81-2.81c.8-.78.8-2.07 0-2.86zM5.41 20L4 18.59l7.72-7.72 1.47 1.35L5.41 20z\"/>\n",
              "  </svg>\n",
              "      </button>\n",
              "      \n",
              "  <style>\n",
              "    .colab-df-container {\n",
              "      display:flex;\n",
              "      flex-wrap:wrap;\n",
              "      gap: 12px;\n",
              "    }\n",
              "\n",
              "    .colab-df-convert {\n",
              "      background-color: #E8F0FE;\n",
              "      border: none;\n",
              "      border-radius: 50%;\n",
              "      cursor: pointer;\n",
              "      display: none;\n",
              "      fill: #1967D2;\n",
              "      height: 32px;\n",
              "      padding: 0 0 0 0;\n",
              "      width: 32px;\n",
              "    }\n",
              "\n",
              "    .colab-df-convert:hover {\n",
              "      background-color: #E2EBFA;\n",
              "      box-shadow: 0px 1px 2px rgba(60, 64, 67, 0.3), 0px 1px 3px 1px rgba(60, 64, 67, 0.15);\n",
              "      fill: #174EA6;\n",
              "    }\n",
              "\n",
              "    [theme=dark] .colab-df-convert {\n",
              "      background-color: #3B4455;\n",
              "      fill: #D2E3FC;\n",
              "    }\n",
              "\n",
              "    [theme=dark] .colab-df-convert:hover {\n",
              "      background-color: #434B5C;\n",
              "      box-shadow: 0px 1px 3px 1px rgba(0, 0, 0, 0.15);\n",
              "      filter: drop-shadow(0px 1px 2px rgba(0, 0, 0, 0.3));\n",
              "      fill: #FFFFFF;\n",
              "    }\n",
              "  </style>\n",
              "\n",
              "      <script>\n",
              "        const buttonEl =\n",
              "          document.querySelector('#df-887abf31-ae86-4043-879f-003ec7f46cdb button.colab-df-convert');\n",
              "        buttonEl.style.display =\n",
              "          google.colab.kernel.accessAllowed ? 'block' : 'none';\n",
              "\n",
              "        async function convertToInteractive(key) {\n",
              "          const element = document.querySelector('#df-887abf31-ae86-4043-879f-003ec7f46cdb');\n",
              "          const dataTable =\n",
              "            await google.colab.kernel.invokeFunction('convertToInteractive',\n",
              "                                                     [key], {});\n",
              "          if (!dataTable) return;\n",
              "\n",
              "          const docLinkHtml = 'Like what you see? Visit the ' +\n",
              "            '<a target=\"_blank\" href=https://colab.research.google.com/notebooks/data_table.ipynb>data table notebook</a>'\n",
              "            + ' to learn more about interactive tables.';\n",
              "          element.innerHTML = '';\n",
              "          dataTable['output_type'] = 'display_data';\n",
              "          await google.colab.output.renderOutput(dataTable, element);\n",
              "          const docLink = document.createElement('div');\n",
              "          docLink.innerHTML = docLinkHtml;\n",
              "          element.appendChild(docLink);\n",
              "        }\n",
              "      </script>\n",
              "    </div>\n",
              "  </div>\n",
              "  "
            ]
          },
          "metadata": {},
          "execution_count": 6
        }
      ]
    },
    {
      "cell_type": "code",
      "source": [
        "#datostotal = [datos1,datos2,datos3,datos4,datos5,datos6,datos7,datos8,datos9,datos10,datos11,datos12,datos13,datos14,datos15,datos16,datos17,datos18,datos19,datos20, ]\n",
        "datostotal = [datos1,datos2,datos3,datos4,datos5,datos6,datos7,datos8,datos9,datos10,]\n",
        "#datostotal = [datos1,datos2,datos3,datos4,datos5,datos6,datos10,datos11,datos12,datos13,datos14,datos15,datos16,datos17,datos18,datos19,datos20, ]\n",
        "resultadoDatos= pd.concat(datostotal)"
      ],
      "metadata": {
        "id": "byO5akVLqfaZ"
      },
      "execution_count": null,
      "outputs": []
    },
    {
      "cell_type": "code",
      "source": [
        "resultadoDatos"
      ],
      "metadata": {
        "colab": {
          "base_uri": "https://localhost:8080/",
          "height": 432
        },
        "id": "_v5HqXv0q_qh",
        "outputId": "ca533666-7903-4947-b86c-d6ce0bb97727"
      },
      "execution_count": null,
      "outputs": [
        {
          "output_type": "execute_result",
          "data": {
            "text/plain": [
              "   Unnamed: 0 Pruebas        coef(a)_LM-PD       rsquared_LM-PD  \\\n",
              "0           0     1.0   0.3448916093251224   0.2737214723125857   \n",
              "0           0     2.0   0.3384392271840786  0.29088414502040316   \n",
              "0           0     3.0   0.3295416771683565  0.39736486574900576   \n",
              "0           0     4.0   0.5119855377013953   0.4383135319931756   \n",
              "0           0     5.0   0.2949921191697954   0.2621002232898617   \n",
              "0           0     6.0   0.3707147896934069   0.2326103556629825   \n",
              "0           0     7.0  0.30235271522295387  0.23795240693635944   \n",
              "0           0     8.0   0.3685708671965544  0.27292784925267166   \n",
              "0           0     9.0  0.30229156260668477  0.24128407617167635   \n",
              "0           0    10.0   0.3662983073952996  0.25342849654956046   \n",
              "\n",
              "   Standard Error_LM-PD         coef(b)_LM-PD   coef(a)_Acu-LM-PD  \\\n",
              "0   0.05086275544872797  0.023122947771292923  1.0170936627502627   \n",
              "0   0.04784090369206317   0.02622371980474786  1.1011250178370613   \n",
              "0  0.036742009829835304    0.0316698073447183  1.3022539561409954   \n",
              "0   0.05247256527777056  0.022588092830340523  1.1762805417799522   \n",
              "0   0.04481211912895316   0.02886396697884401  1.1511215936473926   \n",
              "0   0.06096118487396473  0.021321550789325117  0.9959901627901709   \n",
              "0   0.04898690455628752  0.026763487894768075  1.1071300551466963   \n",
              "0   0.05446354631412719  0.022845842161054838  1.0629157655202637   \n",
              "0   0.04853124322243194  0.028387087285049233  1.1535955260475967   \n",
              "0   0.05691975451101661  0.026874735593339652    1.19302171084203   \n",
              "\n",
              "   rsquared_Acu-LM-PD Standard Error_Acu-LM-PD     coef(b)_Acu-LM-PD  \\\n",
              "0  0.9723499524310651     0.015528077059116876  -0.05468341341566464   \n",
              "0  0.9699883698417614      0.01753550364066169  -0.14340996296689443   \n",
              "0  0.9780408396868182     0.017666281261754558   -0.2762006230308237   \n",
              "0   0.975611293168343      0.01683786307885988   0.05298720106357638   \n",
              "0  0.9711842520020526     0.017951693280621933  -0.16360892149339995   \n",
              "0  0.9672423831244175     0.016594479215149862  0.019882089771569078   \n",
              "0   0.972132542842993      0.01697089147646037  -0.12996192404255313   \n",
              "0  0.9697849863091593       0.0169860579786879  -0.07432668996284414   \n",
              "0  0.9706041932707491     0.018175872102816987    -0.161627670408428   \n",
              "0  0.9699321393071813      0.01901730724071522  -0.12760651512290785   \n",
              "\n",
              "         coef(a)LM-6AM       rsquaredLM-6AM  Standard ErrorLM-6AM  \\\n",
              "0    0.405425563840957   0.4320468866267727   0.04208448642967186   \n",
              "0  0.30463980497851345  0.24857934248969682     0.047952998616504   \n",
              "0   0.3225550085036013   0.2922784725927662   0.04544192101119046   \n",
              "0   0.2639773040036066  0.23051808732318924  0.043664990304068126   \n",
              "0  0.27526146147330544  0.23863235438039732   0.04451414363793507   \n",
              "0   0.2669237143429106    0.254554549668944   0.04135468735348321   \n",
              "0   0.3110766150660944   0.2650101755727886   0.04690259384877881   \n",
              "0    0.260503407729115  0.21514770609844613   0.04504629305845277   \n",
              "0   0.1922839085804816  0.10028240904861219  0.052143939149611025   \n",
              "0  0.26102023162572263   0.1973359323286723   0.04766044294419758   \n",
              "\n",
              "          coef(b)LM-6AM  coef(a)_Acu-LM-6AM rsquared_Acu-LM-6AM  \\\n",
              "0   0.02677082329771309  1.1225855186133282  0.9734170151795021   \n",
              "0  0.024742636474964087   0.968637281706651  0.9677512953892099   \n",
              "0  0.025030597437458366  1.0053936134596329  0.9712699344404365   \n",
              "0   0.02145285479268879  0.8873194815011995  0.9683090260432446   \n",
              "0  0.022540864319768275  0.9289973667958005  0.9692132808352554   \n",
              "0    0.0219704462264907  0.9017571111056688  0.9710085920084468   \n",
              "0  0.025498011614105164  0.9960323347920215  0.9697861808331436   \n",
              "0  0.020114074582478554  0.8405274954531445  0.9698072846789967   \n",
              "0  0.018017465732681932  0.6896921546109576  0.9529625832800007   \n",
              "0   0.01812006925928348  0.7889799795709258  0.9660490756052982   \n",
              "\n",
              "  Standard Error_Acu-LM-6AM    coef(b)_Acu-LM-6AM  \n",
              "0      0.016795460805583744  -0.21897326627110675  \n",
              "0       0.01600867999700855  -0.34580718709045954  \n",
              "0       0.01565505301440428   -0.3577481886219281  \n",
              "0      0.014533188388900086  -0.46454872218318227  \n",
              "0      0.014990171296434424  -0.47251467425127264  \n",
              "0      0.014106938663832742  -0.43709569807363347  \n",
              "0       0.01591689461883248  -0.33399661995859153  \n",
              "0       0.01342704277598787   -0.4129210256392072  \n",
              "0      0.013872641961757587  -0.37681383413747327  \n",
              "0      0.013390977237062649   -0.4357851271795143  "
            ],
            "text/html": [
              "\n",
              "  <div id=\"df-d2e00dd1-c550-4d04-bd59-b70116420aac\">\n",
              "    <div class=\"colab-df-container\">\n",
              "      <div>\n",
              "<style scoped>\n",
              "    .dataframe tbody tr th:only-of-type {\n",
              "        vertical-align: middle;\n",
              "    }\n",
              "\n",
              "    .dataframe tbody tr th {\n",
              "        vertical-align: top;\n",
              "    }\n",
              "\n",
              "    .dataframe thead th {\n",
              "        text-align: right;\n",
              "    }\n",
              "</style>\n",
              "<table border=\"1\" class=\"dataframe\">\n",
              "  <thead>\n",
              "    <tr style=\"text-align: right;\">\n",
              "      <th></th>\n",
              "      <th>Unnamed: 0</th>\n",
              "      <th>Pruebas</th>\n",
              "      <th>coef(a)_LM-PD</th>\n",
              "      <th>rsquared_LM-PD</th>\n",
              "      <th>Standard Error_LM-PD</th>\n",
              "      <th>coef(b)_LM-PD</th>\n",
              "      <th>coef(a)_Acu-LM-PD</th>\n",
              "      <th>rsquared_Acu-LM-PD</th>\n",
              "      <th>Standard Error_Acu-LM-PD</th>\n",
              "      <th>coef(b)_Acu-LM-PD</th>\n",
              "      <th>coef(a)LM-6AM</th>\n",
              "      <th>rsquaredLM-6AM</th>\n",
              "      <th>Standard ErrorLM-6AM</th>\n",
              "      <th>coef(b)LM-6AM</th>\n",
              "      <th>coef(a)_Acu-LM-6AM</th>\n",
              "      <th>rsquared_Acu-LM-6AM</th>\n",
              "      <th>Standard Error_Acu-LM-6AM</th>\n",
              "      <th>coef(b)_Acu-LM-6AM</th>\n",
              "    </tr>\n",
              "  </thead>\n",
              "  <tbody>\n",
              "    <tr>\n",
              "      <th>0</th>\n",
              "      <td>0</td>\n",
              "      <td>1.0</td>\n",
              "      <td>0.3448916093251224</td>\n",
              "      <td>0.2737214723125857</td>\n",
              "      <td>0.05086275544872797</td>\n",
              "      <td>0.023122947771292923</td>\n",
              "      <td>1.0170936627502627</td>\n",
              "      <td>0.9723499524310651</td>\n",
              "      <td>0.015528077059116876</td>\n",
              "      <td>-0.05468341341566464</td>\n",
              "      <td>0.405425563840957</td>\n",
              "      <td>0.4320468866267727</td>\n",
              "      <td>0.04208448642967186</td>\n",
              "      <td>0.02677082329771309</td>\n",
              "      <td>1.1225855186133282</td>\n",
              "      <td>0.9734170151795021</td>\n",
              "      <td>0.016795460805583744</td>\n",
              "      <td>-0.21897326627110675</td>\n",
              "    </tr>\n",
              "    <tr>\n",
              "      <th>0</th>\n",
              "      <td>0</td>\n",
              "      <td>2.0</td>\n",
              "      <td>0.3384392271840786</td>\n",
              "      <td>0.29088414502040316</td>\n",
              "      <td>0.04784090369206317</td>\n",
              "      <td>0.02622371980474786</td>\n",
              "      <td>1.1011250178370613</td>\n",
              "      <td>0.9699883698417614</td>\n",
              "      <td>0.01753550364066169</td>\n",
              "      <td>-0.14340996296689443</td>\n",
              "      <td>0.30463980497851345</td>\n",
              "      <td>0.24857934248969682</td>\n",
              "      <td>0.047952998616504</td>\n",
              "      <td>0.024742636474964087</td>\n",
              "      <td>0.968637281706651</td>\n",
              "      <td>0.9677512953892099</td>\n",
              "      <td>0.01600867999700855</td>\n",
              "      <td>-0.34580718709045954</td>\n",
              "    </tr>\n",
              "    <tr>\n",
              "      <th>0</th>\n",
              "      <td>0</td>\n",
              "      <td>3.0</td>\n",
              "      <td>0.3295416771683565</td>\n",
              "      <td>0.39736486574900576</td>\n",
              "      <td>0.036742009829835304</td>\n",
              "      <td>0.0316698073447183</td>\n",
              "      <td>1.3022539561409954</td>\n",
              "      <td>0.9780408396868182</td>\n",
              "      <td>0.017666281261754558</td>\n",
              "      <td>-0.2762006230308237</td>\n",
              "      <td>0.3225550085036013</td>\n",
              "      <td>0.2922784725927662</td>\n",
              "      <td>0.04544192101119046</td>\n",
              "      <td>0.025030597437458366</td>\n",
              "      <td>1.0053936134596329</td>\n",
              "      <td>0.9712699344404365</td>\n",
              "      <td>0.01565505301440428</td>\n",
              "      <td>-0.3577481886219281</td>\n",
              "    </tr>\n",
              "    <tr>\n",
              "      <th>0</th>\n",
              "      <td>0</td>\n",
              "      <td>4.0</td>\n",
              "      <td>0.5119855377013953</td>\n",
              "      <td>0.4383135319931756</td>\n",
              "      <td>0.05247256527777056</td>\n",
              "      <td>0.022588092830340523</td>\n",
              "      <td>1.1762805417799522</td>\n",
              "      <td>0.975611293168343</td>\n",
              "      <td>0.01683786307885988</td>\n",
              "      <td>0.05298720106357638</td>\n",
              "      <td>0.2639773040036066</td>\n",
              "      <td>0.23051808732318924</td>\n",
              "      <td>0.043664990304068126</td>\n",
              "      <td>0.02145285479268879</td>\n",
              "      <td>0.8873194815011995</td>\n",
              "      <td>0.9683090260432446</td>\n",
              "      <td>0.014533188388900086</td>\n",
              "      <td>-0.46454872218318227</td>\n",
              "    </tr>\n",
              "    <tr>\n",
              "      <th>0</th>\n",
              "      <td>0</td>\n",
              "      <td>5.0</td>\n",
              "      <td>0.2949921191697954</td>\n",
              "      <td>0.2621002232898617</td>\n",
              "      <td>0.04481211912895316</td>\n",
              "      <td>0.02886396697884401</td>\n",
              "      <td>1.1511215936473926</td>\n",
              "      <td>0.9711842520020526</td>\n",
              "      <td>0.017951693280621933</td>\n",
              "      <td>-0.16360892149339995</td>\n",
              "      <td>0.27526146147330544</td>\n",
              "      <td>0.23863235438039732</td>\n",
              "      <td>0.04451414363793507</td>\n",
              "      <td>0.022540864319768275</td>\n",
              "      <td>0.9289973667958005</td>\n",
              "      <td>0.9692132808352554</td>\n",
              "      <td>0.014990171296434424</td>\n",
              "      <td>-0.47251467425127264</td>\n",
              "    </tr>\n",
              "    <tr>\n",
              "      <th>0</th>\n",
              "      <td>0</td>\n",
              "      <td>6.0</td>\n",
              "      <td>0.3707147896934069</td>\n",
              "      <td>0.2326103556629825</td>\n",
              "      <td>0.06096118487396473</td>\n",
              "      <td>0.021321550789325117</td>\n",
              "      <td>0.9959901627901709</td>\n",
              "      <td>0.9672423831244175</td>\n",
              "      <td>0.016594479215149862</td>\n",
              "      <td>0.019882089771569078</td>\n",
              "      <td>0.2669237143429106</td>\n",
              "      <td>0.254554549668944</td>\n",
              "      <td>0.04135468735348321</td>\n",
              "      <td>0.0219704462264907</td>\n",
              "      <td>0.9017571111056688</td>\n",
              "      <td>0.9710085920084468</td>\n",
              "      <td>0.014106938663832742</td>\n",
              "      <td>-0.43709569807363347</td>\n",
              "    </tr>\n",
              "    <tr>\n",
              "      <th>0</th>\n",
              "      <td>0</td>\n",
              "      <td>7.0</td>\n",
              "      <td>0.30235271522295387</td>\n",
              "      <td>0.23795240693635944</td>\n",
              "      <td>0.04898690455628752</td>\n",
              "      <td>0.026763487894768075</td>\n",
              "      <td>1.1071300551466963</td>\n",
              "      <td>0.972132542842993</td>\n",
              "      <td>0.01697089147646037</td>\n",
              "      <td>-0.12996192404255313</td>\n",
              "      <td>0.3110766150660944</td>\n",
              "      <td>0.2650101755727886</td>\n",
              "      <td>0.04690259384877881</td>\n",
              "      <td>0.025498011614105164</td>\n",
              "      <td>0.9960323347920215</td>\n",
              "      <td>0.9697861808331436</td>\n",
              "      <td>0.01591689461883248</td>\n",
              "      <td>-0.33399661995859153</td>\n",
              "    </tr>\n",
              "    <tr>\n",
              "      <th>0</th>\n",
              "      <td>0</td>\n",
              "      <td>8.0</td>\n",
              "      <td>0.3685708671965544</td>\n",
              "      <td>0.27292784925267166</td>\n",
              "      <td>0.05446354631412719</td>\n",
              "      <td>0.022845842161054838</td>\n",
              "      <td>1.0629157655202637</td>\n",
              "      <td>0.9697849863091593</td>\n",
              "      <td>0.0169860579786879</td>\n",
              "      <td>-0.07432668996284414</td>\n",
              "      <td>0.260503407729115</td>\n",
              "      <td>0.21514770609844613</td>\n",
              "      <td>0.04504629305845277</td>\n",
              "      <td>0.020114074582478554</td>\n",
              "      <td>0.8405274954531445</td>\n",
              "      <td>0.9698072846789967</td>\n",
              "      <td>0.01342704277598787</td>\n",
              "      <td>-0.4129210256392072</td>\n",
              "    </tr>\n",
              "    <tr>\n",
              "      <th>0</th>\n",
              "      <td>0</td>\n",
              "      <td>9.0</td>\n",
              "      <td>0.30229156260668477</td>\n",
              "      <td>0.24128407617167635</td>\n",
              "      <td>0.04853124322243194</td>\n",
              "      <td>0.028387087285049233</td>\n",
              "      <td>1.1535955260475967</td>\n",
              "      <td>0.9706041932707491</td>\n",
              "      <td>0.018175872102816987</td>\n",
              "      <td>-0.161627670408428</td>\n",
              "      <td>0.1922839085804816</td>\n",
              "      <td>0.10028240904861219</td>\n",
              "      <td>0.052143939149611025</td>\n",
              "      <td>0.018017465732681932</td>\n",
              "      <td>0.6896921546109576</td>\n",
              "      <td>0.9529625832800007</td>\n",
              "      <td>0.013872641961757587</td>\n",
              "      <td>-0.37681383413747327</td>\n",
              "    </tr>\n",
              "    <tr>\n",
              "      <th>0</th>\n",
              "      <td>0</td>\n",
              "      <td>10.0</td>\n",
              "      <td>0.3662983073952996</td>\n",
              "      <td>0.25342849654956046</td>\n",
              "      <td>0.05691975451101661</td>\n",
              "      <td>0.026874735593339652</td>\n",
              "      <td>1.19302171084203</td>\n",
              "      <td>0.9699321393071813</td>\n",
              "      <td>0.01901730724071522</td>\n",
              "      <td>-0.12760651512290785</td>\n",
              "      <td>0.26102023162572263</td>\n",
              "      <td>0.1973359323286723</td>\n",
              "      <td>0.04766044294419758</td>\n",
              "      <td>0.01812006925928348</td>\n",
              "      <td>0.7889799795709258</td>\n",
              "      <td>0.9660490756052982</td>\n",
              "      <td>0.013390977237062649</td>\n",
              "      <td>-0.4357851271795143</td>\n",
              "    </tr>\n",
              "  </tbody>\n",
              "</table>\n",
              "</div>\n",
              "      <button class=\"colab-df-convert\" onclick=\"convertToInteractive('df-d2e00dd1-c550-4d04-bd59-b70116420aac')\"\n",
              "              title=\"Convert this dataframe to an interactive table.\"\n",
              "              style=\"display:none;\">\n",
              "        \n",
              "  <svg xmlns=\"http://www.w3.org/2000/svg\" height=\"24px\"viewBox=\"0 0 24 24\"\n",
              "       width=\"24px\">\n",
              "    <path d=\"M0 0h24v24H0V0z\" fill=\"none\"/>\n",
              "    <path d=\"M18.56 5.44l.94 2.06.94-2.06 2.06-.94-2.06-.94-.94-2.06-.94 2.06-2.06.94zm-11 1L8.5 8.5l.94-2.06 2.06-.94-2.06-.94L8.5 2.5l-.94 2.06-2.06.94zm10 10l.94 2.06.94-2.06 2.06-.94-2.06-.94-.94-2.06-.94 2.06-2.06.94z\"/><path d=\"M17.41 7.96l-1.37-1.37c-.4-.4-.92-.59-1.43-.59-.52 0-1.04.2-1.43.59L10.3 9.45l-7.72 7.72c-.78.78-.78 2.05 0 2.83L4 21.41c.39.39.9.59 1.41.59.51 0 1.02-.2 1.41-.59l7.78-7.78 2.81-2.81c.8-.78.8-2.07 0-2.86zM5.41 20L4 18.59l7.72-7.72 1.47 1.35L5.41 20z\"/>\n",
              "  </svg>\n",
              "      </button>\n",
              "      \n",
              "  <style>\n",
              "    .colab-df-container {\n",
              "      display:flex;\n",
              "      flex-wrap:wrap;\n",
              "      gap: 12px;\n",
              "    }\n",
              "\n",
              "    .colab-df-convert {\n",
              "      background-color: #E8F0FE;\n",
              "      border: none;\n",
              "      border-radius: 50%;\n",
              "      cursor: pointer;\n",
              "      display: none;\n",
              "      fill: #1967D2;\n",
              "      height: 32px;\n",
              "      padding: 0 0 0 0;\n",
              "      width: 32px;\n",
              "    }\n",
              "\n",
              "    .colab-df-convert:hover {\n",
              "      background-color: #E2EBFA;\n",
              "      box-shadow: 0px 1px 2px rgba(60, 64, 67, 0.3), 0px 1px 3px 1px rgba(60, 64, 67, 0.15);\n",
              "      fill: #174EA6;\n",
              "    }\n",
              "\n",
              "    [theme=dark] .colab-df-convert {\n",
              "      background-color: #3B4455;\n",
              "      fill: #D2E3FC;\n",
              "    }\n",
              "\n",
              "    [theme=dark] .colab-df-convert:hover {\n",
              "      background-color: #434B5C;\n",
              "      box-shadow: 0px 1px 3px 1px rgba(0, 0, 0, 0.15);\n",
              "      filter: drop-shadow(0px 1px 2px rgba(0, 0, 0, 0.3));\n",
              "      fill: #FFFFFF;\n",
              "    }\n",
              "  </style>\n",
              "\n",
              "      <script>\n",
              "        const buttonEl =\n",
              "          document.querySelector('#df-d2e00dd1-c550-4d04-bd59-b70116420aac button.colab-df-convert');\n",
              "        buttonEl.style.display =\n",
              "          google.colab.kernel.accessAllowed ? 'block' : 'none';\n",
              "\n",
              "        async function convertToInteractive(key) {\n",
              "          const element = document.querySelector('#df-d2e00dd1-c550-4d04-bd59-b70116420aac');\n",
              "          const dataTable =\n",
              "            await google.colab.kernel.invokeFunction('convertToInteractive',\n",
              "                                                     [key], {});\n",
              "          if (!dataTable) return;\n",
              "\n",
              "          const docLinkHtml = 'Like what you see? Visit the ' +\n",
              "            '<a target=\"_blank\" href=https://colab.research.google.com/notebooks/data_table.ipynb>data table notebook</a>'\n",
              "            + ' to learn more about interactive tables.';\n",
              "          element.innerHTML = '';\n",
              "          dataTable['output_type'] = 'display_data';\n",
              "          await google.colab.output.renderOutput(dataTable, element);\n",
              "          const docLink = document.createElement('div');\n",
              "          docLink.innerHTML = docLinkHtml;\n",
              "          element.appendChild(docLink);\n",
              "        }\n",
              "      </script>\n",
              "    </div>\n",
              "  </div>\n",
              "  "
            ]
          },
          "metadata": {},
          "execution_count": 8
        }
      ]
    },
    {
      "cell_type": "code",
      "source": [
        "datos11=pd.read_csv('/content/Rodrigomontenegrofarias/resultados/Prueba1.0.csv',decimal=\",\", encoding='utf-8',sep=u',')\n",
        "datos12=pd.read_csv('/content/Rodrigomontenegrofarias/resultados/Prueba2.0.csv',decimal=\",\",sep=u',', encoding='utf-8', dayfirst=True)\n",
        "datos13=pd.read_csv('/content/Rodrigomontenegrofarias/resultados/Prueba3.0.csv',decimal=\",\",sep=u',', encoding='utf-8', dayfirst=True)\n",
        "datos14=pd.read_csv('/content/Rodrigomontenegrofarias/resultados/Prueba4.0.csv',decimal=\",\",sep=u',', encoding='utf-8', dayfirst=True)\n",
        "datos15=pd.read_csv('/content/Rodrigomontenegrofarias/resultados/Prueba5.0.csv',decimal=\",\",sep=u',', encoding='utf-8', dayfirst=True)\n",
        "datos16=pd.read_csv('/content/Rodrigomontenegrofarias/resultados/Prueba6.0.csv',decimal=\",\",sep=u',', encoding='utf-8', dayfirst=True)\n",
        "datos17=pd.read_csv('/content/Rodrigomontenegrofarias/resultados/Prueba7.0.csv',decimal=\",\",sep=u',', encoding='utf-8',  dayfirst=True)\n",
        "datos18=pd.read_csv('/content/Rodrigomontenegrofarias/resultados/Prueba8.0.csv',decimal=\",\",sep=u',', encoding='utf-8', dayfirst=True)\n",
        "datos19=pd.read_csv('/content/Rodrigomontenegrofarias/resultados/Prueba9.0.csv',decimal=\",\",sep=u',', encoding='utf-8', dayfirst=True)\n",
        "datos110=pd.read_csv('/content/Rodrigomontenegrofarias/resultados/Prueba10.0.csv',decimal=\",\",sep=u',', encoding='utf-8',dayfirst=True)"
      ],
      "metadata": {
        "id": "SXqSWYa6653G"
      },
      "execution_count": null,
      "outputs": []
    },
    {
      "cell_type": "code",
      "source": [
        "datostotal1 = [datos11,datos12,datos13,datos14,datos15,datos16,datos17,datos18,datos19,datos110,]"
      ],
      "metadata": {
        "id": "Q6-iO84b7i3M"
      },
      "execution_count": null,
      "outputs": []
    },
    {
      "cell_type": "code",
      "source": [
        "resultadoDatos= pd.concat(datostotal1)"
      ],
      "metadata": {
        "id": "Tg3Yz0IX7jEB"
      },
      "execution_count": null,
      "outputs": []
    },
    {
      "cell_type": "code",
      "source": [
        "#resultadoDatos['Pruebas'] = resultadoDatos['Pruebas'].astype('float')\n",
        "#resultadoDatos = resultadoDatos.set_index('Pruebas')\n"
      ],
      "metadata": {
        "id": "WplQIMEMtnV6"
      },
      "execution_count": null,
      "outputs": []
    },
    {
      "cell_type": "code",
      "source": [
        "resultadoDatos"
      ],
      "metadata": {
        "colab": {
          "base_uri": "https://localhost:8080/",
          "height": 462
        },
        "id": "tqSl-9Skt9oi",
        "outputId": "aa06b67f-ef03-4cdf-8858-d984f26056d0"
      },
      "execution_count": null,
      "outputs": [
        {
          "output_type": "execute_result",
          "data": {
            "text/plain": [
              "   Unnamed: 0 Pruebas      coef(a)_6am-MLP     rsquared_6am-MLP  \\\n",
              "0           0     1.0  0.36385413729825844   0.5602165417138931   \n",
              "0           0     2.0   0.3310522291690634  0.39280615537021335   \n",
              "0           0     3.0   0.5194155357272868   0.4769747993204201   \n",
              "0           0     4.0   0.5976720478543038   0.4528383065984639   \n",
              "0           0     5.0   0.2964783738637245  0.25963000969369743   \n",
              "0           0     6.0   0.5127846926719974   0.3598814136062485   \n",
              "0           0     7.0   0.4401489756698029   0.5890974310142181   \n",
              "0           0     8.0   0.5010758339977585   0.4702872148790538   \n",
              "0           0     9.0   0.5753170095531255  0.41283628345079926   \n",
              "0           0    10.0   0.3323129539560373   0.3663530615655719   \n",
              "\n",
              "  Standard Error_6am-MLP       coef(b)_6am-MLP coef(a)_Acu-6am-MLP  \\\n",
              "0   0.029186961936644735  0.019067201407475514  0.9038461309215753   \n",
              "0    0.03726414134118021   0.01953188110541154  0.8912650887964431   \n",
              "0    0.04924346807363187  0.019876493611513238  1.3258039925897216   \n",
              "0    0.05947977184422962   0.02624042506030709   1.403084310043562   \n",
              "0   0.045327325132562296  0.020230710756861735  0.9878114596168943   \n",
              "0    0.06191639610877792  0.022271006988613902  1.2106037251024453   \n",
              "0   0.033280944625054654  0.019195161893228174  1.1825133612603969   \n",
              "0    0.04814622040512959   0.02344731082757835  1.3496269634922573   \n",
              "0    0.06211807311541654  0.024282074658668273  1.2688906047087067   \n",
              "0    0.03956772592393646  0.020268565667440817  1.0666637338644396   \n",
              "\n",
              "  rsquared_Acu-6am-MLP Standard Error_Acu-6am-MLP    coef(b)_Acu-6am-MLP  ...  \\\n",
              "0   0.9812451206641551       0.011313135019297902    -0.2627258671176893  ...   \n",
              "0    0.970834040208342       0.013985970855163968   -0.18010336165911325  ...   \n",
              "0   0.9901533586498458       0.011969947201311086    0.18656451863465046  ...   \n",
              "0   0.9735683245959128       0.020930662725803528    0.17310486141265385  ...   \n",
              "0   0.9882304775249419       0.009759879192612545  -0.016184943801213866  ...   \n",
              "0   0.9727396006707784       0.018348049390611115    0.14651654121066043  ...   \n",
              "0     0.98983953200406       0.010846774181893606   -0.13616860419789487  ...   \n",
              "0   0.9875538091849921       0.013717395904387362   -0.24508187416835192  ...   \n",
              "0   0.9932374638652833       0.009479218270494279   0.034323052583232774  ...   \n",
              "0   0.9949175815146565       0.006902227560272571   -0.02475839275622478  ...   \n",
              "\n",
              "  Standard Error_Acu-Beysens-PM coef(b)_Acu-Beysens-PM       coef(a)_MLP-PM  \\\n",
              "0          0.002192155015185355    0.08120199578266948  0.21875343539231065   \n",
              "0         0.0032933735659735177   -0.06161267730841905   0.2157272793725387   \n",
              "0         0.0010180828636682435  -0.018042851982852874  0.15377517941850827   \n",
              "0         0.0063518339991953275   -0.03029870557649616  0.27916606589156184   \n",
              "0          0.004562490484630499   -0.05489179071844282  0.16334248636588564   \n",
              "0          0.004634008020968582    0.01756671553620441   0.3072951192854767   \n",
              "0         0.0026569404939648105   0.026221774241900815  0.23274219751831968   \n",
              "0          0.005127606103037121   -0.04299303418433999  0.29876369105717626   \n",
              "0           0.00830429835373466     0.1799807758679673  0.31162887502373965   \n",
              "0          0.002117864834419753   -0.03854278008381037   0.2226186438469578   \n",
              "\n",
              "       rsquared_MLP-PM Standard Error_MLP-PM        coef(b)_MLP-PM  \\\n",
              "0  0.38555710460077497  0.025001805499819386  0.019618026692492498   \n",
              "0  0.30394142423929826  0.029556506336017547  0.027050469875205235   \n",
              "0  0.06821070466691848   0.05145635347057865   0.03204514123970519   \n",
              "0   0.2306052339365826   0.04616605780321492  0.027096281885505273   \n",
              "0  0.10544705607792393   0.04307299578600377  0.026455401752449276   \n",
              "0  0.22249957927762198   0.05200696339508375   0.02807780080323328   \n",
              "0   0.3342611812474572  0.029737483955363308  0.024930025583008355   \n",
              "0  0.19402833472244496   0.05512837163296752  0.030969646048145123   \n",
              "0   0.1479625906526365   0.06770348959200087   0.02973773596920407   \n",
              "0   0.3776733149181527   0.02587215962203336  0.017574678163329027   \n",
              "\n",
              "   coef(a)_Acu-MLP-PM rsquared_Acu-MLP-PM Standard Error_Acu-MLP-PM  \\\n",
              "0  0.8077938275761849   0.976675847408949       0.01130181849523281   \n",
              "0  1.1482380778763033  0.9731216524026816       0.01727705615170822   \n",
              "0  1.3373717063761072  0.9700160770156772      0.021287613494758495   \n",
              "0  1.3582419147769407  0.9803659868951378      0.017402339378908806   \n",
              "0   1.110523896790907  0.9833146788105468      0.013096915277723505   \n",
              "0  1.2120015182541526  0.9767205034961184       0.01694044783920242   \n",
              "0  1.2093279093300682  0.9770829708011194      0.016767858287291167   \n",
              "0  1.3710362272791996   0.973941943840277       0.02030362060040848   \n",
              "0  1.2187205161178012  0.9833268603656274      0.014367590760962834   \n",
              "0  0.8516523045559884  0.9926709616305832      0.006625264932967178   \n",
              "\n",
              "     coef(b)_Acu-MLP-PM  \n",
              "0  -0.15294988662770392  \n",
              "0  -0.27205269731784865  \n",
              "0   0.12330263330525633  \n",
              "0  -0.19566833929931454  \n",
              "0  0.034327899995598654  \n",
              "0   0.40256853412118243  \n",
              "0   -0.2053452946846766  \n",
              "0   -0.2500387115019504  \n",
              "0   0.15803194150533537  \n",
              "0   -0.1297109230165536  \n",
              "\n",
              "[10 rows x 34 columns]"
            ],
            "text/html": [
              "\n",
              "  <div id=\"df-6636c813-6199-4da6-bd5f-512efef8d17a\">\n",
              "    <div class=\"colab-df-container\">\n",
              "      <div>\n",
              "<style scoped>\n",
              "    .dataframe tbody tr th:only-of-type {\n",
              "        vertical-align: middle;\n",
              "    }\n",
              "\n",
              "    .dataframe tbody tr th {\n",
              "        vertical-align: top;\n",
              "    }\n",
              "\n",
              "    .dataframe thead th {\n",
              "        text-align: right;\n",
              "    }\n",
              "</style>\n",
              "<table border=\"1\" class=\"dataframe\">\n",
              "  <thead>\n",
              "    <tr style=\"text-align: right;\">\n",
              "      <th></th>\n",
              "      <th>Unnamed: 0</th>\n",
              "      <th>Pruebas</th>\n",
              "      <th>coef(a)_6am-MLP</th>\n",
              "      <th>rsquared_6am-MLP</th>\n",
              "      <th>Standard Error_6am-MLP</th>\n",
              "      <th>coef(b)_6am-MLP</th>\n",
              "      <th>coef(a)_Acu-6am-MLP</th>\n",
              "      <th>rsquared_Acu-6am-MLP</th>\n",
              "      <th>Standard Error_Acu-6am-MLP</th>\n",
              "      <th>coef(b)_Acu-6am-MLP</th>\n",
              "      <th>...</th>\n",
              "      <th>Standard Error_Acu-Beysens-PM</th>\n",
              "      <th>coef(b)_Acu-Beysens-PM</th>\n",
              "      <th>coef(a)_MLP-PM</th>\n",
              "      <th>rsquared_MLP-PM</th>\n",
              "      <th>Standard Error_MLP-PM</th>\n",
              "      <th>coef(b)_MLP-PM</th>\n",
              "      <th>coef(a)_Acu-MLP-PM</th>\n",
              "      <th>rsquared_Acu-MLP-PM</th>\n",
              "      <th>Standard Error_Acu-MLP-PM</th>\n",
              "      <th>coef(b)_Acu-MLP-PM</th>\n",
              "    </tr>\n",
              "  </thead>\n",
              "  <tbody>\n",
              "    <tr>\n",
              "      <th>0</th>\n",
              "      <td>0</td>\n",
              "      <td>1.0</td>\n",
              "      <td>0.36385413729825844</td>\n",
              "      <td>0.5602165417138931</td>\n",
              "      <td>0.029186961936644735</td>\n",
              "      <td>0.019067201407475514</td>\n",
              "      <td>0.9038461309215753</td>\n",
              "      <td>0.9812451206641551</td>\n",
              "      <td>0.011313135019297902</td>\n",
              "      <td>-0.2627258671176893</td>\n",
              "      <td>...</td>\n",
              "      <td>0.002192155015185355</td>\n",
              "      <td>0.08120199578266948</td>\n",
              "      <td>0.21875343539231065</td>\n",
              "      <td>0.38555710460077497</td>\n",
              "      <td>0.025001805499819386</td>\n",
              "      <td>0.019618026692492498</td>\n",
              "      <td>0.8077938275761849</td>\n",
              "      <td>0.976675847408949</td>\n",
              "      <td>0.01130181849523281</td>\n",
              "      <td>-0.15294988662770392</td>\n",
              "    </tr>\n",
              "    <tr>\n",
              "      <th>0</th>\n",
              "      <td>0</td>\n",
              "      <td>2.0</td>\n",
              "      <td>0.3310522291690634</td>\n",
              "      <td>0.39280615537021335</td>\n",
              "      <td>0.03726414134118021</td>\n",
              "      <td>0.01953188110541154</td>\n",
              "      <td>0.8912650887964431</td>\n",
              "      <td>0.970834040208342</td>\n",
              "      <td>0.013985970855163968</td>\n",
              "      <td>-0.18010336165911325</td>\n",
              "      <td>...</td>\n",
              "      <td>0.0032933735659735177</td>\n",
              "      <td>-0.06161267730841905</td>\n",
              "      <td>0.2157272793725387</td>\n",
              "      <td>0.30394142423929826</td>\n",
              "      <td>0.029556506336017547</td>\n",
              "      <td>0.027050469875205235</td>\n",
              "      <td>1.1482380778763033</td>\n",
              "      <td>0.9731216524026816</td>\n",
              "      <td>0.01727705615170822</td>\n",
              "      <td>-0.27205269731784865</td>\n",
              "    </tr>\n",
              "    <tr>\n",
              "      <th>0</th>\n",
              "      <td>0</td>\n",
              "      <td>3.0</td>\n",
              "      <td>0.5194155357272868</td>\n",
              "      <td>0.4769747993204201</td>\n",
              "      <td>0.04924346807363187</td>\n",
              "      <td>0.019876493611513238</td>\n",
              "      <td>1.3258039925897216</td>\n",
              "      <td>0.9901533586498458</td>\n",
              "      <td>0.011969947201311086</td>\n",
              "      <td>0.18656451863465046</td>\n",
              "      <td>...</td>\n",
              "      <td>0.0010180828636682435</td>\n",
              "      <td>-0.018042851982852874</td>\n",
              "      <td>0.15377517941850827</td>\n",
              "      <td>0.06821070466691848</td>\n",
              "      <td>0.05145635347057865</td>\n",
              "      <td>0.03204514123970519</td>\n",
              "      <td>1.3373717063761072</td>\n",
              "      <td>0.9700160770156772</td>\n",
              "      <td>0.021287613494758495</td>\n",
              "      <td>0.12330263330525633</td>\n",
              "    </tr>\n",
              "    <tr>\n",
              "      <th>0</th>\n",
              "      <td>0</td>\n",
              "      <td>4.0</td>\n",
              "      <td>0.5976720478543038</td>\n",
              "      <td>0.4528383065984639</td>\n",
              "      <td>0.05947977184422962</td>\n",
              "      <td>0.02624042506030709</td>\n",
              "      <td>1.403084310043562</td>\n",
              "      <td>0.9735683245959128</td>\n",
              "      <td>0.020930662725803528</td>\n",
              "      <td>0.17310486141265385</td>\n",
              "      <td>...</td>\n",
              "      <td>0.0063518339991953275</td>\n",
              "      <td>-0.03029870557649616</td>\n",
              "      <td>0.27916606589156184</td>\n",
              "      <td>0.2306052339365826</td>\n",
              "      <td>0.04616605780321492</td>\n",
              "      <td>0.027096281885505273</td>\n",
              "      <td>1.3582419147769407</td>\n",
              "      <td>0.9803659868951378</td>\n",
              "      <td>0.017402339378908806</td>\n",
              "      <td>-0.19566833929931454</td>\n",
              "    </tr>\n",
              "    <tr>\n",
              "      <th>0</th>\n",
              "      <td>0</td>\n",
              "      <td>5.0</td>\n",
              "      <td>0.2964783738637245</td>\n",
              "      <td>0.25963000969369743</td>\n",
              "      <td>0.045327325132562296</td>\n",
              "      <td>0.020230710756861735</td>\n",
              "      <td>0.9878114596168943</td>\n",
              "      <td>0.9882304775249419</td>\n",
              "      <td>0.009759879192612545</td>\n",
              "      <td>-0.016184943801213866</td>\n",
              "      <td>...</td>\n",
              "      <td>0.004562490484630499</td>\n",
              "      <td>-0.05489179071844282</td>\n",
              "      <td>0.16334248636588564</td>\n",
              "      <td>0.10544705607792393</td>\n",
              "      <td>0.04307299578600377</td>\n",
              "      <td>0.026455401752449276</td>\n",
              "      <td>1.110523896790907</td>\n",
              "      <td>0.9833146788105468</td>\n",
              "      <td>0.013096915277723505</td>\n",
              "      <td>0.034327899995598654</td>\n",
              "    </tr>\n",
              "    <tr>\n",
              "      <th>0</th>\n",
              "      <td>0</td>\n",
              "      <td>6.0</td>\n",
              "      <td>0.5127846926719974</td>\n",
              "      <td>0.3598814136062485</td>\n",
              "      <td>0.06191639610877792</td>\n",
              "      <td>0.022271006988613902</td>\n",
              "      <td>1.2106037251024453</td>\n",
              "      <td>0.9727396006707784</td>\n",
              "      <td>0.018348049390611115</td>\n",
              "      <td>0.14651654121066043</td>\n",
              "      <td>...</td>\n",
              "      <td>0.004634008020968582</td>\n",
              "      <td>0.01756671553620441</td>\n",
              "      <td>0.3072951192854767</td>\n",
              "      <td>0.22249957927762198</td>\n",
              "      <td>0.05200696339508375</td>\n",
              "      <td>0.02807780080323328</td>\n",
              "      <td>1.2120015182541526</td>\n",
              "      <td>0.9767205034961184</td>\n",
              "      <td>0.01694044783920242</td>\n",
              "      <td>0.40256853412118243</td>\n",
              "    </tr>\n",
              "    <tr>\n",
              "      <th>0</th>\n",
              "      <td>0</td>\n",
              "      <td>7.0</td>\n",
              "      <td>0.4401489756698029</td>\n",
              "      <td>0.5890974310142181</td>\n",
              "      <td>0.033280944625054654</td>\n",
              "      <td>0.019195161893228174</td>\n",
              "      <td>1.1825133612603969</td>\n",
              "      <td>0.98983953200406</td>\n",
              "      <td>0.010846774181893606</td>\n",
              "      <td>-0.13616860419789487</td>\n",
              "      <td>...</td>\n",
              "      <td>0.0026569404939648105</td>\n",
              "      <td>0.026221774241900815</td>\n",
              "      <td>0.23274219751831968</td>\n",
              "      <td>0.3342611812474572</td>\n",
              "      <td>0.029737483955363308</td>\n",
              "      <td>0.024930025583008355</td>\n",
              "      <td>1.2093279093300682</td>\n",
              "      <td>0.9770829708011194</td>\n",
              "      <td>0.016767858287291167</td>\n",
              "      <td>-0.2053452946846766</td>\n",
              "    </tr>\n",
              "    <tr>\n",
              "      <th>0</th>\n",
              "      <td>0</td>\n",
              "      <td>8.0</td>\n",
              "      <td>0.5010758339977585</td>\n",
              "      <td>0.4702872148790538</td>\n",
              "      <td>0.04814622040512959</td>\n",
              "      <td>0.02344731082757835</td>\n",
              "      <td>1.3496269634922573</td>\n",
              "      <td>0.9875538091849921</td>\n",
              "      <td>0.013717395904387362</td>\n",
              "      <td>-0.24508187416835192</td>\n",
              "      <td>...</td>\n",
              "      <td>0.005127606103037121</td>\n",
              "      <td>-0.04299303418433999</td>\n",
              "      <td>0.29876369105717626</td>\n",
              "      <td>0.19402833472244496</td>\n",
              "      <td>0.05512837163296752</td>\n",
              "      <td>0.030969646048145123</td>\n",
              "      <td>1.3710362272791996</td>\n",
              "      <td>0.973941943840277</td>\n",
              "      <td>0.02030362060040848</td>\n",
              "      <td>-0.2500387115019504</td>\n",
              "    </tr>\n",
              "    <tr>\n",
              "      <th>0</th>\n",
              "      <td>0</td>\n",
              "      <td>9.0</td>\n",
              "      <td>0.5753170095531255</td>\n",
              "      <td>0.41283628345079926</td>\n",
              "      <td>0.06211807311541654</td>\n",
              "      <td>0.024282074658668273</td>\n",
              "      <td>1.2688906047087067</td>\n",
              "      <td>0.9932374638652833</td>\n",
              "      <td>0.009479218270494279</td>\n",
              "      <td>0.034323052583232774</td>\n",
              "      <td>...</td>\n",
              "      <td>0.00830429835373466</td>\n",
              "      <td>0.1799807758679673</td>\n",
              "      <td>0.31162887502373965</td>\n",
              "      <td>0.1479625906526365</td>\n",
              "      <td>0.06770348959200087</td>\n",
              "      <td>0.02973773596920407</td>\n",
              "      <td>1.2187205161178012</td>\n",
              "      <td>0.9833268603656274</td>\n",
              "      <td>0.014367590760962834</td>\n",
              "      <td>0.15803194150533537</td>\n",
              "    </tr>\n",
              "    <tr>\n",
              "      <th>0</th>\n",
              "      <td>0</td>\n",
              "      <td>10.0</td>\n",
              "      <td>0.3323129539560373</td>\n",
              "      <td>0.3663530615655719</td>\n",
              "      <td>0.03956772592393646</td>\n",
              "      <td>0.020268565667440817</td>\n",
              "      <td>1.0666637338644396</td>\n",
              "      <td>0.9949175815146565</td>\n",
              "      <td>0.006902227560272571</td>\n",
              "      <td>-0.02475839275622478</td>\n",
              "      <td>...</td>\n",
              "      <td>0.002117864834419753</td>\n",
              "      <td>-0.03854278008381037</td>\n",
              "      <td>0.2226186438469578</td>\n",
              "      <td>0.3776733149181527</td>\n",
              "      <td>0.02587215962203336</td>\n",
              "      <td>0.017574678163329027</td>\n",
              "      <td>0.8516523045559884</td>\n",
              "      <td>0.9926709616305832</td>\n",
              "      <td>0.006625264932967178</td>\n",
              "      <td>-0.1297109230165536</td>\n",
              "    </tr>\n",
              "  </tbody>\n",
              "</table>\n",
              "<p>10 rows × 34 columns</p>\n",
              "</div>\n",
              "      <button class=\"colab-df-convert\" onclick=\"convertToInteractive('df-6636c813-6199-4da6-bd5f-512efef8d17a')\"\n",
              "              title=\"Convert this dataframe to an interactive table.\"\n",
              "              style=\"display:none;\">\n",
              "        \n",
              "  <svg xmlns=\"http://www.w3.org/2000/svg\" height=\"24px\"viewBox=\"0 0 24 24\"\n",
              "       width=\"24px\">\n",
              "    <path d=\"M0 0h24v24H0V0z\" fill=\"none\"/>\n",
              "    <path d=\"M18.56 5.44l.94 2.06.94-2.06 2.06-.94-2.06-.94-.94-2.06-.94 2.06-2.06.94zm-11 1L8.5 8.5l.94-2.06 2.06-.94-2.06-.94L8.5 2.5l-.94 2.06-2.06.94zm10 10l.94 2.06.94-2.06 2.06-.94-2.06-.94-.94-2.06-.94 2.06-2.06.94z\"/><path d=\"M17.41 7.96l-1.37-1.37c-.4-.4-.92-.59-1.43-.59-.52 0-1.04.2-1.43.59L10.3 9.45l-7.72 7.72c-.78.78-.78 2.05 0 2.83L4 21.41c.39.39.9.59 1.41.59.51 0 1.02-.2 1.41-.59l7.78-7.78 2.81-2.81c.8-.78.8-2.07 0-2.86zM5.41 20L4 18.59l7.72-7.72 1.47 1.35L5.41 20z\"/>\n",
              "  </svg>\n",
              "      </button>\n",
              "      \n",
              "  <style>\n",
              "    .colab-df-container {\n",
              "      display:flex;\n",
              "      flex-wrap:wrap;\n",
              "      gap: 12px;\n",
              "    }\n",
              "\n",
              "    .colab-df-convert {\n",
              "      background-color: #E8F0FE;\n",
              "      border: none;\n",
              "      border-radius: 50%;\n",
              "      cursor: pointer;\n",
              "      display: none;\n",
              "      fill: #1967D2;\n",
              "      height: 32px;\n",
              "      padding: 0 0 0 0;\n",
              "      width: 32px;\n",
              "    }\n",
              "\n",
              "    .colab-df-convert:hover {\n",
              "      background-color: #E2EBFA;\n",
              "      box-shadow: 0px 1px 2px rgba(60, 64, 67, 0.3), 0px 1px 3px 1px rgba(60, 64, 67, 0.15);\n",
              "      fill: #174EA6;\n",
              "    }\n",
              "\n",
              "    [theme=dark] .colab-df-convert {\n",
              "      background-color: #3B4455;\n",
              "      fill: #D2E3FC;\n",
              "    }\n",
              "\n",
              "    [theme=dark] .colab-df-convert:hover {\n",
              "      background-color: #434B5C;\n",
              "      box-shadow: 0px 1px 3px 1px rgba(0, 0, 0, 0.15);\n",
              "      filter: drop-shadow(0px 1px 2px rgba(0, 0, 0, 0.3));\n",
              "      fill: #FFFFFF;\n",
              "    }\n",
              "  </style>\n",
              "\n",
              "      <script>\n",
              "        const buttonEl =\n",
              "          document.querySelector('#df-6636c813-6199-4da6-bd5f-512efef8d17a button.colab-df-convert');\n",
              "        buttonEl.style.display =\n",
              "          google.colab.kernel.accessAllowed ? 'block' : 'none';\n",
              "\n",
              "        async function convertToInteractive(key) {\n",
              "          const element = document.querySelector('#df-6636c813-6199-4da6-bd5f-512efef8d17a');\n",
              "          const dataTable =\n",
              "            await google.colab.kernel.invokeFunction('convertToInteractive',\n",
              "                                                     [key], {});\n",
              "          if (!dataTable) return;\n",
              "\n",
              "          const docLinkHtml = 'Like what you see? Visit the ' +\n",
              "            '<a target=\"_blank\" href=https://colab.research.google.com/notebooks/data_table.ipynb>data table notebook</a>'\n",
              "            + ' to learn more about interactive tables.';\n",
              "          element.innerHTML = '';\n",
              "          dataTable['output_type'] = 'display_data';\n",
              "          await google.colab.output.renderOutput(dataTable, element);\n",
              "          const docLink = document.createElement('div');\n",
              "          docLink.innerHTML = docLinkHtml;\n",
              "          element.appendChild(docLink);\n",
              "        }\n",
              "      </script>\n",
              "    </div>\n",
              "  </div>\n",
              "  "
            ]
          },
          "metadata": {},
          "execution_count": 13
        }
      ]
    },
    {
      "cell_type": "code",
      "source": [
        "resultadoDatos = resultadoDatos.drop(['Unnamed: 0'], axis=1)"
      ],
      "metadata": {
        "id": "KYz9cnBatZXo"
      },
      "execution_count": null,
      "outputs": []
    },
    {
      "cell_type": "code",
      "source": [
        "resultadoDatos"
      ],
      "metadata": {
        "colab": {
          "base_uri": "https://localhost:8080/",
          "height": 462
        },
        "id": "jf4XOESauLZK",
        "outputId": "695edd24-61cf-453a-ecac-61618d1a5ab1"
      },
      "execution_count": null,
      "outputs": [
        {
          "output_type": "execute_result",
          "data": {
            "text/plain": [
              "  Pruebas      coef(a)_6am-MLP     rsquared_6am-MLP Standard Error_6am-MLP  \\\n",
              "0     1.0  0.36385413729825844   0.5602165417138931   0.029186961936644735   \n",
              "0     2.0   0.3310522291690634  0.39280615537021335    0.03726414134118021   \n",
              "0     3.0   0.5194155357272868   0.4769747993204201    0.04924346807363187   \n",
              "0     4.0   0.5976720478543038   0.4528383065984639    0.05947977184422962   \n",
              "0     5.0   0.2964783738637245  0.25963000969369743   0.045327325132562296   \n",
              "0     6.0   0.5127846926719974   0.3598814136062485    0.06191639610877792   \n",
              "0     7.0   0.4401489756698029   0.5890974310142181   0.033280944625054654   \n",
              "0     8.0   0.5010758339977585   0.4702872148790538    0.04814622040512959   \n",
              "0     9.0   0.5753170095531255  0.41283628345079926    0.06211807311541654   \n",
              "0    10.0   0.3323129539560373   0.3663530615655719    0.03956772592393646   \n",
              "\n",
              "        coef(b)_6am-MLP coef(a)_Acu-6am-MLP rsquared_Acu-6am-MLP  \\\n",
              "0  0.019067201407475514  0.9038461309215753   0.9812451206641551   \n",
              "0   0.01953188110541154  0.8912650887964431    0.970834040208342   \n",
              "0  0.019876493611513238  1.3258039925897216   0.9901533586498458   \n",
              "0   0.02624042506030709   1.403084310043562   0.9735683245959128   \n",
              "0  0.020230710756861735  0.9878114596168943   0.9882304775249419   \n",
              "0  0.022271006988613902  1.2106037251024453   0.9727396006707784   \n",
              "0  0.019195161893228174  1.1825133612603969     0.98983953200406   \n",
              "0   0.02344731082757835  1.3496269634922573   0.9875538091849921   \n",
              "0  0.024282074658668273  1.2688906047087067   0.9932374638652833   \n",
              "0  0.020268565667440817  1.0666637338644396   0.9949175815146565   \n",
              "\n",
              "  Standard Error_Acu-6am-MLP    coef(b)_Acu-6am-MLP coef(a)_6am-Beysens  ...  \\\n",
              "0       0.011313135019297902    -0.2627258671176893  0.6887940971988331  ...   \n",
              "0       0.013985970855163968   -0.18010336165911325  0.5733536637966881  ...   \n",
              "0       0.011969947201311086    0.18656451863465046    0.92932809758028  ...   \n",
              "0       0.020930662725803528    0.17310486141265385  0.8425123079526693  ...   \n",
              "0       0.009759879192612545  -0.016184943801213866  0.7359672733089523  ...   \n",
              "0       0.018348049390611115    0.14651654121066043  0.7841818867028405  ...   \n",
              "0       0.010846774181893606   -0.13616860419789487  0.6432389280416402  ...   \n",
              "0       0.013717395904387362   -0.24508187416835192  0.6712230363351028  ...   \n",
              "0       0.009479218270494279   0.034323052583232774  0.7803095824637141  ...   \n",
              "0       0.006902227560272571   -0.02475839275622478  0.6696307308597443  ...   \n",
              "\n",
              "  Standard Error_Acu-Beysens-PM coef(b)_Acu-Beysens-PM       coef(a)_MLP-PM  \\\n",
              "0          0.002192155015185355    0.08120199578266948  0.21875343539231065   \n",
              "0         0.0032933735659735177   -0.06161267730841905   0.2157272793725387   \n",
              "0         0.0010180828636682435  -0.018042851982852874  0.15377517941850827   \n",
              "0         0.0063518339991953275   -0.03029870557649616  0.27916606589156184   \n",
              "0          0.004562490484630499   -0.05489179071844282  0.16334248636588564   \n",
              "0          0.004634008020968582    0.01756671553620441   0.3072951192854767   \n",
              "0         0.0026569404939648105   0.026221774241900815  0.23274219751831968   \n",
              "0          0.005127606103037121   -0.04299303418433999  0.29876369105717626   \n",
              "0           0.00830429835373466     0.1799807758679673  0.31162887502373965   \n",
              "0          0.002117864834419753   -0.03854278008381037   0.2226186438469578   \n",
              "\n",
              "       rsquared_MLP-PM Standard Error_MLP-PM        coef(b)_MLP-PM  \\\n",
              "0  0.38555710460077497  0.025001805499819386  0.019618026692492498   \n",
              "0  0.30394142423929826  0.029556506336017547  0.027050469875205235   \n",
              "0  0.06821070466691848   0.05145635347057865   0.03204514123970519   \n",
              "0   0.2306052339365826   0.04616605780321492  0.027096281885505273   \n",
              "0  0.10544705607792393   0.04307299578600377  0.026455401752449276   \n",
              "0  0.22249957927762198   0.05200696339508375   0.02807780080323328   \n",
              "0   0.3342611812474572  0.029737483955363308  0.024930025583008355   \n",
              "0  0.19402833472244496   0.05512837163296752  0.030969646048145123   \n",
              "0   0.1479625906526365   0.06770348959200087   0.02973773596920407   \n",
              "0   0.3776733149181527   0.02587215962203336  0.017574678163329027   \n",
              "\n",
              "   coef(a)_Acu-MLP-PM rsquared_Acu-MLP-PM Standard Error_Acu-MLP-PM  \\\n",
              "0  0.8077938275761849   0.976675847408949       0.01130181849523281   \n",
              "0  1.1482380778763033  0.9731216524026816       0.01727705615170822   \n",
              "0  1.3373717063761072  0.9700160770156772      0.021287613494758495   \n",
              "0  1.3582419147769407  0.9803659868951378      0.017402339378908806   \n",
              "0   1.110523896790907  0.9833146788105468      0.013096915277723505   \n",
              "0  1.2120015182541526  0.9767205034961184       0.01694044783920242   \n",
              "0  1.2093279093300682  0.9770829708011194      0.016767858287291167   \n",
              "0  1.3710362272791996   0.973941943840277       0.02030362060040848   \n",
              "0  1.2187205161178012  0.9833268603656274      0.014367590760962834   \n",
              "0  0.8516523045559884  0.9926709616305832      0.006625264932967178   \n",
              "\n",
              "     coef(b)_Acu-MLP-PM  \n",
              "0  -0.15294988662770392  \n",
              "0  -0.27205269731784865  \n",
              "0   0.12330263330525633  \n",
              "0  -0.19566833929931454  \n",
              "0  0.034327899995598654  \n",
              "0   0.40256853412118243  \n",
              "0   -0.2053452946846766  \n",
              "0   -0.2500387115019504  \n",
              "0   0.15803194150533537  \n",
              "0   -0.1297109230165536  \n",
              "\n",
              "[10 rows x 33 columns]"
            ],
            "text/html": [
              "\n",
              "  <div id=\"df-2186e7ee-1deb-4f09-ae6b-5e6c97eab961\">\n",
              "    <div class=\"colab-df-container\">\n",
              "      <div>\n",
              "<style scoped>\n",
              "    .dataframe tbody tr th:only-of-type {\n",
              "        vertical-align: middle;\n",
              "    }\n",
              "\n",
              "    .dataframe tbody tr th {\n",
              "        vertical-align: top;\n",
              "    }\n",
              "\n",
              "    .dataframe thead th {\n",
              "        text-align: right;\n",
              "    }\n",
              "</style>\n",
              "<table border=\"1\" class=\"dataframe\">\n",
              "  <thead>\n",
              "    <tr style=\"text-align: right;\">\n",
              "      <th></th>\n",
              "      <th>Pruebas</th>\n",
              "      <th>coef(a)_6am-MLP</th>\n",
              "      <th>rsquared_6am-MLP</th>\n",
              "      <th>Standard Error_6am-MLP</th>\n",
              "      <th>coef(b)_6am-MLP</th>\n",
              "      <th>coef(a)_Acu-6am-MLP</th>\n",
              "      <th>rsquared_Acu-6am-MLP</th>\n",
              "      <th>Standard Error_Acu-6am-MLP</th>\n",
              "      <th>coef(b)_Acu-6am-MLP</th>\n",
              "      <th>coef(a)_6am-Beysens</th>\n",
              "      <th>...</th>\n",
              "      <th>Standard Error_Acu-Beysens-PM</th>\n",
              "      <th>coef(b)_Acu-Beysens-PM</th>\n",
              "      <th>coef(a)_MLP-PM</th>\n",
              "      <th>rsquared_MLP-PM</th>\n",
              "      <th>Standard Error_MLP-PM</th>\n",
              "      <th>coef(b)_MLP-PM</th>\n",
              "      <th>coef(a)_Acu-MLP-PM</th>\n",
              "      <th>rsquared_Acu-MLP-PM</th>\n",
              "      <th>Standard Error_Acu-MLP-PM</th>\n",
              "      <th>coef(b)_Acu-MLP-PM</th>\n",
              "    </tr>\n",
              "  </thead>\n",
              "  <tbody>\n",
              "    <tr>\n",
              "      <th>0</th>\n",
              "      <td>1.0</td>\n",
              "      <td>0.36385413729825844</td>\n",
              "      <td>0.5602165417138931</td>\n",
              "      <td>0.029186961936644735</td>\n",
              "      <td>0.019067201407475514</td>\n",
              "      <td>0.9038461309215753</td>\n",
              "      <td>0.9812451206641551</td>\n",
              "      <td>0.011313135019297902</td>\n",
              "      <td>-0.2627258671176893</td>\n",
              "      <td>0.6887940971988331</td>\n",
              "      <td>...</td>\n",
              "      <td>0.002192155015185355</td>\n",
              "      <td>0.08120199578266948</td>\n",
              "      <td>0.21875343539231065</td>\n",
              "      <td>0.38555710460077497</td>\n",
              "      <td>0.025001805499819386</td>\n",
              "      <td>0.019618026692492498</td>\n",
              "      <td>0.8077938275761849</td>\n",
              "      <td>0.976675847408949</td>\n",
              "      <td>0.01130181849523281</td>\n",
              "      <td>-0.15294988662770392</td>\n",
              "    </tr>\n",
              "    <tr>\n",
              "      <th>0</th>\n",
              "      <td>2.0</td>\n",
              "      <td>0.3310522291690634</td>\n",
              "      <td>0.39280615537021335</td>\n",
              "      <td>0.03726414134118021</td>\n",
              "      <td>0.01953188110541154</td>\n",
              "      <td>0.8912650887964431</td>\n",
              "      <td>0.970834040208342</td>\n",
              "      <td>0.013985970855163968</td>\n",
              "      <td>-0.18010336165911325</td>\n",
              "      <td>0.5733536637966881</td>\n",
              "      <td>...</td>\n",
              "      <td>0.0032933735659735177</td>\n",
              "      <td>-0.06161267730841905</td>\n",
              "      <td>0.2157272793725387</td>\n",
              "      <td>0.30394142423929826</td>\n",
              "      <td>0.029556506336017547</td>\n",
              "      <td>0.027050469875205235</td>\n",
              "      <td>1.1482380778763033</td>\n",
              "      <td>0.9731216524026816</td>\n",
              "      <td>0.01727705615170822</td>\n",
              "      <td>-0.27205269731784865</td>\n",
              "    </tr>\n",
              "    <tr>\n",
              "      <th>0</th>\n",
              "      <td>3.0</td>\n",
              "      <td>0.5194155357272868</td>\n",
              "      <td>0.4769747993204201</td>\n",
              "      <td>0.04924346807363187</td>\n",
              "      <td>0.019876493611513238</td>\n",
              "      <td>1.3258039925897216</td>\n",
              "      <td>0.9901533586498458</td>\n",
              "      <td>0.011969947201311086</td>\n",
              "      <td>0.18656451863465046</td>\n",
              "      <td>0.92932809758028</td>\n",
              "      <td>...</td>\n",
              "      <td>0.0010180828636682435</td>\n",
              "      <td>-0.018042851982852874</td>\n",
              "      <td>0.15377517941850827</td>\n",
              "      <td>0.06821070466691848</td>\n",
              "      <td>0.05145635347057865</td>\n",
              "      <td>0.03204514123970519</td>\n",
              "      <td>1.3373717063761072</td>\n",
              "      <td>0.9700160770156772</td>\n",
              "      <td>0.021287613494758495</td>\n",
              "      <td>0.12330263330525633</td>\n",
              "    </tr>\n",
              "    <tr>\n",
              "      <th>0</th>\n",
              "      <td>4.0</td>\n",
              "      <td>0.5976720478543038</td>\n",
              "      <td>0.4528383065984639</td>\n",
              "      <td>0.05947977184422962</td>\n",
              "      <td>0.02624042506030709</td>\n",
              "      <td>1.403084310043562</td>\n",
              "      <td>0.9735683245959128</td>\n",
              "      <td>0.020930662725803528</td>\n",
              "      <td>0.17310486141265385</td>\n",
              "      <td>0.8425123079526693</td>\n",
              "      <td>...</td>\n",
              "      <td>0.0063518339991953275</td>\n",
              "      <td>-0.03029870557649616</td>\n",
              "      <td>0.27916606589156184</td>\n",
              "      <td>0.2306052339365826</td>\n",
              "      <td>0.04616605780321492</td>\n",
              "      <td>0.027096281885505273</td>\n",
              "      <td>1.3582419147769407</td>\n",
              "      <td>0.9803659868951378</td>\n",
              "      <td>0.017402339378908806</td>\n",
              "      <td>-0.19566833929931454</td>\n",
              "    </tr>\n",
              "    <tr>\n",
              "      <th>0</th>\n",
              "      <td>5.0</td>\n",
              "      <td>0.2964783738637245</td>\n",
              "      <td>0.25963000969369743</td>\n",
              "      <td>0.045327325132562296</td>\n",
              "      <td>0.020230710756861735</td>\n",
              "      <td>0.9878114596168943</td>\n",
              "      <td>0.9882304775249419</td>\n",
              "      <td>0.009759879192612545</td>\n",
              "      <td>-0.016184943801213866</td>\n",
              "      <td>0.7359672733089523</td>\n",
              "      <td>...</td>\n",
              "      <td>0.004562490484630499</td>\n",
              "      <td>-0.05489179071844282</td>\n",
              "      <td>0.16334248636588564</td>\n",
              "      <td>0.10544705607792393</td>\n",
              "      <td>0.04307299578600377</td>\n",
              "      <td>0.026455401752449276</td>\n",
              "      <td>1.110523896790907</td>\n",
              "      <td>0.9833146788105468</td>\n",
              "      <td>0.013096915277723505</td>\n",
              "      <td>0.034327899995598654</td>\n",
              "    </tr>\n",
              "    <tr>\n",
              "      <th>0</th>\n",
              "      <td>6.0</td>\n",
              "      <td>0.5127846926719974</td>\n",
              "      <td>0.3598814136062485</td>\n",
              "      <td>0.06191639610877792</td>\n",
              "      <td>0.022271006988613902</td>\n",
              "      <td>1.2106037251024453</td>\n",
              "      <td>0.9727396006707784</td>\n",
              "      <td>0.018348049390611115</td>\n",
              "      <td>0.14651654121066043</td>\n",
              "      <td>0.7841818867028405</td>\n",
              "      <td>...</td>\n",
              "      <td>0.004634008020968582</td>\n",
              "      <td>0.01756671553620441</td>\n",
              "      <td>0.3072951192854767</td>\n",
              "      <td>0.22249957927762198</td>\n",
              "      <td>0.05200696339508375</td>\n",
              "      <td>0.02807780080323328</td>\n",
              "      <td>1.2120015182541526</td>\n",
              "      <td>0.9767205034961184</td>\n",
              "      <td>0.01694044783920242</td>\n",
              "      <td>0.40256853412118243</td>\n",
              "    </tr>\n",
              "    <tr>\n",
              "      <th>0</th>\n",
              "      <td>7.0</td>\n",
              "      <td>0.4401489756698029</td>\n",
              "      <td>0.5890974310142181</td>\n",
              "      <td>0.033280944625054654</td>\n",
              "      <td>0.019195161893228174</td>\n",
              "      <td>1.1825133612603969</td>\n",
              "      <td>0.98983953200406</td>\n",
              "      <td>0.010846774181893606</td>\n",
              "      <td>-0.13616860419789487</td>\n",
              "      <td>0.6432389280416402</td>\n",
              "      <td>...</td>\n",
              "      <td>0.0026569404939648105</td>\n",
              "      <td>0.026221774241900815</td>\n",
              "      <td>0.23274219751831968</td>\n",
              "      <td>0.3342611812474572</td>\n",
              "      <td>0.029737483955363308</td>\n",
              "      <td>0.024930025583008355</td>\n",
              "      <td>1.2093279093300682</td>\n",
              "      <td>0.9770829708011194</td>\n",
              "      <td>0.016767858287291167</td>\n",
              "      <td>-0.2053452946846766</td>\n",
              "    </tr>\n",
              "    <tr>\n",
              "      <th>0</th>\n",
              "      <td>8.0</td>\n",
              "      <td>0.5010758339977585</td>\n",
              "      <td>0.4702872148790538</td>\n",
              "      <td>0.04814622040512959</td>\n",
              "      <td>0.02344731082757835</td>\n",
              "      <td>1.3496269634922573</td>\n",
              "      <td>0.9875538091849921</td>\n",
              "      <td>0.013717395904387362</td>\n",
              "      <td>-0.24508187416835192</td>\n",
              "      <td>0.6712230363351028</td>\n",
              "      <td>...</td>\n",
              "      <td>0.005127606103037121</td>\n",
              "      <td>-0.04299303418433999</td>\n",
              "      <td>0.29876369105717626</td>\n",
              "      <td>0.19402833472244496</td>\n",
              "      <td>0.05512837163296752</td>\n",
              "      <td>0.030969646048145123</td>\n",
              "      <td>1.3710362272791996</td>\n",
              "      <td>0.973941943840277</td>\n",
              "      <td>0.02030362060040848</td>\n",
              "      <td>-0.2500387115019504</td>\n",
              "    </tr>\n",
              "    <tr>\n",
              "      <th>0</th>\n",
              "      <td>9.0</td>\n",
              "      <td>0.5753170095531255</td>\n",
              "      <td>0.41283628345079926</td>\n",
              "      <td>0.06211807311541654</td>\n",
              "      <td>0.024282074658668273</td>\n",
              "      <td>1.2688906047087067</td>\n",
              "      <td>0.9932374638652833</td>\n",
              "      <td>0.009479218270494279</td>\n",
              "      <td>0.034323052583232774</td>\n",
              "      <td>0.7803095824637141</td>\n",
              "      <td>...</td>\n",
              "      <td>0.00830429835373466</td>\n",
              "      <td>0.1799807758679673</td>\n",
              "      <td>0.31162887502373965</td>\n",
              "      <td>0.1479625906526365</td>\n",
              "      <td>0.06770348959200087</td>\n",
              "      <td>0.02973773596920407</td>\n",
              "      <td>1.2187205161178012</td>\n",
              "      <td>0.9833268603656274</td>\n",
              "      <td>0.014367590760962834</td>\n",
              "      <td>0.15803194150533537</td>\n",
              "    </tr>\n",
              "    <tr>\n",
              "      <th>0</th>\n",
              "      <td>10.0</td>\n",
              "      <td>0.3323129539560373</td>\n",
              "      <td>0.3663530615655719</td>\n",
              "      <td>0.03956772592393646</td>\n",
              "      <td>0.020268565667440817</td>\n",
              "      <td>1.0666637338644396</td>\n",
              "      <td>0.9949175815146565</td>\n",
              "      <td>0.006902227560272571</td>\n",
              "      <td>-0.02475839275622478</td>\n",
              "      <td>0.6696307308597443</td>\n",
              "      <td>...</td>\n",
              "      <td>0.002117864834419753</td>\n",
              "      <td>-0.03854278008381037</td>\n",
              "      <td>0.2226186438469578</td>\n",
              "      <td>0.3776733149181527</td>\n",
              "      <td>0.02587215962203336</td>\n",
              "      <td>0.017574678163329027</td>\n",
              "      <td>0.8516523045559884</td>\n",
              "      <td>0.9926709616305832</td>\n",
              "      <td>0.006625264932967178</td>\n",
              "      <td>-0.1297109230165536</td>\n",
              "    </tr>\n",
              "  </tbody>\n",
              "</table>\n",
              "<p>10 rows × 33 columns</p>\n",
              "</div>\n",
              "      <button class=\"colab-df-convert\" onclick=\"convertToInteractive('df-2186e7ee-1deb-4f09-ae6b-5e6c97eab961')\"\n",
              "              title=\"Convert this dataframe to an interactive table.\"\n",
              "              style=\"display:none;\">\n",
              "        \n",
              "  <svg xmlns=\"http://www.w3.org/2000/svg\" height=\"24px\"viewBox=\"0 0 24 24\"\n",
              "       width=\"24px\">\n",
              "    <path d=\"M0 0h24v24H0V0z\" fill=\"none\"/>\n",
              "    <path d=\"M18.56 5.44l.94 2.06.94-2.06 2.06-.94-2.06-.94-.94-2.06-.94 2.06-2.06.94zm-11 1L8.5 8.5l.94-2.06 2.06-.94-2.06-.94L8.5 2.5l-.94 2.06-2.06.94zm10 10l.94 2.06.94-2.06 2.06-.94-2.06-.94-.94-2.06-.94 2.06-2.06.94z\"/><path d=\"M17.41 7.96l-1.37-1.37c-.4-.4-.92-.59-1.43-.59-.52 0-1.04.2-1.43.59L10.3 9.45l-7.72 7.72c-.78.78-.78 2.05 0 2.83L4 21.41c.39.39.9.59 1.41.59.51 0 1.02-.2 1.41-.59l7.78-7.78 2.81-2.81c.8-.78.8-2.07 0-2.86zM5.41 20L4 18.59l7.72-7.72 1.47 1.35L5.41 20z\"/>\n",
              "  </svg>\n",
              "      </button>\n",
              "      \n",
              "  <style>\n",
              "    .colab-df-container {\n",
              "      display:flex;\n",
              "      flex-wrap:wrap;\n",
              "      gap: 12px;\n",
              "    }\n",
              "\n",
              "    .colab-df-convert {\n",
              "      background-color: #E8F0FE;\n",
              "      border: none;\n",
              "      border-radius: 50%;\n",
              "      cursor: pointer;\n",
              "      display: none;\n",
              "      fill: #1967D2;\n",
              "      height: 32px;\n",
              "      padding: 0 0 0 0;\n",
              "      width: 32px;\n",
              "    }\n",
              "\n",
              "    .colab-df-convert:hover {\n",
              "      background-color: #E2EBFA;\n",
              "      box-shadow: 0px 1px 2px rgba(60, 64, 67, 0.3), 0px 1px 3px 1px rgba(60, 64, 67, 0.15);\n",
              "      fill: #174EA6;\n",
              "    }\n",
              "\n",
              "    [theme=dark] .colab-df-convert {\n",
              "      background-color: #3B4455;\n",
              "      fill: #D2E3FC;\n",
              "    }\n",
              "\n",
              "    [theme=dark] .colab-df-convert:hover {\n",
              "      background-color: #434B5C;\n",
              "      box-shadow: 0px 1px 3px 1px rgba(0, 0, 0, 0.15);\n",
              "      filter: drop-shadow(0px 1px 2px rgba(0, 0, 0, 0.3));\n",
              "      fill: #FFFFFF;\n",
              "    }\n",
              "  </style>\n",
              "\n",
              "      <script>\n",
              "        const buttonEl =\n",
              "          document.querySelector('#df-2186e7ee-1deb-4f09-ae6b-5e6c97eab961 button.colab-df-convert');\n",
              "        buttonEl.style.display =\n",
              "          google.colab.kernel.accessAllowed ? 'block' : 'none';\n",
              "\n",
              "        async function convertToInteractive(key) {\n",
              "          const element = document.querySelector('#df-2186e7ee-1deb-4f09-ae6b-5e6c97eab961');\n",
              "          const dataTable =\n",
              "            await google.colab.kernel.invokeFunction('convertToInteractive',\n",
              "                                                     [key], {});\n",
              "          if (!dataTable) return;\n",
              "\n",
              "          const docLinkHtml = 'Like what you see? Visit the ' +\n",
              "            '<a target=\"_blank\" href=https://colab.research.google.com/notebooks/data_table.ipynb>data table notebook</a>'\n",
              "            + ' to learn more about interactive tables.';\n",
              "          element.innerHTML = '';\n",
              "          dataTable['output_type'] = 'display_data';\n",
              "          await google.colab.output.renderOutput(dataTable, element);\n",
              "          const docLink = document.createElement('div');\n",
              "          docLink.innerHTML = docLinkHtml;\n",
              "          element.appendChild(docLink);\n",
              "        }\n",
              "      </script>\n",
              "    </div>\n",
              "  </div>\n",
              "  "
            ]
          },
          "metadata": {},
          "execution_count": 15
        }
      ]
    },
    {
      "cell_type": "code",
      "source": [
        "resultadoDatos=resultadoDatos.astype(float)"
      ],
      "metadata": {
        "id": "84VdLftrvjMe"
      },
      "execution_count": null,
      "outputs": []
    },
    {
      "cell_type": "code",
      "source": [
        "resultadoDatos"
      ],
      "metadata": {
        "colab": {
          "base_uri": "https://localhost:8080/",
          "height": 478
        },
        "id": "m4_mlPO_vsd1",
        "outputId": "2b0f7368-e8d5-4632-df9a-865135e15fb3"
      },
      "execution_count": null,
      "outputs": [
        {
          "output_type": "execute_result",
          "data": {
            "text/plain": [
              "   Pruebas  coef(a)_6am-MLP  rsquared_6am-MLP  Standard Error_6am-MLP  \\\n",
              "0      1.0         0.363854          0.560217                0.029187   \n",
              "0      2.0         0.331052          0.392806                0.037264   \n",
              "0      3.0         0.519416          0.476975                0.049243   \n",
              "0      4.0         0.597672          0.452838                0.059480   \n",
              "0      5.0         0.296478          0.259630                0.045327   \n",
              "0      6.0         0.512785          0.359881                0.061916   \n",
              "0      7.0         0.440149          0.589097                0.033281   \n",
              "0      8.0         0.501076          0.470287                0.048146   \n",
              "0      9.0         0.575317          0.412836                0.062118   \n",
              "0     10.0         0.332313          0.366353                0.039568   \n",
              "\n",
              "   coef(b)_6am-MLP  coef(a)_Acu-6am-MLP  rsquared_Acu-6am-MLP  \\\n",
              "0         0.019067             0.903846              0.981245   \n",
              "0         0.019532             0.891265              0.970834   \n",
              "0         0.019876             1.325804              0.990153   \n",
              "0         0.026240             1.403084              0.973568   \n",
              "0         0.020231             0.987811              0.988230   \n",
              "0         0.022271             1.210604              0.972740   \n",
              "0         0.019195             1.182513              0.989840   \n",
              "0         0.023447             1.349627              0.987554   \n",
              "0         0.024282             1.268891              0.993237   \n",
              "0         0.020269             1.066664              0.994918   \n",
              "\n",
              "   Standard Error_Acu-6am-MLP  coef(b)_Acu-6am-MLP  coef(a)_6am-Beysens  ...  \\\n",
              "0                    0.011313            -0.262726             0.688794  ...   \n",
              "0                    0.013986            -0.180103             0.573354  ...   \n",
              "0                    0.011970             0.186565             0.929328  ...   \n",
              "0                    0.020931             0.173105             0.842512  ...   \n",
              "0                    0.009760            -0.016185             0.735967  ...   \n",
              "0                    0.018348             0.146517             0.784182  ...   \n",
              "0                    0.010847            -0.136169             0.643239  ...   \n",
              "0                    0.013717            -0.245082             0.671223  ...   \n",
              "0                    0.009479             0.034323             0.780310  ...   \n",
              "0                    0.006902            -0.024758             0.669631  ...   \n",
              "\n",
              "   Standard Error_Acu-Beysens-PM  coef(b)_Acu-Beysens-PM  coef(a)_MLP-PM  \\\n",
              "0                       0.002192                0.081202        0.218753   \n",
              "0                       0.003293               -0.061613        0.215727   \n",
              "0                       0.001018               -0.018043        0.153775   \n",
              "0                       0.006352               -0.030299        0.279166   \n",
              "0                       0.004562               -0.054892        0.163342   \n",
              "0                       0.004634                0.017567        0.307295   \n",
              "0                       0.002657                0.026222        0.232742   \n",
              "0                       0.005128               -0.042993        0.298764   \n",
              "0                       0.008304                0.179981        0.311629   \n",
              "0                       0.002118               -0.038543        0.222619   \n",
              "\n",
              "   rsquared_MLP-PM  Standard Error_MLP-PM  coef(b)_MLP-PM  coef(a)_Acu-MLP-PM  \\\n",
              "0         0.385557               0.025002        0.019618            0.807794   \n",
              "0         0.303941               0.029557        0.027050            1.148238   \n",
              "0         0.068211               0.051456        0.032045            1.337372   \n",
              "0         0.230605               0.046166        0.027096            1.358242   \n",
              "0         0.105447               0.043073        0.026455            1.110524   \n",
              "0         0.222500               0.052007        0.028078            1.212002   \n",
              "0         0.334261               0.029737        0.024930            1.209328   \n",
              "0         0.194028               0.055128        0.030970            1.371036   \n",
              "0         0.147963               0.067703        0.029738            1.218721   \n",
              "0         0.377673               0.025872        0.017575            0.851652   \n",
              "\n",
              "   rsquared_Acu-MLP-PM  Standard Error_Acu-MLP-PM  coef(b)_Acu-MLP-PM  \n",
              "0             0.976676                   0.011302           -0.152950  \n",
              "0             0.973122                   0.017277           -0.272053  \n",
              "0             0.970016                   0.021288            0.123303  \n",
              "0             0.980366                   0.017402           -0.195668  \n",
              "0             0.983315                   0.013097            0.034328  \n",
              "0             0.976721                   0.016940            0.402569  \n",
              "0             0.977083                   0.016768           -0.205345  \n",
              "0             0.973942                   0.020304           -0.250039  \n",
              "0             0.983327                   0.014368            0.158032  \n",
              "0             0.992671                   0.006625           -0.129711  \n",
              "\n",
              "[10 rows x 33 columns]"
            ],
            "text/html": [
              "\n",
              "  <div id=\"df-47adeb10-62e1-4495-89a7-e4d52cbd36dc\">\n",
              "    <div class=\"colab-df-container\">\n",
              "      <div>\n",
              "<style scoped>\n",
              "    .dataframe tbody tr th:only-of-type {\n",
              "        vertical-align: middle;\n",
              "    }\n",
              "\n",
              "    .dataframe tbody tr th {\n",
              "        vertical-align: top;\n",
              "    }\n",
              "\n",
              "    .dataframe thead th {\n",
              "        text-align: right;\n",
              "    }\n",
              "</style>\n",
              "<table border=\"1\" class=\"dataframe\">\n",
              "  <thead>\n",
              "    <tr style=\"text-align: right;\">\n",
              "      <th></th>\n",
              "      <th>Pruebas</th>\n",
              "      <th>coef(a)_6am-MLP</th>\n",
              "      <th>rsquared_6am-MLP</th>\n",
              "      <th>Standard Error_6am-MLP</th>\n",
              "      <th>coef(b)_6am-MLP</th>\n",
              "      <th>coef(a)_Acu-6am-MLP</th>\n",
              "      <th>rsquared_Acu-6am-MLP</th>\n",
              "      <th>Standard Error_Acu-6am-MLP</th>\n",
              "      <th>coef(b)_Acu-6am-MLP</th>\n",
              "      <th>coef(a)_6am-Beysens</th>\n",
              "      <th>...</th>\n",
              "      <th>Standard Error_Acu-Beysens-PM</th>\n",
              "      <th>coef(b)_Acu-Beysens-PM</th>\n",
              "      <th>coef(a)_MLP-PM</th>\n",
              "      <th>rsquared_MLP-PM</th>\n",
              "      <th>Standard Error_MLP-PM</th>\n",
              "      <th>coef(b)_MLP-PM</th>\n",
              "      <th>coef(a)_Acu-MLP-PM</th>\n",
              "      <th>rsquared_Acu-MLP-PM</th>\n",
              "      <th>Standard Error_Acu-MLP-PM</th>\n",
              "      <th>coef(b)_Acu-MLP-PM</th>\n",
              "    </tr>\n",
              "  </thead>\n",
              "  <tbody>\n",
              "    <tr>\n",
              "      <th>0</th>\n",
              "      <td>1.0</td>\n",
              "      <td>0.363854</td>\n",
              "      <td>0.560217</td>\n",
              "      <td>0.029187</td>\n",
              "      <td>0.019067</td>\n",
              "      <td>0.903846</td>\n",
              "      <td>0.981245</td>\n",
              "      <td>0.011313</td>\n",
              "      <td>-0.262726</td>\n",
              "      <td>0.688794</td>\n",
              "      <td>...</td>\n",
              "      <td>0.002192</td>\n",
              "      <td>0.081202</td>\n",
              "      <td>0.218753</td>\n",
              "      <td>0.385557</td>\n",
              "      <td>0.025002</td>\n",
              "      <td>0.019618</td>\n",
              "      <td>0.807794</td>\n",
              "      <td>0.976676</td>\n",
              "      <td>0.011302</td>\n",
              "      <td>-0.152950</td>\n",
              "    </tr>\n",
              "    <tr>\n",
              "      <th>0</th>\n",
              "      <td>2.0</td>\n",
              "      <td>0.331052</td>\n",
              "      <td>0.392806</td>\n",
              "      <td>0.037264</td>\n",
              "      <td>0.019532</td>\n",
              "      <td>0.891265</td>\n",
              "      <td>0.970834</td>\n",
              "      <td>0.013986</td>\n",
              "      <td>-0.180103</td>\n",
              "      <td>0.573354</td>\n",
              "      <td>...</td>\n",
              "      <td>0.003293</td>\n",
              "      <td>-0.061613</td>\n",
              "      <td>0.215727</td>\n",
              "      <td>0.303941</td>\n",
              "      <td>0.029557</td>\n",
              "      <td>0.027050</td>\n",
              "      <td>1.148238</td>\n",
              "      <td>0.973122</td>\n",
              "      <td>0.017277</td>\n",
              "      <td>-0.272053</td>\n",
              "    </tr>\n",
              "    <tr>\n",
              "      <th>0</th>\n",
              "      <td>3.0</td>\n",
              "      <td>0.519416</td>\n",
              "      <td>0.476975</td>\n",
              "      <td>0.049243</td>\n",
              "      <td>0.019876</td>\n",
              "      <td>1.325804</td>\n",
              "      <td>0.990153</td>\n",
              "      <td>0.011970</td>\n",
              "      <td>0.186565</td>\n",
              "      <td>0.929328</td>\n",
              "      <td>...</td>\n",
              "      <td>0.001018</td>\n",
              "      <td>-0.018043</td>\n",
              "      <td>0.153775</td>\n",
              "      <td>0.068211</td>\n",
              "      <td>0.051456</td>\n",
              "      <td>0.032045</td>\n",
              "      <td>1.337372</td>\n",
              "      <td>0.970016</td>\n",
              "      <td>0.021288</td>\n",
              "      <td>0.123303</td>\n",
              "    </tr>\n",
              "    <tr>\n",
              "      <th>0</th>\n",
              "      <td>4.0</td>\n",
              "      <td>0.597672</td>\n",
              "      <td>0.452838</td>\n",
              "      <td>0.059480</td>\n",
              "      <td>0.026240</td>\n",
              "      <td>1.403084</td>\n",
              "      <td>0.973568</td>\n",
              "      <td>0.020931</td>\n",
              "      <td>0.173105</td>\n",
              "      <td>0.842512</td>\n",
              "      <td>...</td>\n",
              "      <td>0.006352</td>\n",
              "      <td>-0.030299</td>\n",
              "      <td>0.279166</td>\n",
              "      <td>0.230605</td>\n",
              "      <td>0.046166</td>\n",
              "      <td>0.027096</td>\n",
              "      <td>1.358242</td>\n",
              "      <td>0.980366</td>\n",
              "      <td>0.017402</td>\n",
              "      <td>-0.195668</td>\n",
              "    </tr>\n",
              "    <tr>\n",
              "      <th>0</th>\n",
              "      <td>5.0</td>\n",
              "      <td>0.296478</td>\n",
              "      <td>0.259630</td>\n",
              "      <td>0.045327</td>\n",
              "      <td>0.020231</td>\n",
              "      <td>0.987811</td>\n",
              "      <td>0.988230</td>\n",
              "      <td>0.009760</td>\n",
              "      <td>-0.016185</td>\n",
              "      <td>0.735967</td>\n",
              "      <td>...</td>\n",
              "      <td>0.004562</td>\n",
              "      <td>-0.054892</td>\n",
              "      <td>0.163342</td>\n",
              "      <td>0.105447</td>\n",
              "      <td>0.043073</td>\n",
              "      <td>0.026455</td>\n",
              "      <td>1.110524</td>\n",
              "      <td>0.983315</td>\n",
              "      <td>0.013097</td>\n",
              "      <td>0.034328</td>\n",
              "    </tr>\n",
              "    <tr>\n",
              "      <th>0</th>\n",
              "      <td>6.0</td>\n",
              "      <td>0.512785</td>\n",
              "      <td>0.359881</td>\n",
              "      <td>0.061916</td>\n",
              "      <td>0.022271</td>\n",
              "      <td>1.210604</td>\n",
              "      <td>0.972740</td>\n",
              "      <td>0.018348</td>\n",
              "      <td>0.146517</td>\n",
              "      <td>0.784182</td>\n",
              "      <td>...</td>\n",
              "      <td>0.004634</td>\n",
              "      <td>0.017567</td>\n",
              "      <td>0.307295</td>\n",
              "      <td>0.222500</td>\n",
              "      <td>0.052007</td>\n",
              "      <td>0.028078</td>\n",
              "      <td>1.212002</td>\n",
              "      <td>0.976721</td>\n",
              "      <td>0.016940</td>\n",
              "      <td>0.402569</td>\n",
              "    </tr>\n",
              "    <tr>\n",
              "      <th>0</th>\n",
              "      <td>7.0</td>\n",
              "      <td>0.440149</td>\n",
              "      <td>0.589097</td>\n",
              "      <td>0.033281</td>\n",
              "      <td>0.019195</td>\n",
              "      <td>1.182513</td>\n",
              "      <td>0.989840</td>\n",
              "      <td>0.010847</td>\n",
              "      <td>-0.136169</td>\n",
              "      <td>0.643239</td>\n",
              "      <td>...</td>\n",
              "      <td>0.002657</td>\n",
              "      <td>0.026222</td>\n",
              "      <td>0.232742</td>\n",
              "      <td>0.334261</td>\n",
              "      <td>0.029737</td>\n",
              "      <td>0.024930</td>\n",
              "      <td>1.209328</td>\n",
              "      <td>0.977083</td>\n",
              "      <td>0.016768</td>\n",
              "      <td>-0.205345</td>\n",
              "    </tr>\n",
              "    <tr>\n",
              "      <th>0</th>\n",
              "      <td>8.0</td>\n",
              "      <td>0.501076</td>\n",
              "      <td>0.470287</td>\n",
              "      <td>0.048146</td>\n",
              "      <td>0.023447</td>\n",
              "      <td>1.349627</td>\n",
              "      <td>0.987554</td>\n",
              "      <td>0.013717</td>\n",
              "      <td>-0.245082</td>\n",
              "      <td>0.671223</td>\n",
              "      <td>...</td>\n",
              "      <td>0.005128</td>\n",
              "      <td>-0.042993</td>\n",
              "      <td>0.298764</td>\n",
              "      <td>0.194028</td>\n",
              "      <td>0.055128</td>\n",
              "      <td>0.030970</td>\n",
              "      <td>1.371036</td>\n",
              "      <td>0.973942</td>\n",
              "      <td>0.020304</td>\n",
              "      <td>-0.250039</td>\n",
              "    </tr>\n",
              "    <tr>\n",
              "      <th>0</th>\n",
              "      <td>9.0</td>\n",
              "      <td>0.575317</td>\n",
              "      <td>0.412836</td>\n",
              "      <td>0.062118</td>\n",
              "      <td>0.024282</td>\n",
              "      <td>1.268891</td>\n",
              "      <td>0.993237</td>\n",
              "      <td>0.009479</td>\n",
              "      <td>0.034323</td>\n",
              "      <td>0.780310</td>\n",
              "      <td>...</td>\n",
              "      <td>0.008304</td>\n",
              "      <td>0.179981</td>\n",
              "      <td>0.311629</td>\n",
              "      <td>0.147963</td>\n",
              "      <td>0.067703</td>\n",
              "      <td>0.029738</td>\n",
              "      <td>1.218721</td>\n",
              "      <td>0.983327</td>\n",
              "      <td>0.014368</td>\n",
              "      <td>0.158032</td>\n",
              "    </tr>\n",
              "    <tr>\n",
              "      <th>0</th>\n",
              "      <td>10.0</td>\n",
              "      <td>0.332313</td>\n",
              "      <td>0.366353</td>\n",
              "      <td>0.039568</td>\n",
              "      <td>0.020269</td>\n",
              "      <td>1.066664</td>\n",
              "      <td>0.994918</td>\n",
              "      <td>0.006902</td>\n",
              "      <td>-0.024758</td>\n",
              "      <td>0.669631</td>\n",
              "      <td>...</td>\n",
              "      <td>0.002118</td>\n",
              "      <td>-0.038543</td>\n",
              "      <td>0.222619</td>\n",
              "      <td>0.377673</td>\n",
              "      <td>0.025872</td>\n",
              "      <td>0.017575</td>\n",
              "      <td>0.851652</td>\n",
              "      <td>0.992671</td>\n",
              "      <td>0.006625</td>\n",
              "      <td>-0.129711</td>\n",
              "    </tr>\n",
              "  </tbody>\n",
              "</table>\n",
              "<p>10 rows × 33 columns</p>\n",
              "</div>\n",
              "      <button class=\"colab-df-convert\" onclick=\"convertToInteractive('df-47adeb10-62e1-4495-89a7-e4d52cbd36dc')\"\n",
              "              title=\"Convert this dataframe to an interactive table.\"\n",
              "              style=\"display:none;\">\n",
              "        \n",
              "  <svg xmlns=\"http://www.w3.org/2000/svg\" height=\"24px\"viewBox=\"0 0 24 24\"\n",
              "       width=\"24px\">\n",
              "    <path d=\"M0 0h24v24H0V0z\" fill=\"none\"/>\n",
              "    <path d=\"M18.56 5.44l.94 2.06.94-2.06 2.06-.94-2.06-.94-.94-2.06-.94 2.06-2.06.94zm-11 1L8.5 8.5l.94-2.06 2.06-.94-2.06-.94L8.5 2.5l-.94 2.06-2.06.94zm10 10l.94 2.06.94-2.06 2.06-.94-2.06-.94-.94-2.06-.94 2.06-2.06.94z\"/><path d=\"M17.41 7.96l-1.37-1.37c-.4-.4-.92-.59-1.43-.59-.52 0-1.04.2-1.43.59L10.3 9.45l-7.72 7.72c-.78.78-.78 2.05 0 2.83L4 21.41c.39.39.9.59 1.41.59.51 0 1.02-.2 1.41-.59l7.78-7.78 2.81-2.81c.8-.78.8-2.07 0-2.86zM5.41 20L4 18.59l7.72-7.72 1.47 1.35L5.41 20z\"/>\n",
              "  </svg>\n",
              "      </button>\n",
              "      \n",
              "  <style>\n",
              "    .colab-df-container {\n",
              "      display:flex;\n",
              "      flex-wrap:wrap;\n",
              "      gap: 12px;\n",
              "    }\n",
              "\n",
              "    .colab-df-convert {\n",
              "      background-color: #E8F0FE;\n",
              "      border: none;\n",
              "      border-radius: 50%;\n",
              "      cursor: pointer;\n",
              "      display: none;\n",
              "      fill: #1967D2;\n",
              "      height: 32px;\n",
              "      padding: 0 0 0 0;\n",
              "      width: 32px;\n",
              "    }\n",
              "\n",
              "    .colab-df-convert:hover {\n",
              "      background-color: #E2EBFA;\n",
              "      box-shadow: 0px 1px 2px rgba(60, 64, 67, 0.3), 0px 1px 3px 1px rgba(60, 64, 67, 0.15);\n",
              "      fill: #174EA6;\n",
              "    }\n",
              "\n",
              "    [theme=dark] .colab-df-convert {\n",
              "      background-color: #3B4455;\n",
              "      fill: #D2E3FC;\n",
              "    }\n",
              "\n",
              "    [theme=dark] .colab-df-convert:hover {\n",
              "      background-color: #434B5C;\n",
              "      box-shadow: 0px 1px 3px 1px rgba(0, 0, 0, 0.15);\n",
              "      filter: drop-shadow(0px 1px 2px rgba(0, 0, 0, 0.3));\n",
              "      fill: #FFFFFF;\n",
              "    }\n",
              "  </style>\n",
              "\n",
              "      <script>\n",
              "        const buttonEl =\n",
              "          document.querySelector('#df-47adeb10-62e1-4495-89a7-e4d52cbd36dc button.colab-df-convert');\n",
              "        buttonEl.style.display =\n",
              "          google.colab.kernel.accessAllowed ? 'block' : 'none';\n",
              "\n",
              "        async function convertToInteractive(key) {\n",
              "          const element = document.querySelector('#df-47adeb10-62e1-4495-89a7-e4d52cbd36dc');\n",
              "          const dataTable =\n",
              "            await google.colab.kernel.invokeFunction('convertToInteractive',\n",
              "                                                     [key], {});\n",
              "          if (!dataTable) return;\n",
              "\n",
              "          const docLinkHtml = 'Like what you see? Visit the ' +\n",
              "            '<a target=\"_blank\" href=https://colab.research.google.com/notebooks/data_table.ipynb>data table notebook</a>'\n",
              "            + ' to learn more about interactive tables.';\n",
              "          element.innerHTML = '';\n",
              "          dataTable['output_type'] = 'display_data';\n",
              "          await google.colab.output.renderOutput(dataTable, element);\n",
              "          const docLink = document.createElement('div');\n",
              "          docLink.innerHTML = docLinkHtml;\n",
              "          element.appendChild(docLink);\n",
              "        }\n",
              "      </script>\n",
              "    </div>\n",
              "  </div>\n",
              "  "
            ]
          },
          "metadata": {},
          "execution_count": 17
        }
      ]
    },
    {
      "cell_type": "code",
      "source": [
        "#mean_df = df['R-cuadrado-Modelo-Beysens(6am)'].mean()\n",
        "#print(mean_df)"
      ],
      "metadata": {
        "id": "gUODj0yHv57j"
      },
      "execution_count": null,
      "outputs": []
    },
    {
      "cell_type": "markdown",
      "source": [
        "# Resultados de Pruebas a modelo test"
      ],
      "metadata": {
        "id": "QSOrRflPjjhE"
      }
    },
    {
      "cell_type": "code",
      "source": [
        "import matplotlib.pyplot as plt"
      ],
      "metadata": {
        "id": "Os2W_UzOv95q"
      },
      "execution_count": null,
      "outputs": []
    },
    {
      "cell_type": "code",
      "source": [
        "#Graficos"
      ],
      "metadata": {
        "id": "cHh1oqcXrLcg"
      },
      "execution_count": null,
      "outputs": []
    },
    {
      "cell_type": "markdown",
      "source": [
        "## grafico 1, modelo R cuadrado"
      ],
      "metadata": {
        "id": "hejJV5c3rNz8"
      }
    },
    {
      "cell_type": "code",
      "source": [
        "fig, ax = plt.subplots(figsize=(8,6))   \n",
        "\n",
        "\n",
        "pruebas= resultadoDatos['Pruebas']\n",
        "resultados={'Modelo Beysens(6am)':resultadoDatos['rsquared_6am-Beysens'],'Modelo RNA(6am)':resultadoDatos['rsquared_6am-MLP']}\n",
        "ax.plot(pruebas,resultados['Modelo Beysens(6am)'], marker ='^',label=\"Modelo-Beysens(6am)\")\n",
        "ax.plot(pruebas,resultados['Modelo RNA(6am)'], marker = 'o',label=\"Modelo-MLP(6am)\")\n",
        "plt.ylabel('Resultado R cuadrado')\n",
        "plt.xlabel('Cantidad de Pruebas')\n",
        "legend = ax.legend(loc=\"best\")  \n",
        "plt.show()"
      ],
      "metadata": {
        "colab": {
          "base_uri": "https://localhost:8080/",
          "height": 387
        },
        "id": "W2hyjEiprbbB",
        "outputId": "b9e713f9-891b-4606-8e72-03b481471520"
      },
      "execution_count": null,
      "outputs": [
        {
          "output_type": "display_data",
          "data": {
            "text/plain": [
              "<Figure size 576x432 with 1 Axes>"
            ],
            "image/png": "[encoded data removed]"
          },
          "metadata": {
            "needs_background": "light"
          }
        }
      ]
    },
    {
      "cell_type": "code",
      "source": [
        "mean_df1 = resultadoDatos['rsquared_6am-Beysens'].mean()\n",
        "print(mean_df1)"
      ],
      "metadata": {
        "colab": {
          "base_uri": "https://localhost:8080/"
        },
        "id": "jyHmWGhS2ksJ",
        "outputId": "480a603f-61a9-46a1-aad3-43a5f40b0634"
      },
      "execution_count": null,
      "outputs": [
        {
          "output_type": "stream",
          "name": "stdout",
          "text": [
            "0.4071540587851691\n"
          ]
        }
      ]
    },
    {
      "cell_type": "code",
      "source": [
        "mean_df = resultadoDatos['rsquared_6am-MLP'].mean()\n",
        "print(mean_df)"
      ],
      "metadata": {
        "colab": {
          "base_uri": "https://localhost:8080/"
        },
        "id": "7zw1WUOg22U6",
        "outputId": "eebb25a4-d361-4cc1-e2bb-cad3f78e700b"
      },
      "execution_count": null,
      "outputs": [
        {
          "output_type": "stream",
          "name": "stdout",
          "text": [
            "0.43409212172125794\n"
          ]
        }
      ]
    },
    {
      "cell_type": "code",
      "source": [
        "# Import statistics Library\n",
        "import statistics\n",
        "\n",
        "# Calculate the standard deviation from a sample of data\n",
        "print(statistics.stdev(resultadoDatos['rsquared_6am-Beysens']))\n",
        "# Import statistics Library\n",
        "import statistics\n",
        "\n",
        "# Calculate the standard deviation from a sample of data\n",
        "print(statistics.stdev(resultadoDatos['rsquared_6am-MLP']))"
      ],
      "metadata": {
        "colab": {
          "base_uri": "https://localhost:8080/"
        },
        "id": "PyJkdpa0oaia",
        "outputId": "89e1bd3c-1c41-40ac-e2cf-360183fc82a5"
      },
      "execution_count": null,
      "outputs": [
        {
          "output_type": "stream",
          "name": "stdout",
          "text": [
            "0.09256817638556625\n",
            "0.09782275534106105\n"
          ]
        }
      ]
    },
    {
      "cell_type": "markdown",
      "source": [
        "## m"
      ],
      "metadata": {
        "id": "Hxc0IXpMTyYm"
      }
    },
    {
      "cell_type": "code",
      "source": [
        "fig, ax = plt.subplots(figsize=(8,6))   \n",
        "\n",
        "\n",
        "pruebas= resultadoDatos['Pruebas']\n",
        "resultados={'Modelo Beysens(6am)':resultadoDatos['coef(a)_6am-Beysens'],'Modelo RNA(6am)':resultadoDatos['coef(a)_6am-MLP']}\n",
        "ax.plot(pruebas,resultados['Modelo Beysens(6am)'], marker ='^',label=\"m del Modelo-Beysens(6am)\")\n",
        "ax.plot(pruebas,resultados['Modelo RNA(6am)'], marker = 'o',label=\"m del Modelo-MLP(6am)\")\n",
        "plt.ylabel('Resultado pendiente')\n",
        "plt.xlabel('Cantidad de Pruebas')\n",
        "legend = ax.legend(loc=\"best\")  \n",
        "plt.show()"
      ],
      "metadata": {
        "colab": {
          "base_uri": "https://localhost:8080/",
          "height": 52
        },
        "id": "plw1XO2sTzyq",
        "outputId": "daaa85d7-e78b-4bec-ea35-b3d5e4a32eb2"
      },
      "execution_count": null,
      "outputs": [
        {
          "output_type": "display_data",
          "data": {
            "text/plain": [
              "<Figure size 576x432 with 1 Axes>"
            ],
            "image/png": "[encoded data removed]"
          },
          "metadata": {
            "needs_background": "light"
          }
        }
      ]
    },
    {
      "cell_type": "code",
      "source": [
        "mean_df111 = resultadoDatos['coef(a)_6am-Beysens'].mean()\n",
        "print(mean_df111)"
      ],
      "metadata": {
        "colab": {
          "base_uri": "https://localhost:8080/"
        },
        "id": "cMW_h9esY3yW",
        "outputId": "d3ee5541-8dff-476b-ec86-fb074ea854a9"
      },
      "execution_count": null,
      "outputs": [
        {
          "output_type": "stream",
          "name": "stdout",
          "text": [
            "0.7318539604240464\n"
          ]
        }
      ]
    },
    {
      "cell_type": "code",
      "source": [
        "mean_df = resultadoDatos['coef(a)_6am-MLP'].mean()\n",
        "print(mean_df)"
      ],
      "metadata": {
        "colab": {
          "base_uri": "https://localhost:8080/"
        },
        "id": "XDNu7OcTY37q",
        "outputId": "58799a3d-40f4-4941-dc2c-95500e2d7486"
      },
      "execution_count": null,
      "outputs": [
        {
          "output_type": "stream",
          "name": "stdout",
          "text": [
            "0.44701117897613585\n"
          ]
        }
      ]
    },
    {
      "cell_type": "code",
      "source": [
        "# Import statistics Library\n",
        "import statistics\n",
        "\n",
        "# Calculate the standard deviation from a sample of data\n",
        "print(statistics.stdev(resultadoDatos['coef(a)_6am-Beysens']))\n",
        "# Import statistics Library\n",
        "import statistics\n",
        "\n",
        "# Calculate the standard deviation from a sample of data\n",
        "print(statistics.stdev(resultadoDatos['coef(a)_6am-MLP']))"
      ],
      "metadata": {
        "id": "fbcniKqsZ4P2",
        "colab": {
          "base_uri": "https://localhost:8080/"
        },
        "outputId": "e78d7e96-970a-4e27-fca5-351f2096366b"
      },
      "execution_count": null,
      "outputs": [
        {
          "output_type": "stream",
          "name": "stdout",
          "text": [
            "0.10473317542503705\n",
            "0.10948215794121971\n"
          ]
        }
      ]
    },
    {
      "cell_type": "markdown",
      "source": [
        "## coef"
      ],
      "metadata": {
        "id": "nW3EBhkGT2nq"
      }
    },
    {
      "cell_type": "code",
      "source": [
        "fig, ax = plt.subplots(figsize=(8,6))   \n",
        "\n",
        "\n",
        "pruebas= resultadoDatos['Pruebas']\n",
        "resultados={'Modelo Beysens(6am)':resultadoDatos['coef(b)_6am-Beysens'],'Modelo RNA(6am)':resultadoDatos['coef(b)_6am-MLP']}\n",
        "ax.plot(pruebas,resultados['Modelo Beysens(6am)'], marker ='^',label=\"Coef b del Modelo-Beysens(6am)\")\n",
        "ax.plot(pruebas,resultados['Modelo RNA(6am)'], marker = 'o',label=\"Coef b del Modelo-MLP(6am)\")\n",
        "plt.ylabel('Resultado coef')\n",
        "plt.xlabel('Cantidad de Pruebas')\n",
        "legend = ax.legend(loc=\"best\")  \n",
        "plt.show()"
      ],
      "metadata": {
        "colab": {
          "base_uri": "https://localhost:8080/",
          "height": 52
        },
        "id": "7Vf36CdFT4_-",
        "outputId": "2e6e584d-f2c2-4fac-eb07-a3e1325bb197"
      },
      "execution_count": null,
      "outputs": [
        {
          "output_type": "display_data",
          "data": {
            "text/plain": [
              "<Figure size 576x432 with 1 Axes>"
            ],
            "image/png": "[encoded data removed]"
          },
          "metadata": {
            "needs_background": "light"
          }
        }
      ]
    },
    {
      "cell_type": "code",
      "source": [
        "mean_df1145 = resultadoDatos['coef(b)_6am-Beysens'].mean()\n",
        "print(mean_df1145)"
      ],
      "metadata": {
        "colab": {
          "base_uri": "https://localhost:8080/"
        },
        "id": "LVGZ2sqyZ4-w",
        "outputId": "f01be507-6877-415c-e7be-bdfe51b7c2ca"
      },
      "execution_count": null,
      "outputs": [
        {
          "output_type": "stream",
          "name": "stdout",
          "text": [
            "0.012879215211425385\n"
          ]
        }
      ]
    },
    {
      "cell_type": "code",
      "source": [
        "mean_df1245 = resultadoDatos['coef(b)_6am-MLP'].mean()\n",
        "print(mean_df1245)"
      ],
      "metadata": {
        "colab": {
          "base_uri": "https://localhost:8080/"
        },
        "id": "92V9Xzb9Z6h6",
        "outputId": "6177dd48-713d-4d94-812d-5da987a39292"
      },
      "execution_count": null,
      "outputs": [
        {
          "output_type": "stream",
          "name": "stdout",
          "text": [
            "0.021441083197709862\n"
          ]
        }
      ]
    },
    {
      "cell_type": "code",
      "source": [
        "# Import statistics Library\n",
        "import statistics\n",
        "\n",
        "# Calculate the standard deviation from a sample of data\n",
        "print(statistics.stdev(resultadoDatos['coef(b)_6am-Beysens']))\n",
        "# Import statistics Library\n",
        "import statistics\n",
        "\n",
        "# Calculate the standard deviation from a sample of data\n",
        "print(statistics.stdev(resultadoDatos['coef(b)_6am-MLP']))"
      ],
      "metadata": {
        "colab": {
          "base_uri": "https://localhost:8080/"
        },
        "id": "ows-nmAFp6UU",
        "outputId": "e918504a-3d09-4d98-b082-a0c133df578e"
      },
      "execution_count": null,
      "outputs": [
        {
          "output_type": "stream",
          "name": "stdout",
          "text": [
            "0.0035461851282751833\n",
            "0.002481731180348556\n"
          ]
        }
      ]
    },
    {
      "cell_type": "markdown",
      "source": [
        "## error"
      ],
      "metadata": {
        "id": "-B7QfKsnT5eL"
      }
    },
    {
      "cell_type": "code",
      "source": [
        "fig, ax = plt.subplots(figsize=(8,6))   \n",
        "\n",
        "\n",
        "pruebas= resultadoDatos['Pruebas']\n",
        "resultados={'Modelo Beysens(6am)':resultadoDatos['Standard Error_6am-Beysens'],'Modelo RNA(6am)':resultadoDatos['Standard Error_6am-MLP']}\n",
        "ax.plot(pruebas,resultados['Modelo Beysens(6am)'], marker ='^',label=\"Standard Error del Modelo-Beysens(6am)\")\n",
        "ax.plot(pruebas,resultados['Modelo RNA(6am)'], marker = 'o',label=\"Standard Error del Modelo-MLP(6am)\")\n",
        "plt.ylabel('Resultados de Standard Error')\n",
        "plt.xlabel('Cantidad de Pruebas')\n",
        "legend = ax.legend(loc=\"best\")  \n",
        "plt.show()"
      ],
      "metadata": {
        "colab": {
          "base_uri": "https://localhost:8080/",
          "height": 52
        },
        "id": "SlkEhZrKT8N8",
        "outputId": "c3164468-b3c0-452f-8a68-c0b3000c422b"
      },
      "execution_count": null,
      "outputs": [
        {
          "output_type": "display_data",
          "data": {
            "text/plain": [
              "<Figure size 576x432 with 1 Axes>"
            ],
            "image/png": "[encoded data removed]"
          },
          "metadata": {
            "needs_background": "light"
          }
        }
      ]
    },
    {
      "cell_type": "code",
      "source": [
        "mean_df114 = resultadoDatos['Standard Error_6am-Beysens'].mean()\n",
        "print(mean_df114)"
      ],
      "metadata": {
        "colab": {
          "base_uri": "https://localhost:8080/"
        },
        "id": "2HAuXg7radvT",
        "outputId": "1efb7c0d-d35e-4f41-d454-d47db743a420"
      },
      "execution_count": null,
      "outputs": [
        {
          "output_type": "stream",
          "name": "stdout",
          "text": [
            "0.08037676262008112\n"
          ]
        }
      ]
    },
    {
      "cell_type": "code",
      "source": [
        "mean_df124 = resultadoDatos['Standard Error_6am-MLP'].mean()\n",
        "print(mean_df124)"
      ],
      "metadata": {
        "colab": {
          "base_uri": "https://localhost:8080/"
        },
        "id": "9oW1_FXLae8s",
        "outputId": "56e9cfe2-a948-435c-e9c4-ae8ac73529e8"
      },
      "execution_count": null,
      "outputs": [
        {
          "output_type": "stream",
          "name": "stdout",
          "text": [
            "0.04655310285065639\n"
          ]
        }
      ]
    },
    {
      "cell_type": "code",
      "source": [
        "# Import statistics Library\n",
        "import statistics\n",
        "\n",
        "# Calculate the standard deviation from a sample of data\n",
        "print(statistics.stdev(resultadoDatos['Standard Error_6am-Beysens']))\n",
        "# Import statistics Library\n",
        "import statistics\n",
        "\n",
        "# Calculate the standard deviation from a sample of data\n",
        "print(statistics.stdev(resultadoDatos['Standard Error_6am-MLP']))"
      ],
      "metadata": {
        "colab": {
          "base_uri": "https://localhost:8080/"
        },
        "id": "f0ZLUwqoqL6V",
        "outputId": "ceb8633e-4edd-4e99-891c-c7b9f8d33864"
      },
      "execution_count": null,
      "outputs": [
        {
          "output_type": "stream",
          "name": "stdout",
          "text": [
            "0.01227480142049274\n",
            "0.011876633459025792\n"
          ]
        }
      ]
    },
    {
      "cell_type": "markdown",
      "source": [
        "## grafico 2"
      ],
      "metadata": {
        "id": "mF8wcxkrrOEE"
      }
    },
    {
      "cell_type": "code",
      "source": [
        "fig, ax = plt.subplots(figsize=(8,6)) \n",
        "\n",
        "pruebas= resultadoDatos['Pruebas']\n",
        "resultados={'Modelo Beysens(6am)':resultadoDatos['rsquared_Acu-6am-Beysens'],'Modelo RNA(6am)':resultadoDatos['rsquared_Acu-6am-MLP']}\n",
        "ax.plot(pruebas,resultados['Modelo Beysens(6am)'], marker ='^',label=\"rsquaredModelo-Acumulado-Beysens(6am)\")\n",
        "ax.plot(pruebas,resultados['Modelo RNA(6am)'], marker = 'o',label=\"rsquaredModelo-Acumulado-MLP(6am)\")\n",
        "plt.ylabel('Resultados R cuadrado acumulado')\n",
        "plt.xlabel('Cantidad de Pruebas')\n",
        "legend = ax.legend(loc=\"best\")  \n",
        "plt.show()"
      ],
      "metadata": {
        "colab": {
          "base_uri": "https://localhost:8080/",
          "height": 52
        },
        "id": "mSbw6rWDrcU-",
        "outputId": "92ac16e7-6f94-4612-ebe9-61d6780a6e7f"
      },
      "execution_count": null,
      "outputs": [
        {
          "output_type": "display_data",
          "data": {
            "text/plain": [
              "<Figure size 576x432 with 1 Axes>"
            ],
            "image/png": "[encoded data removed]"
          },
          "metadata": {
            "needs_background": "light"
          }
        }
      ]
    },
    {
      "cell_type": "code",
      "source": [
        "mean_df11 = resultadoDatos['rsquared_Acu-6am-Beysens'].mean()\n",
        "print(mean_df11)"
      ],
      "metadata": {
        "id": "LfG8O_KjAtnG",
        "outputId": "d879a4d3-a112-465f-b279-31a8f60fa6c4",
        "colab": {
          "base_uri": "https://localhost:8080/"
        }
      },
      "execution_count": null,
      "outputs": [
        {
          "output_type": "stream",
          "name": "stdout",
          "text": [
            "0.9836903112959348\n"
          ]
        }
      ]
    },
    {
      "cell_type": "code",
      "source": [
        "mean_df11 = resultadoDatos['rsquared_Acu-6am-MLP'].mean()\n",
        "print(mean_df11)"
      ],
      "metadata": {
        "id": "ggPZSGAjAw0_",
        "outputId": "8375a327-0f20-417a-90ed-201362c54a88",
        "colab": {
          "base_uri": "https://localhost:8080/"
        }
      },
      "execution_count": null,
      "outputs": [
        {
          "output_type": "stream",
          "name": "stdout",
          "text": [
            "0.9842319308882967\n"
          ]
        }
      ]
    },
    {
      "cell_type": "code",
      "source": [
        "# Import statistics Library\n",
        "import statistics\n",
        "\n",
        "# Calculate the standard deviation from a sample of data\n",
        "print(statistics.stdev(resultadoDatos['rsquared_Acu-6am-Beysens']))\n",
        "# Import statistics Library\n",
        "import statistics\n",
        "\n",
        "# Calculate the standard deviation from a sample of data\n",
        "print(statistics.stdev(resultadoDatos['rsquared_Acu-6am-MLP']))"
      ],
      "metadata": {
        "id": "ycf1lyWfT_yH",
        "colab": {
          "base_uri": "https://localhost:8080/"
        },
        "outputId": "80b25b88-3645-4082-8cb1-1d744e068549"
      },
      "execution_count": null,
      "outputs": [
        {
          "output_type": "stream",
          "name": "stdout",
          "text": [
            "0.008306216174578409\n",
            "0.008963042415726201\n"
          ]
        }
      ]
    },
    {
      "cell_type": "markdown",
      "source": [
        "## m"
      ],
      "metadata": {
        "id": "2fPwNQr-UBj6"
      }
    },
    {
      "cell_type": "code",
      "source": [
        "fig, ax = plt.subplots(figsize=(8,6))   \n",
        "\n",
        "\n",
        "pruebas= resultadoDatos['Pruebas']\n",
        "resultados={'Modelo Beysens(6am)':resultadoDatos['coef(a)_Acu-6am-Beysens'],'Modelo RNA(6am)':resultadoDatos['coef(a)_Acu-6am-MLP']}\n",
        "ax.plot(pruebas,resultados['Modelo Beysens(6am)'], marker ='^',label=\"m del Modelo-Acumulado-Beysens(6am)\")\n",
        "ax.plot(pruebas,resultados['Modelo RNA(6am)'], marker = 'o',label=\"m del Modelo-Acumulado-MLP(6am)\")\n",
        "plt.ylabel('Resultados m')\n",
        "plt.xlabel('Cantidad de Pruebas')\n",
        "legend = ax.legend(loc=\"best\")  \n",
        "plt.show()"
      ],
      "metadata": {
        "colab": {
          "base_uri": "https://localhost:8080/",
          "height": 52
        },
        "id": "YLs2Ib8eUB1W",
        "outputId": "abc52a76-7644-4a23-ceb7-0b2fa12bd578"
      },
      "execution_count": null,
      "outputs": [
        {
          "output_type": "display_data",
          "data": {
            "text/plain": [
              "<Figure size 576x432 with 1 Axes>"
            ],
            "image/png": "[encoded data removed]"
          },
          "metadata": {
            "needs_background": "light"
          }
        }
      ]
    },
    {
      "cell_type": "code",
      "source": [
        "mean_df11112 = resultadoDatos['coef(a)_Acu-6am-Beysens'].mean()\n",
        "print(mean_df11112)"
      ],
      "metadata": {
        "colab": {
          "base_uri": "https://localhost:8080/"
        },
        "id": "eris71_aiHj2",
        "outputId": "989a9a77-a614-41e6-f32b-ac3bc9e89e74"
      },
      "execution_count": null,
      "outputs": [
        {
          "output_type": "stream",
          "name": "stdout",
          "text": [
            "1.170343004568277\n"
          ]
        }
      ]
    },
    {
      "cell_type": "code",
      "source": [
        "mean_df11111 = resultadoDatos['coef(a)_Acu-6am-MLP'].mean()\n",
        "print(mean_df11111)"
      ],
      "metadata": {
        "colab": {
          "base_uri": "https://localhost:8080/"
        },
        "id": "ncglmMP3iN9J",
        "outputId": "fd942072-d1e8-4445-a198-6211b77c0d76"
      },
      "execution_count": null,
      "outputs": [
        {
          "output_type": "stream",
          "name": "stdout",
          "text": [
            "1.1590109370396442\n"
          ]
        }
      ]
    },
    {
      "cell_type": "code",
      "source": [
        "# Import statistics Library\n",
        "import statistics\n",
        "\n",
        "# Calculate the standard deviation from a sample of data\n",
        "print(statistics.stdev(resultadoDatos['coef(a)_Acu-6am-Beysens']))\n",
        "# Import statistics Library\n",
        "import statistics\n",
        "\n",
        "# Calculate the standard deviation from a sample of data\n",
        "print(statistics.stdev(resultadoDatos['coef(a)_Acu-6am-MLP']))"
      ],
      "metadata": {
        "colab": {
          "base_uri": "https://localhost:8080/"
        },
        "id": "9t5Rkiw9qpsH",
        "outputId": "892a1c41-7ac0-4306-d980-756fe2b87a56"
      },
      "execution_count": null,
      "outputs": [
        {
          "output_type": "stream",
          "name": "stdout",
          "text": [
            "0.10163844465789162\n",
            "0.1866809845574593\n"
          ]
        }
      ]
    },
    {
      "cell_type": "markdown",
      "source": [
        "## coef"
      ],
      "metadata": {
        "id": "h9KOMnmtUCD9"
      }
    },
    {
      "cell_type": "code",
      "source": [
        "fig, ax = plt.subplots(figsize=(8,6))   \n",
        "\n",
        "\n",
        "pruebas= resultadoDatos['Pruebas']\n",
        "resultados={'Modelo Beysens(6am)':resultadoDatos['coef(b)_Acu-6am-Beysens'],'Modelo RNA(6am)':resultadoDatos['coef(b)_Acu-6am-MLP']}\n",
        "ax.plot(pruebas,resultados['Modelo Beysens(6am)'], marker ='^',label=\"Coef del Modelo-Acumulado-Beysens(6am)\")\n",
        "ax.plot(pruebas,resultados['Modelo RNA(6am)'], marker = 'o',label=\"Coef del Modelo-Acumulado-MLP(6am)\")\n",
        "plt.ylabel('Resultados coef')\n",
        "plt.xlabel('Cantidad de Pruebas')\n",
        "legend = ax.legend(loc=\"best\")  \n",
        "plt.show()"
      ],
      "metadata": {
        "colab": {
          "base_uri": "https://localhost:8080/",
          "height": 52
        },
        "id": "8bn7MudUUCNB",
        "outputId": "e869f45b-f271-4e5f-b439-6d8c87ba2a79"
      },
      "execution_count": null,
      "outputs": [
        {
          "output_type": "display_data",
          "data": {
            "text/plain": [
              "<Figure size 576x432 with 1 Axes>"
            ],
            "image/png": "[encoded data removed]"
          },
          "metadata": {
            "needs_background": "light"
          }
        }
      ]
    },
    {
      "cell_type": "code",
      "source": [
        "mean_df63 = resultadoDatos['coef(b)_Acu-6am-Beysens'].mean()\n",
        "print(mean_df63)"
      ],
      "metadata": {
        "colab": {
          "base_uri": "https://localhost:8080/"
        },
        "id": "hO9eDlvMCV_A",
        "outputId": "5f9ad372-84a0-4b8e-a578-ee88d350d544"
      },
      "execution_count": null,
      "outputs": [
        {
          "output_type": "stream",
          "name": "stdout",
          "text": [
            "-0.05706646670468203\n"
          ]
        }
      ]
    },
    {
      "cell_type": "code",
      "source": [
        "mean_df64= resultadoDatos['coef(b)_Acu-6am-MLP'].mean()\n",
        "print(mean_df64)"
      ],
      "metadata": {
        "colab": {
          "base_uri": "https://localhost:8080/"
        },
        "id": "mecXX7avCWBD",
        "outputId": "9fb106d7-c710-4f0e-f4b3-a84e3ebf6920"
      },
      "execution_count": null,
      "outputs": [
        {
          "output_type": "stream",
          "name": "stdout",
          "text": [
            "-0.03245140698592905\n"
          ]
        }
      ]
    },
    {
      "cell_type": "code",
      "source": [
        "# Import statistics Library\n",
        "import statistics\n",
        "\n",
        "# Calculate the standard deviation from a sample of data\n",
        "print(statistics.stdev(resultadoDatos['coef(b)_Acu-6am-Beysens']))\n",
        "# Import statistics Library\n",
        "import statistics\n",
        "\n",
        "# Calculate the standard deviation from a sample of data\n",
        "print(statistics.stdev(resultadoDatos['coef(b)_Acu-6am-MLP']))"
      ],
      "metadata": {
        "colab": {
          "base_uri": "https://localhost:8080/"
        },
        "id": "FGq0SKiSquHJ",
        "outputId": "0088b26b-09b7-4b7f-9a41-7191ae905536"
      },
      "execution_count": null,
      "outputs": [
        {
          "output_type": "stream",
          "name": "stdout",
          "text": [
            "0.21039167471721784\n",
            "0.1692565080507575\n"
          ]
        }
      ]
    },
    {
      "cell_type": "markdown",
      "source": [
        "## error"
      ],
      "metadata": {
        "id": "G0SkcXd6UCX_"
      }
    },
    {
      "cell_type": "code",
      "source": [
        "fig, ax = plt.subplots(figsize=(8,6))   \n",
        "\n",
        "\n",
        "pruebas1= resultadoDatos['Pruebas']\n",
        "resultados1={'Modelo Beysens(6am)':resultadoDatos['Standard Error_Acu-6am-Beysens'],'Modelo RNA(6am)':resultadoDatos['Standard Error_Acu-6am-MLP']}\n",
        "ax.plot(pruebas1,resultados1['Modelo Beysens(6am)'], marker ='^',label=\"Standard Error del Modelo-Beysens(6am)\")\n",
        "ax.plot(pruebas1,resultados1['Modelo RNA(6am)'], marker = 'o',label=\"Standard Error del Modelo-MLP(6am)\")\n",
        "plt.ylabel('Resultados de los errores')\n",
        "plt.xlabel('Cantidad de Pruebas')\n",
        "legend = ax.legend(loc=\"best\")  \n",
        "plt.show()"
      ],
      "metadata": {
        "colab": {
          "base_uri": "https://localhost:8080/",
          "height": 52
        },
        "id": "oL4R8rX_UCgi",
        "outputId": "2b610e7c-bdd6-4570-ef1c-cfb36a4a9e51"
      },
      "execution_count": null,
      "outputs": [
        {
          "output_type": "display_data",
          "data": {
            "text/plain": [
              "<Figure size 576x432 with 1 Axes>"
            ],
            "image/png": "[encoded data removed]"
          },
          "metadata": {
            "needs_background": "light"
          }
        }
      ]
    },
    {
      "cell_type": "code",
      "source": [
        "mean_df6 = resultadoDatos['Standard Error_Acu-6am-Beysens'].mean()\n",
        "print(mean_df6)"
      ],
      "metadata": {
        "id": "fYBplwauCY4s",
        "colab": {
          "base_uri": "https://localhost:8080/"
        },
        "outputId": "f7ffd6b9-7630-4289-e03a-d034fd4e99a0"
      },
      "execution_count": null,
      "outputs": [
        {
          "output_type": "stream",
          "name": "stdout",
          "text": [
            "0.013176512137200006\n"
          ]
        }
      ]
    },
    {
      "cell_type": "code",
      "source": [
        "mean_df6 = resultadoDatos['Standard Error_Acu-6am-MLP'].mean()\n",
        "print(mean_df6)"
      ],
      "metadata": {
        "id": "4bxMnwzXCZWW",
        "colab": {
          "base_uri": "https://localhost:8080/"
        },
        "outputId": "c0cd03b7-e050-49ff-b96d-df0f1b84d16f"
      },
      "execution_count": null,
      "outputs": [
        {
          "output_type": "stream",
          "name": "stdout",
          "text": [
            "0.012725326030184798\n"
          ]
        }
      ]
    },
    {
      "cell_type": "code",
      "source": [
        "# Import statistics Library\n",
        "import statistics\n",
        "\n",
        "# Calculate the standard deviation from a sample of data\n",
        "print(statistics.stdev(resultadoDatos['Standard Error_Acu-6am-Beysens']))\n",
        "# Import statistics Library\n",
        "import statistics\n",
        "\n",
        "# Calculate the standard deviation from a sample of data\n",
        "print(statistics.stdev(resultadoDatos['rsquared_Beysens-PM']))"
      ],
      "metadata": {
        "colab": {
          "base_uri": "https://localhost:8080/"
        },
        "id": "5PUoSgBoqwQo",
        "outputId": "61ecc295-2ca0-4f4a-bf44-e8a7c7337533"
      },
      "execution_count": null,
      "outputs": [
        {
          "output_type": "stream",
          "name": "stdout",
          "text": [
            "0.003265427181750623\n",
            "0.008057702276395424\n"
          ]
        }
      ]
    },
    {
      "cell_type": "markdown",
      "source": [
        "## grafico 3"
      ],
      "metadata": {
        "id": "si1hChVFrOSL"
      }
    },
    {
      "cell_type": "code",
      "source": [
        "fig, ax = plt.subplots(figsize=(8,6)) \n",
        "\n",
        "pruebas= resultadoDatos['Pruebas']\n",
        "resultados={'Modelo Beysens(PM)':resultadoDatos['rsquared_Beysens-PM'],'Modelo RNA(PM)':resultadoDatos['rsquared_MLP-PM']}\n",
        "ax.plot(pruebas,resultados['Modelo Beysens(PM)'], marker ='^',label=\"rsquaredModelo-Beysens(PM)\")\n",
        "ax.plot(pruebas,resultados['Modelo RNA(PM)'], marker = 'o',label=\"rsquaredModelo-MLP(PM)\")\n",
        "plt.ylabel('Resultado R cuadrado')\n",
        "plt.xlabel('Cantidad de Pruebas')\n",
        "legend = ax.legend(loc=\"best\")  \n",
        "plt.show()"
      ],
      "metadata": {
        "colab": {
          "base_uri": "https://localhost:8080/",
          "height": 52
        },
        "id": "Y5GeuGtyrd77",
        "outputId": "cbf43763-7c28-4829-bc6b-085e7be1ee28"
      },
      "execution_count": null,
      "outputs": [
        {
          "output_type": "display_data",
          "data": {
            "text/plain": [
              "<Figure size 576x432 with 1 Axes>"
            ],
            "image/png": "[encoded data removed]"
          },
          "metadata": {
            "needs_background": "light"
          }
        }
      ]
    },
    {
      "cell_type": "code",
      "source": [
        "mean_df6 = resultadoDatos['rsquared_Beysens-PM'].mean()\n",
        "print(mean_df6)"
      ],
      "metadata": {
        "id": "QGQdRFcb_2p-",
        "outputId": "a3a39058-394e-4795-d739-c69720bd452e",
        "colab": {
          "base_uri": "https://localhost:8080/"
        }
      },
      "execution_count": null,
      "outputs": [
        {
          "output_type": "stream",
          "name": "stdout",
          "text": [
            "0.007786399466259175\n"
          ]
        }
      ]
    },
    {
      "cell_type": "code",
      "source": [
        "mean_df7 = resultadoDatos['rsquared_MLP-PM'].mean()\n",
        "print(mean_df7)\n"
      ],
      "metadata": {
        "id": "I6tR7yhs__iO",
        "outputId": "d51ec615-8999-46f5-b902-f1bd230f0f81",
        "colab": {
          "base_uri": "https://localhost:8080/"
        }
      },
      "execution_count": null,
      "outputs": [
        {
          "output_type": "stream",
          "name": "stdout",
          "text": [
            "0.23701865243398115\n"
          ]
        }
      ]
    },
    {
      "cell_type": "code",
      "source": [
        "# Import statistics Library\n",
        "import statistics\n",
        "\n",
        "# Calculate the standard deviation from a sample of data\n",
        "print(statistics.stdev(resultadoDatos['rsquared_Beysens-PM']))\n",
        "# Import statistics Library\n",
        "import statistics\n",
        "\n",
        "# Calculate the standard deviation from a sample of data\n",
        "print(statistics.stdev(resultadoDatos['rsquared_MLP-PM']))"
      ],
      "metadata": {
        "colab": {
          "base_uri": "https://localhost:8080/"
        },
        "id": "huZWC-Q7s3fR",
        "outputId": "e6740090-9afa-4876-c434-da179fa11997"
      },
      "execution_count": null,
      "outputs": [
        {
          "output_type": "stream",
          "name": "stdout",
          "text": [
            "0.008057702276395424\n",
            "0.11136549726158555\n"
          ]
        }
      ]
    },
    {
      "cell_type": "markdown",
      "source": [
        "## m"
      ],
      "metadata": {
        "id": "gXBkjNykUZqn"
      }
    },
    {
      "cell_type": "code",
      "source": [
        "fig, ax = plt.subplots(figsize=(8,6))   \n",
        "#rsquared\n",
        "\n",
        "pruebas= resultadoDatos['Pruebas']\n",
        "resultados={'Modelo Beysens(6am)':resultadoDatos['coef(a)_Beysens-PM'],'Modelo RNA(6am)':resultadoDatos['coef(a)_MLP-PM']}\n",
        "ax.plot(pruebas,resultados['Modelo Beysens(6am)'], marker ='^',label=\"m del Modelo-Beysens(PM)\")\n",
        "ax.plot(pruebas,resultados['Modelo RNA(6am)'], marker = 'o',label=\"m del Modelo-MLP(PM)\")\n",
        "plt.ylabel('Resultados pendientes')\n",
        "plt.xlabel('Cantidad de Pruebas')\n",
        "legend = ax.legend(loc=\"best\")  \n",
        "plt.show()"
      ],
      "metadata": {
        "colab": {
          "base_uri": "https://localhost:8080/",
          "height": 52
        },
        "id": "rtruMtjnUbPp",
        "outputId": "806bcfde-82b5-43b6-e6b8-eb8c27554d31"
      },
      "execution_count": null,
      "outputs": [
        {
          "output_type": "display_data",
          "data": {
            "text/plain": [
              "<Figure size 576x432 with 1 Axes>"
            ],
            "image/png": "[encoded data removed]"
          },
          "metadata": {
            "needs_background": "light"
          }
        }
      ]
    },
    {
      "cell_type": "code",
      "source": [
        "mean_df77 = resultadoDatos['coef(a)_Beysens-PM'].mean()\n",
        "print(mean_df77)"
      ],
      "metadata": {
        "colab": {
          "base_uri": "https://localhost:8080/"
        },
        "id": "6_rpcxOamTca",
        "outputId": "fc9fb63f-137e-47ea-e7d6-a0a630170620"
      },
      "execution_count": null,
      "outputs": [
        {
          "output_type": "stream",
          "name": "stdout",
          "text": [
            "0.0002657397809554548\n"
          ]
        }
      ]
    },
    {
      "cell_type": "code",
      "source": [
        "mean_df78 = resultadoDatos['coef(a)_MLP-PM'].mean()\n",
        "print(mean_df78)"
      ],
      "metadata": {
        "colab": {
          "base_uri": "https://localhost:8080/"
        },
        "id": "F8TkEXPNmTe_",
        "outputId": "a77861a3-2822-4edb-d1fa-674784e28e59"
      },
      "execution_count": null,
      "outputs": [
        {
          "output_type": "stream",
          "name": "stdout",
          "text": [
            "0.2403812973172475\n"
          ]
        }
      ]
    },
    {
      "cell_type": "code",
      "source": [
        "# Import statistics Library\n",
        "import statistics\n",
        "\n",
        "# Calculate the standard deviation from a sample of data\n",
        "print(statistics.stdev(resultadoDatos['coef(a)_Beysens-PM']))\n",
        "# Import statistics Library\n",
        "import statistics\n",
        "\n",
        "# Calculate the standard deviation from a sample of data\n",
        "print(statistics.stdev(resultadoDatos['coef(a)_MLP-PM']))"
      ],
      "metadata": {
        "colab": {
          "base_uri": "https://localhost:8080/"
        },
        "id": "JXUkjBUKs46Y",
        "outputId": "280a7ddf-9e81-4d88-ee21-e9f744896ad2"
      },
      "execution_count": null,
      "outputs": [
        {
          "output_type": "stream",
          "name": "stdout",
          "text": [
            "0.001418706500529479\n",
            "0.05710758836344823\n"
          ]
        }
      ]
    },
    {
      "cell_type": "markdown",
      "source": [
        "## coef"
      ],
      "metadata": {
        "id": "P8yMOgwIUbaW"
      }
    },
    {
      "cell_type": "code",
      "source": [
        "fig, ax = plt.subplots(figsize=(8,6))   \n",
        "#rsquared\n",
        "\n",
        "pruebas= resultadoDatos['Pruebas']\n",
        "resultados={'Modelo Beysens(6am)':resultadoDatos['coef(b)_Beysens-PM'],'Modelo RNA(6am)':resultadoDatos['coef(b)_MLP-PM']}\n",
        "ax.plot(pruebas,resultados['Modelo Beysens(6am)'], marker ='^',label=\"Coef del Modelo-Beysens(PM)\")\n",
        "ax.plot(pruebas,resultados['Modelo RNA(6am)'], marker = 'o',label=\"Coef del Modelo-MLP(PM)\")\n",
        "plt.ylabel('Resultados coef b')\n",
        "plt.xlabel('Cantidad de Pruebas')\n",
        "legend = ax.legend(loc=\"best\")  \n",
        "plt.show()"
      ],
      "metadata": {
        "colab": {
          "base_uri": "https://localhost:8080/",
          "height": 52
        },
        "id": "Qc5dbI_wUdGu",
        "outputId": "31c9fc88-8c38-48bd-8ef2-1fb5db32a870"
      },
      "execution_count": null,
      "outputs": [
        {
          "output_type": "display_data",
          "data": {
            "text/plain": [
              "<Figure size 576x432 with 1 Axes>"
            ],
            "image/png": "[encoded data removed]"
          },
          "metadata": {
            "needs_background": "light"
          }
        }
      ]
    },
    {
      "cell_type": "code",
      "source": [
        "mean_df781 = resultadoDatos['coef(b)_Beysens-PM'].mean()\n",
        "print(mean_df781)"
      ],
      "metadata": {
        "colab": {
          "base_uri": "https://localhost:8080/"
        },
        "id": "p_jJRXMjm4wb",
        "outputId": "195a2cbf-544c-4833-a1d1-9c7bf7020749"
      },
      "execution_count": null,
      "outputs": [
        {
          "output_type": "stream",
          "name": "stdout",
          "text": [
            "0.0025166282006894468\n"
          ]
        }
      ]
    },
    {
      "cell_type": "code",
      "source": [
        "mean_df786 = resultadoDatos['coef(b)_MLP-PM'].mean()\n",
        "print(mean_df786)"
      ],
      "metadata": {
        "colab": {
          "base_uri": "https://localhost:8080/"
        },
        "id": "ECeaPF1Cm4zF",
        "outputId": "8a335b84-210b-488c-e1b7-7583e36a48d6"
      },
      "execution_count": null,
      "outputs": [
        {
          "output_type": "stream",
          "name": "stdout",
          "text": [
            "0.026355520801227734\n"
          ]
        }
      ]
    },
    {
      "cell_type": "code",
      "source": [
        "# Import statistics Library\n",
        "import statistics\n",
        "\n",
        "# Calculate the standard deviation from a sample of data\n",
        "print(statistics.stdev(resultadoDatos['coef(b)_Beysens-PM']))\n",
        "# Import statistics Library\n",
        "import statistics\n",
        "\n",
        "# Calculate the standard deviation from a sample of data\n",
        "print(statistics.stdev(resultadoDatos['coef(b)_MLP-PM']))"
      ],
      "metadata": {
        "colab": {
          "base_uri": "https://localhost:8080/"
        },
        "id": "noyQUjOIs6WV",
        "outputId": "7f9f1cf3-fe64-492d-d4d0-4cd3a29a1f0b"
      },
      "execution_count": null,
      "outputs": [
        {
          "output_type": "stream",
          "name": "stdout",
          "text": [
            "0.0030754053981311104\n",
            "0.004638465726865412\n"
          ]
        }
      ]
    },
    {
      "cell_type": "markdown",
      "source": [
        "## error"
      ],
      "metadata": {
        "id": "OPfQ1dyIUdqV"
      }
    },
    {
      "cell_type": "code",
      "source": [
        "fig, ax = plt.subplots(figsize=(8,6))   \n",
        "#rsquared\n",
        "\n",
        "pruebas= resultadoDatos['Pruebas']\n",
        "resultados={'Modelo Beysens(6am)':resultadoDatos['Standard Error_Beysens-PM'],'Modelo RNA(6am)':resultadoDatos['Standard Error_MLP-PM']}\n",
        "ax.plot(pruebas,resultados['Modelo Beysens(6am)'], marker ='^',label=\"m del Modelo-Beysens(PM)\")\n",
        "ax.plot(pruebas,resultados['Modelo RNA(6am)'], marker = 'o',label=\"m del Modelo-MLP(PM)\")\n",
        "plt.ylabel('Resultados Standard Error')\n",
        "plt.xlabel('Cantidad de Pruebas')\n",
        "legend = ax.legend(loc=\"best\")  \n",
        "plt.show()"
      ],
      "metadata": {
        "colab": {
          "base_uri": "https://localhost:8080/",
          "height": 52
        },
        "id": "CFSLhoeAUd1x",
        "outputId": "5d55a37e-2e7f-482f-eecd-0fd538e2084a"
      },
      "execution_count": null,
      "outputs": [
        {
          "output_type": "display_data",
          "data": {
            "text/plain": [
              "<Figure size 576x432 with 1 Axes>"
            ],
            "image/png": "[encoded data removed]"
          },
          "metadata": {
            "needs_background": "light"
          }
        }
      ]
    },
    {
      "cell_type": "code",
      "source": [
        "mean_df7864 = resultadoDatos['Standard Error_Beysens-PM'].mean()\n",
        "print(mean_df7864)"
      ],
      "metadata": {
        "colab": {
          "base_uri": "https://localhost:8080/"
        },
        "id": "lmnJsKZtm5Un",
        "outputId": "25d974a5-183f-422c-e17b-a68aa3e340e8"
      },
      "execution_count": null,
      "outputs": [
        {
          "output_type": "stream",
          "name": "stdout",
          "text": [
            "0.0014230939796545698\n"
          ]
        }
      ]
    },
    {
      "cell_type": "code",
      "source": [
        "mean_df7865 = resultadoDatos['Standard Error_MLP-PM'].mean()\n",
        "print(mean_df7865)"
      ],
      "metadata": {
        "colab": {
          "base_uri": "https://localhost:8080/"
        },
        "id": "oLnSE8Qsm5Wt",
        "outputId": "ac866f38-e338-4603-8e7b-607401464027"
      },
      "execution_count": null,
      "outputs": [
        {
          "output_type": "stream",
          "name": "stdout",
          "text": [
            "0.042570218709308306\n"
          ]
        }
      ]
    },
    {
      "cell_type": "code",
      "source": [
        "# Import statistics Library\n",
        "import statistics\n",
        "\n",
        "# Calculate the standard deviation from a sample of data\n",
        "print(statistics.stdev(resultadoDatos['Standard Error_Beysens-PM']))\n",
        "# Import statistics Library\n",
        "import statistics\n",
        "\n",
        "# Calculate the standard deviation from a sample of data\n",
        "print(statistics.stdev(resultadoDatos['Standard Error_MLP-PM']))"
      ],
      "metadata": {
        "colab": {
          "base_uri": "https://localhost:8080/"
        },
        "id": "pJc5Z2zWs8PK",
        "outputId": "3afe1ca6-ba8d-4c8e-faee-c8376200d255"
      },
      "execution_count": null,
      "outputs": [
        {
          "output_type": "stream",
          "name": "stdout",
          "text": [
            "0.0006852212485134393\n",
            "0.01449941380399841\n"
          ]
        }
      ]
    },
    {
      "cell_type": "markdown",
      "source": [
        "## grafico 4"
      ],
      "metadata": {
        "id": "k-jSFDfXrOf5"
      }
    },
    {
      "cell_type": "code",
      "source": [
        "fig, ax = plt.subplots(figsize=(8,6)) \n",
        "\n",
        "pruebas= resultadoDatos['Pruebas']\n",
        "resultados={'Modelo Beysens(PM)':resultadoDatos['rsquared_Acu-Beysens-PM'],'Modelo RNA(PM)':resultadoDatos['rsquared_Acu-MLP-PM']}\n",
        "ax.plot(pruebas,resultados['Modelo Beysens(PM)'], marker ='^',label=\"rsquaredModelo-Acumulado-Beysens(PM)\")\n",
        "ax.plot(pruebas,resultados['Modelo RNA(PM)'], marker = 'o',label=\"rsquaredModelo-Acumulado-MLP(PM)\")\n",
        "plt.ylabel('Resultado R cuadrado')\n",
        "plt.xlabel('Cantidad de Pruebas')\n",
        "legend = ax.legend(loc=\"best\")  \n",
        "plt.show() "
      ],
      "metadata": {
        "colab": {
          "base_uri": "https://localhost:8080/",
          "height": 52
        },
        "id": "WsAZWsgCrhFh",
        "outputId": "b4aad190-3f16-4c96-e58e-c8d61c75d3ab"
      },
      "execution_count": null,
      "outputs": [
        {
          "output_type": "display_data",
          "data": {
            "text/plain": [
              "<Figure size 576x432 with 1 Axes>"
            ],
            "image/png": "[encoded data removed]"
          },
          "metadata": {
            "needs_background": "light"
          }
        }
      ]
    },
    {
      "cell_type": "code",
      "source": [
        "mean_df8 = resultadoDatos['rsquared_Acu-Beysens-PM'].mean()\n",
        "print(mean_df8)"
      ],
      "metadata": {
        "id": "DPTgD5M1AOJz",
        "outputId": "ea00fc8e-42d5-4cc7-c5a0-ee28f3446964",
        "colab": {
          "base_uri": "https://localhost:8080/"
        }
      },
      "execution_count": null,
      "outputs": [
        {
          "output_type": "stream",
          "name": "stdout",
          "text": [
            "0.7872634965466552\n"
          ]
        }
      ]
    },
    {
      "cell_type": "code",
      "source": [
        "mean_df9 = resultadoDatos['rsquared_Acu-MLP-PM'].mean()\n",
        "print(mean_df9)\n"
      ],
      "metadata": {
        "id": "GoR_TFUNAMVm",
        "outputId": "2844ad02-43ce-41f0-baab-6d3bc1b609b2",
        "colab": {
          "base_uri": "https://localhost:8080/"
        }
      },
      "execution_count": null,
      "outputs": [
        {
          "output_type": "stream",
          "name": "stdout",
          "text": [
            "0.9787237482666719\n"
          ]
        }
      ]
    },
    {
      "cell_type": "code",
      "source": [
        "# Import statistics Library\n",
        "import statistics\n",
        "\n",
        "# Calculate the standard deviation from a sample of data\n",
        "print(statistics.stdev(resultadoDatos['rsquared_Acu-Beysens-PM']))\n",
        "# Import statistics Library\n",
        "import statistics\n",
        "\n",
        "# Calculate the standard deviation from a sample of data\n",
        "print(statistics.stdev(resultadoDatos['rsquared_Acu-MLP-PM']))"
      ],
      "metadata": {
        "colab": {
          "base_uri": "https://localhost:8080/"
        },
        "id": "o6vvcB4Ht9L2",
        "outputId": "dc0988c5-c0f7-45e9-d861-113db5fcb026"
      },
      "execution_count": null,
      "outputs": [
        {
          "output_type": "stream",
          "name": "stdout",
          "text": [
            "0.11733466653385399\n",
            "0.00650178352512115\n"
          ]
        }
      ]
    },
    {
      "cell_type": "markdown",
      "source": [
        "## m"
      ],
      "metadata": {
        "id": "WHaGh6RTUhOv"
      }
    },
    {
      "cell_type": "code",
      "source": [
        "fig, ax = plt.subplots(figsize=(8,6))   \n",
        "#rsquared\n",
        "\n",
        "pruebas= resultadoDatos['Pruebas']\n",
        "resultados={'Modelo Beysens(6am)':resultadoDatos['coef(a)_Acu-Beysens-PM'],'Modelo RNA(6am)':resultadoDatos['coef(a)_Acu-MLP-PM']}\n",
        "ax.plot(pruebas,resultados['Modelo Beysens(6am)'], marker ='^',label=\"m del Modelo-Acu-Beysens(PM)\")\n",
        "ax.plot(pruebas,resultados['Modelo RNA(6am)'], marker = 'o',label=\"m del Modelo-Acu-MLP(PM)\")\n",
        "plt.ylabel('Resultados pendientes')\n",
        "plt.xlabel('Cantidad de Pruebas')\n",
        "legend = ax.legend(loc=\"best\")  \n",
        "plt.show()"
      ],
      "metadata": {
        "colab": {
          "base_uri": "https://localhost:8080/",
          "height": 52
        },
        "id": "UhSlsPOnUiV3",
        "outputId": "baea9c57-61e5-4716-f5a2-92e436c2d3b9"
      },
      "execution_count": null,
      "outputs": [
        {
          "output_type": "display_data",
          "data": {
            "text/plain": [
              "<Figure size 576x432 with 1 Axes>"
            ],
            "image/png": "[encoded data removed]"
          },
          "metadata": {
            "needs_background": "light"
          }
        }
      ]
    },
    {
      "cell_type": "code",
      "source": [
        "mean_df78649 = resultadoDatos['coef(a)_Acu-Beysens-PM'].mean()\n",
        "print(mean_df78649)"
      ],
      "metadata": {
        "colab": {
          "base_uri": "https://localhost:8080/"
        },
        "id": "dzGGqAwbni-l",
        "outputId": "80e76a69-8cde-46dc-ff7f-2bb2b154b094"
      },
      "execution_count": null,
      "outputs": [
        {
          "output_type": "stream",
          "name": "stdout",
          "text": [
            "0.09172238041526978\n"
          ]
        }
      ]
    },
    {
      "cell_type": "code",
      "source": [
        "mean_df78648 = resultadoDatos['coef(a)_Acu-MLP-PM'].mean()\n",
        "print(mean_df78648)"
      ],
      "metadata": {
        "colab": {
          "base_uri": "https://localhost:8080/"
        },
        "id": "8fx2BJU2njAl",
        "outputId": "f5f27cd8-8264-4b36-d2cd-57a30dd902e3"
      },
      "execution_count": null,
      "outputs": [
        {
          "output_type": "stream",
          "name": "stdout",
          "text": [
            "1.1624907898933654\n"
          ]
        }
      ]
    },
    {
      "cell_type": "code",
      "source": [
        "# Import statistics Library\n",
        "import statistics\n",
        "\n",
        "# Calculate the standard deviation from a sample of data\n",
        "print(statistics.stdev(resultadoDatos['coef(a)_Acu-Beysens-PM']))\n",
        "# Import statistics Library\n",
        "import statistics\n",
        "\n",
        "# Calculate the standard deviation from a sample of data\n",
        "print(statistics.stdev(resultadoDatos['coef(a)_Acu-MLP-PM']))"
      ],
      "metadata": {
        "colab": {
          "base_uri": "https://localhost:8080/"
        },
        "id": "vXAzm2Rst-X6",
        "outputId": "dc0a68f7-50e5-42ff-b0e0-94fbe4f55e1c"
      },
      "execution_count": null,
      "outputs": [
        {
          "output_type": "stream",
          "name": "stdout",
          "text": [
            "0.04651125528042632\n",
            "0.1959404796845574\n"
          ]
        }
      ]
    },
    {
      "cell_type": "markdown",
      "source": [
        "## coef"
      ],
      "metadata": {
        "id": "3VMWEyjKUjLB"
      }
    },
    {
      "cell_type": "code",
      "source": [
        "fig, ax = plt.subplots(figsize=(8,6))   \n",
        "#rsquared\n",
        "\n",
        "pruebas= resultadoDatos['Pruebas']\n",
        "resultados={'Modelo Beysens(6am)':resultadoDatos['coef(b)_Acu-Beysens-PM'],'Modelo RNA(6am)':resultadoDatos['coef(b)_Acu-MLP-PM']}\n",
        "ax.plot(pruebas,resultados['Modelo Beysens(6am)'], marker ='^',label=\"Coef del Modelo-Acu-Beysens(PM)\")\n",
        "ax.plot(pruebas,resultados['Modelo RNA(6am)'], marker = 'o',label=\"Coef del Modelo-Acu-MLP(PM)\")\n",
        "plt.ylabel('Resultados coef b')\n",
        "plt.xlabel('Cantidad de Pruebas')\n",
        "legend = ax.legend(loc=\"best\")  \n",
        "plt.show()"
      ],
      "metadata": {
        "colab": {
          "base_uri": "https://localhost:8080/",
          "height": 52
        },
        "id": "eY9WtOVdUlcg",
        "outputId": "c38a0ac3-91f3-4d2b-d66b-30bea83e51be"
      },
      "execution_count": null,
      "outputs": [
        {
          "output_type": "display_data",
          "data": {
            "text/plain": [
              "<Figure size 576x432 with 1 Axes>"
            ],
            "image/png": "[encoded data removed]"
          },
          "metadata": {
            "needs_background": "light"
          }
        }
      ]
    },
    {
      "cell_type": "code",
      "source": [
        "mean_df786489 = resultadoDatos['coef(b)_Acu-Beysens-PM'].mean()\n",
        "print(mean_df786489)"
      ],
      "metadata": {
        "colab": {
          "base_uri": "https://localhost:8080/"
        },
        "id": "i5zaAUMsnler",
        "outputId": "d4c383be-6e24-4400-976e-7f5dc076c8ca"
      },
      "execution_count": null,
      "outputs": [
        {
          "output_type": "stream",
          "name": "stdout",
          "text": [
            "0.0058589421574380745\n"
          ]
        }
      ]
    },
    {
      "cell_type": "code",
      "source": [
        "mean_df786489 = resultadoDatos['coef(b)_Acu-MLP-PM'].mean()\n",
        "print(mean_df786489)"
      ],
      "metadata": {
        "colab": {
          "base_uri": "https://localhost:8080/"
        },
        "id": "b2aWEuXxnlg_",
        "outputId": "c253a41e-c2af-4c39-ad89-ac002f780bec"
      },
      "execution_count": null,
      "outputs": [
        {
          "output_type": "stream",
          "name": "stdout",
          "text": [
            "-0.048753484352067486\n"
          ]
        }
      ]
    },
    {
      "cell_type": "code",
      "source": [
        "# Import statistics Library\n",
        "import statistics\n",
        "\n",
        "# Calculate the standard deviation from a sample of data\n",
        "print(statistics.stdev(resultadoDatos['coef(b)_Acu-Beysens-PM']))\n",
        "# Import statistics Library\n",
        "import statistics\n",
        "\n",
        "# Calculate the standard deviation from a sample of data\n",
        "print(statistics.stdev(resultadoDatos['coef(b)_Acu-MLP-PM']))"
      ],
      "metadata": {
        "colab": {
          "base_uri": "https://localhost:8080/"
        },
        "id": "sU8saR6Ht_gG",
        "outputId": "9cce07be-5199-487c-8c95-db1e9a2e4f3e"
      },
      "execution_count": null,
      "outputs": [
        {
          "output_type": "stream",
          "name": "stdout",
          "text": [
            "0.07529680261312936\n",
            "0.22031589661813217\n"
          ]
        }
      ]
    },
    {
      "cell_type": "markdown",
      "source": [
        "## error"
      ],
      "metadata": {
        "id": "ZhNBfmlaUlrG"
      }
    },
    {
      "cell_type": "code",
      "source": [
        "fig, ax = plt.subplots(figsize=(8,6))   \n",
        "#rsquared\n",
        "\n",
        "pruebas= resultadoDatos['Pruebas']\n",
        "resultados={'Modelo Beysens(6am)':resultadoDatos['Standard Error_Acu-Beysens-PM'],'Modelo RNA(6am)':resultadoDatos['Standard Error_Acu-MLP-PM']}\n",
        "ax.plot(pruebas,resultados['Modelo Beysens(6am)'], marker ='^',label=\"Standard Error_ del Modelo-Beysens(PM)\")\n",
        "ax.plot(pruebas,resultados['Modelo RNA(6am)'], marker = 'o',label=\"Standard Error_ del Modelo-MLP(PM)\")\n",
        "plt.ylabel('Resultados Standard Error')\n",
        "plt.xlabel('Cantidad de Pruebas')\n",
        "legend = ax.legend(loc=\"best\")  \n",
        "plt.show()"
      ],
      "metadata": {
        "colab": {
          "base_uri": "https://localhost:8080/",
          "height": 52
        },
        "id": "mc_qVMEaUpek",
        "outputId": "9c9c0987-c7df-4c55-dc8f-36b12524c4af"
      },
      "execution_count": null,
      "outputs": [
        {
          "output_type": "display_data",
          "data": {
            "text/plain": [
              "<Figure size 576x432 with 1 Axes>"
            ],
            "image/png": "[encoded data removed]"
          },
          "metadata": {
            "needs_background": "light"
          }
        }
      ]
    },
    {
      "cell_type": "code",
      "source": [
        "mean_df7864899 = resultadoDatos['Standard Error_Acu-Beysens-PM'].mean()\n",
        "print(mean_df7864899)"
      ],
      "metadata": {
        "colab": {
          "base_uri": "https://localhost:8080/"
        },
        "id": "PPPlWxFCnvNU",
        "outputId": "332d37dd-d372-45b7-f509-a2275071c4cc"
      },
      "execution_count": null,
      "outputs": [
        {
          "output_type": "stream",
          "name": "stdout",
          "text": [
            "0.004025865373477787\n"
          ]
        }
      ]
    },
    {
      "cell_type": "code",
      "source": [
        "mean_df78648999 = resultadoDatos['Standard Error_Acu-MLP-PM'].mean()\n",
        "print(mean_df78648999)"
      ],
      "metadata": {
        "colab": {
          "base_uri": "https://localhost:8080/"
        },
        "id": "puRUfuIPnvPq",
        "outputId": "bd81894f-0073-4b92-83df-212a2aeaf7d2"
      },
      "execution_count": null,
      "outputs": [
        {
          "output_type": "stream",
          "name": "stdout",
          "text": [
            "0.015537052521916391\n"
          ]
        }
      ]
    },
    {
      "cell_type": "code",
      "source": [
        "# Import statistics Library\n",
        "import statistics\n",
        "\n",
        "# Calculate the standard deviation from a sample of data\n",
        "print(statistics.stdev(resultadoDatos['Standard Error_Acu-Beysens-PM']))\n",
        "# Import statistics Library\n",
        "import statistics\n",
        "\n",
        "# Calculate the standard deviation from a sample of data\n",
        "print(statistics.stdev(resultadoDatos['Standard Error_Acu-MLP-PM']))"
      ],
      "metadata": {
        "id": "CMLMXQZhbUtd",
        "colab": {
          "base_uri": "https://localhost:8080/"
        },
        "outputId": "78ba9866-ea65-411f-cbce-bc7cd5ef950c"
      },
      "execution_count": null,
      "outputs": [
        {
          "output_type": "stream",
          "name": "stdout",
          "text": [
            "0.0022122630538392667\n",
            "0.004352004743163386\n"
          ]
        }
      ]
    },
    {
      "cell_type": "code",
      "source": [],
      "metadata": {
        "id": "p_YZgj_HQEYB"
      },
      "execution_count": null,
      "outputs": []
    },
    {
      "cell_type": "code",
      "source": [],
      "metadata": {
        "id": "mXuqjn9VQEdL"
      },
      "execution_count": null,
      "outputs": []
    },
    {
      "cell_type": "code",
      "source": [],
      "metadata": {
        "id": "NsHVeNGFQEfr"
      },
      "execution_count": null,
      "outputs": []
    },
    {
      "cell_type": "markdown",
      "source": [
        "## 1"
      ],
      "metadata": {
        "id": "Gm8BKFjcQdT_"
      }
    },
    {
      "cell_type": "code",
      "source": [
        "\n",
        "fig, ax = plt.subplots(figsize=(8,6)) \n",
        "\n",
        "pruebas= resultadoDatos['Pruebas']\n",
        "resultados={'Modelo Beysens(6am)':resultadoDatos['rsquared_Acu-6am-Beysens'],'Modelo RNA(6am)':resultadoDatos['rsquared_Acu-6am-MLP'],'Modelo Beysens(PM)':resultadoDatos['rsquared_Acu-Beysens-PM'],'Modelo RNA(PM)':resultadoDatos['rsquared_Acu-MLP-PM']}\n",
        "ax.plot(pruebas,resultados['Modelo Beysens(6am)'], marker ='^',label=\"Modelo-Acumulado-Beysens(6am)\")\n",
        "ax.plot(pruebas,resultados['Modelo RNA(6am)'], marker = 'o',label=\"Modelo-Acumulado-MLP(6am)\")\n",
        "ax.plot(pruebas,resultados['Modelo Beysens(PM)'], marker ='^',label=\"Modelo-Acumulado-Beysens(PM)\")\n",
        "ax.plot(pruebas,resultados['Modelo RNA(PM)'], marker = 'o',label=\"Modelo-Acumulado-MLP(PM)\")\n",
        "plt.ylabel('Resultados R cuadrado acumulado')\n",
        "plt.xlabel('Cantidad de Pruebas')\n",
        "legend = ax.legend(loc=\"best\")  \n",
        "plt.show()"
      ],
      "metadata": {
        "colab": {
          "base_uri": "https://localhost:8080/",
          "height": 387
        },
        "id": "_vqZSRnuQEh_",
        "outputId": "e2f531c8-fdab-4fa2-c867-0db58caf2950"
      },
      "execution_count": null,
      "outputs": [
        {
          "output_type": "display_data",
          "data": {
            "text/plain": [
              "<Figure size 576x432 with 1 Axes>"
            ],
            "image/png": "[encoded data removed]"
          },
          "metadata": {
            "needs_background": "light"
          }
        }
      ]
    },
    {
      "cell_type": "code",
      "source": [
        "\n",
        "fig, ax = plt.subplots(figsize=(8,6)) \n",
        "\n",
        "pruebas= resultadoDatos['Pruebas']\n",
        "resultados={'Modelo Beysens(6am)':resultadoDatos['rsquared_Acu-6am-Beysens'],'Modelo RNA(6am)':resultadoDatos['rsquared_Acu-6am-MLP'],'Modelo Beysens(PM)':resultadoDatos['rsquared_Acu-Beysens-PM'],'Modelo RNA(PM)':resultadoDatos['rsquared_Acu-MLP-PM']}\n",
        "ax.plot(pruebas,resultados['Modelo Beysens(6am)'], marker ='^',label=\"Modelo-Acumulado-Beysens(6am)\")\n",
        "ax.plot(pruebas,resultados['Modelo RNA(6am)'], marker = 'o',label=\"Modelo-Acumulado-MLP(6am)\")\n",
        "#ax.plot(pruebas,resultados['Modelo Beysens(PM)'], marker ='^',label=\"Modelo-Acumulado-Beysens(PM)\")\n",
        "ax.plot(pruebas,resultados['Modelo RNA(PM)'],c='red', marker = 'o',label=\"Modelo-Acumulado-MLP(PM)\")\n",
        "plt.ylabel('Resultados R cuadrado acumulado')\n",
        "plt.xlabel('Cantidad de Pruebas')\n",
        "legend = ax.legend(loc=\"best\")  \n",
        "plt.show()"
      ],
      "metadata": {
        "colab": {
          "base_uri": "https://localhost:8080/",
          "height": 387
        },
        "id": "XyOu3oBOey8e",
        "outputId": "7e291909-b498-4676-87d0-09b55d5c3f7f"
      },
      "execution_count": null,
      "outputs": [
        {
          "output_type": "display_data",
          "data": {
            "text/plain": [
              "<Figure size 576x432 with 1 Axes>"
            ],
            "image/png": "[encoded data removed]"
          },
          "metadata": {
            "needs_background": "light"
          }
        }
      ]
    },
    {
      "cell_type": "code",
      "source": [
        "\n",
        "fig, ax = plt.subplots(figsize=(8,6)) \n",
        "\n",
        "pruebas= resultadoDatos['Pruebas']\n",
        "resultados={'Modelo Beysens(6am)':resultadoDatos['coef(a)_Acu-6am-Beysens'],'Modelo RNA(6am)':resultadoDatos['coef(a)_Acu-6am-MLP'],'Modelo Beysens(PM)':resultadoDatos['coef(a)_Acu-Beysens-PM'],'Modelo RNA(PM)':resultadoDatos['coef(a)_Acu-MLP-PM']}\n",
        "ax.plot(pruebas,resultados['Modelo Beysens(6am)'], marker ='^',label=\"M Modelo-Acumulado-Beysens(6am)\")\n",
        "ax.plot(pruebas,resultados['Modelo RNA(6am)'], marker = 'o',label=\"M Modelo-Acumulado-MLP(6am)\")\n",
        "ax.plot(pruebas,resultados['Modelo Beysens(PM)'], marker ='^',label=\"Modelo-Acumulado-Beysens(PM)\")\n",
        "ax.plot(pruebas,resultados['Modelo RNA(PM)'],c='red', marker = 'o',label=\"M Modelo-Acumulado-MLP(PM)\")\n",
        "plt.ylabel('Resultados R cuadrado acumulado')\n",
        "plt.xlabel('Cantidad de Pruebas')\n",
        "legend = ax.legend(loc=\"best\")  \n",
        "plt.show()"
      ],
      "metadata": {
        "colab": {
          "base_uri": "https://localhost:8080/",
          "height": 387
        },
        "id": "ADjpAot_3YQQ",
        "outputId": "80e9b8e9-3d64-44da-b993-a6d24b5d65d5"
      },
      "execution_count": null,
      "outputs": [
        {
          "output_type": "display_data",
          "data": {
            "text/plain": [
              "<Figure size 576x432 with 1 Axes>"
            ],
            "image/png": "[encoded data removed]"
          },
          "metadata": {
            "needs_background": "light"
          }
        }
      ]
    },
    {
      "cell_type": "code",
      "source": [],
      "metadata": {
        "id": "tLBdpZ-J8hkB"
      },
      "execution_count": null,
      "outputs": []
    },
    {
      "cell_type": "code",
      "source": [
        "#cambiar \n",
        "#resultado6=pd.merge(df5, df6, on='Pruebas', suffixes=('_Beysens-PM', '_Acu-Beysens-PM'))"
      ],
      "metadata": {
        "id": "qXMvK3KP8Wjw"
      },
      "execution_count": null,
      "outputs": []
    },
    {
      "cell_type": "code",
      "source": [],
      "metadata": {
        "id": "gqVL7S0FJLho"
      },
      "execution_count": null,
      "outputs": []
    },
    {
      "cell_type": "markdown",
      "source": [
        "resultados con modelo LM "
      ],
      "metadata": {
        "id": "t-rLQ7PJJMBH"
      }
    }
  ]
}